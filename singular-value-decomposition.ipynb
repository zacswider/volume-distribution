{
 "cells": [
  {
   "cell_type": "markdown",
   "metadata": {},
   "source": [
    "# numpy.linalg.svd\n",
    "\n",
    "### Here I'm playing with the numpy svd equation to solve the long axis of a point cloud (in this case, a cell volume).\n",
    "method derived from: https://stackoverflow.com/questions/2298390/fitting-a-line-in-3d"
   ]
  },
  {
   "cell_type": "code",
   "execution_count": 1,
   "metadata": {},
   "outputs": [
    {
     "name": "stderr",
     "output_type": "stream",
     "text": [
      "/Users/bementmbp/opt/anaconda3/envs/napari_apoc/lib/python3.9/site-packages/napari_tools_menu/__init__.py:168: FutureWarning: Public access to Window.qt_viewer is deprecated and will be removed in\n",
      "v0.5.0. It is considered an \"implementation detail\" of the napari\n",
      "application, not part of the napari viewer model. If your use case\n",
      "requires access to qt_viewer, please open an issue to discuss.\n",
      "  self.tools_menu = ToolsMenu(self, self.qt_viewer.viewer)\n"
     ]
    }
   ],
   "source": [
    "import numpy as np\n",
    "import napari\n",
    "\n",
    "%gui qt \n",
    "viewer = napari.Viewer()"
   ]
  },
  {
   "cell_type": "code",
   "execution_count": 2,
   "metadata": {},
   "outputs": [],
   "source": [
    "# load the cellpose segmentation masks\n",
    "segmenations_path = './220624_Fix_Flvw_Emb_PI_Utr647_E02-10X-Z01_downsample_log_seg-cyto.npy'\n",
    "segmentations = np.load(segmenations_path, allow_pickle=True).item()\n",
    "all_masks = segmentations['masks']\n",
    "\n",
    "# get the 3d coordinates for every point contained within the \"82\" mask\n",
    "pc = np.column_stack(np.where(all_masks == 82))\n",
    "\n",
    "# Calculate the mean of the points, i.e. the 'center' of the cloud\n",
    "datamean = pc.mean(axis=0)\n",
    "\n",
    "# shuffle the point cloud and then subsample it\n",
    "np.random.shuffle(pc)\n",
    "pc_subsampled = pc[::20]\n",
    "pc_subsampled_mean = pc_subsampled.mean(axis=0)"
   ]
  },
  {
   "cell_type": "code",
   "execution_count": 3,
   "metadata": {},
   "outputs": [
    {
     "data": {
      "text/plain": [
       "<Points layer 'pc subsampled mean' at 0x7fc5f9759f40>"
      ]
     },
     "execution_count": 3,
     "metadata": {},
     "output_type": "execute_result"
    }
   ],
   "source": [
    "viewer.add_points(pc, name='point cloud', opacity=0.05, size=1, face_color='green', blending='additive')\n",
    "viewer.add_points(datamean, name='pc mean', opacity=0.75, size=3, face_color='green', blending='additive')\n",
    "\n",
    "viewer.add_points(pc_subsampled, name='point cloud subsampled', opacity=0.25, size=1, face_color='red', blending='additive')\n",
    "viewer.add_points(pc_subsampled_mean, name='pc subsampled mean', opacity=0.75, size=3, face_color='red', blending='additive')"
   ]
  },
  {
   "cell_type": "code",
   "execution_count": null,
   "metadata": {},
   "outputs": [],
   "source": [
    "uu, dd, vv = np.linalg.svd(pc_subsampled - pc_subsampled_mean)\n",
    "linepts = vv[0] * np.mgrid[-100:100:2j][:, np.newaxis]\n",
    "# shift by the mean to get the line in the right placeac\n",
    "linepts += pc_subsampled_mean\n",
    "viewer.add_shapes(linepts, shape_type='line', name='long axis', blending='additive')"
   ]
  },
  {
   "cell_type": "markdown",
   "metadata": {},
   "source": [
    "### Let's make a couple different lines based on a couple different subsamples of the point cloud and calculate the angle difference between them"
   ]
  },
  {
   "cell_type": "code",
   "execution_count": 8,
   "metadata": {},
   "outputs": [],
   "source": [
    "def get_long_axis(pc: np.ndarray, step: int, size: int) -> np.ndarray:\n",
    "    ''' \n",
    "    \n",
    "    '''\n",
    "    np.random.shuffle(pc)\n",
    "    pc = pc[::step]\n",
    "    uu, dd, vv = np.linalg.svd(pc - pc.mean(axis=0))\n",
    "    linepts = vv[0] * np.mgrid[-size:size:2j][:, np.newaxis]\n",
    "    linepts += pc_subsampled_mean\n",
    "    return vv[0], linepts"
   ]
  },
  {
   "cell_type": "code",
   "execution_count": 12,
   "metadata": {},
   "outputs": [
    {
     "data": {
      "text/plain": [
       "<Shapes layer 'line2' at 0x7fc5d8e84be0>"
      ]
     },
     "execution_count": 12,
     "metadata": {},
     "output_type": "execute_result"
    }
   ],
   "source": [
    "vect1, line1 = get_long_axis(pc, step=15, size=50)\n",
    "vect2, line2 = get_long_axis(pc, step=100, size=50)\n",
    "viewer.add_shapes(line1, shape_type='line', name='line1', blending='additive')\n",
    "viewer.add_shapes(line2, shape_type='line', name='line2', blending='additive')"
   ]
  },
  {
   "cell_type": "markdown",
   "metadata": {},
   "source": [
    "Calculating angles using vg, a vector-geometry and linear-algebra toolbelt https://stackoverflow.com/questions/39497496/how-do-i-retrieve-the-angle-between-two-vectors-3d "
   ]
  },
  {
   "cell_type": "code",
   "execution_count": 14,
   "metadata": {},
   "outputs": [
    {
     "name": "stdout",
     "output_type": "stream",
     "text": [
      "angle between vectors: 3.696\n"
     ]
    }
   ],
   "source": [
    "import vg # vector-geometry and linear-algebra toolbelt\n",
    "\n",
    "ang = vg.angle(vect1, vect2)\n",
    "print(f'angle between vectors: {round(ang, 3)}')"
   ]
  },
  {
   "cell_type": "markdown",
   "metadata": {},
   "source": [
    "### Evolution of different array shapes:"
   ]
  },
  {
   "cell_type": "code",
   "execution_count": null,
   "metadata": {},
   "outputs": [],
   "source": [
    "\n",
    "b = np.mgrid[-50:50:2j][:, np.newaxis]\n",
    "print(f'b is shaped {b.shape}')\n",
    "print(f'b is \\n{b}')\n",
    "print(f'vv0 is shaped {vv[0].shape}')\n",
    "print(f'vv0 is \\n{vv[0]}')\n",
    "answer = vv[0] * b\n",
    "print(f'answer is shaped {answer.shape}')\n",
    "print(f'answer is \\n{answer}')\n",
    "print(f'subsampled mean is shaped {pc_subsampled_mean.shape}')\n",
    "print(f'subsampled mean is \\n{pc_subsampled_mean}')\n",
    "answer += pc_subsampled_mean\n",
    "print(f'answer is shaped {answer.shape}')\n",
    "print(f'answer is \\n{answer}')"
   ]
  },
  {
   "cell_type": "code",
   "execution_count": null,
   "metadata": {},
   "outputs": [],
   "source": []
  }
 ],
 "metadata": {
  "kernelspec": {
   "display_name": "Python 3.9.12 ('napari_apoc')",
   "language": "python",
   "name": "python3"
  },
  "language_info": {
   "codemirror_mode": {
    "name": "ipython",
    "version": 3
   },
   "file_extension": ".py",
   "mimetype": "text/x-python",
   "name": "python",
   "nbconvert_exporter": "python",
   "pygments_lexer": "ipython3",
   "version": "3.9.12"
  },
  "orig_nbformat": 4,
  "vscode": {
   "interpreter": {
    "hash": "9332436963653b5df92bf2f53404d912d66b2e5a7a0f130fd2cb37eb34a8db49"
   }
  }
 },
 "nbformat": 4,
 "nbformat_minor": 2
}
