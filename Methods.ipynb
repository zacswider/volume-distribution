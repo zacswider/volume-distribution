{
 "cells": [
  {
   "cell_type": "code",
   "execution_count": null,
   "metadata": {},
   "outputs": [],
   "source": [
    "import os\n",
    "import numpy as np\n",
    "import matplotlib.pyplot as plt\n",
    "from tifffile import imread, imwrite\n",
    "from scipy import ndimage\n",
    "from tqdm import tqdm"
   ]
  },
  {
   "cell_type": "code",
   "execution_count": null,
   "metadata": {},
   "outputs": [],
   "source": [
    "def clear_layers(viewer):\n",
    "    layers = viewer.layers\n",
    "    while len(layers) > 0:\n",
    "        layers.remove(layers[0])"
   ]
  },
  {
   "cell_type": "markdown",
   "metadata": {},
   "source": [
    "# Generate random XY, ZX, and ZY slices from a training dataset"
   ]
  },
  {
   "cell_type": "code",
   "execution_count": null,
   "metadata": {},
   "outputs": [],
   "source": [
    "import numpy as np\n",
    "from numpy.random import randint\n",
    "from tifffile import imread, imwrite\n",
    "from tqdm import tqdm\n",
    "import os\n",
    "\n",
    "def get_rand_slices(im: np.ndarray, samples = 3):\n",
    "    ''' \n",
    "    Returns a dictionary of random XY, XZ, and YZ slices from a 3D stack.\n",
    "    Parameters: im - a 3D stack\n",
    "                samples - the number of slices for each dimension to return\n",
    "    Returns:    a dictionary of slices labeled with their dimension and index\n",
    "    '''\n",
    "    assert im.ndim == 3, 'Image must be 3D'\n",
    "    d = {}\n",
    "    z,y,x = im.shape\n",
    "    for n in range(samples):\n",
    "        randyx = randint(0,z)\n",
    "        randzx = randint(0,y)\n",
    "        randzy = randint(0,x)\n",
    "        d[f\"randyx_{randyx}_#{n}\"]=im[randyx]\n",
    "        d[f\"randzx_{randzx}_#{n}\"]=im[:,randzx]\n",
    "        d[f\"randzy_{randzy}_#{n}\"]=im[:,:,randzy]\n",
    "    return d\n",
    "\n",
    "source = '/Volumes/bigData/wholeMount_volDist/220712_Fix_Emb_Flvw_Chn1GAP_PI_aTub647_Processed/N2V_Denoised/16bit_scaleZ_sbdl2'\n",
    "dest = '/Volumes/bigData/wholeMount_volDist/220712_Fix_Emb_Flvw_Chn1GAP_PI_aTub647_Processed/N2V_Denoised/16bit_scaleZ_sbdl2_random_slices'\n",
    "if not os.path.exists(dest):\n",
    "    os.mkdir(dest)\n",
    "names = [f for f in os.listdir(source) if f.endswith('_16bit_scaleZ_sbdl2_16bit.tif') and not f.startswith('.')]\n",
    "for name in tqdm(names):\n",
    "    im = imread(source +'/'+name)\n",
    "    justname = name.split('.')[0]\n",
    "    slices = get_rand_slices(im, samples = 3)\n",
    "    for k,v in slices.items():\n",
    "        imwrite(f'{dest}/{justname}_{k}.tif',v)"
   ]
  },
  {
   "cell_type": "markdown",
   "metadata": {},
   "source": [
    "# Augment dataset by artificially turning xy slices into xz slices by adding 1D Gaussian Blur"
   ]
  },
  {
   "cell_type": "markdown",
   "metadata": {},
   "source": [
    "#### Example of synthetic training data"
   ]
  },
  {
   "cell_type": "code",
   "execution_count": null,
   "metadata": {},
   "outputs": [],
   "source": [
    "og_path = '/Volumes/bigData/wholeMount_volDist/CellposeTraining_V2/220710_Fix_Em_Flvw_Mix_PI_aTub647_E02-Z01_PI_16bit_randyx_164_#1.tif'\n",
    "og = imread(og_path)\n",
    "# a Gaussian filter with a standard deviation of 10\n",
    "gauss = ndimage.gaussian_filter1d(og, 7, 0)\n",
    "\n",
    "fig, (ax1, ax2) = plt.subplots(1, 2, dpi=200)\n",
    "ax1.imshow(og, cmap='gray', vmin = 0, vmax=15000)\n",
    "ax2.imshow(gauss, cmap='gray', vmin = 0, vmax=15000)"
   ]
  },
  {
   "cell_type": "markdown",
   "metadata": {},
   "source": [
    "get rid of the log processed files, and existing ortho projections"
   ]
  },
  {
   "cell_type": "code",
   "execution_count": null,
   "metadata": {},
   "outputs": [],
   "source": [
    "target_dir = '/Volumes/bigData/wholeMount_volDist/CellposeTraining_V3/new_gauss/'\n",
    "\n",
    "# make a list of files with \"log\" in the name\n",
    "delete_list = [f for f in os.listdir(target_dir) if 'log' in f or 'zx' in f or 'zy' in f]\n",
    "# delete the files\n",
    "for f in delete_list:\n",
    "    os.remove(os.path.join(target_dir, f))\n",
    "\n",
    "ims = [f for f in os.listdir(target_dir) if f.endswith('tif') and 'yx' in f and not f.startswith('.')]"
   ]
  },
  {
   "cell_type": "markdown",
   "metadata": {},
   "source": [
    "Gaussian blur the images"
   ]
  },
  {
   "cell_type": "code",
   "execution_count": null,
   "metadata": {},
   "outputs": [],
   "source": [
    "import os\n",
    "import numpy as np\n",
    "import matplotlib.pyplot as plt\n",
    "from tifffile import imread, imwrite\n",
    "from scipy import ndimage\n",
    "from tqdm import tqdm\n",
    "\n",
    "with tqdm(total = len(ims)) as pbar:\n",
    "    for im in ims:\n",
    "        im_path = os.path.join(target_dir, im)\n",
    "        im_data = imread(im_path)\n",
    "        im_data = ndimage.gaussian_filter1d(im_data, 7.5, 0)\n",
    "        imwrite(im_path, im_data)\n",
    "        pbar.update(1)"
   ]
  },
  {
   "cell_type": "markdown",
   "metadata": {},
   "source": [
    "Rename in the images and .npy files"
   ]
  },
  {
   "cell_type": "code",
   "execution_count": null,
   "metadata": {},
   "outputs": [],
   "source": [
    "tifs = [f for f in os.listdir(target_dir) if f.endswith('.tif') and not f.startswith('.')]\n",
    "segs = [f for f in os.listdir(target_dir) if f.endswith('.npy') and not f.startswith('.')]\n",
    "\n",
    "for f in tifs:\n",
    "    base = f.split('.')[0]\n",
    "    newname = base + '_gauss.tif'\n",
    "    os.rename(os.path.join(target_dir, f), os.path.join(target_dir, newname))\n",
    "\n",
    "for s in segs:\n",
    "    base = s.split('_seg.npy')[0]\n",
    "    newname = base + '_gauss_seg.npy'\n",
    "    os.rename(os.path.join(target_dir, s), os.path.join(target_dir, newname))"
   ]
  },
  {
   "cell_type": "markdown",
   "metadata": {},
   "source": [
    "# Convert .npy files to labels and save as tif files\n",
    "\n",
    "This is necessary for training cellpose in GDrive"
   ]
  },
  {
   "cell_type": "code",
   "execution_count": null,
   "metadata": {},
   "outputs": [],
   "source": [
    "from tifffile import imwrite\n",
    "import numpy as np\n",
    "from tqdm import tqdm\n",
    "import shutil\n",
    "import os\n",
    "\n",
    "# dir containing ...tif and ..._seg.npy files\n",
    "raw_dir = '/Volumes/bigData/wholeMount_volDist/CellposeTraining_V2' \n",
    "tifs = [f for f in os.listdir(raw_dir) if f.endswith('.tif') and not f.startswith('.')]\n",
    "segs = [f for f in os.listdir(raw_dir) if f.endswith('.npy') and not f.startswith('.')]\n",
    "\n",
    "# create save directories\n",
    "base_save_dir = '/Volumes/bigData/wholeMount_volDist/CellposeTraining_V2_GD'\n",
    "image_save_dir = os.path.join(base_save_dir, 'Images')\n",
    "mask_save_dir = os.path.join(base_save_dir, 'Masks')\n",
    "if not os.path.exists(image_save_dir):\n",
    "    os.makedirs(image_save_dir)\n",
    "if not os.path.exists(mask_save_dir):\n",
    "    os.makedirs(mask_save_dir)\n",
    "\n",
    "# copy all tifs to the image save dir\n",
    "for f in tifs:\n",
    "    shutil.copy(os.path.join(raw_dir, f), image_save_dir)\n",
    "\n",
    "# extract the masks out of each of the seg files and save as tif to the mask save dir\n",
    "with tqdm(total=len(segs)) as pbar:\n",
    "    for s in segs:\n",
    "        item = np.load(os.path.join(raw_dir, s), allow_pickle=True).item()\n",
    "        masks = item['masks']\n",
    "        save_name = s.split('_seg.npy')[0] + '.tif'\n",
    "        imwrite(os.path.join(mask_save_dir, save_name), masks)\n",
    "        pbar.update(1)"
   ]
  },
  {
   "cell_type": "markdown",
   "metadata": {},
   "source": [
    "Convert a single npy file into masks"
   ]
  },
  {
   "cell_type": "code",
   "execution_count": null,
   "metadata": {},
   "outputs": [],
   "source": [
    "from tifffile import imwrite\n",
    "import numpy as np\n",
    "import os\n",
    "\n",
    "# dir containing ...tif and ..._seg.npy files\n",
    "dir = '/Volumes/bigData/wholeMount_volDist/220712_Fix_Emb_Flvw_Chn1GAP_PI_aTub647_Processed/N2V_Denoised/16bit_scaleZ_sbdl2'\n",
    "name = '220712_Fix_Emb_Flvw_Chn1GAP_PI_aTub647_Cntrl_E02-Z01_PI_16bit_scaleZ_sbdl2_16bit_seg.npy' \n",
    "\n",
    "# create save directories\n",
    "item = np.load(os.path.join(dir, name), allow_pickle=True).item()\n",
    "masks = item['masks']\n",
    "save_name = name.split('_seg.npy')[0] + '_Masks_Fused.tif'\n",
    "imwrite(os.path.join(dir, save_name), masks, imagej=True, metadata={'axes': 'ZYX'})"
   ]
  },
  {
   "cell_type": "markdown",
   "metadata": {},
   "source": [
    "# Batch process volumes with DoG filters"
   ]
  },
  {
   "cell_type": "code",
   "execution_count": null,
   "metadata": {},
   "outputs": [],
   "source": [
    "import os\n",
    "from tqdm import tqdm\n",
    "from skimage import filters\n",
    "from tifffile import imread, imwrite\n",
    "\n",
    "processing_dir = '/Volumes/bigData/wholeMount_volDist/220712_Fix_Emb_Flvw_Chn1GAP_PI_aTub647_Processed/N2V_Denoised/16bit_scaleZ'\n",
    "save_dir = os.path.join(processing_dir, 'sbdl2_processed')\n",
    "if not os.path.exists(save_dir):\n",
    "    os.makedirs(save_dir)\n",
    "\n",
    "im_names = [f for f in os.listdir(processing_dir) if f.endswith('.tif') and not f.startswith('.')]\n",
    "\n",
    "with tqdm(total=len(im_names)) as pbar:\n",
    "    for im_name in im_names:\n",
    "        im_base = im_name.split('.')[0]\n",
    "        im = imread(os.path.join(processing_dir, im_name))\n",
    "        sbdl2 = filters.difference_of_gaussians(im, low_sigma=2, high_sigma=128)\n",
    "        # save as 32 bit float\n",
    "        imwrite(os.path.join(save_dir, f'{im_base}_sbdl2.tif'), sbdl2.astype('float32'), imagej=True, metadata={'axes': 'ZYX'})\n",
    "        pbar.update(1)"
   ]
  },
  {
   "cell_type": "markdown",
   "metadata": {},
   "source": [
    "# remove a label and re-save"
   ]
  },
  {
   "cell_type": "code",
   "execution_count": null,
   "metadata": {},
   "outputs": [],
   "source": [
    "from tifffile import imread, imwrite\n",
    "import numpy as np\n",
    "import os\n",
    "\n",
    "base = '/Volumes/bigData/wholeMount_volDist/220712_Fix_Emb_Flvw_Chn1GAP_PI_aTub647_Processed/N2V_Denoised/U-Net_3D/' \n",
    "name = '220624_Fix_Flvw_Emb_PI_Utr647_E02-10X-Z01_downsample_log_Crop_46-98_Target.tif' \n",
    "masks = imread(os.path.join(base, name))\n",
    "base_name = name.split('.')[0]\n",
    "masks[masks == 63] = 0\n",
    "imwrite(os.path.join(base, base_name + '_corr.tif'), masks, imagej=True, metadata={'axes': 'ZYX'})\n"
   ]
  },
  {
   "cell_type": "markdown",
   "metadata": {},
   "source": [
    "# Turn instance segmentation into semantic segmentation"
   ]
  },
  {
   "cell_type": "markdown",
   "metadata": {},
   "source": [
    "#### Example:"
   ]
  },
  {
   "cell_type": "code",
   "execution_count": null,
   "metadata": {},
   "outputs": [],
   "source": [
    "from tifffile import imread, imwrite\n",
    "from scipy import ndimage\n",
    "import os\n",
    "import numpy as np\n",
    "import matplotlib.pyplot as plt\n",
    "\n",
    "dir = '/Volumes/bigData/wholeMount_volDist/U-Net_3D_Training/Target'\n",
    "sem_name = '220712_Fix_Emb_Flvw_Chn1GAP_PI_aTub647_Exp_E10-Z01_PI_16bit_scaleZ_crop_40-61_crop_Target.tif' \n",
    "sem = imread(os.path.join(dir, sem_name))\n",
    "\n",
    "fig, (ax1, ax2) = plt.subplots(1, 2)\n",
    "ax1.imshow(sem[15], cmap='Set3')\n",
    "\n",
    "# iterate through all of the labels in sem, and erode them\n",
    "labels = np.unique(sem)\n",
    "binary = np.zeros(sem.shape)\n",
    "\n",
    "for label in labels:\n",
    "    if label == 0:\n",
    "        continue\n",
    "    else:\n",
    "        mask = sem == label\n",
    "        mask = ndimage.binary_erosion(mask, iterations = 2)\n",
    "        binary[mask] = 1\n",
    "\n",
    "ax2.imshow(binary[15], cmap='Set3')"
   ]
  },
  {
   "cell_type": "markdown",
   "metadata": {},
   "source": [
    "#### Batch processing:"
   ]
  },
  {
   "cell_type": "code",
   "execution_count": null,
   "metadata": {},
   "outputs": [],
   "source": [
    "from tifffile import imread, imwrite\n",
    "from scipy import ndimage\n",
    "import os\n",
    "import numpy as np\n",
    "from tqdm import tqdm\n",
    "\n",
    "base_dir = '/Volumes/bigData/wholeMount_volDist/U-Net_3D_Training' \n",
    "mask_dir = os.path.join(base_dir, 'Target')\n",
    "source_dir = os.path.join(base_dir, 'Source')\n",
    "mask_names = [f for f in os.listdir(mask_dir) if f.endswith('.tif') and not f.startswith('.')]\n",
    "\n",
    "save_dir = '/Volumes/bigData/wholeMount_volDist/U-Net_3D_Training_binary_8bit_3'\n",
    "mask_save_dir = os.path.join(save_dir, 'Target')\n",
    "source_save_dir = os.path.join(save_dir, 'Source')\n",
    "if not os.path.exists(save_dir):\n",
    "    os.makedirs(save_dir)\n",
    "if not os.path.exists(mask_save_dir):\n",
    "    os.makedirs(mask_save_dir)\n",
    "if not os.path.exists(source_save_dir):\n",
    "    os.makedirs(source_save_dir)\n",
    "\n",
    "for mask_name in tqdm(mask_names):\n",
    "    sem = imread(os.path.join(mask_dir, mask_name))\n",
    "    labels = np.unique(sem)\n",
    "    binary = np.zeros(sem.shape)\n",
    "    for label in labels:\n",
    "        if label == 0:\n",
    "            continue\n",
    "        else:\n",
    "            mask = sem == label\n",
    "            mask = ndimage.binary_erosion(mask, iterations = 2)\n",
    "            binary[mask] = 1\n",
    "    imwrite(os.path.join(mask_save_dir, mask_name), binary[2:-2,2:-2,2:-2].astype('uint8'), imagej=True, metadata={'axes': 'ZYX'})\n",
    "    mask_base = mask_name.split('Target.tif')[0]\n",
    "    source_name = mask_base + 'Source.tif'\n",
    "    source = imread(os.path.join(source_dir, source_name))\n",
    "    imwrite(os.path.join(source_save_dir, source_name), source[2:-2,2:-2,2:-2].astype('uint16'), imagej=True, metadata={'axes': 'ZYX'})"
   ]
  },
  {
   "cell_type": "markdown",
   "metadata": {},
   "source": [
    "# turn instance into multiclass semantic segmentation"
   ]
  },
  {
   "cell_type": "code",
   "execution_count": null,
   "metadata": {},
   "outputs": [],
   "source": [
    "from tifffile import imread, imwrite\n",
    "from scipy import ndimage\n",
    "import os\n",
    "import numpy as np\n",
    "from tqdm import tqdm\n",
    "\n",
    "# source dirs and names\n",
    "base_dir = '/Volumes/bigData/wholeMount_volDist/U-Net_3D_Training' \n",
    "mask_dir = os.path.join(base_dir, 'Target')\n",
    "source_dir = os.path.join(base_dir, 'Source')\n",
    "mask_names = [f for f in os.listdir(mask_dir) if f.endswith('.tif') and not f.startswith('.')]\n",
    "\n",
    "# dest dirs and names\n",
    "save_dir = '/Volumes/bigData/wholeMount_volDist/U-Net_3D_Training_multiclass_8bit_1'\n",
    "mask_save_dir = os.path.join(save_dir, 'Target')\n",
    "source_save_dir = os.path.join(save_dir, 'Source')\n",
    "if not os.path.exists(save_dir):\n",
    "    os.makedirs(save_dir)\n",
    "if not os.path.exists(mask_save_dir):\n",
    "    os.makedirs(mask_save_dir)\n",
    "if not os.path.exists(source_save_dir):\n",
    "    os.makedirs(source_save_dir)\n",
    "\n",
    "# make the changes. background pixels are set to 0, edges are 1, cytoplasm is 2\n",
    "for mask_name in tqdm(mask_names):\n",
    "    instance_labels = imread(os.path.join(mask_dir, mask_name))\n",
    "    labels = np.unique(instance_labels)\n",
    "    binary = np.zeros(instance_labels.shape)\n",
    "    for label in labels:\n",
    "        if label == 0:\n",
    "            continue\n",
    "        else:\n",
    "            mask = instance_labels == label\n",
    "            eroded = ndimage.binary_erosion(mask, iterations = 2)\n",
    "            binary[mask] = 1\n",
    "            binary[eroded] = 2\n",
    "    imwrite(os.path.join(mask_save_dir, mask_name), binary[2:-2,2:-2,2:-2].astype('uint8'), imagej=True, metadata={'axes': 'ZYX'})\n",
    "    mask_base = mask_name.split('Target.tif')[0]\n",
    "    source_name = mask_base + 'Source.tif'\n",
    "    source = imread(os.path.join(source_dir, source_name))\n",
    "    imwrite(os.path.join(source_save_dir, source_name), source[2:-2,2:-2,2:-2].astype('uint16'), imagej=True, metadata={'axes': 'ZYX'})"
   ]
  },
  {
   "cell_type": "markdown",
   "metadata": {},
   "source": [
    "# Convert file to 8-bit"
   ]
  },
  {
   "cell_type": "code",
   "execution_count": null,
   "metadata": {},
   "outputs": [],
   "source": [
    "from tifffile import imread, imwrite\n",
    "import os\n",
    "from tqdm import tqdm\n",
    "\n",
    "base_dir = '/Volumes/bigData/wholeMount_volDist/U-Net_3D_Training_Binary_8bit' \n",
    "mask_dir = os.path.join(base_dir, 'Target')\n",
    "source_dir = os.path.join(base_dir, 'Source')\n",
    "mask_names = [f for f in os.listdir(mask_dir) if f.endswith('.tif') and not f.startswith('.')]\n",
    "\n",
    "for mask_name in tqdm(mask_names):\n",
    "    mask = imread(os.path.join(mask_dir, mask_name))\n",
    "    imwrite(os.path.join(mask_dir, mask_name), mask.astype('uint8'), imagej=True, metadata={'axes': 'ZYX'})\n",
    "    mask_base = mask_name.split('Target.tif')[0]\n",
    "    source_name = mask_base + 'Source.tif'\n",
    "    source = imread(os.path.join(source_dir, source_name))\n",
    "    imwrite(os.path.join(source_dir, source_name), source[1:-1].astype('uint8'), imagej=True, metadata={'axes': 'ZYX'})"
   ]
  },
  {
   "cell_type": "markdown",
   "metadata": {},
   "source": [
    "# Elastic deform"
   ]
  },
  {
   "cell_type": "code",
   "execution_count": null,
   "metadata": {},
   "outputs": [],
   "source": [
    "import os\n",
    "import numpy as np\n",
    "import napari\n",
    "import raster_geometry as rg\n",
    "import tifffile as tif\n",
    "%gui qt "
   ]
  },
  {
   "cell_type": "code",
   "execution_count": null,
   "metadata": {},
   "outputs": [],
   "source": [
    "viewer = napari.Viewer()"
   ]
  },
  {
   "cell_type": "code",
   "execution_count": null,
   "metadata": {},
   "outputs": [],
   "source": [
    "import elasticdeform\n",
    "\n",
    "clear_layers(viewer)\n",
    "sphere = rg.sphere(125,40)\n",
    "ints = np.zeros(sphere.shape, dtype=int)\n",
    "ints[sphere] = 1\n",
    "print(np.unique(ints))\n",
    "viewer.add_image(sphere, name='sphere', blending='additive', colormap='green')\n",
    "deformed = elasticdeform.deform_random_grid(ints, sigma=0.005, points=30)\n",
    "viewer.add_image(deformed, name='deformed', blending='additive', colormap='red')\n",
    "print(np.unique(deformed))"
   ]
  },
  {
   "cell_type": "code",
   "execution_count": null,
   "metadata": {},
   "outputs": [],
   "source": [
    "from skimage.draw import line_aa\n",
    "from skimage.draw import line_nd\n",
    "from tqdm import tqdm\n",
    "\n",
    "clear_layers(viewer)\n",
    "\n",
    "object_num = 500\n",
    "\n",
    "ROI_size = 500\n",
    "\n",
    "start_x = np.random.randint(0,ROI_size)\n",
    "end_x = np.random.randint(0, ROI_size)\n",
    "\n",
    "start_y = np.random.randint(0,ROI_size)\n",
    "end_y = np.random.randint(0, ROI_size)\n",
    "\n",
    "start_z =  np.random.randint(0, ROI_size)\n",
    "end_z =  np.random.randint(0, ROI_size)\n",
    "\n",
    "canvas_vol = np.zeros((ROI_size, ROI_size, ROI_size))\n",
    "\n",
    "for t in tqdm(range(object_num)):\n",
    "    indice = [np.random.randint(0, ROI_size) for i in range(6)]\n",
    "    \n",
    "    start_pt, end_pt = indice[:3], indice[3:]\n",
    "    \n",
    "    line_pts = line_nd(start_pt, end_pt) \n",
    "\n",
    "    for i in range(len(line_pts[0])):\n",
    "        canvas_vol[line_pts[0][i], line_pts[1][i], line_pts[2][i]] = 1#(2**16-1)*(2/3)  \n",
    "\n",
    "viewer.add_image(canvas_vol, name='canvas', blending='additive', colormap='magenta')\n",
    "deformed = elasticdeform.deform_random_grid(canvas_vol, sigma=3, points=70)\n",
    "viewer.add_image(deformed, name='deformed', blending='additive', colormap='green')\n",
    "print(np.unique(canvas_vol))\n",
    "print(np.unique(deformed))"
   ]
  },
  {
   "cell_type": "markdown",
   "metadata": {},
   "source": [
    "# Filtering low quality segmentations:"
   ]
  },
  {
   "cell_type": "code",
   "execution_count": 14,
   "metadata": {},
   "outputs": [],
   "source": [
    "import os\n",
    "import numpy as np\n",
    "import napari\n",
    "from tifffile import imread, imwrite\n",
    "from skimage import morphology\n",
    "from tqdm import tqdm\n",
    "from skimage.filters import threshold_multiotsu\n",
    "import time\n",
    "import matplotlib.pyplot as plt\n"
   ]
  },
  {
   "cell_type": "markdown",
   "metadata": {},
   "source": [
    "#### Read the data:"
   ]
  },
  {
   "cell_type": "code",
   "execution_count": 22,
   "metadata": {},
   "outputs": [],
   "source": [
    "base_dir = '/Volumes/bigData/wholeMount_volDist/220712_Fix_Emb_Flvw_Chn1GAP_PI_aTub647_Processed/N2V_Denoised/16bit_scaleZ_sbdl2' \n",
    "masks_name = '220712_Fix_Emb_Flvw_Chn1GAP_PI_aTub647_Cntrl_E02-Z01_PI_16bit_scaleZ_sbdl2_16bit_Masks_Fused.tif'\n",
    "#tub_name = '220712_Fix_Emb_Flvw_Chn1GAP_PI_aTub647_Exp_E01-Z01_Tub_16bit_scaleZ.tif' \n",
    "\n",
    "masks = imread(os.path.join(base_dir, masks_name))[::4,::4,::4]\n",
    "#tub = imread(os.path.join(base_dir, tub_name))\n",
    "\n",
    "def wipe_layers():\n",
    "    '''\n",
    "    Delete all layers in the viewer objected\n",
    "    '''\n",
    "    layers = viewer.layers\n",
    "    while len(layers) > 0:\n",
    "        layers.remove(layers[0])\n",
    "\n",
    "def remove_large_objects(labels_array: np.ndarray, max_size: int) -> np.ndarray:\n",
    "    ''' \n",
    "    Remove all objects in a mask above a specific threshold\n",
    "    '''\n",
    "    out = np.copy(labels_array)\n",
    "    component_sizes = np.bincount(labels_array.ravel()) # count the number of pixels in different labels\n",
    "    too_big = component_sizes > max_size\n",
    "    too_big_mask = too_big[labels_array]\n",
    "    out[too_big_mask] = 0\n",
    "    return out\n",
    "\n",
    "def return_points(labels_array: np.ndarray, label_ID: int) -> np.ndarray:\n",
    "    '''\n",
    "    Return the points in a mask that belong to a specific label\n",
    "    ---\n",
    "    Parameters:\n",
    "    labels_array: np.ndarray an ndArray of labels\n",
    "    label_ID: int the label ID of the label whos points you want to calculate\n",
    "    ---\n",
    "    Returns:\n",
    "    points: np.ndarray an ndArray of shape (n,3) where n is the number of points in the label\n",
    "    and dim1 is the x,y,z coordinates of the points\n",
    "    '''\n",
    "    points = np.column_stack(np.where(labels_array == label_ID))\n",
    "    return points\n",
    "\n",
    "def find_label_density(label_points: np.ndarray) -> float:\n",
    "    '''\n",
    "    Calculate the bounding box for a point cloud and return the density of points in the bounding box\n",
    "    ---\n",
    "    Parameters:\n",
    "    label_points: np.ndarray the array point coordinates for a given label\n",
    "    ---\n",
    "    Returns:\n",
    "    np.nan if the label is 0, or if the label has no length\n",
    "    density (float) the number of points in the label divided by the volume of the bounding box\n",
    "    '''\n",
    "\n",
    "    x = label_points.T[0]\n",
    "    y = label_points.T[1]\n",
    "    z = label_points.T[2]\n",
    "    num_points = len(x)\n",
    "    x_min = np.min(x)\n",
    "    x_max = np.max(x)\n",
    "    y_min = np.min(y)\n",
    "    y_max = np.max(y)\n",
    "    z_min = np.min(z)\n",
    "    z_max = np.max(z)\n",
    "    # add 1 to prevent division by 0\n",
    "    x_range = (x_max - x_min) + 1\n",
    "    y_range = (y_max - y_min) + 1\n",
    "    z_range = (z_max - z_min) + 1\n",
    "    vol = x_range * y_range * z_range\n",
    "    density = num_points / vol\n",
    "    return density"
   ]
  },
  {
   "cell_type": "markdown",
   "metadata": {},
   "source": [
    "#### Let's look at the distribution of label sizes and densities:"
   ]
  },
  {
   "cell_type": "code",
   "execution_count": 23,
   "metadata": {},
   "outputs": [
    {
     "name": "stdout",
     "output_type": "stream",
     "text": [
      "Identified 1079 labels\n",
      "Calculating point clouds...\n"
     ]
    },
    {
     "name": "stderr",
     "output_type": "stream",
     "text": [
      "100%|██████████| 1079/1079 [00:12<00:00, 88.86it/s]\n"
     ]
    },
    {
     "name": "stdout",
     "output_type": "stream",
     "text": [
      "Calculating label sizes...\n"
     ]
    },
    {
     "name": "stderr",
     "output_type": "stream",
     "text": [
      "100%|██████████| 1079/1079 [00:00<00:00, 1800896.94it/s]\n"
     ]
    },
    {
     "name": "stdout",
     "output_type": "stream",
     "text": [
      "Calculating point cloud densities...\n"
     ]
    },
    {
     "name": "stderr",
     "output_type": "stream",
     "text": [
      "100%|██████████| 1079/1079 [00:00<00:00, 30002.21it/s]\n"
     ]
    },
    {
     "data": {
      "image/png": "[encoded data removed]",
      "text/plain": [
       "<Figure size 432x288 with 2 Axes>"
      ]
     },
     "metadata": {
      "needs_background": "light"
     },
     "output_type": "display_data"
    }
   ],
   "source": [
    "label_IDs = [id for id in np.unique(masks) if id != 0]\n",
    "print(f'Identified {len(label_IDs)} labels')\n",
    "\n",
    "print('Calculating point clouds...')\n",
    "label_pcs = [return_points(masks, label_ID) for label_ID in tqdm(label_IDs)]\n",
    "\n",
    "print('Calculating label sizes...')\n",
    "label_sizes = [pc.shape[0] for pc in tqdm(label_pcs)]\n",
    "\n",
    "print('Calculating point cloud densities...')\n",
    "densities = [find_label_density(pc) for pc in tqdm(label_pcs)]\n",
    "\n",
    "label_sizes = np.array(label_sizes).astype('float64')\n",
    "\n",
    "low_size_thresh, high_size_thresh = threshold_multiotsu(label_sizes, 3)\n",
    "\n",
    "densities = np.array(densities).astype('float64')\n",
    "\n",
    "low_dense_thresh, high_dense_thresh = threshold_multiotsu(densities, 3)\n",
    "\n",
    "# plot the sizes and densities:\n",
    "fig, (ax1, ax2) = plt.subplots(1,2)\n",
    "size_counts, _, _ = ax1.hist(label_sizes, bins=50)\n",
    "ax1.vlines(low_size_thresh, 0, np.max(size_counts), color='r')\n",
    "ax1.vlines(high_size_thresh, 0, np.max(size_counts), color='r')\n",
    "ax1.set_title('Label Size Distribution')\n",
    "dense_counts, _, _ = ax2.hist(densities, bins=50)\n",
    "ax2.vlines(low_dense_thresh, 0, np.max(dense_counts), color='r')\n",
    "ax2.vlines(high_dense_thresh, 0, np.max(dense_counts), color='r')\n",
    "ax2.set_title('Label Density Distribution')\n",
    "plt.show()"
   ]
  },
  {
   "cell_type": "code",
   "execution_count": 24,
   "metadata": {},
   "outputs": [
    {
     "name": "stderr",
     "output_type": "stream",
     "text": [
      "/Users/bementmbp/opt/anaconda3/envs/napari_apoc/lib/python3.9/site-packages/napari_tools_menu/__init__.py:168: FutureWarning: Public access to Window.qt_viewer is deprecated and will be removed in\n",
      "v0.5.0. It is considered an \"implementation detail\" of the napari\n",
      "application, not part of the napari viewer model. If your use case\n",
      "requires access to qt_viewer, please open an issue to discuss.\n",
      "  self.tools_menu = ToolsMenu(self, self.qt_viewer.viewer)\n"
     ]
    }
   ],
   "source": [
    "%gui qt \n",
    "viewer = napari.Viewer()"
   ]
  },
  {
   "cell_type": "code",
   "execution_count": 25,
   "metadata": {},
   "outputs": [
    {
     "name": "stderr",
     "output_type": "stream",
     "text": [
      "Exception ignored in: <coroutine object get_msg at 0x7f9380a040c0>\n",
      "Traceback (most recent call last):\n",
      "  File \"<string>\", line 1, in <lambda>\n",
      "KeyError: '__import__'\n",
      "Exception ignored in: <coroutine object get_msg at 0x7f9380a040c0>\n",
      "Traceback (most recent call last):\n",
      "  File \"<string>\", line 1, in <lambda>\n",
      "KeyError: '__import__'\n",
      "Exception ignored in: <coroutine object get_msg at 0x7f9340fd72c0>\n",
      "Traceback (most recent call last):\n",
      "  File \"<string>\", line 1, in <lambda>\n",
      "KeyError: '__import__'\n"
     ]
    },
    {
     "name": "stdout",
     "output_type": "stream",
     "text": [
      "removing objects smaller than 7227.85546875\n",
      "removing objects larger than 50010.83984375\n",
      "removing objects with density smaller than 0.2601652117071525\n",
      "removing objects with density larger than 0.6661959134615385\n"
     ]
    },
    {
     "data": {
      "text/plain": [
       "<Labels layer 'filtered' at 0x7f9374a0a190>"
      ]
     },
     "execution_count": 25,
     "metadata": {},
     "output_type": "execute_result"
    }
   ],
   "source": [
    "viewer.add_labels(masks, name='masks', blending = 'additive')\n",
    "\n",
    "print(f'removing objects smaller than {low_size_thresh}')\n",
    "filtered_masks = morphology.remove_small_objects(masks, min_size=low_size_thresh, connectivity=1)\n",
    "\n",
    "print(f'removing objects larger than {high_size_thresh}')\n",
    "filtered_masks = remove_large_objects(filtered_masks, max_size=high_size_thresh)\n",
    "\n",
    "print(f'removing objects with density smaller than {low_dense_thresh}')\n",
    "remaining_labels = np.unique(filtered_masks)\n",
    "for ind, id in enumerate(label_IDs):\n",
    "    if all([id in remaining_labels,\n",
    "            id != 0,\n",
    "            densities[ind] < low_dense_thresh]):\n",
    "        filtered_masks[filtered_masks == id] = 0\n",
    "\n",
    "print(f'removing objects with density larger than {high_dense_thresh}')\n",
    "for ind, id in enumerate(label_IDs):\n",
    "    if all([id in remaining_labels,\n",
    "            id != 0,\n",
    "            densities[ind] > high_dense_thresh]):\n",
    "        filtered_masks[filtered_masks == id] = 0\n",
    "\n",
    "viewer.add_labels(filtered_masks, name='filtered', blending = 'additive')"
   ]
  },
  {
   "cell_type": "markdown",
   "metadata": {},
   "source": [
    "might be worth just picking some size and density values to go with. "
   ]
  },
  {
   "cell_type": "code",
   "execution_count": null,
   "metadata": {},
   "outputs": [],
   "source": []
  },
  {
   "cell_type": "code",
   "execution_count": null,
   "metadata": {},
   "outputs": [],
   "source": []
  },
  {
   "cell_type": "code",
   "execution_count": null,
   "metadata": {},
   "outputs": [],
   "source": []
  },
  {
   "cell_type": "markdown",
   "metadata": {},
   "source": [
    "# delete below if above works"
   ]
  },
  {
   "cell_type": "code",
   "execution_count": null,
   "metadata": {},
   "outputs": [],
   "source": [
    "from skimage import filters\n",
    "fig, ax = plt.subplots()\n",
    "counts, _, _ = ax.hist(densities, bins=50)\n",
    "# otsu threshold densities\n",
    "low, high = threshold_multiotsu(np.asarray(densities))\n",
    "print(f'low otsu threshold: {low}')\n",
    "print(f'high otsu threshold: {high}')\n",
    "ax.vlines(low, 0, np.max(counts), color='r', linestyle='--')\n",
    "ax.vlines(high, 0, np.max(counts), color='r', linestyle='--')\n",
    "plt.show()"
   ]
  },
  {
   "cell_type": "code",
   "execution_count": null,
   "metadata": {},
   "outputs": [],
   "source": [
    "t = filters.threshold_otsu(np.asarray([1,2,3]))"
   ]
  },
  {
   "cell_type": "code",
   "execution_count": null,
   "metadata": {},
   "outputs": [],
   "source": [
    "plt.hist(label_sizes, bins=50)\n",
    "plt.show()"
   ]
  },
  {
   "cell_type": "code",
   "execution_count": null,
   "metadata": {},
   "outputs": [],
   "source": [
    "t = np.asarray(densities)\n",
    "thresh = filters.threshold_otsu(t)\n",
    "thresh"
   ]
  },
  {
   "cell_type": "code",
   "execution_count": null,
   "metadata": {},
   "outputs": [],
   "source": []
  },
  {
   "cell_type": "code",
   "execution_count": null,
   "metadata": {},
   "outputs": [],
   "source": []
  },
  {
   "cell_type": "markdown",
   "metadata": {},
   "source": [
    "#### Filter out all labels smaller than half the median size or larger than n times the median size:"
   ]
  },
  {
   "cell_type": "code",
   "execution_count": null,
   "metadata": {},
   "outputs": [],
   "source": [
    "minimum_size = np.mean(label_volumes) / 2\n",
    "maximum_size = np.mean(label_volumes) * 2\n",
    "wipe_layers()\n",
    "print(f'removing objects smaller than {minimum_size}')\n",
    "filtered_masks = morphology.remove_small_objects(masks, min_size=minimum_size, connectivity=1)\n",
    "print(f'removing objects larger than {maximum_size}')\n",
    "filtered_masks = remove_large_objects(filtered_masks, max_size=maximum_size)\n",
    "viewer.add_labels(filtered_masks, name='filtered_masks', blending='additive')"
   ]
  },
  {
   "cell_type": "markdown",
   "metadata": {},
   "source": [
    "#### pick a \"good\" and \"bad\" label to play with:"
   ]
  },
  {
   "cell_type": "code",
   "execution_count": null,
   "metadata": {},
   "outputs": [],
   "source": [
    "good_id = 129\n",
    "bad_id = 20\n",
    "good_points = np.column_stack(np.where(filtered_masks == good_id))\n",
    "bad_points = np.column_stack(np.where(filtered_masks == bad_id))\n",
    "print(f'collection of good points with shape {good_points.shape}')\n",
    "print(f'collection of bad points with shape {bad_points.shape}')"
   ]
  },
  {
   "cell_type": "code",
   "execution_count": null,
   "metadata": {},
   "outputs": [],
   "source": [
    "t = np.where(masks == 129)\n",
    "t"
   ]
  },
  {
   "cell_type": "markdown",
   "metadata": {},
   "source": [
    "method to identify size of 3D bounding box for a given label:"
   ]
  },
  {
   "cell_type": "code",
   "execution_count": null,
   "metadata": {},
   "outputs": [],
   "source": [
    "good_points"
   ]
  },
  {
   "cell_type": "code",
   "execution_count": null,
   "metadata": {},
   "outputs": [],
   "source": [
    "def find_label_density(arr: np.ndarray) -> float:\n",
    "    '''\n",
    "    Calculate the bounding box for a mask and return the number of points in the bounding box\n",
    "    '''\n",
    "    num_points = arr.shape[0]\n",
    "    x = arr.T[0]\n",
    "    y = arr.T[1]\n",
    "    z = arr.T[2]\n",
    "    x_min = np.min(x)\n",
    "    x_max = np.max(x)\n",
    "    y_min = np.min(y)\n",
    "    y_max = np.max(y)\n",
    "    z_min = np.min(z)\n",
    "    z_max = np.max(z)\n",
    "    x_range = x_max - x_min\n",
    "    y_range = y_max - y_min\n",
    "    z_range = z_max - z_min\n",
    "    area = x_range * y_range * z_range\n",
    "    density = num_points / area\n",
    "    return density\n",
    "\n",
    "good_d = find_label_density(good_points)\n",
    "bad_d = find_label_density(bad_points)\n",
    "print(f'good density: {good_d}')\n",
    "print(f'bad density: {bad_d}')"
   ]
  },
  {
   "cell_type": "code",
   "execution_count": null,
   "metadata": {},
   "outputs": [],
   "source": []
  },
  {
   "cell_type": "code",
   "execution_count": null,
   "metadata": {},
   "outputs": [],
   "source": []
  },
  {
   "cell_type": "code",
   "execution_count": null,
   "metadata": {},
   "outputs": [],
   "source": []
  },
  {
   "cell_type": "code",
   "execution_count": null,
   "metadata": {},
   "outputs": [],
   "source": []
  }
 ],
 "metadata": {
  "kernelspec": {
   "display_name": "Python 3.9.12 ('napari_apoc')",
   "language": "python",
   "name": "python3"
  },
  "language_info": {
   "codemirror_mode": {
    "name": "ipython",
    "version": 3
   },
   "file_extension": ".py",
   "mimetype": "text/x-python",
   "name": "python",
   "nbconvert_exporter": "python",
   "pygments_lexer": "ipython3",
   "version": "3.9.12"
  },
  "orig_nbformat": 4,
  "vscode": {
   "interpreter": {
    "hash": "9332436963653b5df92bf2f53404d912d66b2e5a7a0f130fd2cb37eb34a8db49"
   }
  }
 },
 "nbformat": 4,
 "nbformat_minor": 2
}
