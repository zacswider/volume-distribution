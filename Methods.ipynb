{
 "cells": [
  {
   "cell_type": "code",
   "execution_count": null,
   "metadata": {},
   "outputs": [],
   "source": [
    "import os\n",
    "import numpy as np\n",
    "import matplotlib.pyplot as plt\n",
    "from tifffile import imread, imwrite\n",
    "from scipy import ndimage\n",
    "from tqdm import tqdm"
   ]
  },
  {
   "cell_type": "code",
   "execution_count": null,
   "metadata": {},
   "outputs": [],
   "source": [
    "def clear_layers(viewer):\n",
    "    layers = viewer.layers\n",
    "    while len(layers) > 0:\n",
    "        layers.remove(layers[0])"
   ]
  },
  {
   "cell_type": "markdown",
   "metadata": {},
   "source": [
    "# Generate random XY, ZX, and ZY slices from a training dataset"
   ]
  },
  {
   "cell_type": "code",
   "execution_count": null,
   "metadata": {},
   "outputs": [],
   "source": [
    "import numpy as np\n",
    "from numpy.random import randint\n",
    "from tifffile import imread, imwrite\n",
    "from tqdm import tqdm\n",
    "import os\n",
    "\n",
    "def get_rand_slices(im: np.ndarray, samples = 3):\n",
    "    ''' \n",
    "    Returns a dictionary of random XY, XZ, and YZ slices from a 3D stack.\n",
    "    Parameters: im - a 3D stack\n",
    "                samples - the number of slices for each dimension to return\n",
    "    Returns:    a dictionary of slices labeled with their dimension and index\n",
    "    '''\n",
    "    assert im.ndim == 3, 'Image must be 3D'\n",
    "    d = {}\n",
    "    z,y,x = im.shape\n",
    "    for n in range(samples):\n",
    "        randyx = randint(0,z)\n",
    "        randzx = randint(0,y)\n",
    "        randzy = randint(0,x)\n",
    "        d[f\"randyx_{randyx}_#{n}\"]=im[randyx]\n",
    "        d[f\"randzx_{randzx}_#{n}\"]=im[:,randzx]\n",
    "        d[f\"randzy_{randzy}_#{n}\"]=im[:,:,randzy]\n",
    "    return d\n",
    "\n",
    "source = '/Volumes/bigData/wholeMount_volDist/220712_Fix_Emb_Flvw_Chn1GAP_PI_aTub647_Processed/N2V_Denoised/16bit_scaleZ_sbdl2'\n",
    "dest = '/Volumes/bigData/wholeMount_volDist/220712_Fix_Emb_Flvw_Chn1GAP_PI_aTub647_Processed/N2V_Denoised/16bit_scaleZ_sbdl2_random_slices'\n",
    "if not os.path.exists(dest):\n",
    "    os.mkdir(dest)\n",
    "names = [f for f in os.listdir(source) if f.endswith('_16bit_scaleZ_sbdl2_16bit.tif') and not f.startswith('.')]\n",
    "for name in tqdm(names):\n",
    "    im = imread(source +'/'+name)\n",
    "    justname = name.split('.')[0]\n",
    "    slices = get_rand_slices(im, samples = 3)\n",
    "    for k,v in slices.items():\n",
    "        imwrite(f'{dest}/{justname}_{k}.tif',v)"
   ]
  },
  {
   "cell_type": "markdown",
   "metadata": {},
   "source": [
    "# Augment dataset by artificially turning xy slices into xz slices by adding 1D Gaussian Blur"
   ]
  },
  {
   "cell_type": "markdown",
   "metadata": {},
   "source": [
    "#### Example of synthetic training data"
   ]
  },
  {
   "cell_type": "code",
   "execution_count": null,
   "metadata": {},
   "outputs": [],
   "source": [
    "og_path = '/Volumes/bigData/wholeMount_volDist/CellposeTraining_V2/220710_Fix_Em_Flvw_Mix_PI_aTub647_E02-Z01_PI_16bit_randyx_164_#1.tif'\n",
    "og = imread(og_path)\n",
    "# a Gaussian filter with a standard deviation of 10\n",
    "gauss = ndimage.gaussian_filter1d(og, 7, 0)\n",
    "\n",
    "fig, (ax1, ax2) = plt.subplots(1, 2, dpi=200)\n",
    "ax1.imshow(og, cmap='gray', vmin = 0, vmax=15000)\n",
    "ax2.imshow(gauss, cmap='gray', vmin = 0, vmax=15000)"
   ]
  },
  {
   "cell_type": "markdown",
   "metadata": {},
   "source": [
    "get rid of the log processed files, and existing ortho projections"
   ]
  },
  {
   "cell_type": "code",
   "execution_count": null,
   "metadata": {},
   "outputs": [],
   "source": [
    "target_dir = '/Volumes/bigData/wholeMount_volDist/CellposeTraining_V3/new_gauss/'\n",
    "\n",
    "# make a list of files with \"log\" in the name\n",
    "delete_list = [f for f in os.listdir(target_dir) if 'log' in f or 'zx' in f or 'zy' in f]\n",
    "# delete the files\n",
    "for f in delete_list:\n",
    "    os.remove(os.path.join(target_dir, f))\n",
    "\n",
    "ims = [f for f in os.listdir(target_dir) if f.endswith('tif') and 'yx' in f and not f.startswith('.')]"
   ]
  },
  {
   "cell_type": "markdown",
   "metadata": {},
   "source": [
    "Gaussian blur the images"
   ]
  },
  {
   "cell_type": "code",
   "execution_count": null,
   "metadata": {},
   "outputs": [],
   "source": [
    "import os\n",
    "import numpy as np\n",
    "import matplotlib.pyplot as plt\n",
    "from tifffile import imread, imwrite\n",
    "from scipy import ndimage\n",
    "from tqdm import tqdm\n",
    "\n",
    "with tqdm(total = len(ims)) as pbar:\n",
    "    for im in ims:\n",
    "        im_path = os.path.join(target_dir, im)\n",
    "        im_data = imread(im_path)\n",
    "        im_data = ndimage.gaussian_filter1d(im_data, 7.5, 0)\n",
    "        imwrite(im_path, im_data)\n",
    "        pbar.update(1)"
   ]
  },
  {
   "cell_type": "markdown",
   "metadata": {},
   "source": [
    "Rename in the images and .npy files"
   ]
  },
  {
   "cell_type": "code",
   "execution_count": null,
   "metadata": {},
   "outputs": [],
   "source": [
    "tifs = [f for f in os.listdir(target_dir) if f.endswith('.tif') and not f.startswith('.')]\n",
    "segs = [f for f in os.listdir(target_dir) if f.endswith('.npy') and not f.startswith('.')]\n",
    "\n",
    "for f in tifs:\n",
    "    base = f.split('.')[0]\n",
    "    newname = base + '_gauss.tif'\n",
    "    os.rename(os.path.join(target_dir, f), os.path.join(target_dir, newname))\n",
    "\n",
    "for s in segs:\n",
    "    base = s.split('_seg.npy')[0]\n",
    "    newname = base + '_gauss_seg.npy'\n",
    "    os.rename(os.path.join(target_dir, s), os.path.join(target_dir, newname))"
   ]
  },
  {
   "cell_type": "markdown",
   "metadata": {},
   "source": [
    "# Convert .npy files to labels and save as tif files\n",
    "\n",
    "This is necessary for training cellpose in GDrive"
   ]
  },
  {
   "cell_type": "code",
   "execution_count": null,
   "metadata": {},
   "outputs": [],
   "source": [
    "from tifffile import imwrite\n",
    "import numpy as np\n",
    "from tqdm import tqdm\n",
    "import shutil\n",
    "import os\n",
    "\n",
    "# dir containing ...tif and ..._seg.npy files\n",
    "raw_dir = '/Volumes/bigData/wholeMount_volDist/CellposeTraining_V2' \n",
    "tifs = [f for f in os.listdir(raw_dir) if f.endswith('.tif') and not f.startswith('.')]\n",
    "segs = [f for f in os.listdir(raw_dir) if f.endswith('.npy') and not f.startswith('.')]\n",
    "\n",
    "# create save directories\n",
    "base_save_dir = '/Volumes/bigData/wholeMount_volDist/CellposeTraining_V2_GD'\n",
    "image_save_dir = os.path.join(base_save_dir, 'Images')\n",
    "mask_save_dir = os.path.join(base_save_dir, 'Masks')\n",
    "if not os.path.exists(image_save_dir):\n",
    "    os.makedirs(image_save_dir)\n",
    "if not os.path.exists(mask_save_dir):\n",
    "    os.makedirs(mask_save_dir)\n",
    "\n",
    "# copy all tifs to the image save dir\n",
    "for f in tifs:\n",
    "    shutil.copy(os.path.join(raw_dir, f), image_save_dir)\n",
    "\n",
    "# extract the masks out of each of the seg files and save as tif to the mask save dir\n",
    "with tqdm(total=len(segs)) as pbar:\n",
    "    for s in segs:\n",
    "        item = np.load(os.path.join(raw_dir, s), allow_pickle=True).item()\n",
    "        masks = item['masks']\n",
    "        save_name = s.split('_seg.npy')[0] + '.tif'\n",
    "        imwrite(os.path.join(mask_save_dir, save_name), masks)\n",
    "        pbar.update(1)"
   ]
  },
  {
   "cell_type": "markdown",
   "metadata": {},
   "source": [
    "Convert a single npy file into masks"
   ]
  },
  {
   "cell_type": "code",
   "execution_count": null,
   "metadata": {},
   "outputs": [],
   "source": [
    "from tifffile import imwrite\n",
    "import numpy as np\n",
    "import os\n",
    "\n",
    "# dir containing ...tif and ..._seg.npy files\n",
    "dir = '/Volumes/bigData/wholeMount_volDist/220712_Fix_Emb_Flvw_Chn1GAP_PI_aTub647_Processed/N2V_Denoised/16bit_scaleZ_sbdl2'\n",
    "name = '220712_Fix_Emb_Flvw_Chn1GAP_PI_aTub647_Cntrl_E02-Z01_PI_16bit_scaleZ_sbdl2_16bit_seg.npy' \n",
    "\n",
    "# create save directories\n",
    "item = np.load(os.path.join(dir, name), allow_pickle=True).item()\n",
    "masks = item['masks']\n",
    "save_name = name.split('_seg.npy')[0] + '_Masks_Fused.tif'\n",
    "imwrite(os.path.join(dir, save_name), masks, imagej=True, metadata={'axes': 'ZYX'})"
   ]
  },
  {
   "cell_type": "markdown",
   "metadata": {},
   "source": [
    "# Batch process volumes with DoG filters"
   ]
  },
  {
   "cell_type": "code",
   "execution_count": null,
   "metadata": {},
   "outputs": [],
   "source": [
    "import os\n",
    "from tqdm import tqdm\n",
    "from skimage import filters\n",
    "from tifffile import imread, imwrite\n",
    "\n",
    "processing_dir = '/Volumes/bigData/wholeMount_volDist/220712_Fix_Emb_Flvw_Chn1GAP_PI_aTub647_Processed/N2V_Denoised/16bit_scaleZ'\n",
    "save_dir = os.path.join(processing_dir, 'sbdl2_processed')\n",
    "if not os.path.exists(save_dir):\n",
    "    os.makedirs(save_dir)\n",
    "\n",
    "im_names = [f for f in os.listdir(processing_dir) if f.endswith('.tif') and not f.startswith('.')]\n",
    "\n",
    "with tqdm(total=len(im_names)) as pbar:\n",
    "    for im_name in im_names:\n",
    "        im_base = im_name.split('.')[0]\n",
    "        im = imread(os.path.join(processing_dir, im_name))\n",
    "        sbdl2 = filters.difference_of_gaussians(im, low_sigma=2, high_sigma=128)\n",
    "        # save as 32 bit float\n",
    "        imwrite(os.path.join(save_dir, f'{im_base}_sbdl2.tif'), sbdl2.astype('float32'), imagej=True, metadata={'axes': 'ZYX'})\n",
    "        pbar.update(1)"
   ]
  },
  {
   "cell_type": "markdown",
   "metadata": {},
   "source": [
    "# remove a label and re-save"
   ]
  },
  {
   "cell_type": "code",
   "execution_count": null,
   "metadata": {},
   "outputs": [],
   "source": [
    "from tifffile import imread, imwrite\n",
    "import numpy as np\n",
    "import os\n",
    "\n",
    "base = '/Volumes/bigData/wholeMount_volDist/220712_Fix_Emb_Flvw_Chn1GAP_PI_aTub647_Processed/N2V_Denoised/U-Net_3D/' \n",
    "name = '220624_Fix_Flvw_Emb_PI_Utr647_E02-10X-Z01_downsample_log_Crop_46-98_Target.tif' \n",
    "masks = imread(os.path.join(base, name))\n",
    "base_name = name.split('.')[0]\n",
    "masks[masks == 63] = 0\n",
    "imwrite(os.path.join(base, base_name + '_corr.tif'), masks, imagej=True, metadata={'axes': 'ZYX'})\n"
   ]
  },
  {
   "cell_type": "markdown",
   "metadata": {},
   "source": [
    "# Turn instance segmentation into semantic segmentation"
   ]
  },
  {
   "cell_type": "markdown",
   "metadata": {},
   "source": [
    "#### Example:"
   ]
  },
  {
   "cell_type": "code",
   "execution_count": null,
   "metadata": {},
   "outputs": [],
   "source": [
    "from tifffile import imread, imwrite\n",
    "from scipy import ndimage\n",
    "import os\n",
    "import numpy as np\n",
    "import matplotlib.pyplot as plt\n",
    "\n",
    "dir = '/Volumes/bigData/wholeMount_volDist/U-Net_3D_Training/Target'\n",
    "sem_name = '220712_Fix_Emb_Flvw_Chn1GAP_PI_aTub647_Exp_E10-Z01_PI_16bit_scaleZ_crop_40-61_crop_Target.tif' \n",
    "sem = imread(os.path.join(dir, sem_name))\n",
    "\n",
    "fig, (ax1, ax2) = plt.subplots(1, 2)\n",
    "ax1.imshow(sem[15], cmap='Set3')\n",
    "\n",
    "# iterate through all of the labels in sem, and erode them\n",
    "labels = np.unique(sem)\n",
    "binary = np.zeros(sem.shape)\n",
    "\n",
    "for label in labels:\n",
    "    if label == 0:\n",
    "        continue\n",
    "    else:\n",
    "        mask = sem == label\n",
    "        mask = ndimage.binary_erosion(mask, iterations = 2)\n",
    "        binary[mask] = 1\n",
    "\n",
    "ax2.imshow(binary[15], cmap='Set3')"
   ]
  },
  {
   "cell_type": "markdown",
   "metadata": {},
   "source": [
    "#### Batch processing:"
   ]
  },
  {
   "cell_type": "code",
   "execution_count": null,
   "metadata": {},
   "outputs": [],
   "source": [
    "from tifffile import imread, imwrite\n",
    "from scipy import ndimage\n",
    "import os\n",
    "import numpy as np\n",
    "from tqdm import tqdm\n",
    "\n",
    "base_dir = '/Volumes/bigData/wholeMount_volDist/U-Net_3D_Training' \n",
    "mask_dir = os.path.join(base_dir, 'Target')\n",
    "source_dir = os.path.join(base_dir, 'Source')\n",
    "mask_names = [f for f in os.listdir(mask_dir) if f.endswith('.tif') and not f.startswith('.')]\n",
    "\n",
    "save_dir = '/Volumes/bigData/wholeMount_volDist/U-Net_3D_Training_binary_8bit_3'\n",
    "mask_save_dir = os.path.join(save_dir, 'Target')\n",
    "source_save_dir = os.path.join(save_dir, 'Source')\n",
    "if not os.path.exists(save_dir):\n",
    "    os.makedirs(save_dir)\n",
    "if not os.path.exists(mask_save_dir):\n",
    "    os.makedirs(mask_save_dir)\n",
    "if not os.path.exists(source_save_dir):\n",
    "    os.makedirs(source_save_dir)\n",
    "\n",
    "for mask_name in tqdm(mask_names):\n",
    "    sem = imread(os.path.join(mask_dir, mask_name))\n",
    "    labels = np.unique(sem)\n",
    "    binary = np.zeros(sem.shape)\n",
    "    for label in labels:\n",
    "        if label == 0:\n",
    "            continue\n",
    "        else:\n",
    "            mask = sem == label\n",
    "            mask = ndimage.binary_erosion(mask, iterations = 2)\n",
    "            binary[mask] = 1\n",
    "    imwrite(os.path.join(mask_save_dir, mask_name), binary[2:-2,2:-2,2:-2].astype('uint8'), imagej=True, metadata={'axes': 'ZYX'})\n",
    "    mask_base = mask_name.split('Target.tif')[0]\n",
    "    source_name = mask_base + 'Source.tif'\n",
    "    source = imread(os.path.join(source_dir, source_name))\n",
    "    imwrite(os.path.join(source_save_dir, source_name), source[2:-2,2:-2,2:-2].astype('uint16'), imagej=True, metadata={'axes': 'ZYX'})"
   ]
  },
  {
   "cell_type": "markdown",
   "metadata": {},
   "source": [
    "# turn instance into multiclass semantic segmentation"
   ]
  },
  {
   "cell_type": "code",
   "execution_count": null,
   "metadata": {},
   "outputs": [],
   "source": [
    "from tifffile import imread, imwrite\n",
    "from scipy import ndimage\n",
    "import os\n",
    "import numpy as np\n",
    "from tqdm import tqdm\n",
    "\n",
    "# source dirs and names\n",
    "base_dir = '/Volumes/bigData/wholeMount_volDist/U-Net_3D_Training' \n",
    "mask_dir = os.path.join(base_dir, 'Target')\n",
    "source_dir = os.path.join(base_dir, 'Source')\n",
    "mask_names = [f for f in os.listdir(mask_dir) if f.endswith('.tif') and not f.startswith('.')]\n",
    "\n",
    "# dest dirs and names\n",
    "save_dir = '/Volumes/bigData/wholeMount_volDist/U-Net_3D_Training_multiclass_8bit_1'\n",
    "mask_save_dir = os.path.join(save_dir, 'Target')\n",
    "source_save_dir = os.path.join(save_dir, 'Source')\n",
    "if not os.path.exists(save_dir):\n",
    "    os.makedirs(save_dir)\n",
    "if not os.path.exists(mask_save_dir):\n",
    "    os.makedirs(mask_save_dir)\n",
    "if not os.path.exists(source_save_dir):\n",
    "    os.makedirs(source_save_dir)\n",
    "\n",
    "# make the changes. background pixels are set to 0, edges are 1, cytoplasm is 2\n",
    "for mask_name in tqdm(mask_names):\n",
    "    instance_labels = imread(os.path.join(mask_dir, mask_name))\n",
    "    labels = np.unique(instance_labels)\n",
    "    binary = np.zeros(instance_labels.shape)\n",
    "    for label in labels:\n",
    "        if label == 0:\n",
    "            continue\n",
    "        else:\n",
    "            mask = instance_labels == label\n",
    "            eroded = ndimage.binary_erosion(mask, iterations = 2)\n",
    "            binary[mask] = 1\n",
    "            binary[eroded] = 2\n",
    "    imwrite(os.path.join(mask_save_dir, mask_name), binary[2:-2,2:-2,2:-2].astype('uint8'), imagej=True, metadata={'axes': 'ZYX'})\n",
    "    mask_base = mask_name.split('Target.tif')[0]\n",
    "    source_name = mask_base + 'Source.tif'\n",
    "    source = imread(os.path.join(source_dir, source_name))\n",
    "    imwrite(os.path.join(source_save_dir, source_name), source[2:-2,2:-2,2:-2].astype('uint16'), imagej=True, metadata={'axes': 'ZYX'})"
   ]
  },
  {
   "cell_type": "markdown",
   "metadata": {},
   "source": [
    "# Convert file to 8-bit"
   ]
  },
  {
   "cell_type": "code",
   "execution_count": null,
   "metadata": {},
   "outputs": [],
   "source": [
    "from tifffile import imread, imwrite\n",
    "import os\n",
    "from tqdm import tqdm\n",
    "\n",
    "base_dir = '/Volumes/bigData/wholeMount_volDist/U-Net_3D_Training_Binary_8bit' \n",
    "mask_dir = os.path.join(base_dir, 'Target')\n",
    "source_dir = os.path.join(base_dir, 'Source')\n",
    "mask_names = [f for f in os.listdir(mask_dir) if f.endswith('.tif') and not f.startswith('.')]\n",
    "\n",
    "for mask_name in tqdm(mask_names):\n",
    "    mask = imread(os.path.join(mask_dir, mask_name))\n",
    "    imwrite(os.path.join(mask_dir, mask_name), mask.astype('uint8'), imagej=True, metadata={'axes': 'ZYX'})\n",
    "    mask_base = mask_name.split('Target.tif')[0]\n",
    "    source_name = mask_base + 'Source.tif'\n",
    "    source = imread(os.path.join(source_dir, source_name))\n",
    "    imwrite(os.path.join(source_dir, source_name), source[1:-1].astype('uint8'), imagej=True, metadata={'axes': 'ZYX'})"
   ]
  },
  {
   "cell_type": "markdown",
   "metadata": {},
   "source": [
    "# Elastic deform"
   ]
  },
  {
   "cell_type": "code",
   "execution_count": null,
   "metadata": {},
   "outputs": [],
   "source": [
    "import os\n",
    "import numpy as np\n",
    "import napari\n",
    "import raster_geometry as rg\n",
    "import tifffile as tif\n",
    "%gui qt "
   ]
  },
  {
   "cell_type": "code",
   "execution_count": null,
   "metadata": {},
   "outputs": [],
   "source": [
    "viewer = napari.Viewer()"
   ]
  },
  {
   "cell_type": "code",
   "execution_count": null,
   "metadata": {},
   "outputs": [],
   "source": [
    "import elasticdeform\n",
    "\n",
    "clear_layers(viewer)\n",
    "sphere = rg.sphere(125,40)\n",
    "ints = np.zeros(sphere.shape, dtype=int)\n",
    "ints[sphere] = 1\n",
    "print(np.unique(ints))\n",
    "viewer.add_image(sphere, name='sphere', blending='additive', colormap='green')\n",
    "deformed = elasticdeform.deform_random_grid(ints, sigma=0.005, points=30)\n",
    "viewer.add_image(deformed, name='deformed', blending='additive', colormap='red')\n",
    "print(np.unique(deformed))"
   ]
  },
  {
   "cell_type": "code",
   "execution_count": null,
   "metadata": {},
   "outputs": [],
   "source": [
    "from skimage.draw import line_aa\n",
    "from skimage.draw import line_nd\n",
    "from tqdm import tqdm\n",
    "\n",
    "clear_layers(viewer)\n",
    "\n",
    "object_num = 500\n",
    "\n",
    "ROI_size = 500\n",
    "\n",
    "start_x = np.random.randint(0,ROI_size)\n",
    "end_x = np.random.randint(0, ROI_size)\n",
    "\n",
    "start_y = np.random.randint(0,ROI_size)\n",
    "end_y = np.random.randint(0, ROI_size)\n",
    "\n",
    "start_z =  np.random.randint(0, ROI_size)\n",
    "end_z =  np.random.randint(0, ROI_size)\n",
    "\n",
    "canvas_vol = np.zeros((ROI_size, ROI_size, ROI_size))\n",
    "\n",
    "for t in tqdm(range(object_num)):\n",
    "    indice = [np.random.randint(0, ROI_size) for i in range(6)]\n",
    "    \n",
    "    start_pt, end_pt = indice[:3], indice[3:]\n",
    "    \n",
    "    line_pts = line_nd(start_pt, end_pt) \n",
    "\n",
    "    for i in range(len(line_pts[0])):\n",
    "        canvas_vol[line_pts[0][i], line_pts[1][i], line_pts[2][i]] = 1#(2**16-1)*(2/3)  \n",
    "\n",
    "viewer.add_image(canvas_vol, name='canvas', blending='additive', colormap='magenta')\n",
    "deformed = elasticdeform.deform_random_grid(canvas_vol, sigma=3, points=70)\n",
    "viewer.add_image(deformed, name='deformed', blending='additive', colormap='green')\n",
    "print(np.unique(canvas_vol))\n",
    "print(np.unique(deformed))"
   ]
  },
  {
   "cell_type": "markdown",
   "metadata": {},
   "source": [
    "# Filtering low quality segmentations:"
   ]
  },
  {
   "cell_type": "code",
   "execution_count": 1,
   "metadata": {},
   "outputs": [],
   "source": [
    "import os\n",
    "import numpy as np\n",
    "import napari\n",
    "from tifffile import imread, imwrite\n",
    "from skimage import morphology\n",
    "from tqdm import tqdm\n",
    "from skimage.filters import threshold_multiotsu\n",
    "import time\n",
    "import matplotlib.pyplot as plt\n",
    "from skimage.segmentation import clear_border\n",
    "from scipy import ndimage as ndi\n",
    "from skimage.feature import peak_local_max\n",
    "from skimage.segmentation import watershed\n",
    "from skimage import filters\n",
    "from skimage.morphology import label\n",
    "from skimage.morphology import binary_erosion\n",
    "from skimage.filters import threshold_otsu\n",
    "from skimage.measure import regionprops\n",
    "from scipy import spatial\n",
    "import vg # vector-geometry and linear-algebra toolbelt"
   ]
  },
  {
   "cell_type": "code",
   "execution_count": 2,
   "metadata": {},
   "outputs": [
    {
     "name": "stderr",
     "output_type": "stream",
     "text": [
      "/Users/bementmbp/opt/anaconda3/envs/napari_apoc/lib/python3.9/site-packages/napari_tools_menu/__init__.py:168: FutureWarning: Public access to Window.qt_viewer is deprecated and will be removed in\n",
      "v0.5.0. It is considered an \"implementation detail\" of the napari\n",
      "application, not part of the napari viewer model. If your use case\n",
      "requires access to qt_viewer, please open an issue to discuss.\n",
      "  self.tools_menu = ToolsMenu(self, self.qt_viewer.viewer)\n"
     ]
    }
   ],
   "source": [
    "%gui qt \n",
    "viewer = napari.Viewer()"
   ]
  },
  {
   "cell_type": "markdown",
   "metadata": {},
   "source": [
    "#### Read the data and define useful functions:"
   ]
  },
  {
   "cell_type": "code",
   "execution_count": 13,
   "metadata": {},
   "outputs": [],
   "source": [
    "base_dir = '/Volumes/bigData/wholeMount_volDist/220712_Fix_Emb_Flvw_Chn1GAP_PI_aTub647_Processed/N2V_Denoised/16bit_scaleZ_sbdl2' \n",
    "masks_name = '220712_Fix_Emb_Flvw_Chn1GAP_PI_aTub647_Cntrl_E02-Z01_PI_16bit_scaleZ_sbdl2_16bit_Masks_Fused.tif'\n",
    "tub_name = '220712_Fix_Emb_Flvw_Chn1GAP_PI_aTub647_Cntrl_E02-Z01_Tub_16bit_scaleZ_sbdl2_16bit.tif' \n",
    "pi_name = '220712_Fix_Emb_Flvw_Chn1GAP_PI_aTub647_Cntrl_E02-Z01_PI_16bit_scaleZ_sbdl2_16bit.tif'\n",
    "\n",
    "masks = imread(os.path.join(base_dir, masks_name))#[::4,::4,::4]\n",
    "tub = imread(os.path.join(base_dir, tub_name))#[::4,::4,::4]\n",
    "pi = imread(os.path.join(base_dir, pi_name))#[::4,::4,::4]\n",
    "\n",
    "def wipe_layers():\n",
    "    '''\n",
    "    Delete all layers in the viewer objected\n",
    "    '''\n",
    "    layers = viewer.layers\n",
    "    while len(layers) > 0:\n",
    "        layers.remove(layers[0])\n",
    "\n",
    "def remove_large_objects(labels_array: np.ndarray, max_size: int) -> np.ndarray:\n",
    "    ''' \n",
    "    Remove all objects in a mask above a specific threshold\n",
    "    '''\n",
    "    out = np.copy(labels_array)\n",
    "    component_sizes = np.bincount(labels_array.ravel()) # count the number of pixels in different labels\n",
    "    too_big = component_sizes > max_size\n",
    "    too_big_mask = too_big[labels_array]\n",
    "    out[too_big_mask] = 0\n",
    "    return out\n",
    "\n",
    "def return_points(labels_array: np.ndarray, label_ID: int) -> np.ndarray:\n",
    "    '''\n",
    "    Return the points in a mask that belong to a specific label\n",
    "    ---\n",
    "    Parameters:\n",
    "    labels_array: np.ndarray an ndArray of labels\n",
    "    label_ID: int the label ID of the label whos points you want to calculate\n",
    "    ---\n",
    "    Returns:\n",
    "    points: np.ndarray an ndArray of shape (n,3) where n is the number of points in the label\n",
    "    and dim1 is the x,y,z coordinates of the points\n",
    "    '''\n",
    "    points = np.column_stack(np.where(labels_array == label_ID))\n",
    "    return points\n",
    "\n",
    "def find_label_density(label_points: np.ndarray) -> float:\n",
    "    '''\n",
    "    Calculate the bounding box for a point cloud and return the density of points in the bounding box\n",
    "    ---\n",
    "    Parameters:\n",
    "    label_points: np.ndarray the array point coordinates for a given label\n",
    "    ---\n",
    "    Returns:\n",
    "    np.nan if the label is 0, or if the label has no length\n",
    "    density (float) the number of points in the label divided by the volume of the bounding box\n",
    "    '''\n",
    "\n",
    "    x = label_points.T[0]\n",
    "    y = label_points.T[1]\n",
    "    z = label_points.T[2]\n",
    "    num_points = len(x)\n",
    "    x_min = np.min(x)\n",
    "    x_max = np.max(x)\n",
    "    y_min = np.min(y)\n",
    "    y_max = np.max(y)\n",
    "    z_min = np.min(z)\n",
    "    z_max = np.max(z)\n",
    "    # add 1 to prevent division by 0\n",
    "    x_range = (x_max - x_min) + 1\n",
    "    y_range = (y_max - y_min) + 1\n",
    "    z_range = (z_max - z_min) + 1\n",
    "    vol = x_range * y_range * z_range\n",
    "    density = num_points / vol\n",
    "    return density\n",
    "\n",
    "def print_label_props(source: np.ndarray, label_num: int) -> None:\n",
    "    '''\n",
    "    Print the properties of a label in a mask\n",
    "    ---\n",
    "    Parameters:\n",
    "    source: np.ndarray the mask containing the label\n",
    "    label_num: int the label number of the label you want to print the properties of\n",
    "    ---\n",
    "    Returns:\n",
    "    None\n",
    "    '''\n",
    "    label_points = return_points(source, label_num)\n",
    "    density = find_label_density(label_points)\n",
    "    size = label_points.shape[0]\n",
    "    print(f'Label {label_num} has:')\n",
    "    print(f'{size:,} points.')\n",
    "    print(f'density of {round(density,4):,}')\n",
    "\n",
    "def watershed(binary: np.ndarray) -> np.ndarray:\n",
    "    ''' \n",
    "    Watershed segmentation\n",
    "    '''\n",
    "    distance = ndi.distance_transform_edt(binary)\n",
    "    local_maxi = peak_local_max(distance, indices=False, footprint=np.ones((3, 3, 3)), labels=thresh)\n",
    "    markers = ndi.label(local_maxi)\n",
    "    labels_ws = watershed(-distance, markers, mask=thresh)\n",
    "    return labels_ws\n",
    "\n",
    "def get_cube(source: np.ndarray, label_num: int) -> np.ndarray:\n",
    "    '''\n",
    "    Return a cube of the label in a mask\n",
    "    ---\n",
    "    Parameters:\n",
    "    source: np.ndarray the mask containing the label\n",
    "    label_num: int the label number of the label you want isolate\n",
    "    ---\n",
    "    Returns:\n",
    "    cube: np.ndarray the cube of the label\n",
    "    '''\n",
    "    label_points = return_points(source, label_num)\n",
    "    x = label_points.T[0]\n",
    "    y = label_points.T[1]\n",
    "    z = label_points.T[2]\n",
    "    x_min = np.min(x) - 1\n",
    "    x_max = np.max(x) + 2\n",
    "    y_min = np.min(y) - 1\n",
    "    y_max = np.max(y) + 2\n",
    "    z_min = np.min(z) - 1\n",
    "    z_max = np.max(z) + 2\n",
    "    #cube = source[x_min:x_max+1, y_min:y_max+1, z_min:z_max+1]\n",
    "    return x_min, x_max, y_min, y_max, z_min, z_max\n",
    "\n",
    "def apply_cube(source: np.ndarray, cube: tuple) -> np.ndarray:\n",
    "    '''\n",
    "    Crop an ndArray with a cube\n",
    "    ---\n",
    "    Parameters:\n",
    "    source: np.ndarray the array to crop\n",
    "    cube: tuple containing the x_min, x_max, y_min, y_max, z_min, z_max\n",
    "    ---\n",
    "    Returns:\n",
    "    out: np.ndarray array with the cube applied\n",
    "    '''\n",
    "    x_min, x_max, y_min, y_max, z_min, z_max = cube\n",
    "    out = source[x_min:x_max, y_min:y_max, z_min:z_max]\n",
    "    return out\n",
    "\n",
    "def get_long_axis(cubed_label: np.ndarray, line_length = 75):\n",
    "    '''\n",
    "    Get the longest axis of an cubed_label\n",
    "    ---\n",
    "    Parameters:\n",
    "    cubed_label: np.ndarray the cubed_label to get the longest axis of\n",
    "    ---\n",
    "    Returns:\n",
    "    linepts: np.ndarray the points of the longest axis\n",
    "    '''\n",
    "    if cubed_label.dtype == 'bool':\n",
    "        coords = np.column_stack(np.where(cubed_label == True))\n",
    "    else:\n",
    "        label_identify = [i for i in np.unique(cubed_label) if i != 0][0]\n",
    "        coords = np.column_stack(np.where(cubed_label == label_identify))\n",
    "    if coords.shape[0] > 1000:\n",
    "        sampling_interval = coords.shape[0] // 1000\n",
    "    else:\n",
    "        sampling_interval = 1    \n",
    "\n",
    "    np.random.shuffle(coords)\n",
    "    subsampled = coords[::sampling_interval]\n",
    "    datamean = subsampled.mean(axis=0)\n",
    "    uu, dd, vv = np.linalg.svd(subsampled - datamean)\n",
    "    linepts = vv[0] * np.mgrid[-line_length:line_length:2j][:, np.newaxis]\n",
    "    linepts += datamean\n",
    "    return linepts\n",
    "\n",
    "def view_saved_files(file_path: str) -> None:\n",
    "    ''' \n",
    "    Fxn for visualizing saved output files.\n",
    "    '''\n",
    "    dedicated_file_viewer = napari.Viewer()\n",
    "    contents = [c for c in os.listdir(file_path) if not c.startswith('.')]\n",
    "    for content in contents:\n",
    "        if content.endswith('.tif'):\n",
    "            if 'tub' in content or 'PI' in content:\n",
    "                dedicated_file_viewer.add_image(imread(os.path.join(file_path, content)), name=content.split('.')[0], blending='additive', visible=False)\n",
    "            else:\n",
    "                dedicated_file_viewer.add_labels(imread(os.path.join(file_path, content)), name=content.split('.')[0], blending='additive')\n",
    "        elif content.endswith('.txt'):\n",
    "            nums = np.loadtxt(os.path.join(file_path, content))\n",
    "            if nums.ndim == 1:\n",
    "                dedicated_file_viewer.add_points(nums, name=content.split('.')[0], face_color='white', blending='additive')\n",
    "            elif nums.ndim == 2:\n",
    "                dedicated_file_viewer.add_shapes(nums, shape_type='line', name=content.split('.')[0], edge_color='white', blending='additive')\n",
    "        else:\n",
    "            print(f'file \"{content}\" not imported to viewer')\n"
   ]
  },
  {
   "cell_type": "markdown",
   "metadata": {},
   "source": [
    "#### Let's look filter poor quality labels:"
   ]
  },
  {
   "cell_type": "code",
   "execution_count": 4,
   "metadata": {},
   "outputs": [
    {
     "name": "stdout",
     "output_type": "stream",
     "text": [
      "Calculating point clouds...\n"
     ]
    },
    {
     "name": "stderr",
     "output_type": "stream",
     "text": [
      "100%|██████████| 40/40 [00:18<00:00,  2.13it/s]\n"
     ]
    }
   ],
   "source": [
    "minimum_size = 250000\n",
    "maximum_size = 1000000\n",
    "minimum_density = 0.21\n",
    "\n",
    "filtered_masks = clear_border(masks)\n",
    "filtered_masks = morphology.remove_small_objects(filtered_masks, min_size=minimum_size, connectivity=1)\n",
    "filtered_masks = remove_large_objects(filtered_masks, max_size=maximum_size)\n",
    "remaining_labels = [label for label in np.unique(filtered_masks) if label != 0]\n",
    "print('Calculating point clouds...')\n",
    "label_pcs = [return_points(masks, label_ID) for label_ID in tqdm(remaining_labels)]\n",
    "densities = [find_label_density(pc) for pc in label_pcs]\n",
    "\n",
    "for ind, id in enumerate(remaining_labels):\n",
    "    if id in remaining_labels and densities[ind] < minimum_density:\n",
    "        filtered_masks[filtered_masks == id] = 0"
   ]
  },
  {
   "cell_type": "code",
   "execution_count": 19,
   "metadata": {},
   "outputs": [
    {
     "name": "stderr",
     "output_type": "stream",
     "text": [
      "  3%|▎         | 1/34 [00:01<00:37,  1.15s/it]"
     ]
    },
    {
     "name": "stdout",
     "output_type": "stream",
     "text": [
      "no spindles detected in label 440\n"
     ]
    },
    {
     "name": "stderr",
     "output_type": "stream",
     "text": [
      " 24%|██▎       | 8/34 [00:16<00:55,  2.12s/it]/Users/bementmbp/opt/anaconda3/envs/napari_apoc/lib/python3.9/site-packages/skimage/_shared/utils.py:157: UserWarning: Only one label was provided to `remove_small_objects`. Did you mean to use a boolean array?\n",
      "  return func(*args, **kwargs)\n",
      " 26%|██▋       | 9/34 [00:17<00:43,  1.76s/it]"
     ]
    },
    {
     "name": "stdout",
     "output_type": "stream",
     "text": [
      "no spindles detected in label 956\n"
     ]
    },
    {
     "name": "stderr",
     "output_type": "stream",
     "text": [
      " 32%|███▏      | 11/34 [00:20<00:39,  1.70s/it]"
     ]
    },
    {
     "name": "stdout",
     "output_type": "stream",
     "text": [
      "no spindles detected in label 961\n"
     ]
    },
    {
     "name": "stderr",
     "output_type": "stream",
     "text": [
      " 44%|████▍     | 15/34 [00:28<00:32,  1.72s/it]"
     ]
    },
    {
     "name": "stdout",
     "output_type": "stream",
     "text": [
      "no spindles detected in label 1116\n"
     ]
    },
    {
     "name": "stderr",
     "output_type": "stream",
     "text": [
      " 56%|█████▌    | 19/34 [00:36<00:26,  1.78s/it]"
     ]
    },
    {
     "name": "stdout",
     "output_type": "stream",
     "text": [
      "no spindles detected in label 1143\n"
     ]
    },
    {
     "name": "stderr",
     "output_type": "stream",
     "text": [
      " 65%|██████▍   | 22/34 [00:40<00:19,  1.60s/it]"
     ]
    },
    {
     "name": "stdout",
     "output_type": "stream",
     "text": [
      "more than one region remaining!\n"
     ]
    },
    {
     "name": "stderr",
     "output_type": "stream",
     "text": [
      " 68%|██████▊   | 23/34 [00:41<00:15,  1.43s/it]"
     ]
    },
    {
     "name": "stdout",
     "output_type": "stream",
     "text": [
      "no spindles detected in label 1167\n"
     ]
    },
    {
     "name": "stderr",
     "output_type": "stream",
     "text": [
      " 71%|███████   | 24/34 [00:42<00:13,  1.35s/it]"
     ]
    },
    {
     "name": "stdout",
     "output_type": "stream",
     "text": [
      "no spindles detected in label 1177\n"
     ]
    },
    {
     "name": "stderr",
     "output_type": "stream",
     "text": [
      "/Users/bementmbp/opt/anaconda3/envs/napari_apoc/lib/python3.9/site-packages/skimage/_shared/utils.py:157: UserWarning: Only one label was provided to `remove_small_objects`. Did you mean to use a boolean array?\n",
      "  return func(*args, **kwargs)\n",
      " 74%|███████▎  | 25/34 [00:43<00:11,  1.25s/it]"
     ]
    },
    {
     "name": "stdout",
     "output_type": "stream",
     "text": [
      "no spindles detected in label 1180\n"
     ]
    },
    {
     "name": "stderr",
     "output_type": "stream",
     "text": [
      " 82%|████████▏ | 28/34 [00:50<00:10,  1.73s/it]"
     ]
    },
    {
     "name": "stdout",
     "output_type": "stream",
     "text": [
      "no spindles detected in label 1185\n"
     ]
    },
    {
     "name": "stderr",
     "output_type": "stream",
     "text": [
      "100%|██████████| 34/34 [01:02<00:00,  1.83s/it]"
     ]
    },
    {
     "name": "stdout",
     "output_type": "stream",
     "text": [
      "no spindles detected in label 1216\n"
     ]
    },
    {
     "name": "stderr",
     "output_type": "stream",
     "text": [
      "\n"
     ]
    }
   ],
   "source": [
    "final_labels = [label for label in np.unique(filtered_masks) if label != 0]\n",
    "main_dir = '/Users/bementmbp/Desktop/test_dir' \n",
    "results = {}\n",
    "\n",
    "for curr_mask_id in tqdm(final_labels):\n",
    "    wipe_layers()\n",
    "    results[curr_mask_id] = []\n",
    "\n",
    "    curr_mask = masks == curr_mask_id\n",
    "\n",
    "    save_dir = os.path.join(main_dir, f'{curr_mask_id}')\n",
    "    if not os.path.exists(save_dir):\n",
    "        os.mkdir(save_dir)\n",
    "\n",
    "    # get the coordinate of the bounding cube for the current mask ID. Apply it to the labels and images\n",
    "    cube_dims = get_cube(masks, curr_mask_id)\n",
    "    cubed_label = apply_cube(curr_mask, cube_dims)\n",
    "    cubed_tub = apply_cube(tub, cube_dims)\n",
    "    cubed_PI = apply_cube(pi, cube_dims)\n",
    "\n",
    "    viewer.add_labels(cubed_label, name='curr_mask_cube', blending='additive')\n",
    "    viewer.add_image(cubed_tub, name='curr_tub_cube', blending='additive')\n",
    "    viewer.add_image(cubed_PI, name='curr_PI_cube', blending='additive')\n",
    "\n",
    "    # erode the mask to eliminate some cortical signal\n",
    "    eroded_mask = binary_erosion(cubed_label, footprint=np.ones((3, 3, 3)))\n",
    "    for i in range(10):\n",
    "        eroded_mask = binary_erosion(eroded_mask)\n",
    "    viewer.add_labels(eroded_mask, name='eroded_mask', blending='additive')\n",
    "\n",
    "    # get the tubulin signal from the remaining region and define an Otsu threshold\n",
    "    remaining_tub = np.zeros(shape=cubed_label.shape)\n",
    "    remaining_tub[eroded_mask] = cubed_tub[eroded_mask]\n",
    "    remaining_vals = cubed_tub[eroded_mask].ravel()\n",
    "    thresh_val = threshold_otsu(remaining_vals)\n",
    "    thresh_mask = label(remaining_tub > thresh_val)\n",
    "\n",
    "    # filter and labels smaller or larger than the mimum and maximum expected label sizes\n",
    "    min_thrsh_size = 500\n",
    "    max_thrsh_size = 5000\n",
    "    thresh_mask = morphology.remove_small_objects(thresh_mask, min_size=min_thrsh_size, connectivity=1)\n",
    "    thresh_mask = remove_large_objects(thresh_mask, max_size=max_thrsh_size)\n",
    "\n",
    "    viewer.add_labels(thresh_mask, name='thresh_mask', blending='additive')\n",
    "\n",
    "    if len(np.unique(thresh_mask)) > 2:\n",
    "        print('more than one region remaining!')\n",
    "        continue\n",
    "\n",
    "    if len(np.unique(thresh_mask)) == 1:\n",
    "        print(f'no spindles detected in label {curr_mask_id}')\n",
    "        continue\n",
    "    spindle_label_ID = [i for i in np.unique(thresh_mask) if i != 0][0]\n",
    "    spindle_coords = np.column_stack(np.where(thresh_mask == spindle_label_ID))\n",
    "    spindle_centroid = spindle_coords.mean(axis=0)\n",
    "    viewer.add_points(spindle_centroid, name='spindle centroid', face_color='green', blending='additive')\n",
    "\n",
    "    mask_coords = np.column_stack(np.where(cubed_label == 1))\n",
    "    cell_centroid = mask_coords.mean(axis=0)\n",
    "    viewer.add_points(cell_centroid, name='spindle centroid', face_color='magenta', blending='additive')\n",
    "\n",
    "    dist = spatial.distance.euclidean(cell_centroid, spindle_centroid)\n",
    "    results[curr_mask_id].append(dist)\n",
    "\n",
    "    cell_long_axis = get_long_axis(cubed_label)\n",
    "    spindle_long_axis = get_long_axis(thresh_mask)\n",
    "\n",
    "    ang = vg.angle(cell_long_axis, spindle_long_axis)\n",
    "    results[curr_mask_id].append(ang)\n",
    "\n",
    "    viewer.add_shapes(cell_long_axis, shape_type='line', name='cell long axis', edge_color='red', blending='additive')\n",
    "    viewer.add_shapes(spindle_long_axis, shape_type='line', name='spindle long axis', edge_color='blue', blending='additive')\n",
    "\n",
    "    images_and_layers = ['curr_mask_cube',\n",
    "                        'curr_tub_cube',\n",
    "                        'curr_PI_cube',\n",
    "                        'eroded_mask',\n",
    "                        'thresh_mask']\n",
    "\n",
    "    for item in images_and_layers:\n",
    "        viewer.layers[item].save(os.path.join(save_dir, item + '.tif'))\n",
    "\n",
    "    np.savetxt(os.path.join(save_dir, 'spindle_centroid.txt'), spindle_centroid)\n",
    "    np.savetxt(os.path.join(save_dir, 'cell_centroid.txt'), cell_centroid)\n",
    "    np.savetxt(os.path.join(save_dir, 'spindle_long_axis.txt'), spindle_long_axis)\n",
    "    np.savetxt(os.path.join(save_dir, 'cell_long_axis.txt'), cell_long_axis) "
   ]
  },
  {
   "cell_type": "code",
   "execution_count": 21,
   "metadata": {},
   "outputs": [
    {
     "name": "stdout",
     "output_type": "stream",
     "text": [
      "440: []\n",
      "727: [30.778198075307, array([48.99746713, 71.96975161])]\n",
      "792: [15.41021884624109, array([27.8637905 , 29.38600572])]\n",
      "863: [6.596751195609912, array([67.78219459, 77.33502605])]\n",
      "875: [13.364697959706998, array([47.58150284, 49.90803816])]\n",
      "891: [16.241746208298466, array([10.38826719, 14.37118627])]\n",
      "915: [13.121507256521134, array([80.90631397, 62.01716999])]\n",
      "940: [18.111860766482224, array([17.54892141, 19.77859455])]\n",
      "956: []\n",
      "960: [16.35715009053457, array([36.68917918, 14.69342268])]\n",
      "961: []\n",
      "968: [12.655499396159275, array([48.57958547, 25.61809973])]\n",
      "1048: [13.194313491346977, array([67.90226267, 69.62440773])]\n",
      "1056: [11.11019218901393, array([54.11324066, 84.18174786])]\n",
      "1116: []\n",
      "1118: [13.609947451790854, array([17.76286758, 17.03787094])]\n",
      "1121: [16.001863936048814, array([20.6351918 , 65.45238996])]\n",
      "1127: [11.341626576714692, array([3.68271399, 1.67143154])]\n",
      "1143: []\n",
      "1155: [4.828501557381817, array([26.94029688, 30.23413787])]\n",
      "1163: [7.262347831932275, array([27.80879631, 22.06743455])]\n",
      "1166: []\n",
      "1167: []\n",
      "1177: []\n",
      "1180: []\n",
      "1181: [16.06147630697627, array([48.74701106, 64.30657304])]\n",
      "1184: [9.909946025913252, array([27.31431627,  8.51062523])]\n",
      "1185: []\n",
      "1189: [16.795378802421883, array([ 7.80114416, 12.4026495 ])]\n",
      "1196: [11.931909809375277, array([21.67734996, 32.98147305])]\n",
      "1209: [9.26760149620608, array([72.43284747, 52.30975543])]\n",
      "1212: [16.379974630064954, array([30.56606418, 39.16445434])]\n",
      "1215: [17.17271440321117, array([85.98505682, 63.41805522])]\n",
      "1216: []\n"
     ]
    }
   ],
   "source": [
    "for k, v in results.items():\n",
    "    print(f'{k}: {v}')"
   ]
  },
  {
   "cell_type": "code",
   "execution_count": null,
   "metadata": {},
   "outputs": [],
   "source": [
    "d = '/Users/bementmbp/Desktop/test_dir' \n",
    "# get subdirectories within d\n",
    "sub_dirs = [os.path.join(d, sub_dir) for sub_dir in os.listdir(d) if os.path.isdir(os.path.join(d, sub_dir))]\n",
    "view_saved_files(sub_dirs[3])"
   ]
  },
  {
   "cell_type": "code",
   "execution_count": 28,
   "metadata": {},
   "outputs": [],
   "source": [
    "\n",
    "wipe_layers()\n",
    "\n",
    "# for a given mask ID:\n",
    "curr_mask_id = 1056\n",
    "\n",
    "\n"
   ]
  },
  {
   "cell_type": "code",
   "execution_count": 54,
   "metadata": {},
   "outputs": [],
   "source": [
    "d = '/Users/bementmbp/Desktop/test_dir'\n",
    "\n",
    "images_and_layers = ['curr_mask_cube',\n",
    "                     'curr_tub_cube',\n",
    "                     'curr_PI_cube',\n",
    "                     'eroded_mask',\n",
    "                     'thresh_mask']\n",
    "\n",
    "for item in images_and_layers:\n",
    "    viewer.layers[item].save(os.path.join(d, item + '.tif'))\n",
    "\n",
    "np.savetxt(os.path.join(d, 'spindle_centroid.txt'), spindle_centroid)\n",
    "np.savetxt(os.path.join(d, 'cell_centroid.txt'), cell_centroid)\n",
    "np.savetxt(os.path.join(d, 'spindle_long_axis.txt'), spindle_long_axis)\n",
    "np.savetxt(os.path.join(d, 'cell_long_axis.txt'), cell_long_axis) "
   ]
  },
  {
   "cell_type": "code",
   "execution_count": 66,
   "metadata": {},
   "outputs": [
    {
     "name": "stderr",
     "output_type": "stream",
     "text": [
      "/Users/bementmbp/opt/anaconda3/envs/napari_apoc/lib/python3.9/site-packages/napari_tools_menu/__init__.py:168: FutureWarning: Public access to Window.qt_viewer is deprecated and will be removed in\n",
      "v0.5.0. It is considered an \"implementation detail\" of the napari\n",
      "application, not part of the napari viewer model. If your use case\n",
      "requires access to qt_viewer, please open an issue to discuss.\n",
      "  self.tools_menu = ToolsMenu(self, self.qt_viewer.viewer)\n",
      "ERROR:tornado.general:Uncaught exception in ZMQStream callback\n",
      "Traceback (most recent call last):\n",
      "  File \"/Users/bementmbp/opt/anaconda3/envs/napari_apoc/lib/python3.9/site-packages/zmq/eventloop/zmqstream.py\", line 431, in _run_callback\n",
      "    callback(*args, **kwargs)\n",
      "  File \"/Users/bementmbp/opt/anaconda3/envs/napari_apoc/lib/python3.9/site-packages/jupyter_client/threaded.py\", line 121, in _handle_recv\n",
      "    msg_list = self.ioloop._asyncio_event_loop.run_until_complete(get_msg(future_msg))\n",
      "  File \"/Users/bementmbp/opt/anaconda3/envs/napari_apoc/lib/python3.9/asyncio/base_events.py\", line 623, in run_until_complete\n",
      "    self._check_running()\n",
      "  File \"/Users/bementmbp/opt/anaconda3/envs/napari_apoc/lib/python3.9/asyncio/base_events.py\", line 585, in _check_running\n",
      "    raise RuntimeError(\n",
      "RuntimeError: Cannot run the event loop while another loop is running\n",
      "ERROR:tornado.general:Uncaught exception in zmqstream callback\n",
      "Traceback (most recent call last):\n",
      "  File \"/Users/bementmbp/opt/anaconda3/envs/napari_apoc/lib/python3.9/site-packages/zmq/eventloop/zmqstream.py\", line 452, in _handle_events\n",
      "    self._handle_recv()\n",
      "  File \"/Users/bementmbp/opt/anaconda3/envs/napari_apoc/lib/python3.9/site-packages/zmq/eventloop/zmqstream.py\", line 481, in _handle_recv\n",
      "    self._run_callback(callback, msg)\n",
      "  File \"/Users/bementmbp/opt/anaconda3/envs/napari_apoc/lib/python3.9/site-packages/zmq/eventloop/zmqstream.py\", line 431, in _run_callback\n",
      "    callback(*args, **kwargs)\n",
      "  File \"/Users/bementmbp/opt/anaconda3/envs/napari_apoc/lib/python3.9/site-packages/jupyter_client/threaded.py\", line 121, in _handle_recv\n",
      "    msg_list = self.ioloop._asyncio_event_loop.run_until_complete(get_msg(future_msg))\n",
      "  File \"/Users/bementmbp/opt/anaconda3/envs/napari_apoc/lib/python3.9/asyncio/base_events.py\", line 623, in run_until_complete\n",
      "    self._check_running()\n",
      "  File \"/Users/bementmbp/opt/anaconda3/envs/napari_apoc/lib/python3.9/asyncio/base_events.py\", line 585, in _check_running\n",
      "    raise RuntimeError(\n",
      "RuntimeError: Cannot run the event loop while another loop is running\n",
      "Exception in callback BaseAsyncIOLoop._handle_events(170, 1)\n",
      "handle: <Handle BaseAsyncIOLoop._handle_events(170, 1)>\n",
      "Traceback (most recent call last):\n",
      "  File \"/Users/bementmbp/opt/anaconda3/envs/napari_apoc/lib/python3.9/asyncio/events.py\", line 80, in _run\n",
      "    self._context.run(self._callback, *self._args)\n",
      "  File \"/Users/bementmbp/opt/anaconda3/envs/napari_apoc/lib/python3.9/site-packages/tornado/platform/asyncio.py\", line 189, in _handle_events\n",
      "    handler_func(fileobj, events)\n",
      "  File \"/Users/bementmbp/opt/anaconda3/envs/napari_apoc/lib/python3.9/site-packages/zmq/eventloop/zmqstream.py\", line 452, in _handle_events\n",
      "    self._handle_recv()\n",
      "  File \"/Users/bementmbp/opt/anaconda3/envs/napari_apoc/lib/python3.9/site-packages/zmq/eventloop/zmqstream.py\", line 481, in _handle_recv\n",
      "    self._run_callback(callback, msg)\n",
      "  File \"/Users/bementmbp/opt/anaconda3/envs/napari_apoc/lib/python3.9/site-packages/zmq/eventloop/zmqstream.py\", line 431, in _run_callback\n",
      "    callback(*args, **kwargs)\n",
      "  File \"/Users/bementmbp/opt/anaconda3/envs/napari_apoc/lib/python3.9/site-packages/jupyter_client/threaded.py\", line 121, in _handle_recv\n",
      "    msg_list = self.ioloop._asyncio_event_loop.run_until_complete(get_msg(future_msg))\n",
      "  File \"/Users/bementmbp/opt/anaconda3/envs/napari_apoc/lib/python3.9/asyncio/base_events.py\", line 623, in run_until_complete\n",
      "    self._check_running()\n",
      "  File \"/Users/bementmbp/opt/anaconda3/envs/napari_apoc/lib/python3.9/asyncio/base_events.py\", line 585, in _check_running\n",
      "    raise RuntimeError(\n",
      "RuntimeError: Cannot run the event loop while another loop is running\n",
      "/Users/bementmbp/opt/anaconda3/envs/napari_apoc/lib/python3.9/site-packages/napari/utils/events/event.py:222: RuntimeWarning: coroutine 'get_msg' was never awaited\n",
      "  self._counter = weakref.WeakKeyDictionary()\n",
      "RuntimeWarning: Enable tracemalloc to get the object allocation traceback\n",
      "/var/folders/9s/nrb7wp4943vc6s4z83m51hqw0000gn/T/ipykernel_21689/2032941381.py:14: UserWarning: loadtxt: Empty input file: \"/Users/bementmbp/Desktop/test_dir/dist.txt\"\n",
      "  nums = np.loadtxt(os.path.join(d, content))\n"
     ]
    }
   ],
   "source": [
    "\n",
    "\n",
    "view_saved_files('/Users/bementmbp/Desktop/test_dir')"
   ]
  },
  {
   "cell_type": "code",
   "execution_count": null,
   "metadata": {},
   "outputs": [],
   "source": []
  },
  {
   "cell_type": "code",
   "execution_count": null,
   "metadata": {},
   "outputs": [],
   "source": []
  },
  {
   "cell_type": "code",
   "execution_count": null,
   "metadata": {},
   "outputs": [],
   "source": []
  },
  {
   "cell_type": "code",
   "execution_count": null,
   "metadata": {},
   "outputs": [],
   "source": [
    "\n",
    "\n"
   ]
  },
  {
   "cell_type": "code",
   "execution_count": null,
   "metadata": {},
   "outputs": [],
   "source": []
  },
  {
   "cell_type": "code",
   "execution_count": null,
   "metadata": {},
   "outputs": [],
   "source": []
  },
  {
   "cell_type": "code",
   "execution_count": null,
   "metadata": {},
   "outputs": [],
   "source": []
  },
  {
   "cell_type": "code",
   "execution_count": null,
   "metadata": {},
   "outputs": [],
   "source": []
  },
  {
   "cell_type": "code",
   "execution_count": null,
   "metadata": {},
   "outputs": [],
   "source": []
  },
  {
   "cell_type": "code",
   "execution_count": 67,
   "metadata": {},
   "outputs": [
    {
     "name": "stdout",
     "output_type": "stream",
     "text": [
      "distance transform took 61.89618921279907 seconds\n"
     ]
    },
    {
     "name": "stderr",
     "output_type": "stream",
     "text": [
      "/var/folders/9s/nrb7wp4943vc6s4z83m51hqw0000gn/T/ipykernel_15220/4095809801.py:20: FutureWarning: indices argument is deprecated and will be removed in version 0.20. To avoid this warning, please do not use the indices argument. Please see peak_local_max documentation for more details.\n",
      "  local_maxi = peak_local_max(distance, indices=False, footprint=np.ones((9,9,9)), labels=image)\n"
     ]
    },
    {
     "name": "stdout",
     "output_type": "stream",
     "text": [
      "peak local max took 1.5697340965270996 seconds\n",
      "label took 1.5599040985107422 seconds\n",
      "watershed took 4.8433427810668945 seconds\n",
      "marker inversion took 0.23740816116333008 seconds\n",
      "random walker took 144.53634095191956 seconds\n"
     ]
    },
    {
     "data": {
      "image/png": "[encoded data removed]",
      "text/plain": [
       "<Figure size 864x252 with 4 Axes>"
      ]
     },
     "metadata": {
      "needs_background": "light"
     },
     "output_type": "display_data"
    }
   ],
   "source": [
    "import numpy as np\n",
    "from skimage.segmentation import watershed\n",
    "from skimage.feature import peak_local_max\n",
    "from skimage import measure\n",
    "from skimage.segmentation import random_walker\n",
    "import matplotlib.pyplot as plt\n",
    "from scipy import ndimage\n",
    "import time\n",
    "\n",
    "image = thresh\n",
    "# Now we want to separate the two objects in image\n",
    "# Generate the markers as local maxima of the distance\n",
    "# to the background\n",
    "start = time.time()\n",
    "distance = ndimage.distance_transform_edt(image)\n",
    "end = time.time()\n",
    "print(f'distance transform took {end - start} seconds')"
   ]
  },
  {
   "cell_type": "code",
   "execution_count": 103,
   "metadata": {},
   "outputs": [
    {
     "name": "stderr",
     "output_type": "stream",
     "text": [
      "/var/folders/9s/nrb7wp4943vc6s4z83m51hqw0000gn/T/ipykernel_15220/1132342057.py:2: FutureWarning: indices argument is deprecated and will be removed in version 0.20. To avoid this warning, please do not use the indices argument. Please see peak_local_max documentation for more details.\n",
      "  local_maxi = peak_local_max(distance, indices=False, min_distance=15, footprint=np.ones((15,15,15)), labels=image)\n"
     ]
    },
    {
     "name": "stdout",
     "output_type": "stream",
     "text": [
      "peak local max took 1.8730969429016113 seconds\n",
      "labeling took 1.5035357475280762 seconds\n",
      "watershed took 6.279000997543335 seconds\n"
     ]
    },
    {
     "data": {
      "text/plain": [
       "<Labels layer 'watershed' at 0x7ff800b2ce80>"
      ]
     },
     "execution_count": 103,
     "metadata": {},
     "output_type": "execute_result"
    }
   ],
   "source": [
    "start = time.time()\n",
    "local_maxi = peak_local_max(distance, indices=False, min_distance=15, footprint=np.ones((15,15,15)), labels=image)\n",
    "end = time.time()\n",
    "print(f'peak local max took {end - start} seconds')\n",
    "\n",
    "start = time.time()\n",
    "markers = measure.label(local_maxi)\n",
    "end = time.time()\n",
    "print(f'labeling took {end - start} seconds')\n",
    "\n",
    "start = time.time()\n",
    "labels_ws = watershed(-distance, markers, mask=image)\n",
    "end = time.time()\n",
    "print(f'watershed took {end - start} seconds')\n",
    "\n",
    "viewer.add_labels(labels_ws, name='watershed', blending='additive')"
   ]
  },
  {
   "cell_type": "code",
   "execution_count": 115,
   "metadata": {},
   "outputs": [
    {
     "name": "stderr",
     "output_type": "stream",
     "text": [
      "  0%|          | 0/29 [00:00<?, ?it/s]"
     ]
    },
    {
     "name": "stdout",
     "output_type": "stream",
     "text": [
      "filtering label 0\n",
      "filtering label 1\n"
     ]
    },
    {
     "name": "stderr",
     "output_type": "stream",
     "text": [
      "  3%|▎         | 1/29 [00:33<15:36, 33.46s/it]\n"
     ]
    },
    {
     "ename": "KeyboardInterrupt",
     "evalue": "",
     "output_type": "error",
     "traceback": [
      "\u001b[0;31m---------------------------------------------------------------------------\u001b[0m",
      "\u001b[0;31mKeyboardInterrupt\u001b[0m                         Traceback (most recent call last)",
      "\u001b[1;32m/Users/bementmbp/Desktop/Scripts/volume-distribution/Methods.ipynb Cell 69\u001b[0m in \u001b[0;36m<cell line: 24>\u001b[0;34m()\u001b[0m\n\u001b[1;32m     <a href='vscode-notebook-cell:/Users/bementmbp/Desktop/Scripts/volume-distribution/Methods.ipynb#ch0000099?line=19'>20</a>\u001b[0m                 \u001b[39mbreak\u001b[39;00m\n\u001b[1;32m     <a href='vscode-notebook-cell:/Users/bementmbp/Desktop/Scripts/volume-distribution/Methods.ipynb#ch0000099?line=21'>22</a>\u001b[0m     \u001b[39mreturn\u001b[39;00m thresholded_labels\n\u001b[0;32m---> <a href='vscode-notebook-cell:/Users/bementmbp/Desktop/Scripts/volume-distribution/Methods.ipynb#ch0000099?line=23'>24</a>\u001b[0m boundary_cleaned \u001b[39m=\u001b[39m filter_boundary_labels(curr_mask, labels_ws)\n\u001b[1;32m     <a href='vscode-notebook-cell:/Users/bementmbp/Desktop/Scripts/volume-distribution/Methods.ipynb#ch0000099?line=24'>25</a>\u001b[0m viewer\u001b[39m.\u001b[39madd_labels(boundary_cleaned, name\u001b[39m=\u001b[39m\u001b[39m'\u001b[39m\u001b[39mboundary cleaned\u001b[39m\u001b[39m'\u001b[39m, blending\u001b[39m=\u001b[39m\u001b[39m'\u001b[39m\u001b[39madditive\u001b[39m\u001b[39m'\u001b[39m)\n",
      "\u001b[1;32m/Users/bementmbp/Desktop/Scripts/volume-distribution/Methods.ipynb Cell 69\u001b[0m in \u001b[0;36mfilter_boundary_labels\u001b[0;34m(original_mask, thresholded_labels)\u001b[0m\n\u001b[1;32m     <a href='vscode-notebook-cell:/Users/bementmbp/Desktop/Scripts/volume-distribution/Methods.ipynb#ch0000099?line=14'>15</a>\u001b[0m curr_thrsh_boundary \u001b[39m=\u001b[39m find_boundaries(curr_thrsh_label, mode\u001b[39m=\u001b[39m\u001b[39m'\u001b[39m\u001b[39mthick\u001b[39m\u001b[39m'\u001b[39m)\u001b[39m.\u001b[39mastype(np\u001b[39m.\u001b[39muint8)\n\u001b[1;32m     <a href='vscode-notebook-cell:/Users/bementmbp/Desktop/Scripts/volume-distribution/Methods.ipynb#ch0000099?line=15'>16</a>\u001b[0m boundary_coords_in_label \u001b[39m=\u001b[39m np\u001b[39m.\u001b[39margwhere(curr_thrsh_boundary)\n\u001b[0;32m---> <a href='vscode-notebook-cell:/Users/bementmbp/Desktop/Scripts/volume-distribution/Methods.ipynb#ch0000099?line=16'>17</a>\u001b[0m \u001b[39mfor\u001b[39;00m coord \u001b[39min\u001b[39;00m boundary_coords_in_label:\n\u001b[1;32m     <a href='vscode-notebook-cell:/Users/bementmbp/Desktop/Scripts/volume-distribution/Methods.ipynb#ch0000099?line=17'>18</a>\u001b[0m     \u001b[39mif\u001b[39;00m coord\u001b[39m.\u001b[39mtolist() \u001b[39min\u001b[39;00m boundary_coords\u001b[39m.\u001b[39mtolist():\n\u001b[1;32m     <a href='vscode-notebook-cell:/Users/bementmbp/Desktop/Scripts/volume-distribution/Methods.ipynb#ch0000099?line=18'>19</a>\u001b[0m         thresholded_labels[curr_thrsh_label] \u001b[39m=\u001b[39m \u001b[39m0\u001b[39m\n",
      "\u001b[0;31mKeyboardInterrupt\u001b[0m: "
     ]
    }
   ],
   "source": [
    "from skimage.segmentation import find_boundaries\n",
    "\n",
    "def filter_boundary_labels(original_mask: np.ndarray, thresholded_labels: np.ndarray) -> np.ndarray:\n",
    "    '''\n",
    "    Filters the labels of the boundary of the original mask\n",
    "    '''\n",
    "    mask_boundaries = find_boundaries(original_mask, mode='thick').astype(np.uint8)\n",
    "    boundary_coords = np.argwhere(mask_boundaries)\n",
    "    label_numbers = np.unique(thresholded_labels)\n",
    "    for label in tqdm(label_numbers):\n",
    "        print(f'filtering label {label}')\n",
    "        if label == 0:\n",
    "            continue\n",
    "        curr_thrsh_label = thresholded_labels == label\n",
    "        curr_thrsh_boundary = find_boundaries(curr_thrsh_label, mode='thick').astype(np.uint8)\n",
    "        boundary_coords_in_label = np.argwhere(curr_thrsh_boundary)\n",
    "        for coord in boundary_coords_in_label:\n",
    "            if coord.tolist() in boundary_coords.tolist():\n",
    "                thresholded_labels[curr_thrsh_label] = 0\n",
    "                break\n",
    "        \n",
    "    return thresholded_labels\n",
    "\n",
    "boundary_cleaned = filter_boundary_labels(curr_mask, labels_ws)\n",
    "viewer.add_labels(boundary_cleaned, name='boundary cleaned', blending='additive')\n",
    "\n",
    "\n",
    "\n",
    "\n"
   ]
  },
  {
   "cell_type": "code",
   "execution_count": 104,
   "metadata": {},
   "outputs": [
    {
     "name": "stdout",
     "output_type": "stream",
     "text": [
      "boundary found, removing label\n"
     ]
    }
   ],
   "source": [
    "mask_boundaries = find_boundaries(curr_mask, mode='thick').astype(np.uint8)\n",
    "\n",
    "example_thresh_label_num = 1\n",
    "exmaple_thresh_label = labels_ws == example_thresh_label_num\n",
    "example_thresh_boundary = find_boundaries(exmaple_thresh_label, mode='thick').astype(np.uint8)\n",
    "viewer.add_labels(mask_boundaries, name='mask boundaries', blending='additive')\n",
    "viewer.add_labels(example_thresh_boundary, name='thresh boundaries', blending='additive')\n",
    "boundary_coords = np.argwhere(mask_boundaries)\n",
    "example_thresh_boundary_coords = np.argwhere(example_thresh_boundary)\n",
    "# determine if any points in example_thresh_boundary_coords are found in boundary_coords\n",
    "if np.isin(example_thresh_boundary_coords, boundary_coords).any():\n",
    "    print('boundary found, removing label')\n",
    "    #labels_ws[labels_ws == example_thresh_label_num] = 0\n",
    "    #viewer.add_labels(labels_ws, name='watershed filtered', blending='additive')"
   ]
  },
  {
   "cell_type": "code",
   "execution_count": 117,
   "metadata": {},
   "outputs": [
    {
     "data": {
      "text/plain": [
       "<Image layer 'masked tub' at 0x7ff7e06e5fd0>"
      ]
     },
     "execution_count": 117,
     "metadata": {},
     "output_type": "execute_result"
    }
   ],
   "source": [
    "viewer.add_image(masked_tub, name = 'masked tub', blending='additive', contrast_limits=[0, 2**16])"
   ]
  },
  {
   "cell_type": "code",
   "execution_count": 113,
   "metadata": {},
   "outputs": [
    {
     "name": "stdout",
     "output_type": "stream",
     "text": [
      "Array [4 5 6] found in arr1\n"
     ]
    }
   ],
   "source": [
    "arr1 = np.array([[1,2,3],\n",
    "                 [4,5,6],\n",
    "                 [7,8,9]])\n",
    "arr2 = np.array([[3,2,1],\n",
    "                 [4,5,6]])\n",
    "\n",
    "for arr in arr2:\n",
    "    if arr.tolist() in arr1.tolist():\n",
    "        print(f'Array {arr} found in arr1')"
   ]
  },
  {
   "cell_type": "code",
   "execution_count": 121,
   "metadata": {},
   "outputs": [
    {
     "data": {
      "text/plain": [
       "['/Users/bementmbp/Desktop/masked_tub.tif']"
      ]
     },
     "execution_count": 121,
     "metadata": {},
     "output_type": "execute_result"
    }
   ],
   "source": [
    "from tifffile import imread, imwrite\n",
    "# get labels from viewer object\n",
    "\n",
    "\n",
    "#imwrite('/Users/bementmbp/Desktop/labels.tif', viewer.layers['Labels'])\n",
    "viewer.layers['Labels'].save('/Users/bementmbp/Desktop/labels.tif')\n",
    "viewer.layers['masked tub'].save('/Users/bementmbp/Desktop/masked_tub.tif')"
   ]
  },
  {
   "cell_type": "code",
   "execution_count": 78,
   "metadata": {},
   "outputs": [
    {
     "data": {
      "text/plain": [
       "<Labels layer 'current mask' at 0x7ff83456e4c0>"
      ]
     },
     "execution_count": 78,
     "metadata": {},
     "output_type": "execute_result"
    }
   ],
   "source": [
    "viewer.add_labels(curr_mask, name='current mask', blending='additive')"
   ]
  },
  {
   "cell_type": "code",
   "execution_count": 83,
   "metadata": {},
   "outputs": [
    {
     "data": {
      "text/plain": [
       "<matplotlib.image.AxesImage at 0x7ff8344d8430>"
      ]
     },
     "execution_count": 83,
     "metadata": {},
     "output_type": "execute_result"
    },
    {
     "data": {
      "image/png": "[encoded data removed]",
      "text/plain": [
       "<Figure size 432x288 with 1 Axes>"
      ]
     },
     "metadata": {
      "needs_background": "light"
     },
     "output_type": "display_data"
    }
   ],
   "source": [
    "labels = np.array([[0, 0, 0, 0, 0, 0, 0, 0, 0, 0],\n",
    "                   [0, 0, 0, 0, 0, 0, 0, 0, 0, 0],\n",
    "                   [0, 0, 0, 0, 0, 5, 5, 5, 0, 0],\n",
    "                   [0, 0, 1, 1, 1, 5, 5, 5, 0, 0],\n",
    "                   [0, 0, 1, 1, 1, 5, 5, 5, 0, 0],\n",
    "                   [0, 0, 1, 1, 1, 5, 5, 5, 0, 0],\n",
    "                   [0, 0, 0, 0, 0, 5, 5, 5, 0, 0],\n",
    "                   [0, 0, 0, 0, 0, 0, 0, 0, 0, 0],\n",
    "                   [0, 0, 0, 0, 0, 0, 0, 0, 0, 0]], dtype=np.uint8)\n",
    "\n",
    "plt.imshow(labels)"
   ]
  },
  {
   "cell_type": "code",
   "execution_count": 85,
   "metadata": {},
   "outputs": [
    {
     "data": {
      "text/plain": [
       "<matplotlib.image.AxesImage at 0x7ff840c95250>"
      ]
     },
     "execution_count": 85,
     "metadata": {},
     "output_type": "execute_result"
    },
    {
     "data": {
      "image/png": "[encoded data removed]",
      "text/plain": [
       "<Figure size 432x288 with 1 Axes>"
      ]
     },
     "metadata": {
      "needs_background": "light"
     },
     "output_type": "display_data"
    }
   ],
   "source": [
    "from skimage.segmentation import find_boundaries\n",
    "\n",
    "plt.imshow(find_boundaries(labels, mode='thick').astype(np.uint8))"
   ]
  },
  {
   "cell_type": "code",
   "execution_count": 87,
   "metadata": {},
   "outputs": [
    {
     "data": {
      "text/plain": [
       "<matplotlib.image.AxesImage at 0x7ff802c51bb0>"
      ]
     },
     "execution_count": 87,
     "metadata": {},
     "output_type": "execute_result"
    },
    {
     "data": {
      "image/png": "[encoded data removed]",
      "text/plain": [
       "<Figure size 432x288 with 1 Axes>"
      ]
     },
     "metadata": {
      "needs_background": "light"
     },
     "output_type": "display_data"
    }
   ],
   "source": [
    "plt.imshow(find_boundaries(labels, mode='inner').astype(np.uint8))"
   ]
  },
  {
   "cell_type": "code",
   "execution_count": 88,
   "metadata": {},
   "outputs": [
    {
     "data": {
      "text/plain": [
       "<matplotlib.image.AxesImage at 0x7ff7f3fda040>"
      ]
     },
     "execution_count": 88,
     "metadata": {},
     "output_type": "execute_result"
    },
    {
     "data": {
      "image/png": "[encoded data removed]",
      "text/plain": [
       "<Figure size 432x288 with 1 Axes>"
      ]
     },
     "metadata": {
      "needs_background": "light"
     },
     "output_type": "display_data"
    }
   ],
   "source": [
    "plt.imshow(find_boundaries(labels, mode='outer').astype(np.uint8))"
   ]
  },
  {
   "cell_type": "code",
   "execution_count": 89,
   "metadata": {},
   "outputs": [
    {
     "data": {
      "text/plain": [
       "<matplotlib.image.AxesImage at 0x7ff801797580>"
      ]
     },
     "execution_count": 89,
     "metadata": {},
     "output_type": "execute_result"
    },
    {
     "data": {
      "image/png": "[encoded data removed]",
      "text/plain": [
       "<Figure size 432x288 with 1 Axes>"
      ]
     },
     "metadata": {
      "needs_background": "light"
     },
     "output_type": "display_data"
    }
   ],
   "source": [
    "labels_small = labels[::2, ::3]\n",
    "labels_small\n",
    "\n",
    "\n",
    "\n",
    "\n",
    "\n",
    "plt.imshow(find_boundaries(labels_small, mode='subpixel').astype(np.uint8))"
   ]
  },
  {
   "cell_type": "code",
   "execution_count": 90,
   "metadata": {},
   "outputs": [
    {
     "data": {
      "text/plain": [
       "<matplotlib.image.AxesImage at 0x7ff7f3acd880>"
      ]
     },
     "execution_count": 90,
     "metadata": {},
     "output_type": "execute_result"
    },
    {
     "data": {
      "image/png": "[encoded data removed]",
      "text/plain": [
       "<Figure size 432x288 with 1 Axes>"
      ]
     },
     "metadata": {
      "needs_background": "light"
     },
     "output_type": "display_data"
    }
   ],
   "source": [
    "bool_image = np.array([[False, False, False, False, False],\n",
    "                       [False, False, False, False, False],\n",
    "                       [False, False,  True,  True,  True],\n",
    "                       [False, False,  True,  True,  True],\n",
    "                       [False, False,  True,  True,  True]],\n",
    "                      dtype=bool)\n",
    "plt.imshow(find_boundaries(bool_image))"
   ]
  },
  {
   "cell_type": "code",
   "execution_count": null,
   "metadata": {},
   "outputs": [],
   "source": []
  }
 ],
 "metadata": {
  "kernelspec": {
   "display_name": "Python 3.9.12 ('napari_apoc')",
   "language": "python",
   "name": "python3"
  },
  "language_info": {
   "codemirror_mode": {
    "name": "ipython",
    "version": 3
   },
   "file_extension": ".py",
   "mimetype": "text/x-python",
   "name": "python",
   "nbconvert_exporter": "python",
   "pygments_lexer": "ipython3",
   "version": "3.9.12"
  },
  "orig_nbformat": 4,
  "vscode": {
   "interpreter": {
    "hash": "9332436963653b5df92bf2f53404d912d66b2e5a7a0f130fd2cb37eb34a8db49"
   }
  }
 },
 "nbformat": 4,
 "nbformat_minor": 2
}
