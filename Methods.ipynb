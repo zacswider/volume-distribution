{
 "cells": [
  {
   "cell_type": "code",
   "execution_count": null,
   "metadata": {},
   "outputs": [],
   "source": [
    "import os\n",
    "import numpy as np\n",
    "import matplotlib.pyplot as plt\n",
    "from tifffile import imread, imwrite\n",
    "from scipy import ndimage\n",
    "from tqdm import tqdm"
   ]
  },
  {
   "cell_type": "code",
   "execution_count": null,
   "metadata": {},
   "outputs": [],
   "source": [
    "def clear_layers(viewer):\n",
    "    layers = viewer.layers\n",
    "    while len(layers) > 0:\n",
    "        layers.remove(layers[0])"
   ]
  },
  {
   "cell_type": "markdown",
   "metadata": {},
   "source": [
    "# Generate random XY, ZX, and ZY slices from a training dataset"
   ]
  },
  {
   "cell_type": "code",
   "execution_count": null,
   "metadata": {},
   "outputs": [],
   "source": [
    "import numpy as np\n",
    "from numpy.random import randint\n",
    "from tifffile import imread, imwrite\n",
    "from tqdm import tqdm\n",
    "import os\n",
    "\n",
    "def get_rand_slices(im: np.ndarray, samples = 3):\n",
    "    ''' \n",
    "    Returns a dictionary of random XY, XZ, and YZ slices from a 3D stack.\n",
    "    Parameters: im - a 3D stack\n",
    "                samples - the number of slices for each dimension to return\n",
    "    Returns:    a dictionary of slices labeled with their dimension and index\n",
    "    '''\n",
    "    assert im.ndim == 3, 'Image must be 3D'\n",
    "    d = {}\n",
    "    z,y,x = im.shape\n",
    "    for n in range(samples):\n",
    "        randyx = randint(0,z)\n",
    "        randzx = randint(0,y)\n",
    "        randzy = randint(0,x)\n",
    "        d[f\"randyx_{randyx}_#{n}\"]=im[randyx]\n",
    "        d[f\"randzx_{randzx}_#{n}\"]=im[:,randzx]\n",
    "        d[f\"randzy_{randzy}_#{n}\"]=im[:,:,randzy]\n",
    "    return d\n",
    "\n",
    "source = '/Volumes/bigData/wholeMount_volDist/220712_Fix_Emb_Flvw_Chn1GAP_PI_aTub647_Processed/N2V_Denoised/16bit_scaleZ_sbdl2'\n",
    "dest = '/Volumes/bigData/wholeMount_volDist/220712_Fix_Emb_Flvw_Chn1GAP_PI_aTub647_Processed/N2V_Denoised/16bit_scaleZ_sbdl2_random_slices'\n",
    "if not os.path.exists(dest):\n",
    "    os.mkdir(dest)\n",
    "names = [f for f in os.listdir(source) if f.endswith('_16bit_scaleZ_sbdl2_16bit.tif') and not f.startswith('.')]\n",
    "for name in tqdm(names):\n",
    "    im = imread(source +'/'+name)\n",
    "    justname = name.split('.')[0]\n",
    "    slices = get_rand_slices(im, samples = 3)\n",
    "    for k,v in slices.items():\n",
    "        imwrite(f'{dest}/{justname}_{k}.tif',v)"
   ]
  },
  {
   "cell_type": "markdown",
   "metadata": {},
   "source": [
    "# Augment dataset by artificially turning xy slices into xz slices by adding 1D Gaussian Blur"
   ]
  },
  {
   "cell_type": "markdown",
   "metadata": {},
   "source": [
    "#### Example of synthetic training data"
   ]
  },
  {
   "cell_type": "code",
   "execution_count": null,
   "metadata": {},
   "outputs": [],
   "source": [
    "og_path = '/Volumes/bigData/wholeMount_volDist/CellposeTraining_V2/220710_Fix_Em_Flvw_Mix_PI_aTub647_E02-Z01_PI_16bit_randyx_164_#1.tif'\n",
    "og = imread(og_path)\n",
    "# a Gaussian filter with a standard deviation of 10\n",
    "gauss = ndimage.gaussian_filter1d(og, 7, 0)\n",
    "\n",
    "fig, (ax1, ax2) = plt.subplots(1, 2, dpi=200)\n",
    "ax1.imshow(og, cmap='gray', vmin = 0, vmax=15000)\n",
    "ax2.imshow(gauss, cmap='gray', vmin = 0, vmax=15000)"
   ]
  },
  {
   "cell_type": "markdown",
   "metadata": {},
   "source": [
    "get rid of the log processed files, and existing ortho projections"
   ]
  },
  {
   "cell_type": "code",
   "execution_count": null,
   "metadata": {},
   "outputs": [],
   "source": [
    "target_dir = '/Volumes/bigData/wholeMount_volDist/CellposeTraining_V3/new_gauss/'\n",
    "\n",
    "# make a list of files with \"log\" in the name\n",
    "delete_list = [f for f in os.listdir(target_dir) if 'log' in f or 'zx' in f or 'zy' in f]\n",
    "# delete the files\n",
    "for f in delete_list:\n",
    "    os.remove(os.path.join(target_dir, f))\n",
    "\n",
    "ims = [f for f in os.listdir(target_dir) if f.endswith('tif') and 'yx' in f and not f.startswith('.')]"
   ]
  },
  {
   "cell_type": "markdown",
   "metadata": {},
   "source": [
    "Gaussian blur the images"
   ]
  },
  {
   "cell_type": "code",
   "execution_count": null,
   "metadata": {},
   "outputs": [],
   "source": [
    "import os\n",
    "import numpy as np\n",
    "import matplotlib.pyplot as plt\n",
    "from tifffile import imread, imwrite\n",
    "from scipy import ndimage\n",
    "from tqdm import tqdm\n",
    "\n",
    "with tqdm(total = len(ims)) as pbar:\n",
    "    for im in ims:\n",
    "        im_path = os.path.join(target_dir, im)\n",
    "        im_data = imread(im_path)\n",
    "        im_data = ndimage.gaussian_filter1d(im_data, 7.5, 0)\n",
    "        imwrite(im_path, im_data)\n",
    "        pbar.update(1)"
   ]
  },
  {
   "cell_type": "markdown",
   "metadata": {},
   "source": [
    "Rename in the images and .npy files"
   ]
  },
  {
   "cell_type": "code",
   "execution_count": null,
   "metadata": {},
   "outputs": [],
   "source": [
    "tifs = [f for f in os.listdir(target_dir) if f.endswith('.tif') and not f.startswith('.')]\n",
    "segs = [f for f in os.listdir(target_dir) if f.endswith('.npy') and not f.startswith('.')]\n",
    "\n",
    "for f in tifs:\n",
    "    base = f.split('.')[0]\n",
    "    newname = base + '_gauss.tif'\n",
    "    os.rename(os.path.join(target_dir, f), os.path.join(target_dir, newname))\n",
    "\n",
    "for s in segs:\n",
    "    base = s.split('_seg.npy')[0]\n",
    "    newname = base + '_gauss_seg.npy'\n",
    "    os.rename(os.path.join(target_dir, s), os.path.join(target_dir, newname))"
   ]
  },
  {
   "cell_type": "markdown",
   "metadata": {},
   "source": [
    "# Convert .npy files to labels and save as tif files\n",
    "\n",
    "This is necessary for training cellpose in GDrive"
   ]
  },
  {
   "cell_type": "code",
   "execution_count": null,
   "metadata": {},
   "outputs": [],
   "source": [
    "from tifffile import imwrite\n",
    "import numpy as np\n",
    "from tqdm import tqdm\n",
    "import shutil\n",
    "import os\n",
    "\n",
    "# dir containing ...tif and ..._seg.npy files\n",
    "raw_dir = '/Volumes/bigData/wholeMount_volDist/CellposeTraining_V2' \n",
    "tifs = [f for f in os.listdir(raw_dir) if f.endswith('.tif') and not f.startswith('.')]\n",
    "segs = [f for f in os.listdir(raw_dir) if f.endswith('.npy') and not f.startswith('.')]\n",
    "\n",
    "# create save directories\n",
    "base_save_dir = '/Volumes/bigData/wholeMount_volDist/CellposeTraining_V2_GD'\n",
    "image_save_dir = os.path.join(base_save_dir, 'Images')\n",
    "mask_save_dir = os.path.join(base_save_dir, 'Masks')\n",
    "if not os.path.exists(image_save_dir):\n",
    "    os.makedirs(image_save_dir)\n",
    "if not os.path.exists(mask_save_dir):\n",
    "    os.makedirs(mask_save_dir)\n",
    "\n",
    "# copy all tifs to the image save dir\n",
    "for f in tifs:\n",
    "    shutil.copy(os.path.join(raw_dir, f), image_save_dir)\n",
    "\n",
    "# extract the masks out of each of the seg files and save as tif to the mask save dir\n",
    "with tqdm(total=len(segs)) as pbar:\n",
    "    for s in segs:\n",
    "        item = np.load(os.path.join(raw_dir, s), allow_pickle=True).item()\n",
    "        masks = item['masks']\n",
    "        save_name = s.split('_seg.npy')[0] + '.tif'\n",
    "        imwrite(os.path.join(mask_save_dir, save_name), masks)\n",
    "        pbar.update(1)"
   ]
  },
  {
   "cell_type": "markdown",
   "metadata": {},
   "source": [
    "Convert a single npy file into masks"
   ]
  },
  {
   "cell_type": "code",
   "execution_count": null,
   "metadata": {},
   "outputs": [],
   "source": [
    "from tifffile import imwrite\n",
    "import numpy as np\n",
    "import os\n",
    "\n",
    "# dir containing ...tif and ..._seg.npy files\n",
    "dir = '/Volumes/bigData/wholeMount_volDist/220712_Fix_Emb_Flvw_Chn1GAP_PI_aTub647_Processed/N2V_Denoised/16bit_scaleZ_sbdl2'\n",
    "name = '220712_Fix_Emb_Flvw_Chn1GAP_PI_aTub647_Cntrl_E02-Z01_PI_16bit_scaleZ_sbdl2_16bit_seg.npy' \n",
    "\n",
    "# create save directories\n",
    "item = np.load(os.path.join(dir, name), allow_pickle=True).item()\n",
    "masks = item['masks']\n",
    "save_name = name.split('_seg.npy')[0] + '_Masks_Fused.tif'\n",
    "imwrite(os.path.join(dir, save_name), masks, imagej=True, metadata={'axes': 'ZYX'})"
   ]
  },
  {
   "cell_type": "markdown",
   "metadata": {},
   "source": [
    "# Batch process volumes with DoG filters"
   ]
  },
  {
   "cell_type": "code",
   "execution_count": null,
   "metadata": {},
   "outputs": [],
   "source": [
    "import os\n",
    "from tqdm import tqdm\n",
    "from skimage import filters\n",
    "from tifffile import imread, imwrite\n",
    "\n",
    "processing_dir = '/Volumes/bigData/wholeMount_volDist/220712_Fix_Emb_Flvw_Chn1GAP_PI_aTub647_Processed/N2V_Denoised/16bit_scaleZ'\n",
    "save_dir = os.path.join(processing_dir, 'sbdl2_processed')\n",
    "if not os.path.exists(save_dir):\n",
    "    os.makedirs(save_dir)\n",
    "\n",
    "im_names = [f for f in os.listdir(processing_dir) if f.endswith('.tif') and not f.startswith('.')]\n",
    "\n",
    "with tqdm(total=len(im_names)) as pbar:\n",
    "    for im_name in im_names:\n",
    "        im_base = im_name.split('.')[0]\n",
    "        im = imread(os.path.join(processing_dir, im_name))\n",
    "        sbdl2 = filters.difference_of_gaussians(im, low_sigma=2, high_sigma=128)\n",
    "        # save as 32 bit float\n",
    "        imwrite(os.path.join(save_dir, f'{im_base}_sbdl2.tif'), sbdl2.astype('float32'), imagej=True, metadata={'axes': 'ZYX'})\n",
    "        pbar.update(1)"
   ]
  },
  {
   "cell_type": "markdown",
   "metadata": {},
   "source": [
    "# remove a label and re-save"
   ]
  },
  {
   "cell_type": "code",
   "execution_count": null,
   "metadata": {},
   "outputs": [],
   "source": [
    "from tifffile import imread, imwrite\n",
    "import numpy as np\n",
    "import os\n",
    "\n",
    "base = '/Volumes/bigData/wholeMount_volDist/220712_Fix_Emb_Flvw_Chn1GAP_PI_aTub647_Processed/N2V_Denoised/U-Net_3D/' \n",
    "name = '220624_Fix_Flvw_Emb_PI_Utr647_E02-10X-Z01_downsample_log_Crop_46-98_Target.tif' \n",
    "masks = imread(os.path.join(base, name))\n",
    "base_name = name.split('.')[0]\n",
    "masks[masks == 63] = 0\n",
    "imwrite(os.path.join(base, base_name + '_corr.tif'), masks, imagej=True, metadata={'axes': 'ZYX'})\n"
   ]
  },
  {
   "cell_type": "markdown",
   "metadata": {},
   "source": [
    "# Turn instance segmentation into semantic segmentation"
   ]
  },
  {
   "cell_type": "markdown",
   "metadata": {},
   "source": [
    "#### Example:"
   ]
  },
  {
   "cell_type": "code",
   "execution_count": null,
   "metadata": {},
   "outputs": [],
   "source": [
    "from tifffile import imread, imwrite\n",
    "from scipy import ndimage\n",
    "import os\n",
    "import numpy as np\n",
    "import matplotlib.pyplot as plt\n",
    "\n",
    "dir = '/Volumes/bigData/wholeMount_volDist/U-Net_3D_Training/Target'\n",
    "sem_name = '220712_Fix_Emb_Flvw_Chn1GAP_PI_aTub647_Exp_E10-Z01_PI_16bit_scaleZ_crop_40-61_crop_Target.tif' \n",
    "sem = imread(os.path.join(dir, sem_name))\n",
    "\n",
    "fig, (ax1, ax2) = plt.subplots(1, 2)\n",
    "ax1.imshow(sem[15], cmap='Set3')\n",
    "\n",
    "# iterate through all of the labels in sem, and erode them\n",
    "labels = np.unique(sem)\n",
    "binary = np.zeros(sem.shape)\n",
    "\n",
    "for label in labels:\n",
    "    if label == 0:\n",
    "        continue\n",
    "    else:\n",
    "        mask = sem == label\n",
    "        mask = ndimage.binary_erosion(mask, iterations = 2)\n",
    "        binary[mask] = 1\n",
    "\n",
    "ax2.imshow(binary[15], cmap='Set3')"
   ]
  },
  {
   "cell_type": "markdown",
   "metadata": {},
   "source": [
    "#### Batch processing:"
   ]
  },
  {
   "cell_type": "code",
   "execution_count": null,
   "metadata": {},
   "outputs": [],
   "source": [
    "from tifffile import imread, imwrite\n",
    "from scipy import ndimage\n",
    "import os\n",
    "import numpy as np\n",
    "from tqdm import tqdm\n",
    "\n",
    "base_dir = '/Volumes/bigData/wholeMount_volDist/U-Net_3D_Training' \n",
    "mask_dir = os.path.join(base_dir, 'Target')\n",
    "source_dir = os.path.join(base_dir, 'Source')\n",
    "mask_names = [f for f in os.listdir(mask_dir) if f.endswith('.tif') and not f.startswith('.')]\n",
    "\n",
    "save_dir = '/Volumes/bigData/wholeMount_volDist/U-Net_3D_Training_binary_8bit_3'\n",
    "mask_save_dir = os.path.join(save_dir, 'Target')\n",
    "source_save_dir = os.path.join(save_dir, 'Source')\n",
    "if not os.path.exists(save_dir):\n",
    "    os.makedirs(save_dir)\n",
    "if not os.path.exists(mask_save_dir):\n",
    "    os.makedirs(mask_save_dir)\n",
    "if not os.path.exists(source_save_dir):\n",
    "    os.makedirs(source_save_dir)\n",
    "\n",
    "for mask_name in tqdm(mask_names):\n",
    "    sem = imread(os.path.join(mask_dir, mask_name))\n",
    "    labels = np.unique(sem)\n",
    "    binary = np.zeros(sem.shape)\n",
    "    for label in labels:\n",
    "        if label == 0:\n",
    "            continue\n",
    "        else:\n",
    "            mask = sem == label\n",
    "            mask = ndimage.binary_erosion(mask, iterations = 2)\n",
    "            binary[mask] = 1\n",
    "    imwrite(os.path.join(mask_save_dir, mask_name), binary[2:-2,2:-2,2:-2].astype('uint8'), imagej=True, metadata={'axes': 'ZYX'})\n",
    "    mask_base = mask_name.split('Target.tif')[0]\n",
    "    source_name = mask_base + 'Source.tif'\n",
    "    source = imread(os.path.join(source_dir, source_name))\n",
    "    imwrite(os.path.join(source_save_dir, source_name), source[2:-2,2:-2,2:-2].astype('uint16'), imagej=True, metadata={'axes': 'ZYX'})"
   ]
  },
  {
   "cell_type": "markdown",
   "metadata": {},
   "source": [
    "# turn instance into multiclass semantic segmentation"
   ]
  },
  {
   "cell_type": "code",
   "execution_count": null,
   "metadata": {},
   "outputs": [],
   "source": [
    "from tifffile import imread, imwrite\n",
    "from scipy import ndimage\n",
    "import os\n",
    "import numpy as np\n",
    "from tqdm import tqdm\n",
    "\n",
    "# source dirs and names\n",
    "base_dir = '/Volumes/bigData/wholeMount_volDist/U-Net_3D_Training' \n",
    "mask_dir = os.path.join(base_dir, 'Target')\n",
    "source_dir = os.path.join(base_dir, 'Source')\n",
    "mask_names = [f for f in os.listdir(mask_dir) if f.endswith('.tif') and not f.startswith('.')]\n",
    "\n",
    "# dest dirs and names\n",
    "save_dir = '/Volumes/bigData/wholeMount_volDist/U-Net_3D_Training_multiclass_8bit_1'\n",
    "mask_save_dir = os.path.join(save_dir, 'Target')\n",
    "source_save_dir = os.path.join(save_dir, 'Source')\n",
    "if not os.path.exists(save_dir):\n",
    "    os.makedirs(save_dir)\n",
    "if not os.path.exists(mask_save_dir):\n",
    "    os.makedirs(mask_save_dir)\n",
    "if not os.path.exists(source_save_dir):\n",
    "    os.makedirs(source_save_dir)\n",
    "\n",
    "# make the changes. background pixels are set to 0, edges are 1, cytoplasm is 2\n",
    "for mask_name in tqdm(mask_names):\n",
    "    instance_labels = imread(os.path.join(mask_dir, mask_name))\n",
    "    labels = np.unique(instance_labels)\n",
    "    binary = np.zeros(instance_labels.shape)\n",
    "    for label in labels:\n",
    "        if label == 0:\n",
    "            continue\n",
    "        else:\n",
    "            mask = instance_labels == label\n",
    "            eroded = ndimage.binary_erosion(mask, iterations = 2)\n",
    "            binary[mask] = 1\n",
    "            binary[eroded] = 2\n",
    "    imwrite(os.path.join(mask_save_dir, mask_name), binary[2:-2,2:-2,2:-2].astype('uint8'), imagej=True, metadata={'axes': 'ZYX'})\n",
    "    mask_base = mask_name.split('Target.tif')[0]\n",
    "    source_name = mask_base + 'Source.tif'\n",
    "    source = imread(os.path.join(source_dir, source_name))\n",
    "    imwrite(os.path.join(source_save_dir, source_name), source[2:-2,2:-2,2:-2].astype('uint16'), imagej=True, metadata={'axes': 'ZYX'})"
   ]
  },
  {
   "cell_type": "markdown",
   "metadata": {},
   "source": [
    "# Convert file to 8-bit"
   ]
  },
  {
   "cell_type": "code",
   "execution_count": null,
   "metadata": {},
   "outputs": [],
   "source": [
    "from tifffile import imread, imwrite\n",
    "import os\n",
    "from tqdm import tqdm\n",
    "\n",
    "base_dir = '/Volumes/bigData/wholeMount_volDist/U-Net_3D_Training_Binary_8bit' \n",
    "mask_dir = os.path.join(base_dir, 'Target')\n",
    "source_dir = os.path.join(base_dir, 'Source')\n",
    "mask_names = [f for f in os.listdir(mask_dir) if f.endswith('.tif') and not f.startswith('.')]\n",
    "\n",
    "for mask_name in tqdm(mask_names):\n",
    "    mask = imread(os.path.join(mask_dir, mask_name))\n",
    "    imwrite(os.path.join(mask_dir, mask_name), mask.astype('uint8'), imagej=True, metadata={'axes': 'ZYX'})\n",
    "    mask_base = mask_name.split('Target.tif')[0]\n",
    "    source_name = mask_base + 'Source.tif'\n",
    "    source = imread(os.path.join(source_dir, source_name))\n",
    "    imwrite(os.path.join(source_dir, source_name), source[1:-1].astype('uint8'), imagej=True, metadata={'axes': 'ZYX'})"
   ]
  },
  {
   "cell_type": "markdown",
   "metadata": {},
   "source": [
    "# Elastic deform"
   ]
  },
  {
   "cell_type": "code",
   "execution_count": null,
   "metadata": {},
   "outputs": [],
   "source": [
    "import os\n",
    "import numpy as np\n",
    "import napari\n",
    "import raster_geometry as rg\n",
    "import tifffile as tif\n",
    "%gui qt "
   ]
  },
  {
   "cell_type": "code",
   "execution_count": null,
   "metadata": {},
   "outputs": [],
   "source": [
    "viewer = napari.Viewer()"
   ]
  },
  {
   "cell_type": "code",
   "execution_count": null,
   "metadata": {},
   "outputs": [],
   "source": [
    "import elasticdeform\n",
    "\n",
    "clear_layers(viewer)\n",
    "sphere = rg.sphere(125,40)\n",
    "ints = np.zeros(sphere.shape, dtype=int)\n",
    "ints[sphere] = 1\n",
    "print(np.unique(ints))\n",
    "viewer.add_image(sphere, name='sphere', blending='additive', colormap='green')\n",
    "deformed = elasticdeform.deform_random_grid(ints, sigma=0.005, points=30)\n",
    "viewer.add_image(deformed, name='deformed', blending='additive', colormap='red')\n",
    "print(np.unique(deformed))"
   ]
  },
  {
   "cell_type": "code",
   "execution_count": null,
   "metadata": {},
   "outputs": [],
   "source": [
    "from skimage.draw import line_aa\n",
    "from skimage.draw import line_nd\n",
    "from tqdm import tqdm\n",
    "\n",
    "clear_layers(viewer)\n",
    "\n",
    "object_num = 500\n",
    "\n",
    "ROI_size = 500\n",
    "\n",
    "start_x = np.random.randint(0,ROI_size)\n",
    "end_x = np.random.randint(0, ROI_size)\n",
    "\n",
    "start_y = np.random.randint(0,ROI_size)\n",
    "end_y = np.random.randint(0, ROI_size)\n",
    "\n",
    "start_z =  np.random.randint(0, ROI_size)\n",
    "end_z =  np.random.randint(0, ROI_size)\n",
    "\n",
    "canvas_vol = np.zeros((ROI_size, ROI_size, ROI_size))\n",
    "\n",
    "for t in tqdm(range(object_num)):\n",
    "    indice = [np.random.randint(0, ROI_size) for i in range(6)]\n",
    "    \n",
    "    start_pt, end_pt = indice[:3], indice[3:]\n",
    "    \n",
    "    line_pts = line_nd(start_pt, end_pt) \n",
    "\n",
    "    for i in range(len(line_pts[0])):\n",
    "        canvas_vol[line_pts[0][i], line_pts[1][i], line_pts[2][i]] = 1#(2**16-1)*(2/3)  \n",
    "\n",
    "viewer.add_image(canvas_vol, name='canvas', blending='additive', colormap='magenta')\n",
    "deformed = elasticdeform.deform_random_grid(canvas_vol, sigma=3, points=70)\n",
    "viewer.add_image(deformed, name='deformed', blending='additive', colormap='green')\n",
    "print(np.unique(canvas_vol))\n",
    "print(np.unique(deformed))"
   ]
  },
  {
   "cell_type": "markdown",
   "metadata": {},
   "source": [
    "# Filtering low quality segmentations:"
   ]
  },
  {
   "cell_type": "code",
   "execution_count": null,
   "metadata": {},
   "outputs": [],
   "source": [
    "import os\n",
    "import numpy as np\n",
    "import napari\n",
    "from tifffile import imread, imwrite\n",
    "from skimage import morphology\n",
    "from tqdm import tqdm\n",
    "%gui qt \n",
    "viewer = napari.Viewer()"
   ]
  },
  {
   "cell_type": "markdown",
   "metadata": {},
   "source": [
    "#### Read the data:"
   ]
  },
  {
   "cell_type": "code",
   "execution_count": 2,
   "metadata": {},
   "outputs": [],
   "source": [
    "base_dir = '/Volumes/bigData/wholeMount_volDist/220712_Fix_Emb_Flvw_Chn1GAP_PI_aTub647_Processed/N2V_Denoised/16bit_scaleZ' \n",
    "masks_name = '220712_Fix_Emb_Flvw_Chn1GAP_PI_aTub647_Exp_E02-Z01_PI_16bit_scaleZ_seg_masks.tif'\n",
    "tub_name = '220712_Fix_Emb_Flvw_Chn1GAP_PI_aTub647_Exp_E01-Z01_Tub_16bit_scaleZ.tif' \n",
    "\n",
    "masks = imread(os.path.join(base_dir, masks_name))\n",
    "tub = imread(os.path.join(base_dir, tub_name))\n",
    "labels = np.unique(masks)"
   ]
  },
  {
   "cell_type": "markdown",
   "metadata": {},
   "source": [
    "#### Useful methods:"
   ]
  },
  {
   "cell_type": "code",
   "execution_count": 3,
   "metadata": {},
   "outputs": [],
   "source": [
    "def wipe_layers():\n",
    "    '''\n",
    "    Delete all layers in the viewer objected\n",
    "    '''\n",
    "    layers = viewer.layers\n",
    "    while len(layers) > 0:\n",
    "        layers.remove(layers[0])\n",
    "\n",
    "def remove_large_objects(labels_array: np.ndarray, max_size: int) -> np.ndarray:\n",
    "    ''' \n",
    "    Remove all objects in a mask above a specific threshold\n",
    "    '''\n",
    "    out = np.copy(labels_array)\n",
    "    component_sizes = np.bincount(labels_array.ravel()) # count the number of pixels in different labels\n",
    "    too_big = component_sizes > max_size\n",
    "    too_big_mask = too_big[labels_array]\n",
    "    out[too_big_mask] = 0\n",
    "    return out"
   ]
  },
  {
   "cell_type": "markdown",
   "metadata": {},
   "source": [
    "#### Let's look at the distribution of label sizes:"
   ]
  },
  {
   "cell_type": "code",
   "execution_count": 4,
   "metadata": {},
   "outputs": [
    {
     "name": "stdout",
     "output_type": "stream",
     "text": [
      "identified 200 labels\n"
     ]
    },
    {
     "name": "stderr",
     "output_type": "stream",
     "text": [
      "100%|██████████| 200/200 [00:32<00:00,  6.13it/s]"
     ]
    },
    {
     "name": "stdout",
     "output_type": "stream",
     "text": [
      "smallest label size: 17\n",
      "largest label size: 99432681\n",
      "average label size: 878592.0\n",
      "median label size: 71220.5\n"
     ]
    },
    {
     "name": "stderr",
     "output_type": "stream",
     "text": [
      "\n"
     ]
    }
   ],
   "source": [
    "label_IDs = np.unique(masks)\n",
    "print(f'identified {len(label_IDs)} labels')\n",
    "label_volumes = []\n",
    "for label_ID in tqdm(label_IDs):\n",
    "    label_volume = np.sum(masks == label_ID)\n",
    "    label_volumes.append(label_volume)\n",
    "\n",
    "print(f'smallest label size: {min(label_volumes)}')\n",
    "print(f'largest label size: {max(label_volumes)}')\n",
    "print(f'average label size: {np.mean(label_volumes)}')\n",
    "print(f'median label size: {np.median(label_volumes)}')"
   ]
  },
  {
   "cell_type": "markdown",
   "metadata": {},
   "source": [
    "#### Filter out all labels smaller than half the median size or larger than n times the median size:"
   ]
  },
  {
   "cell_type": "code",
   "execution_count": 5,
   "metadata": {},
   "outputs": [
    {
     "name": "stdout",
     "output_type": "stream",
     "text": [
      "removing objects smaller than 439296.0\n",
      "removing objects larger than 1757184.0\n"
     ]
    },
    {
     "data": {
      "text/plain": [
       "<Labels layer 'filtered_masks' at 0x1123b5250>"
      ]
     },
     "execution_count": 5,
     "metadata": {},
     "output_type": "execute_result"
    }
   ],
   "source": [
    "minimum_size = np.mean(label_volumes) / 2\n",
    "maximum_size = np.mean(label_volumes) * 2\n",
    "wipe_layers()\n",
    "print(f'removing objects smaller than {minimum_size}')\n",
    "filtered_masks = morphology.remove_small_objects(masks, min_size=minimum_size, connectivity=1)\n",
    "print(f'removing objects larger than {maximum_size}')\n",
    "filtered_masks = remove_large_objects(filtered_masks, max_size=maximum_size)\n",
    "viewer.add_labels(filtered_masks, name='filtered_masks', blending='additive')"
   ]
  },
  {
   "cell_type": "markdown",
   "metadata": {},
   "source": [
    "#### pick a \"good\" and \"bad\" label to play with:"
   ]
  },
  {
   "cell_type": "code",
   "execution_count": 6,
   "metadata": {},
   "outputs": [
    {
     "name": "stdout",
     "output_type": "stream",
     "text": [
      "collection of good points with shape (734536, 3)\n",
      "collection of bad points with shape (551132, 3)\n"
     ]
    }
   ],
   "source": [
    "good_id = 129\n",
    "bad_id = 20\n",
    "good_points = np.column_stack(np.where(filtered_masks == good_id))\n",
    "bad_points = np.column_stack(np.where(filtered_masks == bad_id))\n",
    "print(f'collection of good points with shape {good_points.shape}')\n",
    "print(f'collection of bad points with shape {bad_points.shape}')"
   ]
  },
  {
   "cell_type": "markdown",
   "metadata": {},
   "source": [
    "#### Calculate the Betti numbers for each point cloud:\n",
    "https://giotto-ai.github.io/gtda-docs/0.4.0/notebooks/classifying_shapes.html"
   ]
  },
  {
   "cell_type": "markdown",
   "metadata": {},
   "source": [
    "First, let's filter the point clouds to save ourselves some computing time:"
   ]
  },
  {
   "cell_type": "code",
   "execution_count": 13,
   "metadata": {},
   "outputs": [
    {
     "name": "stdout",
     "output_type": "stream",
     "text": [
      "large point cloud with 734536 points detected. Reducing to ~1000 points\n",
      "randomized point cloud and selected every 734 points to filter down to 734536 points\n",
      "large point cloud with 551132 points detected. Reducing to ~1000 points\n",
      "randomized point cloud and selected every 551 points to filter down to 551132 points\n"
     ]
    }
   ],
   "source": [
    "clouds_to_analyze = [good_points, bad_points]\n",
    "for pc_index, pc in enumerate(clouds_to_analyze):\n",
    "    if pc.shape[0] < 1000:\n",
    "        continue\n",
    "    scale_factor = 500\n",
    "    print(f'large point cloud with {pc.shape[0]} points detected. Downsizing by a factor of {scale_factor}')\n",
    "    np.random.shuffle(clouds_to_analyze[pc_index])\n",
    "    clouds_to_analyze[pc_index] = clouds_to_analyze[pc_index][::int(scale_factor)]\n",
    "    print(f'randomized point cloud and selected every {int(scale_factor)} points to filter down to {pc.shape[0]} points')"
   ]
  },
  {
   "cell_type": "code",
   "execution_count": 14,
   "metadata": {},
   "outputs": [
    {
     "name": "stdout",
     "output_type": "stream",
     "text": [
      "(1001, 3)\n"
     ]
    }
   ],
   "source": [
    "print(clouds_to_analyze[0].shape)"
   ]
  },
  {
   "cell_type": "code",
   "execution_count": 15,
   "metadata": {},
   "outputs": [],
   "source": [
    "from gtda.homology import VietorisRipsPersistence\n",
    "\n",
    "# Track connected components, loops, and voids\n",
    "homology_dimensions = [0, 1, 2]\n",
    "\n",
    "# Collapse edges to speed up H2 persistence calculation!\n",
    "persistence = VietorisRipsPersistence(\n",
    "    metric=\"euclidean\",\n",
    "    homology_dimensions=homology_dimensions,\n",
    "    n_jobs=6,\n",
    "    collapse_edges=True,\n",
    ")\n",
    "\n",
    "diagrams_basic = persistence.fit_transform(clouds_to_analyze)"
   ]
  },
  {
   "cell_type": "code",
   "execution_count": 18,
   "metadata": {},
   "outputs": [
    {
     "data": {
      "application/vnd.plotly.v1+json": {
       "config": {
        "plotlyServerURL": "https://plot.ly"
       },
       "data": [
        {
         "hoverinfo": "none",
         "line": {
          "color": "black",
          "dash": "dash",
          "width": 1
         },
         "mode": "lines",
         "showlegend": false,
         "type": "scatter",
         "x": [
          -1.2907362365722657,
          65.82754806518555
         ],
         "y": [
          -1.2907362365722657,
          65.82754806518555
         ]
        },
        {
         "hoverinfo": "text",
         "hovertext": [
          "(0.0, 1.0)",
          "(0.0, 1.4142135381698608), multiplicity: 2",
          "(0.0, 1.4142135381698608), multiplicity: 2",
          "(0.0, 2.0)",
          "(0.0, 2.2360680103302), multiplicity: 4",
          "(0.0, 2.2360680103302), multiplicity: 4",
          "(0.0, 2.2360680103302), multiplicity: 4",
          "(0.0, 2.2360680103302), multiplicity: 4",
          "(0.0, 2.4494898319244385), multiplicity: 6",
          "(0.0, 2.4494898319244385), multiplicity: 6",
          "(0.0, 2.4494898319244385), multiplicity: 6",
          "(0.0, 2.4494898319244385), multiplicity: 6",
          "(0.0, 2.4494898319244385), multiplicity: 6",
          "(0.0, 2.4494898319244385), multiplicity: 6",
          "(0.0, 2.8284270763397217), multiplicity: 5",
          "(0.0, 2.8284270763397217), multiplicity: 5",
          "(0.0, 2.8284270763397217), multiplicity: 5",
          "(0.0, 2.8284270763397217), multiplicity: 5",
          "(0.0, 2.8284270763397217), multiplicity: 5",
          "(0.0, 3.0), multiplicity: 9",
          "(0.0, 3.0), multiplicity: 9",
          "(0.0, 3.0), multiplicity: 9",
          "(0.0, 3.0), multiplicity: 9",
          "(0.0, 3.0), multiplicity: 9",
          "(0.0, 3.0), multiplicity: 9",
          "(0.0, 3.0), multiplicity: 9",
          "(0.0, 3.0), multiplicity: 9",
          "(0.0, 3.0), multiplicity: 9",
          "(0.0, 3.1622776985168457), multiplicity: 5",
          "(0.0, 3.1622776985168457), multiplicity: 5",
          "(0.0, 3.1622776985168457), multiplicity: 5",
          "(0.0, 3.1622776985168457), multiplicity: 5",
          "(0.0, 3.1622776985168457), multiplicity: 5",
          "(0.0, 3.316624879837036), multiplicity: 6",
          "(0.0, 3.316624879837036), multiplicity: 6",
          "(0.0, 3.316624879837036), multiplicity: 6",
          "(0.0, 3.316624879837036), multiplicity: 6",
          "(0.0, 3.316624879837036), multiplicity: 6",
          "(0.0, 3.316624879837036), multiplicity: 6",
          "(0.0, 3.605551242828369), multiplicity: 4",
          "(0.0, 3.605551242828369), multiplicity: 4",
          "(0.0, 3.605551242828369), multiplicity: 4",
          "(0.0, 3.605551242828369), multiplicity: 4",
          "(0.0, 3.7416574954986572), multiplicity: 3",
          "(0.0, 3.7416574954986572), multiplicity: 3",
          "(0.0, 3.7416574954986572), multiplicity: 3",
          "(0.0, 4.0), multiplicity: 2",
          "(0.0, 4.0), multiplicity: 2",
          "(0.0, 4.123105525970459), multiplicity: 5",
          "(0.0, 4.123105525970459), multiplicity: 5",
          "(0.0, 4.123105525970459), multiplicity: 5",
          "(0.0, 4.123105525970459), multiplicity: 5",
          "(0.0, 4.123105525970459), multiplicity: 5",
          "(0.0, 4.242640495300293), multiplicity: 15",
          "(0.0, 4.242640495300293), multiplicity: 15",
          "(0.0, 4.242640495300293), multiplicity: 15",
          "(0.0, 4.242640495300293), multiplicity: 15",
          "(0.0, 4.242640495300293), multiplicity: 15",
          "(0.0, 4.242640495300293), multiplicity: 15",
          "(0.0, 4.242640495300293), multiplicity: 15",
          "(0.0, 4.242640495300293), multiplicity: 15",
          "(0.0, 4.242640495300293), multiplicity: 15",
          "(0.0, 4.242640495300293), multiplicity: 15",
          "(0.0, 4.242640495300293), multiplicity: 15",
          "(0.0, 4.242640495300293), multiplicity: 15",
          "(0.0, 4.242640495300293), multiplicity: 15",
          "(0.0, 4.242640495300293), multiplicity: 15",
          "(0.0, 4.242640495300293), multiplicity: 15",
          "(0.0, 4.358899116516113), multiplicity: 4",
          "(0.0, 4.358899116516113), multiplicity: 4",
          "(0.0, 4.358899116516113), multiplicity: 4",
          "(0.0, 4.358899116516113), multiplicity: 4",
          "(0.0, 4.4721360206604), multiplicity: 6",
          "(0.0, 4.4721360206604), multiplicity: 6",
          "(0.0, 4.4721360206604), multiplicity: 6",
          "(0.0, 4.4721360206604), multiplicity: 6",
          "(0.0, 4.4721360206604), multiplicity: 6",
          "(0.0, 4.4721360206604), multiplicity: 6",
          "(0.0, 4.582575798034668), multiplicity: 8",
          "(0.0, 4.582575798034668), multiplicity: 8",
          "(0.0, 4.582575798034668), multiplicity: 8",
          "(0.0, 4.582575798034668), multiplicity: 8",
          "(0.0, 4.582575798034668), multiplicity: 8",
          "(0.0, 4.582575798034668), multiplicity: 8",
          "(0.0, 4.582575798034668), multiplicity: 8",
          "(0.0, 4.582575798034668), multiplicity: 8",
          "(0.0, 4.690415859222412), multiplicity: 9",
          "(0.0, 4.690415859222412), multiplicity: 9",
          "(0.0, 4.690415859222412), multiplicity: 9",
          "(0.0, 4.690415859222412), multiplicity: 9",
          "(0.0, 4.690415859222412), multiplicity: 9",
          "(0.0, 4.690415859222412), multiplicity: 9",
          "(0.0, 4.690415859222412), multiplicity: 9",
          "(0.0, 4.690415859222412), multiplicity: 9",
          "(0.0, 4.690415859222412), multiplicity: 9",
          "(0.0, 5.0), multiplicity: 7",
          "(0.0, 5.0), multiplicity: 7",
          "(0.0, 5.0), multiplicity: 7",
          "(0.0, 5.0), multiplicity: 7",
          "(0.0, 5.0), multiplicity: 7",
          "(0.0, 5.0), multiplicity: 7",
          "(0.0, 5.0), multiplicity: 7",
          "(0.0, 5.099019527435303), multiplicity: 15",
          "(0.0, 5.099019527435303), multiplicity: 15",
          "(0.0, 5.099019527435303), multiplicity: 15",
          "(0.0, 5.099019527435303), multiplicity: 15",
          "(0.0, 5.099019527435303), multiplicity: 15",
          "(0.0, 5.099019527435303), multiplicity: 15",
          "(0.0, 5.099019527435303), multiplicity: 15",
          "(0.0, 5.099019527435303), multiplicity: 15",
          "(0.0, 5.099019527435303), multiplicity: 15",
          "(0.0, 5.099019527435303), multiplicity: 15",
          "(0.0, 5.099019527435303), multiplicity: 15",
          "(0.0, 5.099019527435303), multiplicity: 15",
          "(0.0, 5.099019527435303), multiplicity: 15",
          "(0.0, 5.099019527435303), multiplicity: 15",
          "(0.0, 5.099019527435303), multiplicity: 15",
          "(0.0, 5.196152210235596), multiplicity: 5",
          "(0.0, 5.196152210235596), multiplicity: 5",
          "(0.0, 5.196152210235596), multiplicity: 5",
          "(0.0, 5.196152210235596), multiplicity: 5",
          "(0.0, 5.196152210235596), multiplicity: 5",
          "(0.0, 5.385164737701416), multiplicity: 14",
          "(0.0, 5.385164737701416), multiplicity: 14",
          "(0.0, 5.385164737701416), multiplicity: 14",
          "(0.0, 5.385164737701416), multiplicity: 14",
          "(0.0, 5.385164737701416), multiplicity: 14",
          "(0.0, 5.385164737701416), multiplicity: 14",
          "(0.0, 5.385164737701416), multiplicity: 14",
          "(0.0, 5.385164737701416), multiplicity: 14",
          "(0.0, 5.385164737701416), multiplicity: 14",
          "(0.0, 5.385164737701416), multiplicity: 14",
          "(0.0, 5.385164737701416), multiplicity: 14",
          "(0.0, 5.385164737701416), multiplicity: 14",
          "(0.0, 5.385164737701416), multiplicity: 14",
          "(0.0, 5.385164737701416), multiplicity: 14",
          "(0.0, 5.4772257804870605), multiplicity: 7",
          "(0.0, 5.4772257804870605), multiplicity: 7",
          "(0.0, 5.4772257804870605), multiplicity: 7",
          "(0.0, 5.4772257804870605), multiplicity: 7",
          "(0.0, 5.4772257804870605), multiplicity: 7",
          "(0.0, 5.4772257804870605), multiplicity: 7",
          "(0.0, 5.4772257804870605), multiplicity: 7",
          "(0.0, 5.656854152679443), multiplicity: 2",
          "(0.0, 5.656854152679443), multiplicity: 2",
          "(0.0, 5.74456262588501), multiplicity: 13",
          "(0.0, 5.74456262588501), multiplicity: 13",
          "(0.0, 5.74456262588501), multiplicity: 13",
          "(0.0, 5.74456262588501), multiplicity: 13",
          "(0.0, 5.74456262588501), multiplicity: 13",
          "(0.0, 5.74456262588501), multiplicity: 13",
          "(0.0, 5.74456262588501), multiplicity: 13",
          "(0.0, 5.74456262588501), multiplicity: 13",
          "(0.0, 5.74456262588501), multiplicity: 13",
          "(0.0, 5.74456262588501), multiplicity: 13",
          "(0.0, 5.74456262588501), multiplicity: 13",
          "(0.0, 5.74456262588501), multiplicity: 13",
          "(0.0, 5.74456262588501), multiplicity: 13",
          "(0.0, 5.830951690673828), multiplicity: 9",
          "(0.0, 5.830951690673828), multiplicity: 9",
          "(0.0, 5.830951690673828), multiplicity: 9",
          "(0.0, 5.830951690673828), multiplicity: 9",
          "(0.0, 5.830951690673828), multiplicity: 9",
          "(0.0, 5.830951690673828), multiplicity: 9",
          "(0.0, 5.830951690673828), multiplicity: 9",
          "(0.0, 5.830951690673828), multiplicity: 9",
          "(0.0, 5.830951690673828), multiplicity: 9",
          "(0.0, 5.916079998016357), multiplicity: 7",
          "(0.0, 5.916079998016357), multiplicity: 7",
          "(0.0, 5.916079998016357), multiplicity: 7",
          "(0.0, 5.916079998016357), multiplicity: 7",
          "(0.0, 5.916079998016357), multiplicity: 7",
          "(0.0, 5.916079998016357), multiplicity: 7",
          "(0.0, 5.916079998016357), multiplicity: 7",
          "(0.0, 6.0), multiplicity: 5",
          "(0.0, 6.0), multiplicity: 5",
          "(0.0, 6.0), multiplicity: 5",
          "(0.0, 6.0), multiplicity: 5",
          "(0.0, 6.0), multiplicity: 5",
          "(0.0, 6.082762718200684), multiplicity: 3",
          "(0.0, 6.082762718200684), multiplicity: 3",
          "(0.0, 6.082762718200684), multiplicity: 3",
          "(0.0, 6.164413928985596), multiplicity: 18",
          "(0.0, 6.164413928985596), multiplicity: 18",
          "(0.0, 6.164413928985596), multiplicity: 18",
          "(0.0, 6.164413928985596), multiplicity: 18",
          "(0.0, 6.164413928985596), multiplicity: 18",
          "(0.0, 6.164413928985596), multiplicity: 18",
          "(0.0, 6.164413928985596), multiplicity: 18",
          "(0.0, 6.164413928985596), multiplicity: 18",
          "(0.0, 6.164413928985596), multiplicity: 18",
          "(0.0, 6.164413928985596), multiplicity: 18",
          "(0.0, 6.164413928985596), multiplicity: 18",
          "(0.0, 6.164413928985596), multiplicity: 18",
          "(0.0, 6.164413928985596), multiplicity: 18",
          "(0.0, 6.164413928985596), multiplicity: 18",
          "(0.0, 6.164413928985596), multiplicity: 18",
          "(0.0, 6.164413928985596), multiplicity: 18",
          "(0.0, 6.164413928985596), multiplicity: 18",
          "(0.0, 6.164413928985596), multiplicity: 18",
          "(0.0, 6.324555397033691), multiplicity: 8",
          "(0.0, 6.324555397033691), multiplicity: 8",
          "(0.0, 6.324555397033691), multiplicity: 8",
          "(0.0, 6.324555397033691), multiplicity: 8",
          "(0.0, 6.324555397033691), multiplicity: 8",
          "(0.0, 6.324555397033691), multiplicity: 8",
          "(0.0, 6.324555397033691), multiplicity: 8",
          "(0.0, 6.324555397033691), multiplicity: 8",
          "(0.0, 6.4031243324279785), multiplicity: 17",
          "(0.0, 6.4031243324279785), multiplicity: 17",
          "(0.0, 6.4031243324279785), multiplicity: 17",
          "(0.0, 6.4031243324279785), multiplicity: 17",
          "(0.0, 6.4031243324279785), multiplicity: 17",
          "(0.0, 6.4031243324279785), multiplicity: 17",
          "(0.0, 6.4031243324279785), multiplicity: 17",
          "(0.0, 6.4031243324279785), multiplicity: 17",
          "(0.0, 6.4031243324279785), multiplicity: 17",
          "(0.0, 6.4031243324279785), multiplicity: 17",
          "(0.0, 6.4031243324279785), multiplicity: 17",
          "(0.0, 6.4031243324279785), multiplicity: 17",
          "(0.0, 6.4031243324279785), multiplicity: 17",
          "(0.0, 6.4031243324279785), multiplicity: 17",
          "(0.0, 6.4031243324279785), multiplicity: 17",
          "(0.0, 6.4031243324279785), multiplicity: 17",
          "(0.0, 6.4031243324279785), multiplicity: 17",
          "(0.0, 6.480740547180176), multiplicity: 8",
          "(0.0, 6.480740547180176), multiplicity: 8",
          "(0.0, 6.480740547180176), multiplicity: 8",
          "(0.0, 6.480740547180176), multiplicity: 8",
          "(0.0, 6.480740547180176), multiplicity: 8",
          "(0.0, 6.480740547180176), multiplicity: 8",
          "(0.0, 6.480740547180176), multiplicity: 8",
          "(0.0, 6.480740547180176), multiplicity: 8",
          "(0.0, 6.557438373565674), multiplicity: 5",
          "(0.0, 6.557438373565674), multiplicity: 5",
          "(0.0, 6.557438373565674), multiplicity: 5",
          "(0.0, 6.557438373565674), multiplicity: 5",
          "(0.0, 6.557438373565674), multiplicity: 5",
          "(0.0, 6.633249759674072), multiplicity: 4",
          "(0.0, 6.633249759674072), multiplicity: 4",
          "(0.0, 6.633249759674072), multiplicity: 4",
          "(0.0, 6.633249759674072), multiplicity: 4",
          "(0.0, 6.7082037925720215), multiplicity: 10",
          "(0.0, 6.7082037925720215), multiplicity: 10",
          "(0.0, 6.7082037925720215), multiplicity: 10",
          "(0.0, 6.7082037925720215), multiplicity: 10",
          "(0.0, 6.7082037925720215), multiplicity: 10",
          "(0.0, 6.7082037925720215), multiplicity: 10",
          "(0.0, 6.7082037925720215), multiplicity: 10",
          "(0.0, 6.7082037925720215), multiplicity: 10",
          "(0.0, 6.7082037925720215), multiplicity: 10",
          "(0.0, 6.7082037925720215), multiplicity: 10",
          "(0.0, 6.78233003616333), multiplicity: 6",
          "(0.0, 6.78233003616333), multiplicity: 6",
          "(0.0, 6.78233003616333), multiplicity: 6",
          "(0.0, 6.78233003616333), multiplicity: 6",
          "(0.0, 6.78233003616333), multiplicity: 6",
          "(0.0, 6.78233003616333), multiplicity: 6",
          "(0.0, 6.928203105926514)",
          "(0.0, 7.0), multiplicity: 16",
          "(0.0, 7.0), multiplicity: 16",
          "(0.0, 7.0), multiplicity: 16",
          "(0.0, 7.0), multiplicity: 16",
          "(0.0, 7.0), multiplicity: 16",
          "(0.0, 7.0), multiplicity: 16",
          "(0.0, 7.0), multiplicity: 16",
          "(0.0, 7.0), multiplicity: 16",
          "(0.0, 7.0), multiplicity: 16",
          "(0.0, 7.0), multiplicity: 16",
          "(0.0, 7.0), multiplicity: 16",
          "(0.0, 7.0), multiplicity: 16",
          "(0.0, 7.0), multiplicity: 16",
          "(0.0, 7.0), multiplicity: 16",
          "(0.0, 7.0), multiplicity: 16",
          "(0.0, 7.0), multiplicity: 16",
          "(0.0, 7.071067810058594), multiplicity: 11",
          "(0.0, 7.071067810058594), multiplicity: 11",
          "(0.0, 7.071067810058594), multiplicity: 11",
          "(0.0, 7.071067810058594), multiplicity: 11",
          "(0.0, 7.071067810058594), multiplicity: 11",
          "(0.0, 7.071067810058594), multiplicity: 11",
          "(0.0, 7.071067810058594), multiplicity: 11",
          "(0.0, 7.071067810058594), multiplicity: 11",
          "(0.0, 7.071067810058594), multiplicity: 11",
          "(0.0, 7.071067810058594), multiplicity: 11",
          "(0.0, 7.071067810058594), multiplicity: 11",
          "(0.0, 7.141428470611572), multiplicity: 10",
          "(0.0, 7.141428470611572), multiplicity: 10",
          "(0.0, 7.141428470611572), multiplicity: 10",
          "(0.0, 7.141428470611572), multiplicity: 10",
          "(0.0, 7.141428470611572), multiplicity: 10",
          "(0.0, 7.141428470611572), multiplicity: 10",
          "(0.0, 7.141428470611572), multiplicity: 10",
          "(0.0, 7.141428470611572), multiplicity: 10",
          "(0.0, 7.141428470611572), multiplicity: 10",
          "(0.0, 7.141428470611572), multiplicity: 10",
          "(0.0, 7.211102485656738), multiplicity: 2",
          "(0.0, 7.211102485656738), multiplicity: 2",
          "(0.0, 7.280109882354736), multiplicity: 10",
          "(0.0, 7.280109882354736), multiplicity: 10",
          "(0.0, 7.280109882354736), multiplicity: 10",
          "(0.0, 7.280109882354736), multiplicity: 10",
          "(0.0, 7.280109882354736), multiplicity: 10",
          "(0.0, 7.280109882354736), multiplicity: 10",
          "(0.0, 7.280109882354736), multiplicity: 10",
          "(0.0, 7.280109882354736), multiplicity: 10",
          "(0.0, 7.280109882354736), multiplicity: 10",
          "(0.0, 7.280109882354736), multiplicity: 10",
          "(0.0, 7.348469257354736), multiplicity: 17",
          "(0.0, 7.348469257354736), multiplicity: 17",
          "(0.0, 7.348469257354736), multiplicity: 17",
          "(0.0, 7.348469257354736), multiplicity: 17",
          "(0.0, 7.348469257354736), multiplicity: 17",
          "(0.0, 7.348469257354736), multiplicity: 17",
          "(0.0, 7.348469257354736), multiplicity: 17",
          "(0.0, 7.348469257354736), multiplicity: 17",
          "(0.0, 7.348469257354736), multiplicity: 17",
          "(0.0, 7.348469257354736), multiplicity: 17",
          "(0.0, 7.348469257354736), multiplicity: 17",
          "(0.0, 7.348469257354736), multiplicity: 17",
          "(0.0, 7.348469257354736), multiplicity: 17",
          "(0.0, 7.348469257354736), multiplicity: 17",
          "(0.0, 7.348469257354736), multiplicity: 17",
          "(0.0, 7.348469257354736), multiplicity: 17",
          "(0.0, 7.348469257354736), multiplicity: 17",
          "(0.0, 7.4833149909973145), multiplicity: 6",
          "(0.0, 7.4833149909973145), multiplicity: 6",
          "(0.0, 7.4833149909973145), multiplicity: 6",
          "(0.0, 7.4833149909973145), multiplicity: 6",
          "(0.0, 7.4833149909973145), multiplicity: 6",
          "(0.0, 7.4833149909973145), multiplicity: 6",
          "(0.0, 7.549834251403809), multiplicity: 6",
          "(0.0, 7.549834251403809), multiplicity: 6",
          "(0.0, 7.549834251403809), multiplicity: 6",
          "(0.0, 7.549834251403809), multiplicity: 6",
          "(0.0, 7.549834251403809), multiplicity: 6",
          "(0.0, 7.549834251403809), multiplicity: 6",
          "(0.0, 7.6157732009887695), multiplicity: 4",
          "(0.0, 7.6157732009887695), multiplicity: 4",
          "(0.0, 7.6157732009887695), multiplicity: 4",
          "(0.0, 7.6157732009887695), multiplicity: 4",
          "(0.0, 7.681145668029785), multiplicity: 9",
          "(0.0, 7.681145668029785), multiplicity: 9",
          "(0.0, 7.681145668029785), multiplicity: 9",
          "(0.0, 7.681145668029785), multiplicity: 9",
          "(0.0, 7.681145668029785), multiplicity: 9",
          "(0.0, 7.681145668029785), multiplicity: 9",
          "(0.0, 7.681145668029785), multiplicity: 9",
          "(0.0, 7.681145668029785), multiplicity: 9",
          "(0.0, 7.681145668029785), multiplicity: 9",
          "(0.0, 7.8102498054504395), multiplicity: 14",
          "(0.0, 7.8102498054504395), multiplicity: 14",
          "(0.0, 7.8102498054504395), multiplicity: 14",
          "(0.0, 7.8102498054504395), multiplicity: 14",
          "(0.0, 7.8102498054504395), multiplicity: 14",
          "(0.0, 7.8102498054504395), multiplicity: 14",
          "(0.0, 7.8102498054504395), multiplicity: 14",
          "(0.0, 7.8102498054504395), multiplicity: 14",
          "(0.0, 7.8102498054504395), multiplicity: 14",
          "(0.0, 7.8102498054504395), multiplicity: 14",
          "(0.0, 7.8102498054504395), multiplicity: 14",
          "(0.0, 7.8102498054504395), multiplicity: 14",
          "(0.0, 7.8102498054504395), multiplicity: 14",
          "(0.0, 7.8102498054504395), multiplicity: 14",
          "(0.0, 7.874007701873779), multiplicity: 18",
          "(0.0, 7.874007701873779), multiplicity: 18",
          "(0.0, 7.874007701873779), multiplicity: 18",
          "(0.0, 7.874007701873779), multiplicity: 18",
          "(0.0, 7.874007701873779), multiplicity: 18",
          "(0.0, 7.874007701873779), multiplicity: 18",
          "(0.0, 7.874007701873779), multiplicity: 18",
          "(0.0, 7.874007701873779), multiplicity: 18",
          "(0.0, 7.874007701873779), multiplicity: 18",
          "(0.0, 7.874007701873779), multiplicity: 18",
          "(0.0, 7.874007701873779), multiplicity: 18",
          "(0.0, 7.874007701873779), multiplicity: 18",
          "(0.0, 7.874007701873779), multiplicity: 18",
          "(0.0, 7.874007701873779), multiplicity: 18",
          "(0.0, 7.874007701873779), multiplicity: 18",
          "(0.0, 7.874007701873779), multiplicity: 18",
          "(0.0, 7.874007701873779), multiplicity: 18",
          "(0.0, 7.874007701873779), multiplicity: 18",
          "(0.0, 8.062257766723633), multiplicity: 20",
          "(0.0, 8.062257766723633), multiplicity: 20",
          "(0.0, 8.062257766723633), multiplicity: 20",
          "(0.0, 8.062257766723633), multiplicity: 20",
          "(0.0, 8.062257766723633), multiplicity: 20",
          "(0.0, 8.062257766723633), multiplicity: 20",
          "(0.0, 8.062257766723633), multiplicity: 20",
          "(0.0, 8.062257766723633), multiplicity: 20",
          "(0.0, 8.062257766723633), multiplicity: 20",
          "(0.0, 8.062257766723633), multiplicity: 20",
          "(0.0, 8.062257766723633), multiplicity: 20",
          "(0.0, 8.062257766723633), multiplicity: 20",
          "(0.0, 8.062257766723633), multiplicity: 20",
          "(0.0, 8.062257766723633), multiplicity: 20",
          "(0.0, 8.062257766723633), multiplicity: 20",
          "(0.0, 8.062257766723633), multiplicity: 20",
          "(0.0, 8.062257766723633), multiplicity: 20",
          "(0.0, 8.062257766723633), multiplicity: 20",
          "(0.0, 8.062257766723633), multiplicity: 20",
          "(0.0, 8.062257766723633), multiplicity: 20",
          "(0.0, 8.124038696289062), multiplicity: 13",
          "(0.0, 8.124038696289062), multiplicity: 13",
          "(0.0, 8.124038696289062), multiplicity: 13",
          "(0.0, 8.124038696289062), multiplicity: 13",
          "(0.0, 8.124038696289062), multiplicity: 13",
          "(0.0, 8.124038696289062), multiplicity: 13",
          "(0.0, 8.124038696289062), multiplicity: 13",
          "(0.0, 8.124038696289062), multiplicity: 13",
          "(0.0, 8.124038696289062), multiplicity: 13",
          "(0.0, 8.124038696289062), multiplicity: 13",
          "(0.0, 8.124038696289062), multiplicity: 13",
          "(0.0, 8.124038696289062), multiplicity: 13",
          "(0.0, 8.124038696289062), multiplicity: 13",
          "(0.0, 8.185352325439453), multiplicity: 6",
          "(0.0, 8.185352325439453), multiplicity: 6",
          "(0.0, 8.185352325439453), multiplicity: 6",
          "(0.0, 8.185352325439453), multiplicity: 6",
          "(0.0, 8.185352325439453), multiplicity: 6",
          "(0.0, 8.185352325439453), multiplicity: 6",
          "(0.0, 8.246211051940918), multiplicity: 4",
          "(0.0, 8.246211051940918), multiplicity: 4",
          "(0.0, 8.246211051940918), multiplicity: 4",
          "(0.0, 8.246211051940918), multiplicity: 4",
          "(0.0, 8.306623458862305), multiplicity: 14",
          "(0.0, 8.306623458862305), multiplicity: 14",
          "(0.0, 8.306623458862305), multiplicity: 14",
          "(0.0, 8.306623458862305), multiplicity: 14",
          "(0.0, 8.306623458862305), multiplicity: 14",
          "(0.0, 8.306623458862305), multiplicity: 14",
          "(0.0, 8.306623458862305), multiplicity: 14",
          "(0.0, 8.306623458862305), multiplicity: 14",
          "(0.0, 8.306623458862305), multiplicity: 14",
          "(0.0, 8.306623458862305), multiplicity: 14",
          "(0.0, 8.306623458862305), multiplicity: 14",
          "(0.0, 8.306623458862305), multiplicity: 14",
          "(0.0, 8.306623458862305), multiplicity: 14",
          "(0.0, 8.306623458862305), multiplicity: 14",
          "(0.0, 8.366600036621094), multiplicity: 6",
          "(0.0, 8.366600036621094), multiplicity: 6",
          "(0.0, 8.366600036621094), multiplicity: 6",
          "(0.0, 8.366600036621094), multiplicity: 6",
          "(0.0, 8.366600036621094), multiplicity: 6",
          "(0.0, 8.366600036621094), multiplicity: 6",
          "(0.0, 8.485280990600586), multiplicity: 7",
          "(0.0, 8.485280990600586), multiplicity: 7",
          "(0.0, 8.485280990600586), multiplicity: 7",
          "(0.0, 8.485280990600586), multiplicity: 7",
          "(0.0, 8.485280990600586), multiplicity: 7",
          "(0.0, 8.485280990600586), multiplicity: 7",
          "(0.0, 8.485280990600586), multiplicity: 7",
          "(0.0, 8.5440034866333), multiplicity: 9",
          "(0.0, 8.5440034866333), multiplicity: 9",
          "(0.0, 8.5440034866333), multiplicity: 9",
          "(0.0, 8.5440034866333), multiplicity: 9",
          "(0.0, 8.5440034866333), multiplicity: 9",
          "(0.0, 8.5440034866333), multiplicity: 9",
          "(0.0, 8.5440034866333), multiplicity: 9",
          "(0.0, 8.5440034866333), multiplicity: 9",
          "(0.0, 8.5440034866333), multiplicity: 9",
          "(0.0, 8.602325439453125), multiplicity: 16",
          "(0.0, 8.602325439453125), multiplicity: 16",
          "(0.0, 8.602325439453125), multiplicity: 16",
          "(0.0, 8.602325439453125), multiplicity: 16",
          "(0.0, 8.602325439453125), multiplicity: 16",
          "(0.0, 8.602325439453125), multiplicity: 16",
          "(0.0, 8.602325439453125), multiplicity: 16",
          "(0.0, 8.602325439453125), multiplicity: 16",
          "(0.0, 8.602325439453125), multiplicity: 16",
          "(0.0, 8.602325439453125), multiplicity: 16",
          "(0.0, 8.602325439453125), multiplicity: 16",
          "(0.0, 8.602325439453125), multiplicity: 16",
          "(0.0, 8.602325439453125), multiplicity: 16",
          "(0.0, 8.602325439453125), multiplicity: 16",
          "(0.0, 8.602325439453125), multiplicity: 16",
          "(0.0, 8.602325439453125), multiplicity: 16",
          "(0.0, 8.66025447845459), multiplicity: 12",
          "(0.0, 8.66025447845459), multiplicity: 12",
          "(0.0, 8.66025447845459), multiplicity: 12",
          "(0.0, 8.66025447845459), multiplicity: 12",
          "(0.0, 8.66025447845459), multiplicity: 12",
          "(0.0, 8.66025447845459), multiplicity: 12",
          "(0.0, 8.66025447845459), multiplicity: 12",
          "(0.0, 8.66025447845459), multiplicity: 12",
          "(0.0, 8.66025447845459), multiplicity: 12",
          "(0.0, 8.66025447845459), multiplicity: 12",
          "(0.0, 8.66025447845459), multiplicity: 12",
          "(0.0, 8.66025447845459), multiplicity: 12",
          "(0.0, 8.717798233032227), multiplicity: 3",
          "(0.0, 8.717798233032227), multiplicity: 3",
          "(0.0, 8.717798233032227), multiplicity: 3",
          "(0.0, 8.774964332580566), multiplicity: 9",
          "(0.0, 8.774964332580566), multiplicity: 9",
          "(0.0, 8.774964332580566), multiplicity: 9",
          "(0.0, 8.774964332580566), multiplicity: 9",
          "(0.0, 8.774964332580566), multiplicity: 9",
          "(0.0, 8.774964332580566), multiplicity: 9",
          "(0.0, 8.774964332580566), multiplicity: 9",
          "(0.0, 8.774964332580566), multiplicity: 9",
          "(0.0, 8.774964332580566), multiplicity: 9",
          "(0.0, 8.83176040649414), multiplicity: 9",
          "(0.0, 8.83176040649414), multiplicity: 9",
          "(0.0, 8.83176040649414), multiplicity: 9",
          "(0.0, 8.83176040649414), multiplicity: 9",
          "(0.0, 8.83176040649414), multiplicity: 9",
          "(0.0, 8.83176040649414), multiplicity: 9",
          "(0.0, 8.83176040649414), multiplicity: 9",
          "(0.0, 8.83176040649414), multiplicity: 9",
          "(0.0, 8.83176040649414), multiplicity: 9",
          "(0.0, 8.9442720413208), multiplicity: 3",
          "(0.0, 8.9442720413208), multiplicity: 3",
          "(0.0, 8.9442720413208), multiplicity: 3",
          "(0.0, 9.0), multiplicity: 11",
          "(0.0, 9.0), multiplicity: 11",
          "(0.0, 9.0), multiplicity: 11",
          "(0.0, 9.0), multiplicity: 11",
          "(0.0, 9.0), multiplicity: 11",
          "(0.0, 9.0), multiplicity: 11",
          "(0.0, 9.0), multiplicity: 11",
          "(0.0, 9.0), multiplicity: 11",
          "(0.0, 9.0), multiplicity: 11",
          "(0.0, 9.0), multiplicity: 11",
          "(0.0, 9.0), multiplicity: 11",
          "(0.0, 9.05538558959961), multiplicity: 6",
          "(0.0, 9.05538558959961), multiplicity: 6",
          "(0.0, 9.05538558959961), multiplicity: 6",
          "(0.0, 9.05538558959961), multiplicity: 6",
          "(0.0, 9.05538558959961), multiplicity: 6",
          "(0.0, 9.05538558959961), multiplicity: 6",
          "(0.0, 9.110433578491211), multiplicity: 15",
          "(0.0, 9.110433578491211), multiplicity: 15",
          "(0.0, 9.110433578491211), multiplicity: 15",
          "(0.0, 9.110433578491211), multiplicity: 15",
          "(0.0, 9.110433578491211), multiplicity: 15",
          "(0.0, 9.110433578491211), multiplicity: 15",
          "(0.0, 9.110433578491211), multiplicity: 15",
          "(0.0, 9.110433578491211), multiplicity: 15",
          "(0.0, 9.110433578491211), multiplicity: 15",
          "(0.0, 9.110433578491211), multiplicity: 15",
          "(0.0, 9.110433578491211), multiplicity: 15",
          "(0.0, 9.110433578491211), multiplicity: 15",
          "(0.0, 9.110433578491211), multiplicity: 15",
          "(0.0, 9.110433578491211), multiplicity: 15",
          "(0.0, 9.110433578491211), multiplicity: 15",
          "(0.0, 9.165151596069336), multiplicity: 6",
          "(0.0, 9.165151596069336), multiplicity: 6",
          "(0.0, 9.165151596069336), multiplicity: 6",
          "(0.0, 9.165151596069336), multiplicity: 6",
          "(0.0, 9.165151596069336), multiplicity: 6",
          "(0.0, 9.165151596069336), multiplicity: 6",
          "(0.0, 9.219544410705566), multiplicity: 9",
          "(0.0, 9.219544410705566), multiplicity: 9",
          "(0.0, 9.219544410705566), multiplicity: 9",
          "(0.0, 9.219544410705566), multiplicity: 9",
          "(0.0, 9.219544410705566), multiplicity: 9",
          "(0.0, 9.219544410705566), multiplicity: 9",
          "(0.0, 9.219544410705566), multiplicity: 9",
          "(0.0, 9.219544410705566), multiplicity: 9",
          "(0.0, 9.219544410705566), multiplicity: 9",
          "(0.0, 9.273618698120117), multiplicity: 11",
          "(0.0, 9.273618698120117), multiplicity: 11",
          "(0.0, 9.273618698120117), multiplicity: 11",
          "(0.0, 9.273618698120117), multiplicity: 11",
          "(0.0, 9.273618698120117), multiplicity: 11",
          "(0.0, 9.273618698120117), multiplicity: 11",
          "(0.0, 9.273618698120117), multiplicity: 11",
          "(0.0, 9.273618698120117), multiplicity: 11",
          "(0.0, 9.273618698120117), multiplicity: 11",
          "(0.0, 9.273618698120117), multiplicity: 11",
          "(0.0, 9.273618698120117), multiplicity: 11",
          "(0.0, 9.380831718444824), multiplicity: 4",
          "(0.0, 9.380831718444824), multiplicity: 4",
          "(0.0, 9.380831718444824), multiplicity: 4",
          "(0.0, 9.380831718444824), multiplicity: 4",
          "(0.0, 9.433980941772461), multiplicity: 15",
          "(0.0, 9.433980941772461), multiplicity: 15",
          "(0.0, 9.433980941772461), multiplicity: 15",
          "(0.0, 9.433980941772461), multiplicity: 15",
          "(0.0, 9.433980941772461), multiplicity: 15",
          "(0.0, 9.433980941772461), multiplicity: 15",
          "(0.0, 9.433980941772461), multiplicity: 15",
          "(0.0, 9.433980941772461), multiplicity: 15",
          "(0.0, 9.433980941772461), multiplicity: 15",
          "(0.0, 9.433980941772461), multiplicity: 15",
          "(0.0, 9.433980941772461), multiplicity: 15",
          "(0.0, 9.433980941772461), multiplicity: 15",
          "(0.0, 9.433980941772461), multiplicity: 15",
          "(0.0, 9.433980941772461), multiplicity: 15",
          "(0.0, 9.433980941772461), multiplicity: 15",
          "(0.0, 9.486832618713379), multiplicity: 13",
          "(0.0, 9.486832618713379), multiplicity: 13",
          "(0.0, 9.486832618713379), multiplicity: 13",
          "(0.0, 9.486832618713379), multiplicity: 13",
          "(0.0, 9.486832618713379), multiplicity: 13",
          "(0.0, 9.486832618713379), multiplicity: 13",
          "(0.0, 9.486832618713379), multiplicity: 13",
          "(0.0, 9.486832618713379), multiplicity: 13",
          "(0.0, 9.486832618713379), multiplicity: 13",
          "(0.0, 9.486832618713379), multiplicity: 13",
          "(0.0, 9.486832618713379), multiplicity: 13",
          "(0.0, 9.486832618713379), multiplicity: 13",
          "(0.0, 9.486832618713379), multiplicity: 13",
          "(0.0, 9.539392471313477), multiplicity: 7",
          "(0.0, 9.539392471313477), multiplicity: 7",
          "(0.0, 9.539392471313477), multiplicity: 7",
          "(0.0, 9.539392471313477), multiplicity: 7",
          "(0.0, 9.539392471313477), multiplicity: 7",
          "(0.0, 9.539392471313477), multiplicity: 7",
          "(0.0, 9.539392471313477), multiplicity: 7",
          "(0.0, 9.643651008605957), multiplicity: 9",
          "(0.0, 9.643651008605957), multiplicity: 9",
          "(0.0, 9.643651008605957), multiplicity: 9",
          "(0.0, 9.643651008605957), multiplicity: 9",
          "(0.0, 9.643651008605957), multiplicity: 9",
          "(0.0, 9.643651008605957), multiplicity: 9",
          "(0.0, 9.643651008605957), multiplicity: 9",
          "(0.0, 9.643651008605957), multiplicity: 9",
          "(0.0, 9.643651008605957), multiplicity: 9",
          "(0.0, 9.69536018371582), multiplicity: 12",
          "(0.0, 9.69536018371582), multiplicity: 12",
          "(0.0, 9.69536018371582), multiplicity: 12",
          "(0.0, 9.69536018371582), multiplicity: 12",
          "(0.0, 9.69536018371582), multiplicity: 12",
          "(0.0, 9.69536018371582), multiplicity: 12",
          "(0.0, 9.69536018371582), multiplicity: 12",
          "(0.0, 9.69536018371582), multiplicity: 12",
          "(0.0, 9.69536018371582), multiplicity: 12",
          "(0.0, 9.69536018371582), multiplicity: 12",
          "(0.0, 9.69536018371582), multiplicity: 12",
          "(0.0, 9.69536018371582), multiplicity: 12",
          "(0.0, 9.797959327697754), multiplicity: 2",
          "(0.0, 9.797959327697754), multiplicity: 2",
          "(0.0, 9.848857879638672), multiplicity: 9",
          "(0.0, 9.848857879638672), multiplicity: 9",
          "(0.0, 9.848857879638672), multiplicity: 9",
          "(0.0, 9.848857879638672), multiplicity: 9",
          "(0.0, 9.848857879638672), multiplicity: 9",
          "(0.0, 9.848857879638672), multiplicity: 9",
          "(0.0, 9.848857879638672), multiplicity: 9",
          "(0.0, 9.848857879638672), multiplicity: 9",
          "(0.0, 9.848857879638672), multiplicity: 9",
          "(0.0, 9.899495124816895), multiplicity: 15",
          "(0.0, 9.899495124816895), multiplicity: 15",
          "(0.0, 9.899495124816895), multiplicity: 15",
          "(0.0, 9.899495124816895), multiplicity: 15",
          "(0.0, 9.899495124816895), multiplicity: 15",
          "(0.0, 9.899495124816895), multiplicity: 15",
          "(0.0, 9.899495124816895), multiplicity: 15",
          "(0.0, 9.899495124816895), multiplicity: 15",
          "(0.0, 9.899495124816895), multiplicity: 15",
          "(0.0, 9.899495124816895), multiplicity: 15",
          "(0.0, 9.899495124816895), multiplicity: 15",
          "(0.0, 9.899495124816895), multiplicity: 15",
          "(0.0, 9.899495124816895), multiplicity: 15",
          "(0.0, 9.899495124816895), multiplicity: 15",
          "(0.0, 9.899495124816895), multiplicity: 15",
          "(0.0, 9.949873924255371), multiplicity: 6",
          "(0.0, 9.949873924255371), multiplicity: 6",
          "(0.0, 9.949873924255371), multiplicity: 6",
          "(0.0, 9.949873924255371), multiplicity: 6",
          "(0.0, 9.949873924255371), multiplicity: 6",
          "(0.0, 9.949873924255371), multiplicity: 6",
          "(0.0, 10.0), multiplicity: 5",
          "(0.0, 10.0), multiplicity: 5",
          "(0.0, 10.0), multiplicity: 5",
          "(0.0, 10.0), multiplicity: 5",
          "(0.0, 10.0), multiplicity: 5",
          "(0.0, 10.049875259399414), multiplicity: 10",
          "(0.0, 10.049875259399414), multiplicity: 10",
          "(0.0, 10.049875259399414), multiplicity: 10",
          "(0.0, 10.049875259399414), multiplicity: 10",
          "(0.0, 10.049875259399414), multiplicity: 10",
          "(0.0, 10.049875259399414), multiplicity: 10",
          "(0.0, 10.049875259399414), multiplicity: 10",
          "(0.0, 10.049875259399414), multiplicity: 10",
          "(0.0, 10.049875259399414), multiplicity: 10",
          "(0.0, 10.049875259399414), multiplicity: 10",
          "(0.0, 10.099504470825195), multiplicity: 6",
          "(0.0, 10.099504470825195), multiplicity: 6",
          "(0.0, 10.099504470825195), multiplicity: 6",
          "(0.0, 10.099504470825195), multiplicity: 6",
          "(0.0, 10.099504470825195), multiplicity: 6",
          "(0.0, 10.099504470825195), multiplicity: 6",
          "(0.0, 10.198039054870605), multiplicity: 6",
          "(0.0, 10.198039054870605), multiplicity: 6",
          "(0.0, 10.198039054870605), multiplicity: 6",
          "(0.0, 10.198039054870605), multiplicity: 6",
          "(0.0, 10.198039054870605), multiplicity: 6",
          "(0.0, 10.198039054870605), multiplicity: 6",
          "(0.0, 10.24695110321045), multiplicity: 11",
          "(0.0, 10.24695110321045), multiplicity: 11",
          "(0.0, 10.24695110321045), multiplicity: 11",
          "(0.0, 10.24695110321045), multiplicity: 11",
          "(0.0, 10.24695110321045), multiplicity: 11",
          "(0.0, 10.24695110321045), multiplicity: 11",
          "(0.0, 10.24695110321045), multiplicity: 11",
          "(0.0, 10.24695110321045), multiplicity: 11",
          "(0.0, 10.24695110321045), multiplicity: 11",
          "(0.0, 10.24695110321045), multiplicity: 11",
          "(0.0, 10.24695110321045), multiplicity: 11",
          "(0.0, 10.29563045501709), multiplicity: 12",
          "(0.0, 10.29563045501709), multiplicity: 12",
          "(0.0, 10.29563045501709), multiplicity: 12",
          "(0.0, 10.29563045501709), multiplicity: 12",
          "(0.0, 10.29563045501709), multiplicity: 12",
          "(0.0, 10.29563045501709), multiplicity: 12",
          "(0.0, 10.29563045501709), multiplicity: 12",
          "(0.0, 10.29563045501709), multiplicity: 12",
          "(0.0, 10.29563045501709), multiplicity: 12",
          "(0.0, 10.29563045501709), multiplicity: 12",
          "(0.0, 10.29563045501709), multiplicity: 12",
          "(0.0, 10.29563045501709), multiplicity: 12",
          "(0.0, 10.344079971313477), multiplicity: 7",
          "(0.0, 10.344079971313477), multiplicity: 7",
          "(0.0, 10.344079971313477), multiplicity: 7",
          "(0.0, 10.344079971313477), multiplicity: 7",
          "(0.0, 10.344079971313477), multiplicity: 7",
          "(0.0, 10.344079971313477), multiplicity: 7",
          "(0.0, 10.344079971313477), multiplicity: 7",
          "(0.0, 10.392304420471191), multiplicity: 3",
          "(0.0, 10.392304420471191), multiplicity: 3",
          "(0.0, 10.392304420471191), multiplicity: 3",
          "(0.0, 10.440306663513184), multiplicity: 3",
          "(0.0, 10.440306663513184), multiplicity: 3",
          "(0.0, 10.440306663513184), multiplicity: 3",
          "(0.0, 10.488088607788086), multiplicity: 13",
          "(0.0, 10.488088607788086), multiplicity: 13",
          "(0.0, 10.488088607788086), multiplicity: 13",
          "(0.0, 10.488088607788086), multiplicity: 13",
          "(0.0, 10.488088607788086), multiplicity: 13",
          "(0.0, 10.488088607788086), multiplicity: 13",
          "(0.0, 10.488088607788086), multiplicity: 13",
          "(0.0, 10.488088607788086), multiplicity: 13",
          "(0.0, 10.488088607788086), multiplicity: 13",
          "(0.0, 10.488088607788086), multiplicity: 13",
          "(0.0, 10.488088607788086), multiplicity: 13",
          "(0.0, 10.488088607788086), multiplicity: 13",
          "(0.0, 10.488088607788086), multiplicity: 13",
          "(0.0, 10.630146026611328), multiplicity: 6",
          "(0.0, 10.630146026611328), multiplicity: 6",
          "(0.0, 10.630146026611328), multiplicity: 6",
          "(0.0, 10.630146026611328), multiplicity: 6",
          "(0.0, 10.630146026611328), multiplicity: 6",
          "(0.0, 10.630146026611328), multiplicity: 6",
          "(0.0, 10.677078247070312), multiplicity: 12",
          "(0.0, 10.677078247070312), multiplicity: 12",
          "(0.0, 10.677078247070312), multiplicity: 12",
          "(0.0, 10.677078247070312), multiplicity: 12",
          "(0.0, 10.677078247070312), multiplicity: 12",
          "(0.0, 10.677078247070312), multiplicity: 12",
          "(0.0, 10.677078247070312), multiplicity: 12",
          "(0.0, 10.677078247070312), multiplicity: 12",
          "(0.0, 10.677078247070312), multiplicity: 12",
          "(0.0, 10.677078247070312), multiplicity: 12",
          "(0.0, 10.677078247070312), multiplicity: 12",
          "(0.0, 10.677078247070312), multiplicity: 12",
          "(0.0, 10.72380542755127), multiplicity: 5",
          "(0.0, 10.72380542755127), multiplicity: 5",
          "(0.0, 10.72380542755127), multiplicity: 5",
          "(0.0, 10.72380542755127), multiplicity: 5",
          "(0.0, 10.72380542755127), multiplicity: 5",
          "(0.0, 10.770329475402832), multiplicity: 3",
          "(0.0, 10.770329475402832), multiplicity: 3",
          "(0.0, 10.770329475402832), multiplicity: 3",
          "(0.0, 10.816654205322266), multiplicity: 12",
          "(0.0, 10.816654205322266), multiplicity: 12",
          "(0.0, 10.816654205322266), multiplicity: 12",
          "(0.0, 10.816654205322266), multiplicity: 12",
          "(0.0, 10.816654205322266), multiplicity: 12",
          "(0.0, 10.816654205322266), multiplicity: 12",
          "(0.0, 10.816654205322266), multiplicity: 12",
          "(0.0, 10.816654205322266), multiplicity: 12",
          "(0.0, 10.816654205322266), multiplicity: 12",
          "(0.0, 10.816654205322266), multiplicity: 12",
          "(0.0, 10.816654205322266), multiplicity: 12",
          "(0.0, 10.816654205322266), multiplicity: 12",
          "(0.0, 10.862780570983887), multiplicity: 4",
          "(0.0, 10.862780570983887), multiplicity: 4",
          "(0.0, 10.862780570983887), multiplicity: 4",
          "(0.0, 10.862780570983887), multiplicity: 4",
          "(0.0, 10.954451560974121), multiplicity: 4",
          "(0.0, 10.954451560974121), multiplicity: 4",
          "(0.0, 10.954451560974121), multiplicity: 4",
          "(0.0, 10.954451560974121), multiplicity: 4",
          "(0.0, 11.0), multiplicity: 5",
          "(0.0, 11.0), multiplicity: 5",
          "(0.0, 11.0), multiplicity: 5",
          "(0.0, 11.0), multiplicity: 5",
          "(0.0, 11.0), multiplicity: 5",
          "(0.0, 11.045360565185547), multiplicity: 12",
          "(0.0, 11.045360565185547), multiplicity: 12",
          "(0.0, 11.045360565185547), multiplicity: 12",
          "(0.0, 11.045360565185547), multiplicity: 12",
          "(0.0, 11.045360565185547), multiplicity: 12",
          "(0.0, 11.045360565185547), multiplicity: 12",
          "(0.0, 11.045360565185547), multiplicity: 12",
          "(0.0, 11.045360565185547), multiplicity: 12",
          "(0.0, 11.045360565185547), multiplicity: 12",
          "(0.0, 11.045360565185547), multiplicity: 12",
          "(0.0, 11.045360565185547), multiplicity: 12",
          "(0.0, 11.045360565185547), multiplicity: 12",
          "(0.0, 11.090536117553711), multiplicity: 4",
          "(0.0, 11.090536117553711), multiplicity: 4",
          "(0.0, 11.090536117553711), multiplicity: 4",
          "(0.0, 11.090536117553711), multiplicity: 4",
          "(0.0, 11.180339813232422), multiplicity: 13",
          "(0.0, 11.180339813232422), multiplicity: 13",
          "(0.0, 11.180339813232422), multiplicity: 13",
          "(0.0, 11.180339813232422), multiplicity: 13",
          "(0.0, 11.180339813232422), multiplicity: 13",
          "(0.0, 11.180339813232422), multiplicity: 13",
          "(0.0, 11.180339813232422), multiplicity: 13",
          "(0.0, 11.180339813232422), multiplicity: 13",
          "(0.0, 11.180339813232422), multiplicity: 13",
          "(0.0, 11.180339813232422), multiplicity: 13",
          "(0.0, 11.180339813232422), multiplicity: 13",
          "(0.0, 11.180339813232422), multiplicity: 13",
          "(0.0, 11.180339813232422), multiplicity: 13",
          "(0.0, 11.224971771240234), multiplicity: 13",
          "(0.0, 11.224971771240234), multiplicity: 13",
          "(0.0, 11.224971771240234), multiplicity: 13",
          "(0.0, 11.224971771240234), multiplicity: 13",
          "(0.0, 11.224971771240234), multiplicity: 13",
          "(0.0, 11.224971771240234), multiplicity: 13",
          "(0.0, 11.224971771240234), multiplicity: 13",
          "(0.0, 11.224971771240234), multiplicity: 13",
          "(0.0, 11.224971771240234), multiplicity: 13",
          "(0.0, 11.224971771240234), multiplicity: 13",
          "(0.0, 11.224971771240234), multiplicity: 13",
          "(0.0, 11.224971771240234), multiplicity: 13",
          "(0.0, 11.224971771240234), multiplicity: 13",
          "(0.0, 11.357816696166992), multiplicity: 9",
          "(0.0, 11.357816696166992), multiplicity: 9",
          "(0.0, 11.357816696166992), multiplicity: 9",
          "(0.0, 11.357816696166992), multiplicity: 9",
          "(0.0, 11.357816696166992), multiplicity: 9",
          "(0.0, 11.357816696166992), multiplicity: 9",
          "(0.0, 11.357816696166992), multiplicity: 9",
          "(0.0, 11.357816696166992), multiplicity: 9",
          "(0.0, 11.357816696166992), multiplicity: 9",
          "(0.0, 11.401754379272461)",
          "(0.0, 11.445523262023926), multiplicity: 4",
          "(0.0, 11.445523262023926), multiplicity: 4",
          "(0.0, 11.445523262023926), multiplicity: 4",
          "(0.0, 11.445523262023926), multiplicity: 4",
          "(0.0, 11.532562255859375), multiplicity: 5",
          "(0.0, 11.532562255859375), multiplicity: 5",
          "(0.0, 11.532562255859375), multiplicity: 5",
          "(0.0, 11.532562255859375), multiplicity: 5",
          "(0.0, 11.532562255859375), multiplicity: 5",
          "(0.0, 11.575837135314941), multiplicity: 11",
          "(0.0, 11.575837135314941), multiplicity: 11",
          "(0.0, 11.575837135314941), multiplicity: 11",
          "(0.0, 11.575837135314941), multiplicity: 11",
          "(0.0, 11.575837135314941), multiplicity: 11",
          "(0.0, 11.575837135314941), multiplicity: 11",
          "(0.0, 11.575837135314941), multiplicity: 11",
          "(0.0, 11.575837135314941), multiplicity: 11",
          "(0.0, 11.575837135314941), multiplicity: 11",
          "(0.0, 11.575837135314941), multiplicity: 11",
          "(0.0, 11.575837135314941), multiplicity: 11",
          "(0.0, 11.661903381347656), multiplicity: 2",
          "(0.0, 11.661903381347656), multiplicity: 2",
          "(0.0, 11.704699516296387), multiplicity: 6",
          "(0.0, 11.704699516296387), multiplicity: 6",
          "(0.0, 11.704699516296387), multiplicity: 6",
          "(0.0, 11.704699516296387), multiplicity: 6",
          "(0.0, 11.704699516296387), multiplicity: 6",
          "(0.0, 11.704699516296387), multiplicity: 6",
          "(0.0, 11.747340202331543), multiplicity: 6",
          "(0.0, 11.747340202331543), multiplicity: 6",
          "(0.0, 11.747340202331543), multiplicity: 6",
          "(0.0, 11.747340202331543), multiplicity: 6",
          "(0.0, 11.747340202331543), multiplicity: 6",
          "(0.0, 11.747340202331543), multiplicity: 6",
          "(0.0, 11.789826393127441), multiplicity: 2",
          "(0.0, 11.789826393127441), multiplicity: 2",
          "(0.0, 11.832159996032715), multiplicity: 4",
          "(0.0, 11.832159996032715), multiplicity: 4",
          "(0.0, 11.832159996032715), multiplicity: 4",
          "(0.0, 11.832159996032715), multiplicity: 4",
          "(0.0, 11.87434196472168), multiplicity: 3",
          "(0.0, 11.87434196472168), multiplicity: 3",
          "(0.0, 11.87434196472168), multiplicity: 3",
          "(0.0, 11.916375160217285), multiplicity: 2",
          "(0.0, 11.916375160217285), multiplicity: 2",
          "(0.0, 12.0)",
          "(0.0, 12.041594505310059), multiplicity: 2",
          "(0.0, 12.041594505310059), multiplicity: 2",
          "(0.0, 12.083045959472656), multiplicity: 5",
          "(0.0, 12.083045959472656), multiplicity: 5",
          "(0.0, 12.083045959472656), multiplicity: 5",
          "(0.0, 12.083045959472656), multiplicity: 5",
          "(0.0, 12.083045959472656), multiplicity: 5",
          "(0.0, 12.12435531616211), multiplicity: 2",
          "(0.0, 12.12435531616211), multiplicity: 2",
          "(0.0, 12.165525436401367)",
          "(0.0, 12.206555366516113), multiplicity: 5",
          "(0.0, 12.206555366516113), multiplicity: 5",
          "(0.0, 12.206555366516113), multiplicity: 5",
          "(0.0, 12.206555366516113), multiplicity: 5",
          "(0.0, 12.206555366516113), multiplicity: 5",
          "(0.0, 12.247448921203613), multiplicity: 3",
          "(0.0, 12.247448921203613), multiplicity: 3",
          "(0.0, 12.247448921203613), multiplicity: 3",
          "(0.0, 12.328827857971191), multiplicity: 2",
          "(0.0, 12.328827857971191), multiplicity: 2",
          "(0.0, 12.369317054748535), multiplicity: 2",
          "(0.0, 12.369317054748535), multiplicity: 2",
          "(0.0, 12.409673690795898)",
          "(0.0, 12.449899673461914), multiplicity: 3",
          "(0.0, 12.449899673461914), multiplicity: 3",
          "(0.0, 12.449899673461914), multiplicity: 3",
          "(0.0, 12.529964447021484)",
          "(0.0, 12.569805145263672), multiplicity: 4",
          "(0.0, 12.569805145263672), multiplicity: 4",
          "(0.0, 12.569805145263672), multiplicity: 4",
          "(0.0, 12.569805145263672), multiplicity: 4",
          "(0.0, 12.649110794067383), multiplicity: 2",
          "(0.0, 12.649110794067383), multiplicity: 2",
          "(0.0, 12.688577651977539), multiplicity: 3",
          "(0.0, 12.688577651977539), multiplicity: 3",
          "(0.0, 12.688577651977539), multiplicity: 3",
          "(0.0, 12.727922439575195), multiplicity: 2",
          "(0.0, 12.727922439575195), multiplicity: 2",
          "(0.0, 12.767145156860352), multiplicity: 3",
          "(0.0, 12.767145156860352), multiplicity: 3",
          "(0.0, 12.767145156860352), multiplicity: 3",
          "(0.0, 12.806248664855957)",
          "(0.0, 12.845232963562012)",
          "(0.0, 12.884099006652832)",
          "(0.0, 12.961481094360352)",
          "(0.0, 13.0)",
          "(0.0, 13.03840446472168)",
          "(0.0, 13.076696395874023), multiplicity: 4",
          "(0.0, 13.076696395874023), multiplicity: 4",
          "(0.0, 13.076696395874023), multiplicity: 4",
          "(0.0, 13.076696395874023), multiplicity: 4",
          "(0.0, 13.152946472167969), multiplicity: 2",
          "(0.0, 13.152946472167969), multiplicity: 2",
          "(0.0, 13.190905570983887), multiplicity: 6",
          "(0.0, 13.190905570983887), multiplicity: 6",
          "(0.0, 13.190905570983887), multiplicity: 6",
          "(0.0, 13.190905570983887), multiplicity: 6",
          "(0.0, 13.190905570983887), multiplicity: 6",
          "(0.0, 13.190905570983887), multiplicity: 6",
          "(0.0, 13.34166431427002), multiplicity: 2",
          "(0.0, 13.34166431427002), multiplicity: 2",
          "(0.0, 13.379088401794434)",
          "(0.0, 13.416407585144043), multiplicity: 2",
          "(0.0, 13.416407585144043), multiplicity: 2",
          "(0.0, 13.45362377166748)",
          "(0.0, 13.56466007232666)",
          "(0.0, 13.601470947265625), multiplicity: 3",
          "(0.0, 13.601470947265625), multiplicity: 3",
          "(0.0, 13.601470947265625), multiplicity: 3",
          "(0.0, 13.638181686401367), multiplicity: 2",
          "(0.0, 13.638181686401367), multiplicity: 2",
          "(0.0, 13.892443656921387), multiplicity: 2",
          "(0.0, 13.892443656921387), multiplicity: 2",
          "(0.0, 13.928388595581055), multiplicity: 2",
          "(0.0, 13.928388595581055), multiplicity: 2",
          "(0.0, 13.964240074157715), multiplicity: 2",
          "(0.0, 13.964240074157715), multiplicity: 2",
          "(0.0, 14.0)",
          "(0.0, 14.03566837310791)",
          "(0.0, 14.071247100830078), multiplicity: 3",
          "(0.0, 14.071247100830078), multiplicity: 3",
          "(0.0, 14.071247100830078), multiplicity: 3",
          "(0.0, 14.177447319030762)",
          "(0.0, 14.247806549072266)",
          "(0.0, 14.282856941223145)",
          "(0.0, 14.456831932067871), multiplicity: 2",
          "(0.0, 14.456831932067871), multiplicity: 2",
          "(0.0, 14.491376876831055)",
          "(0.0, 14.59451961517334)",
          "(0.0, 14.628738403320312)",
          "(0.0, 14.696938514709473)",
          "(0.0, 14.866068840026855)",
          "(0.0, 15.0)",
          "(0.0, 15.066518783569336)",
          "(0.0, 15.42724895477295), multiplicity: 2",
          "(0.0, 15.42724895477295), multiplicity: 2",
          "(0.0, 15.55634880065918)",
          "(0.0, 15.937376976013184)",
          "(0.0, 16.278820037841797)",
          "(0.0, 16.34013557434082)",
          "(0.0, 16.431676864624023)",
          "(0.0, 16.492422103881836)",
          "(0.0, 16.61324691772461)",
          "(0.0, 16.67333221435547)",
          "(0.0, 16.76305389404297)",
          "(0.0, 17.14642906188965)",
          "(0.0, 18.384777069091797)",
          "(0.0, 18.920886993408203)",
          "(0.0, 19.10497283935547)",
          "(0.0, 24.433584213256836)",
          "(0.0, 38.40572738647461)",
          "(0.0, 43.15089797973633)"
         ],
         "mode": "markers",
         "name": "H0",
         "type": "scatter",
         "x": [
          0,
          0,
          0,
          0,
          0,
          0,
          0,
          0,
          0,
          0,
          0,
          0,
          0,
          0,
          0,
          0,
          0,
          0,
          0,
          0,
          0,
          0,
          0,
          0,
          0,
          0,
          0,
          0,
          0,
          0,
          0,
          0,
          0,
          0,
          0,
          0,
          0,
          0,
          0,
          0,
          0,
          0,
          0,
          0,
          0,
          0,
          0,
          0,
          0,
          0,
          0,
          0,
          0,
          0,
          0,
          0,
          0,
          0,
          0,
          0,
          0,
          0,
          0,
          0,
          0,
          0,
          0,
          0,
          0,
          0,
          0,
          0,
          0,
          0,
          0,
          0,
          0,
          0,
          0,
          0,
          0,
          0,
          0,
          0,
          0,
          0,
          0,
          0,
          0,
          0,
          0,
          0,
          0,
          0,
          0,
          0,
          0,
          0,
          0,
          0,
          0,
          0,
          0,
          0,
          0,
          0,
          0,
          0,
          0,
          0,
          0,
          0,
          0,
          0,
          0,
          0,
          0,
          0,
          0,
          0,
          0,
          0,
          0,
          0,
          0,
          0,
          0,
          0,
          0,
          0,
          0,
          0,
          0,
          0,
          0,
          0,
          0,
          0,
          0,
          0,
          0,
          0,
          0,
          0,
          0,
          0,
          0,
          0,
          0,
          0,
          0,
          0,
          0,
          0,
          0,
          0,
          0,
          0,
          0,
          0,
          0,
          0,
          0,
          0,
          0,
          0,
          0,
          0,
          0,
          0,
          0,
          0,
          0,
          0,
          0,
          0,
          0,
          0,
          0,
          0,
          0,
          0,
          0,
          0,
          0,
          0,
          0,
          0,
          0,
          0,
          0,
          0,
          0,
          0,
          0,
          0,
          0,
          0,
          0,
          0,
          0,
          0,
          0,
          0,
          0,
          0,
          0,
          0,
          0,
          0,
          0,
          0,
          0,
          0,
          0,
          0,
          0,
          0,
          0,
          0,
          0,
          0,
          0,
          0,
          0,
          0,
          0,
          0,
          0,
          0,
          0,
          0,
          0,
          0,
          0,
          0,
          0,
          0,
          0,
          0,
          0,
          0,
          0,
          0,
          0,
          0,
          0,
          0,
          0,
          0,
          0,
          0,
          0,
          0,
          0,
          0,
          0,
          0,
          0,
          0,
          0,
          0,
          0,
          0,
          0,
          0,
          0,
          0,
          0,
          0,
          0,
          0,
          0,
          0,
          0,
          0,
          0,
          0,
          0,
          0,
          0,
          0,
          0,
          0,
          0,
          0,
          0,
          0,
          0,
          0,
          0,
          0,
          0,
          0,
          0,
          0,
          0,
          0,
          0,
          0,
          0,
          0,
          0,
          0,
          0,
          0,
          0,
          0,
          0,
          0,
          0,
          0,
          0,
          0,
          0,
          0,
          0,
          0,
          0,
          0,
          0,
          0,
          0,
          0,
          0,
          0,
          0,
          0,
          0,
          0,
          0,
          0,
          0,
          0,
          0,
          0,
          0,
          0,
          0,
          0,
          0,
          0,
          0,
          0,
          0,
          0,
          0,
          0,
          0,
          0,
          0,
          0,
          0,
          0,
          0,
          0,
          0,
          0,
          0,
          0,
          0,
          0,
          0,
          0,
          0,
          0,
          0,
          0,
          0,
          0,
          0,
          0,
          0,
          0,
          0,
          0,
          0,
          0,
          0,
          0,
          0,
          0,
          0,
          0,
          0,
          0,
          0,
          0,
          0,
          0,
          0,
          0,
          0,
          0,
          0,
          0,
          0,
          0,
          0,
          0,
          0,
          0,
          0,
          0,
          0,
          0,
          0,
          0,
          0,
          0,
          0,
          0,
          0,
          0,
          0,
          0,
          0,
          0,
          0,
          0,
          0,
          0,
          0,
          0,
          0,
          0,
          0,
          0,
          0,
          0,
          0,
          0,
          0,
          0,
          0,
          0,
          0,
          0,
          0,
          0,
          0,
          0,
          0,
          0,
          0,
          0,
          0,
          0,
          0,
          0,
          0,
          0,
          0,
          0,
          0,
          0,
          0,
          0,
          0,
          0,
          0,
          0,
          0,
          0,
          0,
          0,
          0,
          0,
          0,
          0,
          0,
          0,
          0,
          0,
          0,
          0,
          0,
          0,
          0,
          0,
          0,
          0,
          0,
          0,
          0,
          0,
          0,
          0,
          0,
          0,
          0,
          0,
          0,
          0,
          0,
          0,
          0,
          0,
          0,
          0,
          0,
          0,
          0,
          0,
          0,
          0,
          0,
          0,
          0,
          0,
          0,
          0,
          0,
          0,
          0,
          0,
          0,
          0,
          0,
          0,
          0,
          0,
          0,
          0,
          0,
          0,
          0,
          0,
          0,
          0,
          0,
          0,
          0,
          0,
          0,
          0,
          0,
          0,
          0,
          0,
          0,
          0,
          0,
          0,
          0,
          0,
          0,
          0,
          0,
          0,
          0,
          0,
          0,
          0,
          0,
          0,
          0,
          0,
          0,
          0,
          0,
          0,
          0,
          0,
          0,
          0,
          0,
          0,
          0,
          0,
          0,
          0,
          0,
          0,
          0,
          0,
          0,
          0,
          0,
          0,
          0,
          0,
          0,
          0,
          0,
          0,
          0,
          0,
          0,
          0,
          0,
          0,
          0,
          0,
          0,
          0,
          0,
          0,
          0,
          0,
          0,
          0,
          0,
          0,
          0,
          0,
          0,
          0,
          0,
          0,
          0,
          0,
          0,
          0,
          0,
          0,
          0,
          0,
          0,
          0,
          0,
          0,
          0,
          0,
          0,
          0,
          0,
          0,
          0,
          0,
          0,
          0,
          0,
          0,
          0,
          0,
          0,
          0,
          0,
          0,
          0,
          0,
          0,
          0,
          0,
          0,
          0,
          0,
          0,
          0,
          0,
          0,
          0,
          0,
          0,
          0,
          0,
          0,
          0,
          0,
          0,
          0,
          0,
          0,
          0,
          0,
          0,
          0,
          0,
          0,
          0,
          0,
          0,
          0,
          0,
          0,
          0,
          0,
          0,
          0,
          0,
          0,
          0,
          0,
          0,
          0,
          0,
          0,
          0,
          0,
          0,
          0,
          0,
          0,
          0,
          0,
          0,
          0,
          0,
          0,
          0,
          0,
          0,
          0,
          0,
          0,
          0,
          0,
          0,
          0,
          0,
          0,
          0,
          0,
          0,
          0,
          0,
          0,
          0,
          0,
          0,
          0,
          0,
          0,
          0,
          0,
          0,
          0,
          0,
          0,
          0,
          0,
          0,
          0,
          0,
          0,
          0,
          0,
          0,
          0,
          0,
          0,
          0,
          0,
          0,
          0,
          0,
          0,
          0,
          0,
          0,
          0,
          0,
          0,
          0,
          0,
          0,
          0,
          0,
          0,
          0,
          0,
          0,
          0,
          0,
          0,
          0,
          0,
          0,
          0,
          0,
          0,
          0,
          0,
          0,
          0,
          0,
          0,
          0,
          0,
          0,
          0,
          0,
          0,
          0,
          0,
          0,
          0,
          0,
          0,
          0,
          0,
          0,
          0,
          0,
          0,
          0,
          0,
          0,
          0,
          0,
          0,
          0,
          0,
          0,
          0,
          0,
          0,
          0,
          0,
          0,
          0,
          0,
          0,
          0,
          0,
          0,
          0,
          0,
          0,
          0,
          0,
          0,
          0,
          0,
          0,
          0,
          0,
          0,
          0,
          0,
          0,
          0,
          0,
          0,
          0,
          0,
          0,
          0,
          0,
          0,
          0,
          0,
          0,
          0,
          0,
          0,
          0,
          0,
          0,
          0,
          0,
          0,
          0,
          0,
          0,
          0,
          0,
          0,
          0,
          0,
          0,
          0,
          0,
          0,
          0,
          0,
          0,
          0,
          0,
          0,
          0,
          0,
          0,
          0,
          0,
          0,
          0,
          0,
          0,
          0,
          0,
          0,
          0,
          0,
          0,
          0,
          0,
          0,
          0,
          0,
          0,
          0,
          0,
          0,
          0,
          0,
          0,
          0,
          0,
          0,
          0,
          0,
          0,
          0,
          0,
          0,
          0,
          0,
          0,
          0,
          0,
          0,
          0,
          0,
          0,
          0,
          0,
          0,
          0,
          0,
          0,
          0,
          0,
          0,
          0,
          0,
          0,
          0,
          0,
          0,
          0,
          0,
          0,
          0,
          0,
          0,
          0,
          0,
          0,
          0,
          0,
          0,
          0,
          0,
          0,
          0,
          0,
          0,
          0,
          0,
          0,
          0,
          0,
          0,
          0,
          0,
          0,
          0,
          0,
          0,
          0,
          0,
          0,
          0,
          0,
          0,
          0,
          0,
          0,
          0,
          0,
          0,
          0,
          0,
          0,
          0,
          0,
          0,
          0,
          0,
          0,
          0,
          0,
          0,
          0,
          0,
          0,
          0,
          0,
          0,
          0,
          0,
          0,
          0,
          0,
          0,
          0,
          0,
          0
         ],
         "y": [
          1,
          1.4142135381698608,
          1.4142135381698608,
          2,
          2.2360680103302,
          2.2360680103302,
          2.2360680103302,
          2.2360680103302,
          2.4494898319244385,
          2.4494898319244385,
          2.4494898319244385,
          2.4494898319244385,
          2.4494898319244385,
          2.4494898319244385,
          2.8284270763397217,
          2.8284270763397217,
          2.8284270763397217,
          2.8284270763397217,
          2.8284270763397217,
          3,
          3,
          3,
          3,
          3,
          3,
          3,
          3,
          3,
          3.1622776985168457,
          3.1622776985168457,
          3.1622776985168457,
          3.1622776985168457,
          3.1622776985168457,
          3.316624879837036,
          3.316624879837036,
          3.316624879837036,
          3.316624879837036,
          3.316624879837036,
          3.316624879837036,
          3.605551242828369,
          3.605551242828369,
          3.605551242828369,
          3.605551242828369,
          3.7416574954986572,
          3.7416574954986572,
          3.7416574954986572,
          4,
          4,
          4.123105525970459,
          4.123105525970459,
          4.123105525970459,
          4.123105525970459,
          4.123105525970459,
          4.242640495300293,
          4.242640495300293,
          4.242640495300293,
          4.242640495300293,
          4.242640495300293,
          4.242640495300293,
          4.242640495300293,
          4.242640495300293,
          4.242640495300293,
          4.242640495300293,
          4.242640495300293,
          4.242640495300293,
          4.242640495300293,
          4.242640495300293,
          4.242640495300293,
          4.358899116516113,
          4.358899116516113,
          4.358899116516113,
          4.358899116516113,
          4.4721360206604,
          4.4721360206604,
          4.4721360206604,
          4.4721360206604,
          4.4721360206604,
          4.4721360206604,
          4.582575798034668,
          4.582575798034668,
          4.582575798034668,
          4.582575798034668,
          4.582575798034668,
          4.582575798034668,
          4.582575798034668,
          4.582575798034668,
          4.690415859222412,
          4.690415859222412,
          4.690415859222412,
          4.690415859222412,
          4.690415859222412,
          4.690415859222412,
          4.690415859222412,
          4.690415859222412,
          4.690415859222412,
          5,
          5,
          5,
          5,
          5,
          5,
          5,
          5.099019527435303,
          5.099019527435303,
          5.099019527435303,
          5.099019527435303,
          5.099019527435303,
          5.099019527435303,
          5.099019527435303,
          5.099019527435303,
          5.099019527435303,
          5.099019527435303,
          5.099019527435303,
          5.099019527435303,
          5.099019527435303,
          5.099019527435303,
          5.099019527435303,
          5.196152210235596,
          5.196152210235596,
          5.196152210235596,
          5.196152210235596,
          5.196152210235596,
          5.385164737701416,
          5.385164737701416,
          5.385164737701416,
          5.385164737701416,
          5.385164737701416,
          5.385164737701416,
          5.385164737701416,
          5.385164737701416,
          5.385164737701416,
          5.385164737701416,
          5.385164737701416,
          5.385164737701416,
          5.385164737701416,
          5.385164737701416,
          5.4772257804870605,
          5.4772257804870605,
          5.4772257804870605,
          5.4772257804870605,
          5.4772257804870605,
          5.4772257804870605,
          5.4772257804870605,
          5.656854152679443,
          5.656854152679443,
          5.74456262588501,
          5.74456262588501,
          5.74456262588501,
          5.74456262588501,
          5.74456262588501,
          5.74456262588501,
          5.74456262588501,
          5.74456262588501,
          5.74456262588501,
          5.74456262588501,
          5.74456262588501,
          5.74456262588501,
          5.74456262588501,
          5.830951690673828,
          5.830951690673828,
          5.830951690673828,
          5.830951690673828,
          5.830951690673828,
          5.830951690673828,
          5.830951690673828,
          5.830951690673828,
          5.830951690673828,
          5.916079998016357,
          5.916079998016357,
          5.916079998016357,
          5.916079998016357,
          5.916079998016357,
          5.916079998016357,
          5.916079998016357,
          6,
          6,
          6,
          6,
          6,
          6.082762718200684,
          6.082762718200684,
          6.082762718200684,
          6.164413928985596,
          6.164413928985596,
          6.164413928985596,
          6.164413928985596,
          6.164413928985596,
          6.164413928985596,
          6.164413928985596,
          6.164413928985596,
          6.164413928985596,
          6.164413928985596,
          6.164413928985596,
          6.164413928985596,
          6.164413928985596,
          6.164413928985596,
          6.164413928985596,
          6.164413928985596,
          6.164413928985596,
          6.164413928985596,
          6.324555397033691,
          6.324555397033691,
          6.324555397033691,
          6.324555397033691,
          6.324555397033691,
          6.324555397033691,
          6.324555397033691,
          6.324555397033691,
          6.4031243324279785,
          6.4031243324279785,
          6.4031243324279785,
          6.4031243324279785,
          6.4031243324279785,
          6.4031243324279785,
          6.4031243324279785,
          6.4031243324279785,
          6.4031243324279785,
          6.4031243324279785,
          6.4031243324279785,
          6.4031243324279785,
          6.4031243324279785,
          6.4031243324279785,
          6.4031243324279785,
          6.4031243324279785,
          6.4031243324279785,
          6.480740547180176,
          6.480740547180176,
          6.480740547180176,
          6.480740547180176,
          6.480740547180176,
          6.480740547180176,
          6.480740547180176,
          6.480740547180176,
          6.557438373565674,
          6.557438373565674,
          6.557438373565674,
          6.557438373565674,
          6.557438373565674,
          6.633249759674072,
          6.633249759674072,
          6.633249759674072,
          6.633249759674072,
          6.7082037925720215,
          6.7082037925720215,
          6.7082037925720215,
          6.7082037925720215,
          6.7082037925720215,
          6.7082037925720215,
          6.7082037925720215,
          6.7082037925720215,
          6.7082037925720215,
          6.7082037925720215,
          6.78233003616333,
          6.78233003616333,
          6.78233003616333,
          6.78233003616333,
          6.78233003616333,
          6.78233003616333,
          6.928203105926514,
          7,
          7,
          7,
          7,
          7,
          7,
          7,
          7,
          7,
          7,
          7,
          7,
          7,
          7,
          7,
          7,
          7.071067810058594,
          7.071067810058594,
          7.071067810058594,
          7.071067810058594,
          7.071067810058594,
          7.071067810058594,
          7.071067810058594,
          7.071067810058594,
          7.071067810058594,
          7.071067810058594,
          7.071067810058594,
          7.141428470611572,
          7.141428470611572,
          7.141428470611572,
          7.141428470611572,
          7.141428470611572,
          7.141428470611572,
          7.141428470611572,
          7.141428470611572,
          7.141428470611572,
          7.141428470611572,
          7.211102485656738,
          7.211102485656738,
          7.280109882354736,
          7.280109882354736,
          7.280109882354736,
          7.280109882354736,
          7.280109882354736,
          7.280109882354736,
          7.280109882354736,
          7.280109882354736,
          7.280109882354736,
          7.280109882354736,
          7.348469257354736,
          7.348469257354736,
          7.348469257354736,
          7.348469257354736,
          7.348469257354736,
          7.348469257354736,
          7.348469257354736,
          7.348469257354736,
          7.348469257354736,
          7.348469257354736,
          7.348469257354736,
          7.348469257354736,
          7.348469257354736,
          7.348469257354736,
          7.348469257354736,
          7.348469257354736,
          7.348469257354736,
          7.4833149909973145,
          7.4833149909973145,
          7.4833149909973145,
          7.4833149909973145,
          7.4833149909973145,
          7.4833149909973145,
          7.549834251403809,
          7.549834251403809,
          7.549834251403809,
          7.549834251403809,
          7.549834251403809,
          7.549834251403809,
          7.6157732009887695,
          7.6157732009887695,
          7.6157732009887695,
          7.6157732009887695,
          7.681145668029785,
          7.681145668029785,
          7.681145668029785,
          7.681145668029785,
          7.681145668029785,
          7.681145668029785,
          7.681145668029785,
          7.681145668029785,
          7.681145668029785,
          7.8102498054504395,
          7.8102498054504395,
          7.8102498054504395,
          7.8102498054504395,
          7.8102498054504395,
          7.8102498054504395,
          7.8102498054504395,
          7.8102498054504395,
          7.8102498054504395,
          7.8102498054504395,
          7.8102498054504395,
          7.8102498054504395,
          7.8102498054504395,
          7.8102498054504395,
          7.874007701873779,
          7.874007701873779,
          7.874007701873779,
          7.874007701873779,
          7.874007701873779,
          7.874007701873779,
          7.874007701873779,
          7.874007701873779,
          7.874007701873779,
          7.874007701873779,
          7.874007701873779,
          7.874007701873779,
          7.874007701873779,
          7.874007701873779,
          7.874007701873779,
          7.874007701873779,
          7.874007701873779,
          7.874007701873779,
          8.062257766723633,
          8.062257766723633,
          8.062257766723633,
          8.062257766723633,
          8.062257766723633,
          8.062257766723633,
          8.062257766723633,
          8.062257766723633,
          8.062257766723633,
          8.062257766723633,
          8.062257766723633,
          8.062257766723633,
          8.062257766723633,
          8.062257766723633,
          8.062257766723633,
          8.062257766723633,
          8.062257766723633,
          8.062257766723633,
          8.062257766723633,
          8.062257766723633,
          8.124038696289062,
          8.124038696289062,
          8.124038696289062,
          8.124038696289062,
          8.124038696289062,
          8.124038696289062,
          8.124038696289062,
          8.124038696289062,
          8.124038696289062,
          8.124038696289062,
          8.124038696289062,
          8.124038696289062,
          8.124038696289062,
          8.185352325439453,
          8.185352325439453,
          8.185352325439453,
          8.185352325439453,
          8.185352325439453,
          8.185352325439453,
          8.246211051940918,
          8.246211051940918,
          8.246211051940918,
          8.246211051940918,
          8.306623458862305,
          8.306623458862305,
          8.306623458862305,
          8.306623458862305,
          8.306623458862305,
          8.306623458862305,
          8.306623458862305,
          8.306623458862305,
          8.306623458862305,
          8.306623458862305,
          8.306623458862305,
          8.306623458862305,
          8.306623458862305,
          8.306623458862305,
          8.366600036621094,
          8.366600036621094,
          8.366600036621094,
          8.366600036621094,
          8.366600036621094,
          8.366600036621094,
          8.485280990600586,
          8.485280990600586,
          8.485280990600586,
          8.485280990600586,
          8.485280990600586,
          8.485280990600586,
          8.485280990600586,
          8.5440034866333,
          8.5440034866333,
          8.5440034866333,
          8.5440034866333,
          8.5440034866333,
          8.5440034866333,
          8.5440034866333,
          8.5440034866333,
          8.5440034866333,
          8.602325439453125,
          8.602325439453125,
          8.602325439453125,
          8.602325439453125,
          8.602325439453125,
          8.602325439453125,
          8.602325439453125,
          8.602325439453125,
          8.602325439453125,
          8.602325439453125,
          8.602325439453125,
          8.602325439453125,
          8.602325439453125,
          8.602325439453125,
          8.602325439453125,
          8.602325439453125,
          8.66025447845459,
          8.66025447845459,
          8.66025447845459,
          8.66025447845459,
          8.66025447845459,
          8.66025447845459,
          8.66025447845459,
          8.66025447845459,
          8.66025447845459,
          8.66025447845459,
          8.66025447845459,
          8.66025447845459,
          8.717798233032227,
          8.717798233032227,
          8.717798233032227,
          8.774964332580566,
          8.774964332580566,
          8.774964332580566,
          8.774964332580566,
          8.774964332580566,
          8.774964332580566,
          8.774964332580566,
          8.774964332580566,
          8.774964332580566,
          8.83176040649414,
          8.83176040649414,
          8.83176040649414,
          8.83176040649414,
          8.83176040649414,
          8.83176040649414,
          8.83176040649414,
          8.83176040649414,
          8.83176040649414,
          8.9442720413208,
          8.9442720413208,
          8.9442720413208,
          9,
          9,
          9,
          9,
          9,
          9,
          9,
          9,
          9,
          9,
          9,
          9.05538558959961,
          9.05538558959961,
          9.05538558959961,
          9.05538558959961,
          9.05538558959961,
          9.05538558959961,
          9.110433578491211,
          9.110433578491211,
          9.110433578491211,
          9.110433578491211,
          9.110433578491211,
          9.110433578491211,
          9.110433578491211,
          9.110433578491211,
          9.110433578491211,
          9.110433578491211,
          9.110433578491211,
          9.110433578491211,
          9.110433578491211,
          9.110433578491211,
          9.110433578491211,
          9.165151596069336,
          9.165151596069336,
          9.165151596069336,
          9.165151596069336,
          9.165151596069336,
          9.165151596069336,
          9.219544410705566,
          9.219544410705566,
          9.219544410705566,
          9.219544410705566,
          9.219544410705566,
          9.219544410705566,
          9.219544410705566,
          9.219544410705566,
          9.219544410705566,
          9.273618698120117,
          9.273618698120117,
          9.273618698120117,
          9.273618698120117,
          9.273618698120117,
          9.273618698120117,
          9.273618698120117,
          9.273618698120117,
          9.273618698120117,
          9.273618698120117,
          9.273618698120117,
          9.380831718444824,
          9.380831718444824,
          9.380831718444824,
          9.380831718444824,
          9.433980941772461,
          9.433980941772461,
          9.433980941772461,
          9.433980941772461,
          9.433980941772461,
          9.433980941772461,
          9.433980941772461,
          9.433980941772461,
          9.433980941772461,
          9.433980941772461,
          9.433980941772461,
          9.433980941772461,
          9.433980941772461,
          9.433980941772461,
          9.433980941772461,
          9.486832618713379,
          9.486832618713379,
          9.486832618713379,
          9.486832618713379,
          9.486832618713379,
          9.486832618713379,
          9.486832618713379,
          9.486832618713379,
          9.486832618713379,
          9.486832618713379,
          9.486832618713379,
          9.486832618713379,
          9.486832618713379,
          9.539392471313477,
          9.539392471313477,
          9.539392471313477,
          9.539392471313477,
          9.539392471313477,
          9.539392471313477,
          9.539392471313477,
          9.643651008605957,
          9.643651008605957,
          9.643651008605957,
          9.643651008605957,
          9.643651008605957,
          9.643651008605957,
          9.643651008605957,
          9.643651008605957,
          9.643651008605957,
          9.69536018371582,
          9.69536018371582,
          9.69536018371582,
          9.69536018371582,
          9.69536018371582,
          9.69536018371582,
          9.69536018371582,
          9.69536018371582,
          9.69536018371582,
          9.69536018371582,
          9.69536018371582,
          9.69536018371582,
          9.797959327697754,
          9.797959327697754,
          9.848857879638672,
          9.848857879638672,
          9.848857879638672,
          9.848857879638672,
          9.848857879638672,
          9.848857879638672,
          9.848857879638672,
          9.848857879638672,
          9.848857879638672,
          9.899495124816895,
          9.899495124816895,
          9.899495124816895,
          9.899495124816895,
          9.899495124816895,
          9.899495124816895,
          9.899495124816895,
          9.899495124816895,
          9.899495124816895,
          9.899495124816895,
          9.899495124816895,
          9.899495124816895,
          9.899495124816895,
          9.899495124816895,
          9.899495124816895,
          9.949873924255371,
          9.949873924255371,
          9.949873924255371,
          9.949873924255371,
          9.949873924255371,
          9.949873924255371,
          10,
          10,
          10,
          10,
          10,
          10.049875259399414,
          10.049875259399414,
          10.049875259399414,
          10.049875259399414,
          10.049875259399414,
          10.049875259399414,
          10.049875259399414,
          10.049875259399414,
          10.049875259399414,
          10.049875259399414,
          10.099504470825195,
          10.099504470825195,
          10.099504470825195,
          10.099504470825195,
          10.099504470825195,
          10.099504470825195,
          10.198039054870605,
          10.198039054870605,
          10.198039054870605,
          10.198039054870605,
          10.198039054870605,
          10.198039054870605,
          10.24695110321045,
          10.24695110321045,
          10.24695110321045,
          10.24695110321045,
          10.24695110321045,
          10.24695110321045,
          10.24695110321045,
          10.24695110321045,
          10.24695110321045,
          10.24695110321045,
          10.24695110321045,
          10.29563045501709,
          10.29563045501709,
          10.29563045501709,
          10.29563045501709,
          10.29563045501709,
          10.29563045501709,
          10.29563045501709,
          10.29563045501709,
          10.29563045501709,
          10.29563045501709,
          10.29563045501709,
          10.29563045501709,
          10.344079971313477,
          10.344079971313477,
          10.344079971313477,
          10.344079971313477,
          10.344079971313477,
          10.344079971313477,
          10.344079971313477,
          10.392304420471191,
          10.392304420471191,
          10.392304420471191,
          10.440306663513184,
          10.440306663513184,
          10.440306663513184,
          10.488088607788086,
          10.488088607788086,
          10.488088607788086,
          10.488088607788086,
          10.488088607788086,
          10.488088607788086,
          10.488088607788086,
          10.488088607788086,
          10.488088607788086,
          10.488088607788086,
          10.488088607788086,
          10.488088607788086,
          10.488088607788086,
          10.630146026611328,
          10.630146026611328,
          10.630146026611328,
          10.630146026611328,
          10.630146026611328,
          10.630146026611328,
          10.677078247070312,
          10.677078247070312,
          10.677078247070312,
          10.677078247070312,
          10.677078247070312,
          10.677078247070312,
          10.677078247070312,
          10.677078247070312,
          10.677078247070312,
          10.677078247070312,
          10.677078247070312,
          10.677078247070312,
          10.72380542755127,
          10.72380542755127,
          10.72380542755127,
          10.72380542755127,
          10.72380542755127,
          10.770329475402832,
          10.770329475402832,
          10.770329475402832,
          10.816654205322266,
          10.816654205322266,
          10.816654205322266,
          10.816654205322266,
          10.816654205322266,
          10.816654205322266,
          10.816654205322266,
          10.816654205322266,
          10.816654205322266,
          10.816654205322266,
          10.816654205322266,
          10.816654205322266,
          10.862780570983887,
          10.862780570983887,
          10.862780570983887,
          10.862780570983887,
          10.954451560974121,
          10.954451560974121,
          10.954451560974121,
          10.954451560974121,
          11,
          11,
          11,
          11,
          11,
          11.045360565185547,
          11.045360565185547,
          11.045360565185547,
          11.045360565185547,
          11.045360565185547,
          11.045360565185547,
          11.045360565185547,
          11.045360565185547,
          11.045360565185547,
          11.045360565185547,
          11.045360565185547,
          11.045360565185547,
          11.090536117553711,
          11.090536117553711,
          11.090536117553711,
          11.090536117553711,
          11.180339813232422,
          11.180339813232422,
          11.180339813232422,
          11.180339813232422,
          11.180339813232422,
          11.180339813232422,
          11.180339813232422,
          11.180339813232422,
          11.180339813232422,
          11.180339813232422,
          11.180339813232422,
          11.180339813232422,
          11.180339813232422,
          11.224971771240234,
          11.224971771240234,
          11.224971771240234,
          11.224971771240234,
          11.224971771240234,
          11.224971771240234,
          11.224971771240234,
          11.224971771240234,
          11.224971771240234,
          11.224971771240234,
          11.224971771240234,
          11.224971771240234,
          11.224971771240234,
          11.357816696166992,
          11.357816696166992,
          11.357816696166992,
          11.357816696166992,
          11.357816696166992,
          11.357816696166992,
          11.357816696166992,
          11.357816696166992,
          11.357816696166992,
          11.401754379272461,
          11.445523262023926,
          11.445523262023926,
          11.445523262023926,
          11.445523262023926,
          11.532562255859375,
          11.532562255859375,
          11.532562255859375,
          11.532562255859375,
          11.532562255859375,
          11.575837135314941,
          11.575837135314941,
          11.575837135314941,
          11.575837135314941,
          11.575837135314941,
          11.575837135314941,
          11.575837135314941,
          11.575837135314941,
          11.575837135314941,
          11.575837135314941,
          11.575837135314941,
          11.661903381347656,
          11.661903381347656,
          11.704699516296387,
          11.704699516296387,
          11.704699516296387,
          11.704699516296387,
          11.704699516296387,
          11.704699516296387,
          11.747340202331543,
          11.747340202331543,
          11.747340202331543,
          11.747340202331543,
          11.747340202331543,
          11.747340202331543,
          11.789826393127441,
          11.789826393127441,
          11.832159996032715,
          11.832159996032715,
          11.832159996032715,
          11.832159996032715,
          11.87434196472168,
          11.87434196472168,
          11.87434196472168,
          11.916375160217285,
          11.916375160217285,
          12,
          12.041594505310059,
          12.041594505310059,
          12.083045959472656,
          12.083045959472656,
          12.083045959472656,
          12.083045959472656,
          12.083045959472656,
          12.12435531616211,
          12.12435531616211,
          12.165525436401367,
          12.206555366516113,
          12.206555366516113,
          12.206555366516113,
          12.206555366516113,
          12.206555366516113,
          12.247448921203613,
          12.247448921203613,
          12.247448921203613,
          12.328827857971191,
          12.328827857971191,
          12.369317054748535,
          12.369317054748535,
          12.409673690795898,
          12.449899673461914,
          12.449899673461914,
          12.449899673461914,
          12.529964447021484,
          12.569805145263672,
          12.569805145263672,
          12.569805145263672,
          12.569805145263672,
          12.649110794067383,
          12.649110794067383,
          12.688577651977539,
          12.688577651977539,
          12.688577651977539,
          12.727922439575195,
          12.727922439575195,
          12.767145156860352,
          12.767145156860352,
          12.767145156860352,
          12.806248664855957,
          12.845232963562012,
          12.884099006652832,
          12.961481094360352,
          13,
          13.03840446472168,
          13.076696395874023,
          13.076696395874023,
          13.076696395874023,
          13.076696395874023,
          13.152946472167969,
          13.152946472167969,
          13.190905570983887,
          13.190905570983887,
          13.190905570983887,
          13.190905570983887,
          13.190905570983887,
          13.190905570983887,
          13.34166431427002,
          13.34166431427002,
          13.379088401794434,
          13.416407585144043,
          13.416407585144043,
          13.45362377166748,
          13.56466007232666,
          13.601470947265625,
          13.601470947265625,
          13.601470947265625,
          13.638181686401367,
          13.638181686401367,
          13.892443656921387,
          13.892443656921387,
          13.928388595581055,
          13.928388595581055,
          13.964240074157715,
          13.964240074157715,
          14,
          14.03566837310791,
          14.071247100830078,
          14.071247100830078,
          14.071247100830078,
          14.177447319030762,
          14.247806549072266,
          14.282856941223145,
          14.456831932067871,
          14.456831932067871,
          14.491376876831055,
          14.59451961517334,
          14.628738403320312,
          14.696938514709473,
          14.866068840026855,
          15,
          15.066518783569336,
          15.42724895477295,
          15.42724895477295,
          15.55634880065918,
          15.937376976013184,
          16.278820037841797,
          16.34013557434082,
          16.431676864624023,
          16.492422103881836,
          16.61324691772461,
          16.67333221435547,
          16.76305389404297,
          17.14642906188965,
          18.384777069091797,
          18.920886993408203,
          19.10497283935547,
          24.433584213256836,
          38.40572738647461,
          43.15089797973633
         ]
        },
        {
         "hoverinfo": "text",
         "hovertext": [
          "(47.29693603515625, 64.53681182861328)",
          "(25.942243576049805, 27.94637680053711)",
          "(25.70992088317871, 26.645824432373047)",
          "(23.76972770690918, 24.06241798400879)",
          "(23.622024536132812, 23.76972770690918)",
          "(23.021728515625, 25.238859176635742)",
          "(22.86919403076172, 23.043437957763672)",
          "(22.69361114501953, 22.737634658813477)",
          "(22.56102752685547, 23.0)",
          "(22.516660690307617, 22.671567916870117)",
          "(22.38302993774414, 23.600847244262695)",
          "(22.338308334350586, 22.44994354248047)",
          "(22.113344192504883, 22.44994354248047)",
          "(22.045408248901367, 27.184555053710938)",
          "(21.725561141967773, 24.020824432373047)",
          "(21.3775577545166, 21.470911026000977)",
          "(21.02379608154297, 26.832815170288086)",
          "(20.904544830322266, 22.56102752685547)",
          "(20.784608840942383, 22.825424194335938)",
          "(20.615528106689453, 22.649503707885742)",
          "(20.39607810974121, 20.639766693115234)",
          "(20.34699058532715, 21.047565460205078)",
          "(20.32240104675293, 22.516660690307617)",
          "(20.099750518798828, 20.420578002929688)",
          "(20.099750518798828, 20.248456954956055)",
          "(19.84943389892578, 26.419689178466797)",
          "(19.72308349609375, 20.615528106689453)",
          "(19.72308349609375, 20.2237491607666)",
          "(19.646883010864258, 19.72308349609375)",
          "(19.54482078552246, 21.189620971679688)",
          "(19.339078903198242, 20.34699058532715)",
          "(19.10497283935547, 20.02498435974121)",
          "(19.05255889892578, 20.248456954956055)",
          "(18.84144401550293, 20.71231460571289)",
          "(18.81488800048828, 20.688159942626953)",
          "(18.788293838500977, 23.72762107849121)",
          "(18.788293838500977, 22.226110458374023)",
          "(18.574174880981445, 19.10497283935547)",
          "(18.547237396240234, 20.02498435974121)",
          "(18.466184616088867, 18.973665237426758)",
          "(18.466184616088867, 19.39072036743164)",
          "(18.384777069091797, 18.601076126098633)",
          "(18.275667190551758, 19.51922035217285)",
          "(18.220867156982422, 20.124610900878906)",
          "(18.16590118408203, 18.81488800048828)",
          "(18.138357162475586, 18.466184616088867)",
          "(18.138357162475586, 20.615528106689453)",
          "(18.138357162475586, 20.02498435974121)",
          "(18.055469512939453, 20.542638778686523)",
          "(18.0, 18.138357162475586)",
          "(17.972200393676758, 20.928449630737305)",
          "(17.916473388671875, 18.055469512939453)",
          "(17.83255386352539, 20.14944076538086)",
          "(17.83255386352539, 18.275667190551758)",
          "(17.804492950439453, 23.958297729492188)",
          "(17.748239517211914, 19.02629852294922)",
          "(17.72004508972168, 19.078784942626953)",
          "(17.69180679321289, 21.931713104248047)",
          "(17.6068172454834, 19.26136016845703)",
          "(17.492855072021484, 19.235383987426758)",
          "(17.464248657226562, 20.2237491607666)",
          "(17.464248657226562, 17.804492950439453)",
          "(17.291616439819336, 21.189620971679688)",
          "(17.291616439819336, 17.492855072021484)",
          "(17.291616439819336, 17.57839584350586)",
          "(17.233688354492188, 19.442222595214844)",
          "(17.20465087890625, 18.41195297241211)",
          "(17.20465087890625, 17.464248657226562)",
          "(17.14642906188965, 18.275667190551758)",
          "(17.029386520385742, 19.339078903198242)",
          "(17.0, 17.8885440826416)",
          "(16.970561981201172, 18.574174880981445)",
          "(16.911535263061523, 21.283796310424805)",
          "(16.911535263061523, 21.0)",
          "(16.881942749023438, 17.0880069732666)",
          "(16.881942749023438, 18.574174880981445)",
          "(16.881942749023438, 18.70828628540039)",
          "(16.792856216430664, 17.57839584350586)",
          "(16.76305389404297, 18.330303192138672)",
          "(16.76305389404297, 18.055469512939453)",
          "(16.76305389404297, 19.67231559753418)",
          "(16.76305389404297, 19.02629852294922)",
          "(16.76305389404297, 18.601076126098633)",
          "(16.76305389404297, 17.916473388671875)",
          "(16.733200073242188, 19.0)",
          "(16.733200073242188, 16.911535263061523)",
          "(16.733200073242188, 17.233688354492188)",
          "(16.67333221435547, 19.416488647460938)",
          "(16.67333221435547, 21.656408309936523)",
          "(16.67333221435547, 20.44504737854004)",
          "(16.67333221435547, 18.466184616088867)",
          "(16.61324691772461, 23.151674270629883)",
          "(16.5831241607666, 16.67333221435547)",
          "(16.5831241607666, 16.76305389404297)",
          "(16.552946090698242, 17.34935188293457)",
          "(16.5227108001709, 19.72308349609375)",
          "(16.5227108001709, 19.26136016845703)",
          "(16.431676864624023, 19.26136016845703)",
          "(16.431676864624023, 17.748239517211914)",
          "(16.401220321655273, 17.14642906188965)",
          "(16.401220321655273, 18.275667190551758)",
          "(16.309507369995117, 17.20465087890625)",
          "(16.309507369995117, 17.11724281311035)",
          "(16.309507369995117, 19.02629852294922)",
          "(16.278820037841797, 17.72004508972168)",
          "(16.278820037841797, 17.029386520385742)",
          "(16.248077392578125, 17.972200393676758)",
          "(16.248077392578125, 18.0)",
          "(16.155494689941406, 16.6433162689209)",
          "(16.155494689941406, 19.748416900634766)",
          "(16.155494689941406, 22.38302993774414)",
          "(16.155494689941406, 21.40093421936035)",
          "(16.155494689941406, 20.4939022064209)",
          "(16.124515533447266, 21.656408309936523)",
          "(16.093477249145508, 17.83255386352539)",
          "(16.031219482421875, 19.05255889892578)",
          "(16.031219482421875, 16.401220321655273)",
          "(16.031219482421875, 20.46949005126953)",
          "(16.031219482421875, 17.52141571044922)",
          "(16.031219482421875, 17.20465087890625)",
          "(16.031219482421875, 16.76305389404297)",
          "(15.937376976013184, 16.76305389404297)",
          "(15.937376976013184, 16.5831241607666)",
          "(15.842979431152344, 16.309507369995117)",
          "(15.842979431152344, 16.61324691772461)",
          "(15.842979431152344, 18.466184616088867)",
          "(15.81138801574707, 18.0)",
          "(15.81138801574707, 17.464248657226562)",
          "(15.779733657836914, 21.189620971679688)",
          "(15.779733657836914, 22.226110458374023)",
          "(15.748015403747559, 20.542638778686523)",
          "(15.65247631072998, 16.031219482421875)",
          "(15.588457107543945, 19.131126403808594)",
          "(15.588457107543945, 18.138357162475586)",
          "(15.588457107543945, 16.431676864624023)",
          "(15.588457107543945, 20.02498435974121)",
          "(15.55634880065918, 16.309507369995117)",
          "(15.55634880065918, 16.031219482421875)",
          "(15.42724895477295, 15.68438720703125)",
          "(15.42724895477295, 16.248077392578125)",
          "(15.394804000854492, 15.620499610900879)",
          "(15.394804000854492, 16.155494689941406)",
          "(15.394804000854492, 15.68438720703125)",
          "(15.36229133605957, 18.16590118408203)",
          "(15.329710006713867, 15.620499610900879)",
          "(15.29705810546875, 17.14642906188965)",
          "(15.29705810546875, 18.357559204101562)",
          "(15.29705810546875, 18.6279354095459)",
          "(15.29705810546875, 17.8885440826416)",
          "(15.264337539672852, 16.5831241607666)",
          "(15.231546401977539, 17.72004508972168)",
          "(15.165750503540039, 15.905973434448242)",
          "(15.165750503540039, 20.32240104675293)",
          "(15.165750503540039, 18.275667190551758)",
          "(15.165750503540039, 15.29705810546875)",
          "(15.165750503540039, 18.788293838500977)",
          "(15.132745742797852, 16.155494689941406)",
          "(15.099668502807617, 17.464248657226562)",
          "(15.066518783569336, 15.905973434448242)",
          "(15.066518783569336, 17.0880069732666)",
          "(15.066518783569336, 16.552946090698242)",
          "(15.066518783569336, 17.464248657226562)",
          "(15.033296585083008, 17.11724281311035)",
          "(15.033296585083008, 16.76305389404297)",
          "(15.033296585083008, 15.748015403747559)",
          "(15.033296585083008, 16.093477249145508)",
          "(15.033296585083008, 18.70828628540039)",
          "(15.0, 16.431676864624023)",
          "(14.899664878845215, 17.6068172454834)",
          "(14.899664878845215, 21.118711471557617)",
          "(14.866068840026855, 17.916473388671875)",
          "(14.866068840026855, 21.40093421936035)",
          "(14.798648834228516, 18.055469512939453)",
          "(14.798648834228516, 19.84943389892578)",
          "(14.764822959899902, 14.866068840026855)",
          "(14.764822959899902, 15.264337539672852)",
          "(14.73091983795166, 23.430749893188477)",
          "(14.73091983795166, 15.905973434448242)",
          "(14.73091983795166, 17.14642906188965)",
          "(14.696938514709473, 18.973665237426758)",
          "(14.696938514709473, 17.37814712524414)",
          "(14.696938514709473, 18.466184616088867)",
          "(14.696938514709473, 15.165750503540039)",
          "(14.628738403320312, 14.73091983795166)",
          "(14.59451961517334, 17.37814712524414)",
          "(14.59451961517334, 17.0)",
          "(14.560219764709473, 15.066518783569336)",
          "(14.525838851928711, 16.431676864624023), multiplicity: 2",
          "(14.525838851928711, 16.431676864624023), multiplicity: 2",
          "(14.525838851928711, 15.524174690246582)",
          "(14.525838851928711, 15.033296585083008)",
          "(14.491376876831055, 15.132745742797852)",
          "(14.456831932067871, 19.87460708618164)",
          "(14.456831932067871, 15.165750503540039)",
          "(14.456831932067871, 16.76305389404297)",
          "(14.352700233459473, 18.027755737304688)",
          "(14.352700233459473, 21.3775577545166)",
          "(14.352700233459473, 20.639766693115234)",
          "(14.352700233459473, 19.05255889892578)",
          "(14.352700233459473, 14.456831932067871)",
          "(14.352700233459473, 19.646883010864258)",
          "(14.352700233459473, 15.165750503540039)",
          "(14.317821502685547, 20.639766693115234)",
          "(14.282856941223145, 23.958297729492188)",
          "(14.247806549072266, 15.588457107543945)",
          "(14.21267032623291, 17.11724281311035)",
          "(14.177447319030762, 22.045408248901367)",
          "(14.177447319030762, 16.5831241607666)",
          "(14.177447319030762, 14.560219764709473)",
          "(14.177447319030762, 15.937376976013184)",
          "(14.177447319030762, 15.394804000854492)",
          "(14.177447319030762, 14.491376876831055)",
          "(14.142135620117188, 15.165750503540039)",
          "(14.071247100830078, 19.0)",
          "(14.071247100830078, 14.352700233459473)",
          "(14.071247100830078, 16.309507369995117)",
          "(14.03566837310791, 16.155494689941406)",
          "(14.03566837310791, 17.0880069732666)",
          "(14.0, 14.866068840026855)",
          "(13.964240074157715, 21.840330123901367)",
          "(13.964240074157715, 14.899664878845215)",
          "(13.964240074157715, 16.733200073242188)",
          "(13.964240074157715, 16.031219482421875)",
          "(13.964240074157715, 15.55634880065918)",
          "(13.928388595581055, 14.491376876831055)",
          "(13.928388595581055, 20.832666397094727)",
          "(13.928388595581055, 19.748416900634766)",
          "(13.928388595581055, 16.401220321655273)",
          "(13.928388595581055, 14.352700233459473)",
          "(13.928388595581055, 16.18641471862793)",
          "(13.928388595581055, 15.132745742797852)",
          "(13.928388595581055, 16.5831241607666)",
          "(13.928388595581055, 14.59451961517334)",
          "(13.892443656921387, 15.0)",
          "(13.892443656921387, 18.788293838500977)",
          "(13.784049034118652, 17.464248657226562)",
          "(13.747727394104004, 22.44994354248047)",
          "(13.747727394104004, 18.138357162475586)",
          "(13.747727394104004, 15.29705810546875)",
          "(13.747727394104004, 15.55634880065918)",
          "(13.747727394104004, 15.620499610900879)",
          "(13.747727394104004, 20.615528106689453)",
          "(13.747727394104004, 15.65247631072998)",
          "(13.747727394104004, 15.0)",
          "(13.67479419708252, 15.29705810546875)",
          "(13.67479419708252, 19.67231559753418)",
          "(13.638181686401367, 14.59451961517334)",
          "(13.601470947265625, 16.309507369995117)",
          "(13.601470947265625, 16.34013557434082)",
          "(13.601470947265625, 20.420578002929688)",
          "(13.601470947265625, 14.21267032623291)",
          "(13.601470947265625, 19.697715759277344)",
          "(13.601470947265625, 13.928388595581055)",
          "(13.601470947265625, 19.824228286743164)",
          "(13.56466007232666, 15.65247631072998)",
          "(13.56466007232666, 15.165750503540039)",
          "(13.490737915039062, 19.697715759277344)",
          "(13.490737915039062, 13.928388595581055)",
          "(13.490737915039062, 15.620499610900879)",
          "(13.490737915039062, 15.68438720703125)",
          "(13.490737915039062, 18.81488800048828)",
          "(13.490737915039062, 16.76305389404297)",
          "(13.45362377166748, 13.928388595581055)",
          "(13.45362377166748, 18.466184616088867)",
          "(13.45362377166748, 18.16590118408203)",
          "(13.45362377166748, 16.5831241607666)",
          "(13.416407585144043, 16.309507369995117)",
          "(13.379088401794434, 14.03566837310791)",
          "(13.379088401794434, 17.492855072021484)",
          "(13.34166431427002, 17.233688354492188)",
          "(13.34166431427002, 17.37814712524414)",
          "(13.34166431427002, 20.808652877807617)",
          "(13.34166431427002, 16.76305389404297)",
          "(13.34166431427002, 15.68438720703125)",
          "(13.304134368896484, 14.764822959899902)",
          "(13.304134368896484, 15.033296585083008)",
          "(13.190905570983887, 14.628738403320312)",
          "(13.190905570983887, 15.394804000854492)",
          "(13.190905570983887, 14.071247100830078)",
          "(13.190905570983887, 13.747727394104004)",
          "(13.152946472167969, 18.16590118408203)",
          "(13.152946472167969, 23.0)",
          "(13.152946472167969, 17.11724281311035)",
          "(13.152946472167969, 14.899664878845215)",
          "(13.152946472167969, 13.601470947265625)",
          "(13.152946472167969, 16.76305389404297)",
          "(13.076696395874023, 19.26136016845703)",
          "(13.076696395874023, 16.124515533447266)",
          "(13.076696395874023, 19.51922035217285)",
          "(13.03840446472168, 13.152946472167969)",
          "(13.03840446472168, 19.313207626342773)",
          "(13.03840446472168, 13.45362377166748)",
          "(13.03840446472168, 20.420578002929688)",
          "(13.03840446472168, 19.646883010864258)",
          "(13.03840446472168, 14.491376876831055)",
          "(13.03840446472168, 14.247806549072266)",
          "(13.03840446472168, 13.34166431427002)",
          "(13.0, 14.071247100830078)",
          "(13.0, 14.866068840026855)",
          "(12.961481094360352, 15.165750503540039)",
          "(12.884099006652832, 19.67231559753418)",
          "(12.884099006652832, 14.560219764709473)",
          "(12.884099006652832, 13.747727394104004)",
          "(12.884099006652832, 17.492855072021484)",
          "(12.884099006652832, 13.638181686401367)",
          "(12.884099006652832, 21.470911026000977)",
          "(12.845232963562012, 14.456831932067871)",
          "(12.845232963562012, 13.34166431427002)",
          "(12.845232963562012, 17.464248657226562)",
          "(12.806248664855957, 15.394804000854492)",
          "(12.806248664855957, 13.0)",
          "(12.806248664855957, 16.401220321655273)",
          "(12.806248664855957, 22.045408248901367)",
          "(12.727922439575195, 13.152946472167969)",
          "(12.727922439575195, 16.6433162689209)",
          "(12.727922439575195, 12.806248664855957)",
          "(12.688577651977539, 13.638181686401367)",
          "(12.688577651977539, 15.905973434448242)",
          "(12.688577651977539, 21.424285888671875)",
          "(12.688577651977539, 16.61324691772461)",
          "(12.688577651977539, 14.764822959899902)",
          "(12.649110794067383, 12.688577651977539)",
          "(12.649110794067383, 15.132745742797852)",
          "(12.569805145263672, 13.45362377166748)",
          "(12.569805145263672, 15.033296585083008)",
          "(12.569805145263672, 13.152946472167969)",
          "(12.569805145263672, 13.67479419708252)",
          "(12.569805145263672, 18.275667190551758)",
          "(12.569805145263672, 16.309507369995117)",
          "(12.529964447021484, 18.384777069091797)",
          "(12.529964447021484, 15.779733657836914)",
          "(12.449899673461914, 13.928388595581055)",
          "(12.449899673461914, 14.282856941223145)",
          "(12.409673690795898, 13.928388595581055)",
          "(12.409673690795898, 19.621416091918945)",
          "(12.409673690795898, 13.601470947265625)",
          "(12.369317054748535, 19.235383987426758)",
          "(12.369317054748535, 20.856653213500977)",
          "(12.369317054748535, 15.0)",
          "(12.369317054748535, 18.248287200927734)",
          "(12.369317054748535, 17.57839584350586)",
          "(12.328827857971191, 18.275667190551758)",
          "(12.328827857971191, 12.727922439575195)",
          "(12.328827857971191, 18.027755737304688)",
          "(12.328827857971191, 22.56102752685547)",
          "(12.328827857971191, 13.152946472167969)",
          "(12.247448921203613, 20.049938201904297)",
          "(12.247448921203613, 14.0)",
          "(12.206555366516113, 19.10497283935547)",
          "(12.206555366516113, 18.193405151367188)",
          "(12.206555366516113, 14.73091983795166)",
          "(12.206555366516113, 14.03566837310791)",
          "(12.206555366516113, 12.247448921203613)",
          "(12.165525436401367, 13.638181686401367)",
          "(12.12435531616211, 19.0)",
          "(12.12435531616211, 18.055469512939453)",
          "(12.083045959472656, 13.076696395874023)",
          "(12.083045959472656, 12.529964447021484)",
          "(12.083045959472656, 20.248456954956055)",
          "(12.083045959472656, 12.247448921203613)",
          "(12.083045959472656, 18.70828628540039)",
          "(12.083045959472656, 13.964240074157715)",
          "(12.083045959472656, 12.569805145263672)",
          "(12.083045959472656, 15.65247631072998)",
          "(12.083045959472656, 15.066518783569336)",
          "(12.041594505310059, 12.369317054748535)",
          "(12.041594505310059, 15.42724895477295)",
          "(12.0, 12.369317054748535)",
          "(11.916375160217285, 13.601470947265625)",
          "(11.916375160217285, 15.394804000854492)",
          "(11.916375160217285, 15.55634880065918)",
          "(11.87434196472168, 17.464248657226562)",
          "(11.87434196472168, 18.70828628540039)",
          "(11.87434196472168, 15.132745742797852)",
          "(11.87434196472168, 19.10497283935547)",
          "(11.87434196472168, 13.190905570983887)",
          "(11.87434196472168, 14.177447319030762)",
          "(11.832159996032715, 19.339078903198242)",
          "(11.789826393127441, 15.588457107543945)",
          "(11.789826393127441, 19.209373474121094)",
          "(11.789826393127441, 16.733200073242188)",
          "(11.789826393127441, 15.29705810546875)",
          "(11.789826393127441, 12.409673690795898)",
          "(11.747340202331543, 21.587032318115234)",
          "(11.747340202331543, 15.394804000854492)",
          "(11.747340202331543, 13.03840446472168)",
          "(11.704699516296387, 15.36229133605957)",
          "(11.704699516296387, 15.55634880065918)",
          "(11.704699516296387, 16.733200073242188)",
          "(11.575837135314941, 17.972200393676758)",
          "(11.48912525177002, 15.066518783569336)",
          "(11.48912525177002, 14.0)",
          "(11.48912525177002, 14.899664878845215)",
          "(11.445523262023926, 18.84144401550293)",
          "(11.401754379272461, 12.727922439575195)",
          "(11.401754379272461, 14.866068840026855)",
          "(11.357816696166992, 13.114876747131348)",
          "(11.357816696166992, 15.165750503540039)",
          "(11.357816696166992, 12.206555366516113)",
          "(11.357816696166992, 13.638181686401367)",
          "(11.357816696166992, 22.315914154052734)",
          "(11.357816696166992, 12.409673690795898)",
          "(11.313708305358887, 11.445523262023926)",
          "(11.313708305358887, 18.788293838500977)",
          "(11.224971771240234, 13.892443656921387)",
          "(11.224971771240234, 16.0623779296875)",
          "(11.180339813232422, 18.220867156982422)",
          "(11.180339813232422, 11.575837135314941), multiplicity: 2",
          "(11.180339813232422, 12.041594505310059)",
          "(11.180339813232422, 11.575837135314941), multiplicity: 2",
          "(11.180339813232422, 13.076696395874023)",
          "(11.045360565185547, 13.964240074157715)",
          "(11.0, 13.638181686401367)",
          "(10.862780570983887, 12.041594505310059)",
          "(10.816654205322266, 12.369317054748535)",
          "(10.816654205322266, 10.954451560974121)",
          "(10.770329475402832, 14.352700233459473)",
          "(10.72380542755127, 12.165525436401367)",
          "(10.72380542755127, 16.5227108001709)",
          "(10.677078247070312, 12.12435531616211)",
          "(10.677078247070312, 10.862780570983887)",
          "(10.630146026611328, 11.575837135314941)",
          "(10.630146026611328, 11.180339813232422)",
          "(10.630146026611328, 11.87434196472168)",
          "(10.630146026611328, 10.677078247070312)",
          "(10.630146026611328, 17.549928665161133)",
          "(10.630146026611328, 10.862780570983887)",
          "(10.488088607788086, 12.041594505310059)",
          "(10.488088607788086, 10.630146026611328)",
          "(10.488088607788086, 10.770329475402832)",
          "(10.440306663513184, 13.416407585144043)",
          "(10.29563045501709, 11.575837135314941)",
          "(10.29563045501709, 15.68438720703125)",
          "(10.24695110321045, 10.630146026611328)",
          "(10.24695110321045, 15.842979431152344)",
          "(10.198039054870605, 12.328827857971191)",
          "(10.049875259399414, 10.198039054870605)",
          "(10.0, 10.198039054870605)",
          "(9.899495124816895, 12.727922439575195)",
          "(9.899495124816895, 13.747727394104004)",
          "(9.848857879638672, 10.344079971313477)",
          "(9.643651008605957, 13.45362377166748)",
          "(9.643651008605957, 10.816654205322266)",
          "(9.486832618713379, 9.899495124816895)",
          "(9.433980941772461, 10.816654205322266)",
          "(9.433980941772461, 10.344079971313477)",
          "(9.0, 9.380831718444824)",
          "(8.5440034866333, 10.862780570983887)",
          "(8.062257766723633, 8.124038696289062)",
          "(7.8102498054504395, 9.0)"
         ],
         "mode": "markers",
         "name": "H1",
         "type": "scatter",
         "x": [
          47.29693603515625,
          25.942243576049805,
          25.70992088317871,
          23.76972770690918,
          23.622024536132812,
          23.021728515625,
          22.86919403076172,
          22.69361114501953,
          22.56102752685547,
          22.516660690307617,
          22.38302993774414,
          22.338308334350586,
          22.113344192504883,
          22.045408248901367,
          21.725561141967773,
          21.3775577545166,
          21.02379608154297,
          20.904544830322266,
          20.784608840942383,
          20.615528106689453,
          20.39607810974121,
          20.34699058532715,
          20.32240104675293,
          20.099750518798828,
          20.099750518798828,
          19.84943389892578,
          19.72308349609375,
          19.72308349609375,
          19.646883010864258,
          19.54482078552246,
          19.339078903198242,
          19.10497283935547,
          19.05255889892578,
          18.84144401550293,
          18.81488800048828,
          18.788293838500977,
          18.788293838500977,
          18.574174880981445,
          18.547237396240234,
          18.466184616088867,
          18.466184616088867,
          18.384777069091797,
          18.275667190551758,
          18.220867156982422,
          18.16590118408203,
          18.138357162475586,
          18.138357162475586,
          18.138357162475586,
          18.055469512939453,
          18,
          17.972200393676758,
          17.916473388671875,
          17.83255386352539,
          17.83255386352539,
          17.804492950439453,
          17.748239517211914,
          17.72004508972168,
          17.69180679321289,
          17.6068172454834,
          17.492855072021484,
          17.464248657226562,
          17.464248657226562,
          17.291616439819336,
          17.291616439819336,
          17.291616439819336,
          17.233688354492188,
          17.20465087890625,
          17.20465087890625,
          17.14642906188965,
          17.029386520385742,
          17,
          16.970561981201172,
          16.911535263061523,
          16.911535263061523,
          16.881942749023438,
          16.881942749023438,
          16.881942749023438,
          16.792856216430664,
          16.76305389404297,
          16.76305389404297,
          16.76305389404297,
          16.76305389404297,
          16.76305389404297,
          16.76305389404297,
          16.733200073242188,
          16.733200073242188,
          16.733200073242188,
          16.67333221435547,
          16.67333221435547,
          16.67333221435547,
          16.67333221435547,
          16.61324691772461,
          16.5831241607666,
          16.5831241607666,
          16.552946090698242,
          16.5227108001709,
          16.5227108001709,
          16.431676864624023,
          16.431676864624023,
          16.401220321655273,
          16.401220321655273,
          16.309507369995117,
          16.309507369995117,
          16.309507369995117,
          16.278820037841797,
          16.278820037841797,
          16.248077392578125,
          16.248077392578125,
          16.155494689941406,
          16.155494689941406,
          16.155494689941406,
          16.155494689941406,
          16.155494689941406,
          16.124515533447266,
          16.093477249145508,
          16.031219482421875,
          16.031219482421875,
          16.031219482421875,
          16.031219482421875,
          16.031219482421875,
          16.031219482421875,
          15.937376976013184,
          15.937376976013184,
          15.842979431152344,
          15.842979431152344,
          15.842979431152344,
          15.81138801574707,
          15.81138801574707,
          15.779733657836914,
          15.779733657836914,
          15.748015403747559,
          15.65247631072998,
          15.588457107543945,
          15.588457107543945,
          15.588457107543945,
          15.588457107543945,
          15.55634880065918,
          15.55634880065918,
          15.42724895477295,
          15.42724895477295,
          15.394804000854492,
          15.394804000854492,
          15.394804000854492,
          15.36229133605957,
          15.329710006713867,
          15.29705810546875,
          15.29705810546875,
          15.29705810546875,
          15.29705810546875,
          15.264337539672852,
          15.231546401977539,
          15.165750503540039,
          15.165750503540039,
          15.165750503540039,
          15.165750503540039,
          15.165750503540039,
          15.132745742797852,
          15.099668502807617,
          15.066518783569336,
          15.066518783569336,
          15.066518783569336,
          15.066518783569336,
          15.033296585083008,
          15.033296585083008,
          15.033296585083008,
          15.033296585083008,
          15.033296585083008,
          15,
          14.899664878845215,
          14.899664878845215,
          14.866068840026855,
          14.866068840026855,
          14.798648834228516,
          14.798648834228516,
          14.764822959899902,
          14.764822959899902,
          14.73091983795166,
          14.73091983795166,
          14.73091983795166,
          14.696938514709473,
          14.696938514709473,
          14.696938514709473,
          14.696938514709473,
          14.628738403320312,
          14.59451961517334,
          14.59451961517334,
          14.560219764709473,
          14.525838851928711,
          14.525838851928711,
          14.525838851928711,
          14.525838851928711,
          14.491376876831055,
          14.456831932067871,
          14.456831932067871,
          14.456831932067871,
          14.352700233459473,
          14.352700233459473,
          14.352700233459473,
          14.352700233459473,
          14.352700233459473,
          14.352700233459473,
          14.352700233459473,
          14.317821502685547,
          14.282856941223145,
          14.247806549072266,
          14.21267032623291,
          14.177447319030762,
          14.177447319030762,
          14.177447319030762,
          14.177447319030762,
          14.177447319030762,
          14.177447319030762,
          14.142135620117188,
          14.071247100830078,
          14.071247100830078,
          14.071247100830078,
          14.03566837310791,
          14.03566837310791,
          14,
          13.964240074157715,
          13.964240074157715,
          13.964240074157715,
          13.964240074157715,
          13.964240074157715,
          13.928388595581055,
          13.928388595581055,
          13.928388595581055,
          13.928388595581055,
          13.928388595581055,
          13.928388595581055,
          13.928388595581055,
          13.928388595581055,
          13.928388595581055,
          13.892443656921387,
          13.892443656921387,
          13.784049034118652,
          13.747727394104004,
          13.747727394104004,
          13.747727394104004,
          13.747727394104004,
          13.747727394104004,
          13.747727394104004,
          13.747727394104004,
          13.747727394104004,
          13.67479419708252,
          13.67479419708252,
          13.638181686401367,
          13.601470947265625,
          13.601470947265625,
          13.601470947265625,
          13.601470947265625,
          13.601470947265625,
          13.601470947265625,
          13.601470947265625,
          13.56466007232666,
          13.56466007232666,
          13.490737915039062,
          13.490737915039062,
          13.490737915039062,
          13.490737915039062,
          13.490737915039062,
          13.490737915039062,
          13.45362377166748,
          13.45362377166748,
          13.45362377166748,
          13.45362377166748,
          13.416407585144043,
          13.379088401794434,
          13.379088401794434,
          13.34166431427002,
          13.34166431427002,
          13.34166431427002,
          13.34166431427002,
          13.34166431427002,
          13.304134368896484,
          13.304134368896484,
          13.190905570983887,
          13.190905570983887,
          13.190905570983887,
          13.190905570983887,
          13.152946472167969,
          13.152946472167969,
          13.152946472167969,
          13.152946472167969,
          13.152946472167969,
          13.152946472167969,
          13.076696395874023,
          13.076696395874023,
          13.076696395874023,
          13.03840446472168,
          13.03840446472168,
          13.03840446472168,
          13.03840446472168,
          13.03840446472168,
          13.03840446472168,
          13.03840446472168,
          13.03840446472168,
          13,
          13,
          12.961481094360352,
          12.884099006652832,
          12.884099006652832,
          12.884099006652832,
          12.884099006652832,
          12.884099006652832,
          12.884099006652832,
          12.845232963562012,
          12.845232963562012,
          12.845232963562012,
          12.806248664855957,
          12.806248664855957,
          12.806248664855957,
          12.806248664855957,
          12.727922439575195,
          12.727922439575195,
          12.727922439575195,
          12.688577651977539,
          12.688577651977539,
          12.688577651977539,
          12.688577651977539,
          12.688577651977539,
          12.649110794067383,
          12.649110794067383,
          12.569805145263672,
          12.569805145263672,
          12.569805145263672,
          12.569805145263672,
          12.569805145263672,
          12.569805145263672,
          12.529964447021484,
          12.529964447021484,
          12.449899673461914,
          12.449899673461914,
          12.409673690795898,
          12.409673690795898,
          12.409673690795898,
          12.369317054748535,
          12.369317054748535,
          12.369317054748535,
          12.369317054748535,
          12.369317054748535,
          12.328827857971191,
          12.328827857971191,
          12.328827857971191,
          12.328827857971191,
          12.328827857971191,
          12.247448921203613,
          12.247448921203613,
          12.206555366516113,
          12.206555366516113,
          12.206555366516113,
          12.206555366516113,
          12.206555366516113,
          12.165525436401367,
          12.12435531616211,
          12.12435531616211,
          12.083045959472656,
          12.083045959472656,
          12.083045959472656,
          12.083045959472656,
          12.083045959472656,
          12.083045959472656,
          12.083045959472656,
          12.083045959472656,
          12.083045959472656,
          12.041594505310059,
          12.041594505310059,
          12,
          11.916375160217285,
          11.916375160217285,
          11.916375160217285,
          11.87434196472168,
          11.87434196472168,
          11.87434196472168,
          11.87434196472168,
          11.87434196472168,
          11.87434196472168,
          11.832159996032715,
          11.789826393127441,
          11.789826393127441,
          11.789826393127441,
          11.789826393127441,
          11.789826393127441,
          11.747340202331543,
          11.747340202331543,
          11.747340202331543,
          11.704699516296387,
          11.704699516296387,
          11.704699516296387,
          11.575837135314941,
          11.48912525177002,
          11.48912525177002,
          11.48912525177002,
          11.445523262023926,
          11.401754379272461,
          11.401754379272461,
          11.357816696166992,
          11.357816696166992,
          11.357816696166992,
          11.357816696166992,
          11.357816696166992,
          11.357816696166992,
          11.313708305358887,
          11.313708305358887,
          11.224971771240234,
          11.224971771240234,
          11.180339813232422,
          11.180339813232422,
          11.180339813232422,
          11.180339813232422,
          11.180339813232422,
          11.045360565185547,
          11,
          10.862780570983887,
          10.816654205322266,
          10.816654205322266,
          10.770329475402832,
          10.72380542755127,
          10.72380542755127,
          10.677078247070312,
          10.677078247070312,
          10.630146026611328,
          10.630146026611328,
          10.630146026611328,
          10.630146026611328,
          10.630146026611328,
          10.630146026611328,
          10.488088607788086,
          10.488088607788086,
          10.488088607788086,
          10.440306663513184,
          10.29563045501709,
          10.29563045501709,
          10.24695110321045,
          10.24695110321045,
          10.198039054870605,
          10.049875259399414,
          10,
          9.899495124816895,
          9.899495124816895,
          9.848857879638672,
          9.643651008605957,
          9.643651008605957,
          9.486832618713379,
          9.433980941772461,
          9.433980941772461,
          9,
          8.5440034866333,
          8.062257766723633,
          7.8102498054504395
         ],
         "y": [
          64.53681182861328,
          27.94637680053711,
          26.645824432373047,
          24.06241798400879,
          23.76972770690918,
          25.238859176635742,
          23.043437957763672,
          22.737634658813477,
          23,
          22.671567916870117,
          23.600847244262695,
          22.44994354248047,
          22.44994354248047,
          27.184555053710938,
          24.020824432373047,
          21.470911026000977,
          26.832815170288086,
          22.56102752685547,
          22.825424194335938,
          22.649503707885742,
          20.639766693115234,
          21.047565460205078,
          22.516660690307617,
          20.420578002929688,
          20.248456954956055,
          26.419689178466797,
          20.615528106689453,
          20.2237491607666,
          19.72308349609375,
          21.189620971679688,
          20.34699058532715,
          20.02498435974121,
          20.248456954956055,
          20.71231460571289,
          20.688159942626953,
          23.72762107849121,
          22.226110458374023,
          19.10497283935547,
          20.02498435974121,
          18.973665237426758,
          19.39072036743164,
          18.601076126098633,
          19.51922035217285,
          20.124610900878906,
          18.81488800048828,
          18.466184616088867,
          20.615528106689453,
          20.02498435974121,
          20.542638778686523,
          18.138357162475586,
          20.928449630737305,
          18.055469512939453,
          20.14944076538086,
          18.275667190551758,
          23.958297729492188,
          19.02629852294922,
          19.078784942626953,
          21.931713104248047,
          19.26136016845703,
          19.235383987426758,
          20.2237491607666,
          17.804492950439453,
          21.189620971679688,
          17.492855072021484,
          17.57839584350586,
          19.442222595214844,
          18.41195297241211,
          17.464248657226562,
          18.275667190551758,
          19.339078903198242,
          17.8885440826416,
          18.574174880981445,
          21.283796310424805,
          21,
          17.0880069732666,
          18.574174880981445,
          18.70828628540039,
          17.57839584350586,
          18.330303192138672,
          18.055469512939453,
          19.67231559753418,
          19.02629852294922,
          18.601076126098633,
          17.916473388671875,
          19,
          16.911535263061523,
          17.233688354492188,
          19.416488647460938,
          21.656408309936523,
          20.44504737854004,
          18.466184616088867,
          23.151674270629883,
          16.67333221435547,
          16.76305389404297,
          17.34935188293457,
          19.72308349609375,
          19.26136016845703,
          19.26136016845703,
          17.748239517211914,
          17.14642906188965,
          18.275667190551758,
          17.20465087890625,
          17.11724281311035,
          19.02629852294922,
          17.72004508972168,
          17.029386520385742,
          17.972200393676758,
          18,
          16.6433162689209,
          19.748416900634766,
          22.38302993774414,
          21.40093421936035,
          20.4939022064209,
          21.656408309936523,
          17.83255386352539,
          19.05255889892578,
          16.401220321655273,
          20.46949005126953,
          17.52141571044922,
          17.20465087890625,
          16.76305389404297,
          16.76305389404297,
          16.5831241607666,
          16.309507369995117,
          16.61324691772461,
          18.466184616088867,
          18,
          17.464248657226562,
          21.189620971679688,
          22.226110458374023,
          20.542638778686523,
          16.031219482421875,
          19.131126403808594,
          18.138357162475586,
          16.431676864624023,
          20.02498435974121,
          16.309507369995117,
          16.031219482421875,
          15.68438720703125,
          16.248077392578125,
          15.620499610900879,
          16.155494689941406,
          15.68438720703125,
          18.16590118408203,
          15.620499610900879,
          17.14642906188965,
          18.357559204101562,
          18.6279354095459,
          17.8885440826416,
          16.5831241607666,
          17.72004508972168,
          15.905973434448242,
          20.32240104675293,
          18.275667190551758,
          15.29705810546875,
          18.788293838500977,
          16.155494689941406,
          17.464248657226562,
          15.905973434448242,
          17.0880069732666,
          16.552946090698242,
          17.464248657226562,
          17.11724281311035,
          16.76305389404297,
          15.748015403747559,
          16.093477249145508,
          18.70828628540039,
          16.431676864624023,
          17.6068172454834,
          21.118711471557617,
          17.916473388671875,
          21.40093421936035,
          18.055469512939453,
          19.84943389892578,
          14.866068840026855,
          15.264337539672852,
          23.430749893188477,
          15.905973434448242,
          17.14642906188965,
          18.973665237426758,
          17.37814712524414,
          18.466184616088867,
          15.165750503540039,
          14.73091983795166,
          17.37814712524414,
          17,
          15.066518783569336,
          16.431676864624023,
          16.431676864624023,
          15.524174690246582,
          15.033296585083008,
          15.132745742797852,
          19.87460708618164,
          15.165750503540039,
          16.76305389404297,
          18.027755737304688,
          21.3775577545166,
          20.639766693115234,
          19.05255889892578,
          14.456831932067871,
          19.646883010864258,
          15.165750503540039,
          20.639766693115234,
          23.958297729492188,
          15.588457107543945,
          17.11724281311035,
          22.045408248901367,
          16.5831241607666,
          14.560219764709473,
          15.937376976013184,
          15.394804000854492,
          14.491376876831055,
          15.165750503540039,
          19,
          14.352700233459473,
          16.309507369995117,
          16.155494689941406,
          17.0880069732666,
          14.866068840026855,
          21.840330123901367,
          14.899664878845215,
          16.733200073242188,
          16.031219482421875,
          15.55634880065918,
          14.491376876831055,
          20.832666397094727,
          19.748416900634766,
          16.401220321655273,
          14.352700233459473,
          16.18641471862793,
          15.132745742797852,
          16.5831241607666,
          14.59451961517334,
          15,
          18.788293838500977,
          17.464248657226562,
          22.44994354248047,
          18.138357162475586,
          15.29705810546875,
          15.55634880065918,
          15.620499610900879,
          20.615528106689453,
          15.65247631072998,
          15,
          15.29705810546875,
          19.67231559753418,
          14.59451961517334,
          16.309507369995117,
          16.34013557434082,
          20.420578002929688,
          14.21267032623291,
          19.697715759277344,
          13.928388595581055,
          19.824228286743164,
          15.65247631072998,
          15.165750503540039,
          19.697715759277344,
          13.928388595581055,
          15.620499610900879,
          15.68438720703125,
          18.81488800048828,
          16.76305389404297,
          13.928388595581055,
          18.466184616088867,
          18.16590118408203,
          16.5831241607666,
          16.309507369995117,
          14.03566837310791,
          17.492855072021484,
          17.233688354492188,
          17.37814712524414,
          20.808652877807617,
          16.76305389404297,
          15.68438720703125,
          14.764822959899902,
          15.033296585083008,
          14.628738403320312,
          15.394804000854492,
          14.071247100830078,
          13.747727394104004,
          18.16590118408203,
          23,
          17.11724281311035,
          14.899664878845215,
          13.601470947265625,
          16.76305389404297,
          19.26136016845703,
          16.124515533447266,
          19.51922035217285,
          13.152946472167969,
          19.313207626342773,
          13.45362377166748,
          20.420578002929688,
          19.646883010864258,
          14.491376876831055,
          14.247806549072266,
          13.34166431427002,
          14.071247100830078,
          14.866068840026855,
          15.165750503540039,
          19.67231559753418,
          14.560219764709473,
          13.747727394104004,
          17.492855072021484,
          13.638181686401367,
          21.470911026000977,
          14.456831932067871,
          13.34166431427002,
          17.464248657226562,
          15.394804000854492,
          13,
          16.401220321655273,
          22.045408248901367,
          13.152946472167969,
          16.6433162689209,
          12.806248664855957,
          13.638181686401367,
          15.905973434448242,
          21.424285888671875,
          16.61324691772461,
          14.764822959899902,
          12.688577651977539,
          15.132745742797852,
          13.45362377166748,
          15.033296585083008,
          13.152946472167969,
          13.67479419708252,
          18.275667190551758,
          16.309507369995117,
          18.384777069091797,
          15.779733657836914,
          13.928388595581055,
          14.282856941223145,
          13.928388595581055,
          19.621416091918945,
          13.601470947265625,
          19.235383987426758,
          20.856653213500977,
          15,
          18.248287200927734,
          17.57839584350586,
          18.275667190551758,
          12.727922439575195,
          18.027755737304688,
          22.56102752685547,
          13.152946472167969,
          20.049938201904297,
          14,
          19.10497283935547,
          18.193405151367188,
          14.73091983795166,
          14.03566837310791,
          12.247448921203613,
          13.638181686401367,
          19,
          18.055469512939453,
          13.076696395874023,
          12.529964447021484,
          20.248456954956055,
          12.247448921203613,
          18.70828628540039,
          13.964240074157715,
          12.569805145263672,
          15.65247631072998,
          15.066518783569336,
          12.369317054748535,
          15.42724895477295,
          12.369317054748535,
          13.601470947265625,
          15.394804000854492,
          15.55634880065918,
          17.464248657226562,
          18.70828628540039,
          15.132745742797852,
          19.10497283935547,
          13.190905570983887,
          14.177447319030762,
          19.339078903198242,
          15.588457107543945,
          19.209373474121094,
          16.733200073242188,
          15.29705810546875,
          12.409673690795898,
          21.587032318115234,
          15.394804000854492,
          13.03840446472168,
          15.36229133605957,
          15.55634880065918,
          16.733200073242188,
          17.972200393676758,
          15.066518783569336,
          14,
          14.899664878845215,
          18.84144401550293,
          12.727922439575195,
          14.866068840026855,
          13.114876747131348,
          15.165750503540039,
          12.206555366516113,
          13.638181686401367,
          22.315914154052734,
          12.409673690795898,
          11.445523262023926,
          18.788293838500977,
          13.892443656921387,
          16.0623779296875,
          18.220867156982422,
          11.575837135314941,
          12.041594505310059,
          11.575837135314941,
          13.076696395874023,
          13.964240074157715,
          13.638181686401367,
          12.041594505310059,
          12.369317054748535,
          10.954451560974121,
          14.352700233459473,
          12.165525436401367,
          16.5227108001709,
          12.12435531616211,
          10.862780570983887,
          11.575837135314941,
          11.180339813232422,
          11.87434196472168,
          10.677078247070312,
          17.549928665161133,
          10.862780570983887,
          12.041594505310059,
          10.630146026611328,
          10.770329475402832,
          13.416407585144043,
          11.575837135314941,
          15.68438720703125,
          10.630146026611328,
          15.842979431152344,
          12.328827857971191,
          10.198039054870605,
          10.198039054870605,
          12.727922439575195,
          13.747727394104004,
          10.344079971313477,
          13.45362377166748,
          10.816654205322266,
          9.899495124816895,
          10.816654205322266,
          10.344079971313477,
          9.380831718444824,
          10.862780570983887,
          8.124038696289062,
          9
         ]
        },
        {
         "hoverinfo": "text",
         "hovertext": [
          "(28.354894638061523, 29.223278045654297)",
          "(28.017850875854492, 28.301942825317383)",
          "(27.874719619750977, 28.618175506591797)",
          "(27.658634185791016, 30.886890411376953)",
          "(27.147743225097656, 27.67670440673828)",
          "(26.267850875854492, 27.23967742919922)",
          "(25.865034103393555, 26.0)",
          "(25.806976318359375, 26.019224166870117)",
          "(25.670995712280273, 28.17800521850586)",
          "(25.65151023864746, 26.438608169555664)",
          "(25.63201141357422, 31.08053970336914)",
          "(25.573423385620117, 25.787593841552734)",
          "(25.317977905273438, 27.477262496948242)",
          "(25.2586612701416, 25.961509704589844)",
          "(25.09980010986328, 25.806976318359375)",
          "(24.779024124145508, 25.806976318359375)",
          "(24.657655715942383, 26.305892944335938)",
          "(24.59674835205078, 24.919872283935547)",
          "(24.372116088867188, 24.392621994018555)",
          "(24.06241798400879, 25.01999282836914)",
          "(23.874671936035156, 27.53179931640625)",
          "(23.51595115661621, 24.24871063232422)",
          "(23.494680404663086, 25.534290313720703)",
          "(23.452077865600586, 23.874671936035156)",
          "(23.430749893188477, 29.698484420776367)",
          "(23.366641998291016, 25.377155303955078)",
          "(23.366641998291016, 24.73863410949707)",
          "(23.34523582458496, 24.26932144165039)",
          "(23.323806762695312, 23.600847244262695)",
          "(23.216373443603516, 28.354894638061523)",
          "(23.216373443603516, 25.961509704589844)",
          "(23.108440399169922, 26.267850875854492)",
          "(23.021728515625, 28.24889373779297)",
          "(22.825424194335938, 24.718414306640625)",
          "(22.759613037109375, 23.706539154052734)",
          "(22.715633392333984, 22.912878036499023)",
          "(22.649503707885742, 22.671567916870117), multiplicity: 2",
          "(22.649503707885742, 25.41653060913086)",
          "(22.649503707885742, 22.671567916870117), multiplicity: 2",
          "(22.56102752685547, 22.737634658813477)",
          "(22.516660690307617, 24.413110733032227)",
          "(22.226110458374023, 23.430749893188477)",
          "(22.158519744873047, 23.25940704345703)",
          "(22.158519744873047, 27.20294189453125)",
          "(22.045408248901367, 23.151674270629883)",
          "(22.045408248901367, 23.430749893188477)",
          "(22.022714614868164, 22.181072235107422)",
          "(22.022714614868164, 22.226110458374023)",
          "(21.97726058959961, 22.090721130371094)",
          "(21.954498291015625, 23.600847244262695)",
          "(21.954498291015625, 22.847318649291992)",
          "(21.931713104248047, 24.556058883666992)",
          "(21.771541595458984, 24.351591110229492)",
          "(21.610183715820312, 23.108440399169922)",
          "(21.494184494018555, 25.495098114013672)",
          "(21.424285888671875, 21.954498291015625)",
          "(21.40093421936035, 24.351591110229492)",
          "(21.189620971679688, 23.452077865600586)",
          "(21.189620971679688, 21.67948341369629)",
          "(21.118711471557617, 21.97726058959961)",
          "(21.118711471557617, 22.38302993774414), multiplicity: 2",
          "(21.118711471557617, 22.38302993774414), multiplicity: 2",
          "(21.02379608154297, 21.587032318115234)",
          "(21.0, 25.19920539855957)",
          "(21.0, 22.56102752685547)",
          "(21.0, 21.470911026000977)",
          "(20.856653213500977, 21.118711471557617)",
          "(20.832666397094727, 21.748563766479492)",
          "(20.736440658569336, 21.118711471557617)",
          "(20.44504737854004, 22.045408248901367)",
          "(20.34699058532715, 21.21320343017578)",
          "(20.19900894165039, 22.113344192504883)",
          "(20.14944076538086, 25.70992088317871)",
          "(20.049938201904297, 21.470911026000977)",
          "(19.84943389892578, 20.14944076538086)",
          "(19.72308349609375, 20.663978576660156)",
          "(19.646883010864258, 20.976177215576172)",
          "(19.46792221069336, 19.824228286743164)",
          "(19.39072036743164, 20.273134231567383)",
          "(19.339078903198242, 19.46792221069336)",
          "(19.287302017211914, 19.646883010864258)",
          "(19.235383987426758, 19.646883010864258)",
          "(19.209373474121094, 20.099750518798828)",
          "(18.81488800048828, 19.26136016845703)",
          "(18.681541442871094, 20.074859619140625)",
          "(18.493242263793945, 19.131126403808594)",
          "(18.466184616088867, 20.615528106689453)",
          "(18.027755737304688, 20.248456954956055)",
          "(17.944358825683594, 18.220867156982422)",
          "(17.492855072021484, 17.57839584350586)",
          "(17.492855072021484, 17.72004508972168)",
          "(17.464248657226562, 17.57839584350586)",
          "(17.20465087890625, 18.138357162475586)",
          "(17.14642906188965, 18.16590118408203)",
          "(17.0880069732666, 17.37814712524414)",
          "(16.552946090698242, 17.233688354492188)",
          "(15.842979431152344, 16.431676864624023)",
          "(15.842979431152344, 16.0623779296875)",
          "(15.65247631072998, 18.138357162475586)",
          "(15.55634880065918, 16.76305389404297)",
          "(13.638181686401367, 13.928388595581055)"
         ],
         "mode": "markers",
         "name": "H2",
         "type": "scatter",
         "x": [
          28.354894638061523,
          28.017850875854492,
          27.874719619750977,
          27.658634185791016,
          27.147743225097656,
          26.267850875854492,
          25.865034103393555,
          25.806976318359375,
          25.670995712280273,
          25.65151023864746,
          25.63201141357422,
          25.573423385620117,
          25.317977905273438,
          25.2586612701416,
          25.09980010986328,
          24.779024124145508,
          24.657655715942383,
          24.59674835205078,
          24.372116088867188,
          24.06241798400879,
          23.874671936035156,
          23.51595115661621,
          23.494680404663086,
          23.452077865600586,
          23.430749893188477,
          23.366641998291016,
          23.366641998291016,
          23.34523582458496,
          23.323806762695312,
          23.216373443603516,
          23.216373443603516,
          23.108440399169922,
          23.021728515625,
          22.825424194335938,
          22.759613037109375,
          22.715633392333984,
          22.649503707885742,
          22.649503707885742,
          22.649503707885742,
          22.56102752685547,
          22.516660690307617,
          22.226110458374023,
          22.158519744873047,
          22.158519744873047,
          22.045408248901367,
          22.045408248901367,
          22.022714614868164,
          22.022714614868164,
          21.97726058959961,
          21.954498291015625,
          21.954498291015625,
          21.931713104248047,
          21.771541595458984,
          21.610183715820312,
          21.494184494018555,
          21.424285888671875,
          21.40093421936035,
          21.189620971679688,
          21.189620971679688,
          21.118711471557617,
          21.118711471557617,
          21.118711471557617,
          21.02379608154297,
          21,
          21,
          21,
          20.856653213500977,
          20.832666397094727,
          20.736440658569336,
          20.44504737854004,
          20.34699058532715,
          20.19900894165039,
          20.14944076538086,
          20.049938201904297,
          19.84943389892578,
          19.72308349609375,
          19.646883010864258,
          19.46792221069336,
          19.39072036743164,
          19.339078903198242,
          19.287302017211914,
          19.235383987426758,
          19.209373474121094,
          18.81488800048828,
          18.681541442871094,
          18.493242263793945,
          18.466184616088867,
          18.027755737304688,
          17.944358825683594,
          17.492855072021484,
          17.492855072021484,
          17.464248657226562,
          17.20465087890625,
          17.14642906188965,
          17.0880069732666,
          16.552946090698242,
          15.842979431152344,
          15.842979431152344,
          15.65247631072998,
          15.55634880065918,
          13.638181686401367
         ],
         "y": [
          29.223278045654297,
          28.301942825317383,
          28.618175506591797,
          30.886890411376953,
          27.67670440673828,
          27.23967742919922,
          26,
          26.019224166870117,
          28.17800521850586,
          26.438608169555664,
          31.08053970336914,
          25.787593841552734,
          27.477262496948242,
          25.961509704589844,
          25.806976318359375,
          25.806976318359375,
          26.305892944335938,
          24.919872283935547,
          24.392621994018555,
          25.01999282836914,
          27.53179931640625,
          24.24871063232422,
          25.534290313720703,
          23.874671936035156,
          29.698484420776367,
          25.377155303955078,
          24.73863410949707,
          24.26932144165039,
          23.600847244262695,
          28.354894638061523,
          25.961509704589844,
          26.267850875854492,
          28.24889373779297,
          24.718414306640625,
          23.706539154052734,
          22.912878036499023,
          22.671567916870117,
          25.41653060913086,
          22.671567916870117,
          22.737634658813477,
          24.413110733032227,
          23.430749893188477,
          23.25940704345703,
          27.20294189453125,
          23.151674270629883,
          23.430749893188477,
          22.181072235107422,
          22.226110458374023,
          22.090721130371094,
          23.600847244262695,
          22.847318649291992,
          24.556058883666992,
          24.351591110229492,
          23.108440399169922,
          25.495098114013672,
          21.954498291015625,
          24.351591110229492,
          23.452077865600586,
          21.67948341369629,
          21.97726058959961,
          22.38302993774414,
          22.38302993774414,
          21.587032318115234,
          25.19920539855957,
          22.56102752685547,
          21.470911026000977,
          21.118711471557617,
          21.748563766479492,
          21.118711471557617,
          22.045408248901367,
          21.21320343017578,
          22.113344192504883,
          25.70992088317871,
          21.470911026000977,
          20.14944076538086,
          20.663978576660156,
          20.976177215576172,
          19.824228286743164,
          20.273134231567383,
          19.46792221069336,
          19.646883010864258,
          19.646883010864258,
          20.099750518798828,
          19.26136016845703,
          20.074859619140625,
          19.131126403808594,
          20.615528106689453,
          20.248456954956055,
          18.220867156982422,
          17.57839584350586,
          17.72004508972168,
          17.57839584350586,
          18.138357162475586,
          18.16590118408203,
          17.37814712524414,
          17.233688354492188,
          16.431676864624023,
          16.0623779296875,
          18.138357162475586,
          16.76305389404297,
          13.928388595581055
         ]
        }
       ],
       "layout": {
        "height": 500,
        "plot_bgcolor": "white",
        "template": {
         "data": {
          "bar": [
           {
            "error_x": {
             "color": "#2a3f5f"
            },
            "error_y": {
             "color": "#2a3f5f"
            },
            "marker": {
             "line": {
              "color": "#E5ECF6",
              "width": 0.5
             },
             "pattern": {
              "fillmode": "overlay",
              "size": 10,
              "solidity": 0.2
             }
            },
            "type": "bar"
           }
          ],
          "barpolar": [
           {
            "marker": {
             "line": {
              "color": "#E5ECF6",
              "width": 0.5
             },
             "pattern": {
              "fillmode": "overlay",
              "size": 10,
              "solidity": 0.2
             }
            },
            "type": "barpolar"
           }
          ],
          "carpet": [
           {
            "aaxis": {
             "endlinecolor": "#2a3f5f",
             "gridcolor": "white",
             "linecolor": "white",
             "minorgridcolor": "white",
             "startlinecolor": "#2a3f5f"
            },
            "baxis": {
             "endlinecolor": "#2a3f5f",
             "gridcolor": "white",
             "linecolor": "white",
             "minorgridcolor": "white",
             "startlinecolor": "#2a3f5f"
            },
            "type": "carpet"
           }
          ],
          "choropleth": [
           {
            "colorbar": {
             "outlinewidth": 0,
             "ticks": ""
            },
            "type": "choropleth"
           }
          ],
          "contour": [
           {
            "colorbar": {
             "outlinewidth": 0,
             "ticks": ""
            },
            "colorscale": [
             [
              0,
              "#0d0887"
             ],
             [
              0.1111111111111111,
              "#46039f"
             ],
             [
              0.2222222222222222,
              "#7201a8"
             ],
             [
              0.3333333333333333,
              "#9c179e"
             ],
             [
              0.4444444444444444,
              "#bd3786"
             ],
             [
              0.5555555555555556,
              "#d8576b"
             ],
             [
              0.6666666666666666,
              "#ed7953"
             ],
             [
              0.7777777777777778,
              "#fb9f3a"
             ],
             [
              0.8888888888888888,
              "#fdca26"
             ],
             [
              1,
              "#f0f921"
             ]
            ],
            "type": "contour"
           }
          ],
          "contourcarpet": [
           {
            "colorbar": {
             "outlinewidth": 0,
             "ticks": ""
            },
            "type": "contourcarpet"
           }
          ],
          "heatmap": [
           {
            "colorbar": {
             "outlinewidth": 0,
             "ticks": ""
            },
            "colorscale": [
             [
              0,
              "#0d0887"
             ],
             [
              0.1111111111111111,
              "#46039f"
             ],
             [
              0.2222222222222222,
              "#7201a8"
             ],
             [
              0.3333333333333333,
              "#9c179e"
             ],
             [
              0.4444444444444444,
              "#bd3786"
             ],
             [
              0.5555555555555556,
              "#d8576b"
             ],
             [
              0.6666666666666666,
              "#ed7953"
             ],
             [
              0.7777777777777778,
              "#fb9f3a"
             ],
             [
              0.8888888888888888,
              "#fdca26"
             ],
             [
              1,
              "#f0f921"
             ]
            ],
            "type": "heatmap"
           }
          ],
          "heatmapgl": [
           {
            "colorbar": {
             "outlinewidth": 0,
             "ticks": ""
            },
            "colorscale": [
             [
              0,
              "#0d0887"
             ],
             [
              0.1111111111111111,
              "#46039f"
             ],
             [
              0.2222222222222222,
              "#7201a8"
             ],
             [
              0.3333333333333333,
              "#9c179e"
             ],
             [
              0.4444444444444444,
              "#bd3786"
             ],
             [
              0.5555555555555556,
              "#d8576b"
             ],
             [
              0.6666666666666666,
              "#ed7953"
             ],
             [
              0.7777777777777778,
              "#fb9f3a"
             ],
             [
              0.8888888888888888,
              "#fdca26"
             ],
             [
              1,
              "#f0f921"
             ]
            ],
            "type": "heatmapgl"
           }
          ],
          "histogram": [
           {
            "marker": {
             "pattern": {
              "fillmode": "overlay",
              "size": 10,
              "solidity": 0.2
             }
            },
            "type": "histogram"
           }
          ],
          "histogram2d": [
           {
            "colorbar": {
             "outlinewidth": 0,
             "ticks": ""
            },
            "colorscale": [
             [
              0,
              "#0d0887"
             ],
             [
              0.1111111111111111,
              "#46039f"
             ],
             [
              0.2222222222222222,
              "#7201a8"
             ],
             [
              0.3333333333333333,
              "#9c179e"
             ],
             [
              0.4444444444444444,
              "#bd3786"
             ],
             [
              0.5555555555555556,
              "#d8576b"
             ],
             [
              0.6666666666666666,
              "#ed7953"
             ],
             [
              0.7777777777777778,
              "#fb9f3a"
             ],
             [
              0.8888888888888888,
              "#fdca26"
             ],
             [
              1,
              "#f0f921"
             ]
            ],
            "type": "histogram2d"
           }
          ],
          "histogram2dcontour": [
           {
            "colorbar": {
             "outlinewidth": 0,
             "ticks": ""
            },
            "colorscale": [
             [
              0,
              "#0d0887"
             ],
             [
              0.1111111111111111,
              "#46039f"
             ],
             [
              0.2222222222222222,
              "#7201a8"
             ],
             [
              0.3333333333333333,
              "#9c179e"
             ],
             [
              0.4444444444444444,
              "#bd3786"
             ],
             [
              0.5555555555555556,
              "#d8576b"
             ],
             [
              0.6666666666666666,
              "#ed7953"
             ],
             [
              0.7777777777777778,
              "#fb9f3a"
             ],
             [
              0.8888888888888888,
              "#fdca26"
             ],
             [
              1,
              "#f0f921"
             ]
            ],
            "type": "histogram2dcontour"
           }
          ],
          "mesh3d": [
           {
            "colorbar": {
             "outlinewidth": 0,
             "ticks": ""
            },
            "type": "mesh3d"
           }
          ],
          "parcoords": [
           {
            "line": {
             "colorbar": {
              "outlinewidth": 0,
              "ticks": ""
             }
            },
            "type": "parcoords"
           }
          ],
          "pie": [
           {
            "automargin": true,
            "type": "pie"
           }
          ],
          "scatter": [
           {
            "fillpattern": {
             "fillmode": "overlay",
             "size": 10,
             "solidity": 0.2
            },
            "type": "scatter"
           }
          ],
          "scatter3d": [
           {
            "line": {
             "colorbar": {
              "outlinewidth": 0,
              "ticks": ""
             }
            },
            "marker": {
             "colorbar": {
              "outlinewidth": 0,
              "ticks": ""
             }
            },
            "type": "scatter3d"
           }
          ],
          "scattercarpet": [
           {
            "marker": {
             "colorbar": {
              "outlinewidth": 0,
              "ticks": ""
             }
            },
            "type": "scattercarpet"
           }
          ],
          "scattergeo": [
           {
            "marker": {
             "colorbar": {
              "outlinewidth": 0,
              "ticks": ""
             }
            },
            "type": "scattergeo"
           }
          ],
          "scattergl": [
           {
            "marker": {
             "colorbar": {
              "outlinewidth": 0,
              "ticks": ""
             }
            },
            "type": "scattergl"
           }
          ],
          "scattermapbox": [
           {
            "marker": {
             "colorbar": {
              "outlinewidth": 0,
              "ticks": ""
             }
            },
            "type": "scattermapbox"
           }
          ],
          "scatterpolar": [
           {
            "marker": {
             "colorbar": {
              "outlinewidth": 0,
              "ticks": ""
             }
            },
            "type": "scatterpolar"
           }
          ],
          "scatterpolargl": [
           {
            "marker": {
             "colorbar": {
              "outlinewidth": 0,
              "ticks": ""
             }
            },
            "type": "scatterpolargl"
           }
          ],
          "scatterternary": [
           {
            "marker": {
             "colorbar": {
              "outlinewidth": 0,
              "ticks": ""
             }
            },
            "type": "scatterternary"
           }
          ],
          "surface": [
           {
            "colorbar": {
             "outlinewidth": 0,
             "ticks": ""
            },
            "colorscale": [
             [
              0,
              "#0d0887"
             ],
             [
              0.1111111111111111,
              "#46039f"
             ],
             [
              0.2222222222222222,
              "#7201a8"
             ],
             [
              0.3333333333333333,
              "#9c179e"
             ],
             [
              0.4444444444444444,
              "#bd3786"
             ],
             [
              0.5555555555555556,
              "#d8576b"
             ],
             [
              0.6666666666666666,
              "#ed7953"
             ],
             [
              0.7777777777777778,
              "#fb9f3a"
             ],
             [
              0.8888888888888888,
              "#fdca26"
             ],
             [
              1,
              "#f0f921"
             ]
            ],
            "type": "surface"
           }
          ],
          "table": [
           {
            "cells": {
             "fill": {
              "color": "#EBF0F8"
             },
             "line": {
              "color": "white"
             }
            },
            "header": {
             "fill": {
              "color": "#C8D4E3"
             },
             "line": {
              "color": "white"
             }
            },
            "type": "table"
           }
          ]
         },
         "layout": {
          "annotationdefaults": {
           "arrowcolor": "#2a3f5f",
           "arrowhead": 0,
           "arrowwidth": 1
          },
          "autotypenumbers": "strict",
          "coloraxis": {
           "colorbar": {
            "outlinewidth": 0,
            "ticks": ""
           }
          },
          "colorscale": {
           "diverging": [
            [
             0,
             "#8e0152"
            ],
            [
             0.1,
             "#c51b7d"
            ],
            [
             0.2,
             "#de77ae"
            ],
            [
             0.3,
             "#f1b6da"
            ],
            [
             0.4,
             "#fde0ef"
            ],
            [
             0.5,
             "#f7f7f7"
            ],
            [
             0.6,
             "#e6f5d0"
            ],
            [
             0.7,
             "#b8e186"
            ],
            [
             0.8,
             "#7fbc41"
            ],
            [
             0.9,
             "#4d9221"
            ],
            [
             1,
             "#276419"
            ]
           ],
           "sequential": [
            [
             0,
             "#0d0887"
            ],
            [
             0.1111111111111111,
             "#46039f"
            ],
            [
             0.2222222222222222,
             "#7201a8"
            ],
            [
             0.3333333333333333,
             "#9c179e"
            ],
            [
             0.4444444444444444,
             "#bd3786"
            ],
            [
             0.5555555555555556,
             "#d8576b"
            ],
            [
             0.6666666666666666,
             "#ed7953"
            ],
            [
             0.7777777777777778,
             "#fb9f3a"
            ],
            [
             0.8888888888888888,
             "#fdca26"
            ],
            [
             1,
             "#f0f921"
            ]
           ],
           "sequentialminus": [
            [
             0,
             "#0d0887"
            ],
            [
             0.1111111111111111,
             "#46039f"
            ],
            [
             0.2222222222222222,
             "#7201a8"
            ],
            [
             0.3333333333333333,
             "#9c179e"
            ],
            [
             0.4444444444444444,
             "#bd3786"
            ],
            [
             0.5555555555555556,
             "#d8576b"
            ],
            [
             0.6666666666666666,
             "#ed7953"
            ],
            [
             0.7777777777777778,
             "#fb9f3a"
            ],
            [
             0.8888888888888888,
             "#fdca26"
            ],
            [
             1,
             "#f0f921"
            ]
           ]
          },
          "colorway": [
           "#636efa",
           "#EF553B",
           "#00cc96",
           "#ab63fa",
           "#FFA15A",
           "#19d3f3",
           "#FF6692",
           "#B6E880",
           "#FF97FF",
           "#FECB52"
          ],
          "font": {
           "color": "#2a3f5f"
          },
          "geo": {
           "bgcolor": "white",
           "lakecolor": "white",
           "landcolor": "#E5ECF6",
           "showlakes": true,
           "showland": true,
           "subunitcolor": "white"
          },
          "hoverlabel": {
           "align": "left"
          },
          "hovermode": "closest",
          "mapbox": {
           "style": "light"
          },
          "paper_bgcolor": "white",
          "plot_bgcolor": "#E5ECF6",
          "polar": {
           "angularaxis": {
            "gridcolor": "white",
            "linecolor": "white",
            "ticks": ""
           },
           "bgcolor": "#E5ECF6",
           "radialaxis": {
            "gridcolor": "white",
            "linecolor": "white",
            "ticks": ""
           }
          },
          "scene": {
           "xaxis": {
            "backgroundcolor": "#E5ECF6",
            "gridcolor": "white",
            "gridwidth": 2,
            "linecolor": "white",
            "showbackground": true,
            "ticks": "",
            "zerolinecolor": "white"
           },
           "yaxis": {
            "backgroundcolor": "#E5ECF6",
            "gridcolor": "white",
            "gridwidth": 2,
            "linecolor": "white",
            "showbackground": true,
            "ticks": "",
            "zerolinecolor": "white"
           },
           "zaxis": {
            "backgroundcolor": "#E5ECF6",
            "gridcolor": "white",
            "gridwidth": 2,
            "linecolor": "white",
            "showbackground": true,
            "ticks": "",
            "zerolinecolor": "white"
           }
          },
          "shapedefaults": {
           "line": {
            "color": "#2a3f5f"
           }
          },
          "ternary": {
           "aaxis": {
            "gridcolor": "white",
            "linecolor": "white",
            "ticks": ""
           },
           "baxis": {
            "gridcolor": "white",
            "linecolor": "white",
            "ticks": ""
           },
           "bgcolor": "#E5ECF6",
           "caxis": {
            "gridcolor": "white",
            "linecolor": "white",
            "ticks": ""
           }
          },
          "title": {
           "x": 0.05
          },
          "xaxis": {
           "automargin": true,
           "gridcolor": "white",
           "linecolor": "white",
           "ticks": "",
           "title": {
            "standoff": 15
           },
           "zerolinecolor": "white",
           "zerolinewidth": 2
          },
          "yaxis": {
           "automargin": true,
           "gridcolor": "white",
           "linecolor": "white",
           "ticks": "",
           "title": {
            "standoff": 15
           },
           "zerolinecolor": "white",
           "zerolinewidth": 2
          }
         }
        },
        "width": 500,
        "xaxis": {
         "autorange": false,
         "exponentformat": "e",
         "linecolor": "black",
         "linewidth": 1,
         "mirror": false,
         "range": [
          -1.2907362365722657,
          65.82754806518555
         ],
         "showexponent": "all",
         "showline": true,
         "side": "bottom",
         "ticks": "outside",
         "title": {
          "text": "Birth"
         },
         "type": "linear",
         "zeroline": true
        },
        "yaxis": {
         "autorange": false,
         "exponentformat": "e",
         "linecolor": "black",
         "linewidth": 1,
         "mirror": false,
         "range": [
          -1.2907362365722657,
          65.82754806518555
         ],
         "scaleanchor": "x",
         "scaleratio": 1,
         "showexponent": "all",
         "showline": true,
         "side": "left",
         "ticks": "outside",
         "title": {
          "text": "Death"
         },
         "type": "linear",
         "zeroline": true
        }
       }
      }
     },
     "metadata": {},
     "output_type": "display_data"
    }
   ],
   "source": [
    "from gtda.plotting import plot_diagram\n",
    "\n",
    "# good points\n",
    "plot_diagram(diagrams_basic[0])\n",
    "# bad points\n",
    "plot_diagram(diagrams_basic[1])"
   ]
  },
  {
   "cell_type": "markdown",
   "metadata": {},
   "source": [
    "#### Calculate the peristence entropy of the points:"
   ]
  },
  {
   "cell_type": "code",
   "execution_count": 20,
   "metadata": {},
   "outputs": [
    {
     "data": {
      "text/plain": [
       "array([[9.88492277, 8.32234983, 6.16379686],\n",
       "       [9.87356755, 8.27093709, 6.03833114]])"
      ]
     },
     "execution_count": 20,
     "metadata": {},
     "output_type": "execute_result"
    }
   ],
   "source": [
    "from gtda.diagrams import PersistenceEntropy\n",
    "\n",
    "persistence_entropy = PersistenceEntropy()\n",
    "\n",
    "# calculate topological feature matrix\n",
    "X_basic = persistence_entropy.fit_transform(diagrams_basic)\n",
    "\n",
    "# expect shape - (n_point_clouds, n_homology_dims)\n",
    "X_basic"
   ]
  },
  {
   "cell_type": "code",
   "execution_count": 22,
   "metadata": {},
   "outputs": [
    {
     "data": {
      "application/vnd.plotly.v1+json": {
       "config": {
        "plotlyServerURL": "https://plot.ly"
       },
       "data": [
        {
         "marker": {
          "color": [
           0,
           1
          ],
          "colorscale": [
           [
            0,
            "#440154"
           ],
           [
            0.1111111111111111,
            "#482878"
           ],
           [
            0.2222222222222222,
            "#3e4989"
           ],
           [
            0.3333333333333333,
            "#31688e"
           ],
           [
            0.4444444444444444,
            "#26828e"
           ],
           [
            0.5555555555555556,
            "#1f9e89"
           ],
           [
            0.6666666666666666,
            "#35b779"
           ],
           [
            0.7777777777777778,
            "#6ece58"
           ],
           [
            0.8888888888888888,
            "#b5de2b"
           ],
           [
            1,
            "#fde725"
           ]
          ],
          "opacity": 0.8,
          "size": 4
         },
         "mode": "markers",
         "type": "scatter3d",
         "x": [
          9.884922774109695,
          9.873567554990357
         ],
         "y": [
          8.322349833092694,
          8.270937092414776
         ],
         "z": [
          6.1637968619382235,
          6.038331143730994
         ]
        }
       ],
       "layout": {
        "scene": {
         "xaxis": {
          "exponentformat": "e",
          "showexponent": "all",
          "title": {
           "text": "0th"
          },
          "type": "linear"
         },
         "yaxis": {
          "exponentformat": "e",
          "showexponent": "all",
          "title": {
           "text": "1st"
          },
          "type": "linear"
         },
         "zaxis": {
          "exponentformat": "e",
          "showexponent": "all",
          "title": {
           "text": "2nd"
          },
          "type": "linear"
         }
        },
        "template": {
         "data": {
          "bar": [
           {
            "error_x": {
             "color": "#2a3f5f"
            },
            "error_y": {
             "color": "#2a3f5f"
            },
            "marker": {
             "line": {
              "color": "#E5ECF6",
              "width": 0.5
             },
             "pattern": {
              "fillmode": "overlay",
              "size": 10,
              "solidity": 0.2
             }
            },
            "type": "bar"
           }
          ],
          "barpolar": [
           {
            "marker": {
             "line": {
              "color": "#E5ECF6",
              "width": 0.5
             },
             "pattern": {
              "fillmode": "overlay",
              "size": 10,
              "solidity": 0.2
             }
            },
            "type": "barpolar"
           }
          ],
          "carpet": [
           {
            "aaxis": {
             "endlinecolor": "#2a3f5f",
             "gridcolor": "white",
             "linecolor": "white",
             "minorgridcolor": "white",
             "startlinecolor": "#2a3f5f"
            },
            "baxis": {
             "endlinecolor": "#2a3f5f",
             "gridcolor": "white",
             "linecolor": "white",
             "minorgridcolor": "white",
             "startlinecolor": "#2a3f5f"
            },
            "type": "carpet"
           }
          ],
          "choropleth": [
           {
            "colorbar": {
             "outlinewidth": 0,
             "ticks": ""
            },
            "type": "choropleth"
           }
          ],
          "contour": [
           {
            "colorbar": {
             "outlinewidth": 0,
             "ticks": ""
            },
            "colorscale": [
             [
              0,
              "#0d0887"
             ],
             [
              0.1111111111111111,
              "#46039f"
             ],
             [
              0.2222222222222222,
              "#7201a8"
             ],
             [
              0.3333333333333333,
              "#9c179e"
             ],
             [
              0.4444444444444444,
              "#bd3786"
             ],
             [
              0.5555555555555556,
              "#d8576b"
             ],
             [
              0.6666666666666666,
              "#ed7953"
             ],
             [
              0.7777777777777778,
              "#fb9f3a"
             ],
             [
              0.8888888888888888,
              "#fdca26"
             ],
             [
              1,
              "#f0f921"
             ]
            ],
            "type": "contour"
           }
          ],
          "contourcarpet": [
           {
            "colorbar": {
             "outlinewidth": 0,
             "ticks": ""
            },
            "type": "contourcarpet"
           }
          ],
          "heatmap": [
           {
            "colorbar": {
             "outlinewidth": 0,
             "ticks": ""
            },
            "colorscale": [
             [
              0,
              "#0d0887"
             ],
             [
              0.1111111111111111,
              "#46039f"
             ],
             [
              0.2222222222222222,
              "#7201a8"
             ],
             [
              0.3333333333333333,
              "#9c179e"
             ],
             [
              0.4444444444444444,
              "#bd3786"
             ],
             [
              0.5555555555555556,
              "#d8576b"
             ],
             [
              0.6666666666666666,
              "#ed7953"
             ],
             [
              0.7777777777777778,
              "#fb9f3a"
             ],
             [
              0.8888888888888888,
              "#fdca26"
             ],
             [
              1,
              "#f0f921"
             ]
            ],
            "type": "heatmap"
           }
          ],
          "heatmapgl": [
           {
            "colorbar": {
             "outlinewidth": 0,
             "ticks": ""
            },
            "colorscale": [
             [
              0,
              "#0d0887"
             ],
             [
              0.1111111111111111,
              "#46039f"
             ],
             [
              0.2222222222222222,
              "#7201a8"
             ],
             [
              0.3333333333333333,
              "#9c179e"
             ],
             [
              0.4444444444444444,
              "#bd3786"
             ],
             [
              0.5555555555555556,
              "#d8576b"
             ],
             [
              0.6666666666666666,
              "#ed7953"
             ],
             [
              0.7777777777777778,
              "#fb9f3a"
             ],
             [
              0.8888888888888888,
              "#fdca26"
             ],
             [
              1,
              "#f0f921"
             ]
            ],
            "type": "heatmapgl"
           }
          ],
          "histogram": [
           {
            "marker": {
             "pattern": {
              "fillmode": "overlay",
              "size": 10,
              "solidity": 0.2
             }
            },
            "type": "histogram"
           }
          ],
          "histogram2d": [
           {
            "colorbar": {
             "outlinewidth": 0,
             "ticks": ""
            },
            "colorscale": [
             [
              0,
              "#0d0887"
             ],
             [
              0.1111111111111111,
              "#46039f"
             ],
             [
              0.2222222222222222,
              "#7201a8"
             ],
             [
              0.3333333333333333,
              "#9c179e"
             ],
             [
              0.4444444444444444,
              "#bd3786"
             ],
             [
              0.5555555555555556,
              "#d8576b"
             ],
             [
              0.6666666666666666,
              "#ed7953"
             ],
             [
              0.7777777777777778,
              "#fb9f3a"
             ],
             [
              0.8888888888888888,
              "#fdca26"
             ],
             [
              1,
              "#f0f921"
             ]
            ],
            "type": "histogram2d"
           }
          ],
          "histogram2dcontour": [
           {
            "colorbar": {
             "outlinewidth": 0,
             "ticks": ""
            },
            "colorscale": [
             [
              0,
              "#0d0887"
             ],
             [
              0.1111111111111111,
              "#46039f"
             ],
             [
              0.2222222222222222,
              "#7201a8"
             ],
             [
              0.3333333333333333,
              "#9c179e"
             ],
             [
              0.4444444444444444,
              "#bd3786"
             ],
             [
              0.5555555555555556,
              "#d8576b"
             ],
             [
              0.6666666666666666,
              "#ed7953"
             ],
             [
              0.7777777777777778,
              "#fb9f3a"
             ],
             [
              0.8888888888888888,
              "#fdca26"
             ],
             [
              1,
              "#f0f921"
             ]
            ],
            "type": "histogram2dcontour"
           }
          ],
          "mesh3d": [
           {
            "colorbar": {
             "outlinewidth": 0,
             "ticks": ""
            },
            "type": "mesh3d"
           }
          ],
          "parcoords": [
           {
            "line": {
             "colorbar": {
              "outlinewidth": 0,
              "ticks": ""
             }
            },
            "type": "parcoords"
           }
          ],
          "pie": [
           {
            "automargin": true,
            "type": "pie"
           }
          ],
          "scatter": [
           {
            "fillpattern": {
             "fillmode": "overlay",
             "size": 10,
             "solidity": 0.2
            },
            "type": "scatter"
           }
          ],
          "scatter3d": [
           {
            "line": {
             "colorbar": {
              "outlinewidth": 0,
              "ticks": ""
             }
            },
            "marker": {
             "colorbar": {
              "outlinewidth": 0,
              "ticks": ""
             }
            },
            "type": "scatter3d"
           }
          ],
          "scattercarpet": [
           {
            "marker": {
             "colorbar": {
              "outlinewidth": 0,
              "ticks": ""
             }
            },
            "type": "scattercarpet"
           }
          ],
          "scattergeo": [
           {
            "marker": {
             "colorbar": {
              "outlinewidth": 0,
              "ticks": ""
             }
            },
            "type": "scattergeo"
           }
          ],
          "scattergl": [
           {
            "marker": {
             "colorbar": {
              "outlinewidth": 0,
              "ticks": ""
             }
            },
            "type": "scattergl"
           }
          ],
          "scattermapbox": [
           {
            "marker": {
             "colorbar": {
              "outlinewidth": 0,
              "ticks": ""
             }
            },
            "type": "scattermapbox"
           }
          ],
          "scatterpolar": [
           {
            "marker": {
             "colorbar": {
              "outlinewidth": 0,
              "ticks": ""
             }
            },
            "type": "scatterpolar"
           }
          ],
          "scatterpolargl": [
           {
            "marker": {
             "colorbar": {
              "outlinewidth": 0,
              "ticks": ""
             }
            },
            "type": "scatterpolargl"
           }
          ],
          "scatterternary": [
           {
            "marker": {
             "colorbar": {
              "outlinewidth": 0,
              "ticks": ""
             }
            },
            "type": "scatterternary"
           }
          ],
          "surface": [
           {
            "colorbar": {
             "outlinewidth": 0,
             "ticks": ""
            },
            "colorscale": [
             [
              0,
              "#0d0887"
             ],
             [
              0.1111111111111111,
              "#46039f"
             ],
             [
              0.2222222222222222,
              "#7201a8"
             ],
             [
              0.3333333333333333,
              "#9c179e"
             ],
             [
              0.4444444444444444,
              "#bd3786"
             ],
             [
              0.5555555555555556,
              "#d8576b"
             ],
             [
              0.6666666666666666,
              "#ed7953"
             ],
             [
              0.7777777777777778,
              "#fb9f3a"
             ],
             [
              0.8888888888888888,
              "#fdca26"
             ],
             [
              1,
              "#f0f921"
             ]
            ],
            "type": "surface"
           }
          ],
          "table": [
           {
            "cells": {
             "fill": {
              "color": "#EBF0F8"
             },
             "line": {
              "color": "white"
             }
            },
            "header": {
             "fill": {
              "color": "#C8D4E3"
             },
             "line": {
              "color": "white"
             }
            },
            "type": "table"
           }
          ]
         },
         "layout": {
          "annotationdefaults": {
           "arrowcolor": "#2a3f5f",
           "arrowhead": 0,
           "arrowwidth": 1
          },
          "autotypenumbers": "strict",
          "coloraxis": {
           "colorbar": {
            "outlinewidth": 0,
            "ticks": ""
           }
          },
          "colorscale": {
           "diverging": [
            [
             0,
             "#8e0152"
            ],
            [
             0.1,
             "#c51b7d"
            ],
            [
             0.2,
             "#de77ae"
            ],
            [
             0.3,
             "#f1b6da"
            ],
            [
             0.4,
             "#fde0ef"
            ],
            [
             0.5,
             "#f7f7f7"
            ],
            [
             0.6,
             "#e6f5d0"
            ],
            [
             0.7,
             "#b8e186"
            ],
            [
             0.8,
             "#7fbc41"
            ],
            [
             0.9,
             "#4d9221"
            ],
            [
             1,
             "#276419"
            ]
           ],
           "sequential": [
            [
             0,
             "#0d0887"
            ],
            [
             0.1111111111111111,
             "#46039f"
            ],
            [
             0.2222222222222222,
             "#7201a8"
            ],
            [
             0.3333333333333333,
             "#9c179e"
            ],
            [
             0.4444444444444444,
             "#bd3786"
            ],
            [
             0.5555555555555556,
             "#d8576b"
            ],
            [
             0.6666666666666666,
             "#ed7953"
            ],
            [
             0.7777777777777778,
             "#fb9f3a"
            ],
            [
             0.8888888888888888,
             "#fdca26"
            ],
            [
             1,
             "#f0f921"
            ]
           ],
           "sequentialminus": [
            [
             0,
             "#0d0887"
            ],
            [
             0.1111111111111111,
             "#46039f"
            ],
            [
             0.2222222222222222,
             "#7201a8"
            ],
            [
             0.3333333333333333,
             "#9c179e"
            ],
            [
             0.4444444444444444,
             "#bd3786"
            ],
            [
             0.5555555555555556,
             "#d8576b"
            ],
            [
             0.6666666666666666,
             "#ed7953"
            ],
            [
             0.7777777777777778,
             "#fb9f3a"
            ],
            [
             0.8888888888888888,
             "#fdca26"
            ],
            [
             1,
             "#f0f921"
            ]
           ]
          },
          "colorway": [
           "#636efa",
           "#EF553B",
           "#00cc96",
           "#ab63fa",
           "#FFA15A",
           "#19d3f3",
           "#FF6692",
           "#B6E880",
           "#FF97FF",
           "#FECB52"
          ],
          "font": {
           "color": "#2a3f5f"
          },
          "geo": {
           "bgcolor": "white",
           "lakecolor": "white",
           "landcolor": "#E5ECF6",
           "showlakes": true,
           "showland": true,
           "subunitcolor": "white"
          },
          "hoverlabel": {
           "align": "left"
          },
          "hovermode": "closest",
          "mapbox": {
           "style": "light"
          },
          "paper_bgcolor": "white",
          "plot_bgcolor": "#E5ECF6",
          "polar": {
           "angularaxis": {
            "gridcolor": "white",
            "linecolor": "white",
            "ticks": ""
           },
           "bgcolor": "#E5ECF6",
           "radialaxis": {
            "gridcolor": "white",
            "linecolor": "white",
            "ticks": ""
           }
          },
          "scene": {
           "xaxis": {
            "backgroundcolor": "#E5ECF6",
            "gridcolor": "white",
            "gridwidth": 2,
            "linecolor": "white",
            "showbackground": true,
            "ticks": "",
            "zerolinecolor": "white"
           },
           "yaxis": {
            "backgroundcolor": "#E5ECF6",
            "gridcolor": "white",
            "gridwidth": 2,
            "linecolor": "white",
            "showbackground": true,
            "ticks": "",
            "zerolinecolor": "white"
           },
           "zaxis": {
            "backgroundcolor": "#E5ECF6",
            "gridcolor": "white",
            "gridwidth": 2,
            "linecolor": "white",
            "showbackground": true,
            "ticks": "",
            "zerolinecolor": "white"
           }
          },
          "shapedefaults": {
           "line": {
            "color": "#2a3f5f"
           }
          },
          "ternary": {
           "aaxis": {
            "gridcolor": "white",
            "linecolor": "white",
            "ticks": ""
           },
           "baxis": {
            "gridcolor": "white",
            "linecolor": "white",
            "ticks": ""
           },
           "bgcolor": "#E5ECF6",
           "caxis": {
            "gridcolor": "white",
            "linecolor": "white",
            "ticks": ""
           }
          },
          "title": {
           "x": 0.05
          },
          "xaxis": {
           "automargin": true,
           "gridcolor": "white",
           "linecolor": "white",
           "ticks": "",
           "title": {
            "standoff": 15
           },
           "zerolinecolor": "white",
           "zerolinewidth": 2
          },
          "yaxis": {
           "automargin": true,
           "gridcolor": "white",
           "linecolor": "white",
           "ticks": "",
           "title": {
            "standoff": 15
           },
           "zerolinecolor": "white",
           "zerolinewidth": 2
          }
         }
        }
       }
      }
     },
     "metadata": {},
     "output_type": "display_data"
    }
   ],
   "source": [
    "from gtda.plotting import plot_point_cloud\n",
    "plot_point_cloud(X_basic)"
   ]
  },
  {
   "cell_type": "markdown",
   "metadata": {},
   "source": [
    "#### Let's pick out a handful of good labels and bad labels to see if we can discriminate between them:"
   ]
  },
  {
   "cell_type": "code",
   "execution_count": 28,
   "metadata": {},
   "outputs": [],
   "source": [
    "good_labels = [184, 150, 129, 151, 132]\n",
    "bad_labels = [20, 33, 14, 118, 103]\n",
    "\n",
    "good_label_pcs = [np.column_stack(np.where(filtered_masks == good_id)) for good_id in good_labels]\n",
    "bad_label_pcs = [np.column_stack(np.where(filtered_masks == bad_id)) for bad_id in bad_labels]"
   ]
  },
  {
   "cell_type": "code",
   "execution_count": 29,
   "metadata": {},
   "outputs": [
    {
     "name": "stdout",
     "output_type": "stream",
     "text": [
      "pc with shape (726690, 3) at index 0 before filtering\n",
      "large point cloud with 726690 points detected.\n",
      "randomized point cloud and selected every 500 points to filter down to 1454 points\n",
      "large point cloud with 1000848 points detected.\n",
      "randomized point cloud and selected every 500 points to filter down to 2002 points\n",
      "large point cloud with 734536 points detected.\n",
      "randomized point cloud and selected every 500 points to filter down to 1470 points\n",
      "large point cloud with 665647 points detected.\n",
      "randomized point cloud and selected every 500 points to filter down to 1332 points\n",
      "large point cloud with 796756 points detected.\n",
      "randomized point cloud and selected every 500 points to filter down to 1594 points\n",
      "large point cloud with 551132 points detected.\n",
      "randomized point cloud and selected every 500 points to filter down to 1103 points\n",
      "large point cloud with 1355610 points detected.\n",
      "randomized point cloud and selected every 500 points to filter down to 2712 points\n",
      "large point cloud with 1000477 points detected.\n",
      "randomized point cloud and selected every 500 points to filter down to 2001 points\n",
      "large point cloud with 652441 points detected.\n",
      "randomized point cloud and selected every 500 points to filter down to 1305 points\n",
      "large point cloud with 513394 points detected.\n",
      "randomized point cloud and selected every 500 points to filter down to 1027 points\n",
      "pc with shape (1454, 3) at index 0 after filtering\n"
     ]
    }
   ],
   "source": [
    "def filter_points(l: list) -> list:\n",
    "    for pc_index, pc in enumerate(l):\n",
    "        if pc.shape[0] < 1000:\n",
    "            continue\n",
    "        scale_factor = 500\n",
    "        print(f'large point cloud with {pc.shape[0]} points detected.')\n",
    "        np.random.shuffle(l[pc_index])\n",
    "        l[pc_index] = l[pc_index][::int(scale_factor)]\n",
    "        print(f'randomized point cloud and selected every {int(scale_factor)} points to filter down to {l[pc_index].shape[0]} points')\n",
    "    return l\n",
    "\n",
    "print(f'pc with shape {good_label_pcs[0].shape} at index 0 before filtering')\n",
    "good_label_pcs = filter_points(good_label_pcs)\n",
    "bad_label_pcs = filter_points(bad_label_pcs)\n",
    "print(f'pc with shape {good_label_pcs[0].shape} at index 0 after filtering')"
   ]
  },
  {
   "cell_type": "code",
   "execution_count": 30,
   "metadata": {},
   "outputs": [
    {
     "data": {
      "text/plain": [
       "(5, 3)"
      ]
     },
     "execution_count": 30,
     "metadata": {},
     "output_type": "execute_result"
    }
   ],
   "source": [
    "good_diagrams_basic = persistence.fit_transform(good_label_pcs)\n",
    "bad_diagrams_basic = persistence.fit_transform(bad_label_pcs)\n",
    "good_X_basic = persistence_entropy.fit_transform(good_diagrams_basic)\n",
    "bad_X_basic = persistence_entropy.fit_transform(bad_diagrams_basic)\n",
    "\n",
    "good_X_basic.shape"
   ]
  },
  {
   "cell_type": "code",
   "execution_count": 38,
   "metadata": {},
   "outputs": [
    {
     "name": "stdout",
     "output_type": "stream",
     "text": [
      "[10.42523982 10.88288718 10.43913403 10.2987316  10.55668155]\n",
      "[[10.01556958  8.46993202  6.3297205 ]\n",
      " [11.29933626  9.8053938   7.6714278 ]\n",
      " [10.87840931  9.30503386  7.12157398]\n",
      " [10.25931137  8.77211327  6.48520277]\n",
      " [ 9.91210722  8.3809308   5.99494322]]\n"
     ]
    }
   ],
   "source": [
    "print(good_X_basic.T[0])\n",
    "print(bad_X_basic)"
   ]
  },
  {
   "cell_type": "code",
   "execution_count": 43,
   "metadata": {},
   "outputs": [
    {
     "data": {
      "image/png": "[encoded data removed]",
      "text/plain": [
       "<Figure size 432x288 with 3 Axes>"
      ]
     },
     "metadata": {
      "needs_background": "light"
     },
     "output_type": "display_data"
    }
   ],
   "source": [
    "import matplotlib.pyplot as plt\n",
    "\n",
    "fig, (ax1, ax2, ax3) = plt.subplots(1, 3)\n",
    "ax1.boxplot([good_X_basic.T[0], bad_X_basic.T[0]])\n",
    "ax2.boxplot([good_X_basic.T[1], bad_X_basic.T[1]])\n",
    "ax3.boxplot([good_X_basic.T[2], bad_X_basic.T[2]])\n",
    "plt.show()"
   ]
  },
  {
   "cell_type": "code",
   "execution_count": 46,
   "metadata": {},
   "outputs": [
    {
     "data": {
      "application/vnd.plotly.v1+json": {
       "config": {
        "plotlyServerURL": "https://plot.ly"
       },
       "data": [
        {
         "marker": {
          "color": [
           0,
           1,
           2,
           3,
           4
          ],
          "colorscale": [
           [
            0,
            "#440154"
           ],
           [
            0.1111111111111111,
            "#482878"
           ],
           [
            0.2222222222222222,
            "#3e4989"
           ],
           [
            0.3333333333333333,
            "#31688e"
           ],
           [
            0.4444444444444444,
            "#26828e"
           ],
           [
            0.5555555555555556,
            "#1f9e89"
           ],
           [
            0.6666666666666666,
            "#35b779"
           ],
           [
            0.7777777777777778,
            "#6ece58"
           ],
           [
            0.8888888888888888,
            "#b5de2b"
           ],
           [
            1,
            "#fde725"
           ]
          ],
          "opacity": 0.8,
          "size": 4
         },
         "mode": "markers",
         "type": "scatter3d",
         "x": [
          10.425239821900599,
          10.882887182200276,
          10.439134032912737,
          10.298731603450701,
          10.556681554930105
         ],
         "y": [
          9.004422778200869,
          9.453096444887137,
          8.956667823276096,
          8.864163615292012,
          9.11962549020163
         ],
         "z": [
          6.896103833832664,
          7.405886472013569,
          6.909124021131266,
          6.786325054734898,
          7.043660568875383
         ]
        }
       ],
       "layout": {
        "scene": {
         "xaxis": {
          "exponentformat": "e",
          "showexponent": "all",
          "title": {
           "text": "0th"
          },
          "type": "linear"
         },
         "yaxis": {
          "exponentformat": "e",
          "showexponent": "all",
          "title": {
           "text": "1st"
          },
          "type": "linear"
         },
         "zaxis": {
          "exponentformat": "e",
          "showexponent": "all",
          "title": {
           "text": "2nd"
          },
          "type": "linear"
         }
        },
        "template": {
         "data": {
          "bar": [
           {
            "error_x": {
             "color": "#2a3f5f"
            },
            "error_y": {
             "color": "#2a3f5f"
            },
            "marker": {
             "line": {
              "color": "#E5ECF6",
              "width": 0.5
             },
             "pattern": {
              "fillmode": "overlay",
              "size": 10,
              "solidity": 0.2
             }
            },
            "type": "bar"
           }
          ],
          "barpolar": [
           {
            "marker": {
             "line": {
              "color": "#E5ECF6",
              "width": 0.5
             },
             "pattern": {
              "fillmode": "overlay",
              "size": 10,
              "solidity": 0.2
             }
            },
            "type": "barpolar"
           }
          ],
          "carpet": [
           {
            "aaxis": {
             "endlinecolor": "#2a3f5f",
             "gridcolor": "white",
             "linecolor": "white",
             "minorgridcolor": "white",
             "startlinecolor": "#2a3f5f"
            },
            "baxis": {
             "endlinecolor": "#2a3f5f",
             "gridcolor": "white",
             "linecolor": "white",
             "minorgridcolor": "white",
             "startlinecolor": "#2a3f5f"
            },
            "type": "carpet"
           }
          ],
          "choropleth": [
           {
            "colorbar": {
             "outlinewidth": 0,
             "ticks": ""
            },
            "type": "choropleth"
           }
          ],
          "contour": [
           {
            "colorbar": {
             "outlinewidth": 0,
             "ticks": ""
            },
            "colorscale": [
             [
              0,
              "#0d0887"
             ],
             [
              0.1111111111111111,
              "#46039f"
             ],
             [
              0.2222222222222222,
              "#7201a8"
             ],
             [
              0.3333333333333333,
              "#9c179e"
             ],
             [
              0.4444444444444444,
              "#bd3786"
             ],
             [
              0.5555555555555556,
              "#d8576b"
             ],
             [
              0.6666666666666666,
              "#ed7953"
             ],
             [
              0.7777777777777778,
              "#fb9f3a"
             ],
             [
              0.8888888888888888,
              "#fdca26"
             ],
             [
              1,
              "#f0f921"
             ]
            ],
            "type": "contour"
           }
          ],
          "contourcarpet": [
           {
            "colorbar": {
             "outlinewidth": 0,
             "ticks": ""
            },
            "type": "contourcarpet"
           }
          ],
          "heatmap": [
           {
            "colorbar": {
             "outlinewidth": 0,
             "ticks": ""
            },
            "colorscale": [
             [
              0,
              "#0d0887"
             ],
             [
              0.1111111111111111,
              "#46039f"
             ],
             [
              0.2222222222222222,
              "#7201a8"
             ],
             [
              0.3333333333333333,
              "#9c179e"
             ],
             [
              0.4444444444444444,
              "#bd3786"
             ],
             [
              0.5555555555555556,
              "#d8576b"
             ],
             [
              0.6666666666666666,
              "#ed7953"
             ],
             [
              0.7777777777777778,
              "#fb9f3a"
             ],
             [
              0.8888888888888888,
              "#fdca26"
             ],
             [
              1,
              "#f0f921"
             ]
            ],
            "type": "heatmap"
           }
          ],
          "heatmapgl": [
           {
            "colorbar": {
             "outlinewidth": 0,
             "ticks": ""
            },
            "colorscale": [
             [
              0,
              "#0d0887"
             ],
             [
              0.1111111111111111,
              "#46039f"
             ],
             [
              0.2222222222222222,
              "#7201a8"
             ],
             [
              0.3333333333333333,
              "#9c179e"
             ],
             [
              0.4444444444444444,
              "#bd3786"
             ],
             [
              0.5555555555555556,
              "#d8576b"
             ],
             [
              0.6666666666666666,
              "#ed7953"
             ],
             [
              0.7777777777777778,
              "#fb9f3a"
             ],
             [
              0.8888888888888888,
              "#fdca26"
             ],
             [
              1,
              "#f0f921"
             ]
            ],
            "type": "heatmapgl"
           }
          ],
          "histogram": [
           {
            "marker": {
             "pattern": {
              "fillmode": "overlay",
              "size": 10,
              "solidity": 0.2
             }
            },
            "type": "histogram"
           }
          ],
          "histogram2d": [
           {
            "colorbar": {
             "outlinewidth": 0,
             "ticks": ""
            },
            "colorscale": [
             [
              0,
              "#0d0887"
             ],
             [
              0.1111111111111111,
              "#46039f"
             ],
             [
              0.2222222222222222,
              "#7201a8"
             ],
             [
              0.3333333333333333,
              "#9c179e"
             ],
             [
              0.4444444444444444,
              "#bd3786"
             ],
             [
              0.5555555555555556,
              "#d8576b"
             ],
             [
              0.6666666666666666,
              "#ed7953"
             ],
             [
              0.7777777777777778,
              "#fb9f3a"
             ],
             [
              0.8888888888888888,
              "#fdca26"
             ],
             [
              1,
              "#f0f921"
             ]
            ],
            "type": "histogram2d"
           }
          ],
          "histogram2dcontour": [
           {
            "colorbar": {
             "outlinewidth": 0,
             "ticks": ""
            },
            "colorscale": [
             [
              0,
              "#0d0887"
             ],
             [
              0.1111111111111111,
              "#46039f"
             ],
             [
              0.2222222222222222,
              "#7201a8"
             ],
             [
              0.3333333333333333,
              "#9c179e"
             ],
             [
              0.4444444444444444,
              "#bd3786"
             ],
             [
              0.5555555555555556,
              "#d8576b"
             ],
             [
              0.6666666666666666,
              "#ed7953"
             ],
             [
              0.7777777777777778,
              "#fb9f3a"
             ],
             [
              0.8888888888888888,
              "#fdca26"
             ],
             [
              1,
              "#f0f921"
             ]
            ],
            "type": "histogram2dcontour"
           }
          ],
          "mesh3d": [
           {
            "colorbar": {
             "outlinewidth": 0,
             "ticks": ""
            },
            "type": "mesh3d"
           }
          ],
          "parcoords": [
           {
            "line": {
             "colorbar": {
              "outlinewidth": 0,
              "ticks": ""
             }
            },
            "type": "parcoords"
           }
          ],
          "pie": [
           {
            "automargin": true,
            "type": "pie"
           }
          ],
          "scatter": [
           {
            "fillpattern": {
             "fillmode": "overlay",
             "size": 10,
             "solidity": 0.2
            },
            "type": "scatter"
           }
          ],
          "scatter3d": [
           {
            "line": {
             "colorbar": {
              "outlinewidth": 0,
              "ticks": ""
             }
            },
            "marker": {
             "colorbar": {
              "outlinewidth": 0,
              "ticks": ""
             }
            },
            "type": "scatter3d"
           }
          ],
          "scattercarpet": [
           {
            "marker": {
             "colorbar": {
              "outlinewidth": 0,
              "ticks": ""
             }
            },
            "type": "scattercarpet"
           }
          ],
          "scattergeo": [
           {
            "marker": {
             "colorbar": {
              "outlinewidth": 0,
              "ticks": ""
             }
            },
            "type": "scattergeo"
           }
          ],
          "scattergl": [
           {
            "marker": {
             "colorbar": {
              "outlinewidth": 0,
              "ticks": ""
             }
            },
            "type": "scattergl"
           }
          ],
          "scattermapbox": [
           {
            "marker": {
             "colorbar": {
              "outlinewidth": 0,
              "ticks": ""
             }
            },
            "type": "scattermapbox"
           }
          ],
          "scatterpolar": [
           {
            "marker": {
             "colorbar": {
              "outlinewidth": 0,
              "ticks": ""
             }
            },
            "type": "scatterpolar"
           }
          ],
          "scatterpolargl": [
           {
            "marker": {
             "colorbar": {
              "outlinewidth": 0,
              "ticks": ""
             }
            },
            "type": "scatterpolargl"
           }
          ],
          "scatterternary": [
           {
            "marker": {
             "colorbar": {
              "outlinewidth": 0,
              "ticks": ""
             }
            },
            "type": "scatterternary"
           }
          ],
          "surface": [
           {
            "colorbar": {
             "outlinewidth": 0,
             "ticks": ""
            },
            "colorscale": [
             [
              0,
              "#0d0887"
             ],
             [
              0.1111111111111111,
              "#46039f"
             ],
             [
              0.2222222222222222,
              "#7201a8"
             ],
             [
              0.3333333333333333,
              "#9c179e"
             ],
             [
              0.4444444444444444,
              "#bd3786"
             ],
             [
              0.5555555555555556,
              "#d8576b"
             ],
             [
              0.6666666666666666,
              "#ed7953"
             ],
             [
              0.7777777777777778,
              "#fb9f3a"
             ],
             [
              0.8888888888888888,
              "#fdca26"
             ],
             [
              1,
              "#f0f921"
             ]
            ],
            "type": "surface"
           }
          ],
          "table": [
           {
            "cells": {
             "fill": {
              "color": "#EBF0F8"
             },
             "line": {
              "color": "white"
             }
            },
            "header": {
             "fill": {
              "color": "#C8D4E3"
             },
             "line": {
              "color": "white"
             }
            },
            "type": "table"
           }
          ]
         },
         "layout": {
          "annotationdefaults": {
           "arrowcolor": "#2a3f5f",
           "arrowhead": 0,
           "arrowwidth": 1
          },
          "autotypenumbers": "strict",
          "coloraxis": {
           "colorbar": {
            "outlinewidth": 0,
            "ticks": ""
           }
          },
          "colorscale": {
           "diverging": [
            [
             0,
             "#8e0152"
            ],
            [
             0.1,
             "#c51b7d"
            ],
            [
             0.2,
             "#de77ae"
            ],
            [
             0.3,
             "#f1b6da"
            ],
            [
             0.4,
             "#fde0ef"
            ],
            [
             0.5,
             "#f7f7f7"
            ],
            [
             0.6,
             "#e6f5d0"
            ],
            [
             0.7,
             "#b8e186"
            ],
            [
             0.8,
             "#7fbc41"
            ],
            [
             0.9,
             "#4d9221"
            ],
            [
             1,
             "#276419"
            ]
           ],
           "sequential": [
            [
             0,
             "#0d0887"
            ],
            [
             0.1111111111111111,
             "#46039f"
            ],
            [
             0.2222222222222222,
             "#7201a8"
            ],
            [
             0.3333333333333333,
             "#9c179e"
            ],
            [
             0.4444444444444444,
             "#bd3786"
            ],
            [
             0.5555555555555556,
             "#d8576b"
            ],
            [
             0.6666666666666666,
             "#ed7953"
            ],
            [
             0.7777777777777778,
             "#fb9f3a"
            ],
            [
             0.8888888888888888,
             "#fdca26"
            ],
            [
             1,
             "#f0f921"
            ]
           ],
           "sequentialminus": [
            [
             0,
             "#0d0887"
            ],
            [
             0.1111111111111111,
             "#46039f"
            ],
            [
             0.2222222222222222,
             "#7201a8"
            ],
            [
             0.3333333333333333,
             "#9c179e"
            ],
            [
             0.4444444444444444,
             "#bd3786"
            ],
            [
             0.5555555555555556,
             "#d8576b"
            ],
            [
             0.6666666666666666,
             "#ed7953"
            ],
            [
             0.7777777777777778,
             "#fb9f3a"
            ],
            [
             0.8888888888888888,
             "#fdca26"
            ],
            [
             1,
             "#f0f921"
            ]
           ]
          },
          "colorway": [
           "#636efa",
           "#EF553B",
           "#00cc96",
           "#ab63fa",
           "#FFA15A",
           "#19d3f3",
           "#FF6692",
           "#B6E880",
           "#FF97FF",
           "#FECB52"
          ],
          "font": {
           "color": "#2a3f5f"
          },
          "geo": {
           "bgcolor": "white",
           "lakecolor": "white",
           "landcolor": "#E5ECF6",
           "showlakes": true,
           "showland": true,
           "subunitcolor": "white"
          },
          "hoverlabel": {
           "align": "left"
          },
          "hovermode": "closest",
          "mapbox": {
           "style": "light"
          },
          "paper_bgcolor": "white",
          "plot_bgcolor": "#E5ECF6",
          "polar": {
           "angularaxis": {
            "gridcolor": "white",
            "linecolor": "white",
            "ticks": ""
           },
           "bgcolor": "#E5ECF6",
           "radialaxis": {
            "gridcolor": "white",
            "linecolor": "white",
            "ticks": ""
           }
          },
          "scene": {
           "xaxis": {
            "backgroundcolor": "#E5ECF6",
            "gridcolor": "white",
            "gridwidth": 2,
            "linecolor": "white",
            "showbackground": true,
            "ticks": "",
            "zerolinecolor": "white"
           },
           "yaxis": {
            "backgroundcolor": "#E5ECF6",
            "gridcolor": "white",
            "gridwidth": 2,
            "linecolor": "white",
            "showbackground": true,
            "ticks": "",
            "zerolinecolor": "white"
           },
           "zaxis": {
            "backgroundcolor": "#E5ECF6",
            "gridcolor": "white",
            "gridwidth": 2,
            "linecolor": "white",
            "showbackground": true,
            "ticks": "",
            "zerolinecolor": "white"
           }
          },
          "shapedefaults": {
           "line": {
            "color": "#2a3f5f"
           }
          },
          "ternary": {
           "aaxis": {
            "gridcolor": "white",
            "linecolor": "white",
            "ticks": ""
           },
           "baxis": {
            "gridcolor": "white",
            "linecolor": "white",
            "ticks": ""
           },
           "bgcolor": "#E5ECF6",
           "caxis": {
            "gridcolor": "white",
            "linecolor": "white",
            "ticks": ""
           }
          },
          "title": {
           "x": 0.05
          },
          "xaxis": {
           "automargin": true,
           "gridcolor": "white",
           "linecolor": "white",
           "ticks": "",
           "title": {
            "standoff": 15
           },
           "zerolinecolor": "white",
           "zerolinewidth": 2
          },
          "yaxis": {
           "automargin": true,
           "gridcolor": "white",
           "linecolor": "white",
           "ticks": "",
           "title": {
            "standoff": 15
           },
           "zerolinecolor": "white",
           "zerolinewidth": 2
          }
         }
        }
       }
      }
     },
     "metadata": {},
     "output_type": "display_data"
    }
   ],
   "source": [
    "plot_point_cloud(good_X_basic)"
   ]
  },
  {
   "cell_type": "code",
   "execution_count": 48,
   "metadata": {},
   "outputs": [
    {
     "data": {
      "application/vnd.plotly.v1+json": {
       "config": {
        "plotlyServerURL": "https://plot.ly"
       },
       "data": [
        {
         "marker": {
          "color": [
           0,
           1,
           2,
           3,
           4
          ],
          "colorscale": [
           [
            0,
            "#440154"
           ],
           [
            0.1111111111111111,
            "#482878"
           ],
           [
            0.2222222222222222,
            "#3e4989"
           ],
           [
            0.3333333333333333,
            "#31688e"
           ],
           [
            0.4444444444444444,
            "#26828e"
           ],
           [
            0.5555555555555556,
            "#1f9e89"
           ],
           [
            0.6666666666666666,
            "#35b779"
           ],
           [
            0.7777777777777778,
            "#6ece58"
           ],
           [
            0.8888888888888888,
            "#b5de2b"
           ],
           [
            1,
            "#fde725"
           ]
          ],
          "opacity": 0.8,
          "size": 4
         },
         "mode": "markers",
         "type": "scatter3d",
         "x": [
          10.015569582868102,
          11.299336259784564,
          10.878409312583681,
          10.259311365532678,
          9.912107223129311
         ],
         "y": [
          8.469932017232352,
          9.805393799774926,
          9.305033858519671,
          8.772113265438293,
          8.380930803879634
         ],
         "z": [
          6.329720504096568,
          7.671427804532875,
          7.121573980765078,
          6.485202769656137,
          5.994943224015458
         ]
        }
       ],
       "layout": {
        "scene": {
         "xaxis": {
          "exponentformat": "e",
          "showexponent": "all",
          "title": {
           "text": "0th"
          },
          "type": "linear"
         },
         "yaxis": {
          "exponentformat": "e",
          "showexponent": "all",
          "title": {
           "text": "1st"
          },
          "type": "linear"
         },
         "zaxis": {
          "exponentformat": "e",
          "showexponent": "all",
          "title": {
           "text": "2nd"
          },
          "type": "linear"
         }
        },
        "template": {
         "data": {
          "bar": [
           {
            "error_x": {
             "color": "#2a3f5f"
            },
            "error_y": {
             "color": "#2a3f5f"
            },
            "marker": {
             "line": {
              "color": "#E5ECF6",
              "width": 0.5
             },
             "pattern": {
              "fillmode": "overlay",
              "size": 10,
              "solidity": 0.2
             }
            },
            "type": "bar"
           }
          ],
          "barpolar": [
           {
            "marker": {
             "line": {
              "color": "#E5ECF6",
              "width": 0.5
             },
             "pattern": {
              "fillmode": "overlay",
              "size": 10,
              "solidity": 0.2
             }
            },
            "type": "barpolar"
           }
          ],
          "carpet": [
           {
            "aaxis": {
             "endlinecolor": "#2a3f5f",
             "gridcolor": "white",
             "linecolor": "white",
             "minorgridcolor": "white",
             "startlinecolor": "#2a3f5f"
            },
            "baxis": {
             "endlinecolor": "#2a3f5f",
             "gridcolor": "white",
             "linecolor": "white",
             "minorgridcolor": "white",
             "startlinecolor": "#2a3f5f"
            },
            "type": "carpet"
           }
          ],
          "choropleth": [
           {
            "colorbar": {
             "outlinewidth": 0,
             "ticks": ""
            },
            "type": "choropleth"
           }
          ],
          "contour": [
           {
            "colorbar": {
             "outlinewidth": 0,
             "ticks": ""
            },
            "colorscale": [
             [
              0,
              "#0d0887"
             ],
             [
              0.1111111111111111,
              "#46039f"
             ],
             [
              0.2222222222222222,
              "#7201a8"
             ],
             [
              0.3333333333333333,
              "#9c179e"
             ],
             [
              0.4444444444444444,
              "#bd3786"
             ],
             [
              0.5555555555555556,
              "#d8576b"
             ],
             [
              0.6666666666666666,
              "#ed7953"
             ],
             [
              0.7777777777777778,
              "#fb9f3a"
             ],
             [
              0.8888888888888888,
              "#fdca26"
             ],
             [
              1,
              "#f0f921"
             ]
            ],
            "type": "contour"
           }
          ],
          "contourcarpet": [
           {
            "colorbar": {
             "outlinewidth": 0,
             "ticks": ""
            },
            "type": "contourcarpet"
           }
          ],
          "heatmap": [
           {
            "colorbar": {
             "outlinewidth": 0,
             "ticks": ""
            },
            "colorscale": [
             [
              0,
              "#0d0887"
             ],
             [
              0.1111111111111111,
              "#46039f"
             ],
             [
              0.2222222222222222,
              "#7201a8"
             ],
             [
              0.3333333333333333,
              "#9c179e"
             ],
             [
              0.4444444444444444,
              "#bd3786"
             ],
             [
              0.5555555555555556,
              "#d8576b"
             ],
             [
              0.6666666666666666,
              "#ed7953"
             ],
             [
              0.7777777777777778,
              "#fb9f3a"
             ],
             [
              0.8888888888888888,
              "#fdca26"
             ],
             [
              1,
              "#f0f921"
             ]
            ],
            "type": "heatmap"
           }
          ],
          "heatmapgl": [
           {
            "colorbar": {
             "outlinewidth": 0,
             "ticks": ""
            },
            "colorscale": [
             [
              0,
              "#0d0887"
             ],
             [
              0.1111111111111111,
              "#46039f"
             ],
             [
              0.2222222222222222,
              "#7201a8"
             ],
             [
              0.3333333333333333,
              "#9c179e"
             ],
             [
              0.4444444444444444,
              "#bd3786"
             ],
             [
              0.5555555555555556,
              "#d8576b"
             ],
             [
              0.6666666666666666,
              "#ed7953"
             ],
             [
              0.7777777777777778,
              "#fb9f3a"
             ],
             [
              0.8888888888888888,
              "#fdca26"
             ],
             [
              1,
              "#f0f921"
             ]
            ],
            "type": "heatmapgl"
           }
          ],
          "histogram": [
           {
            "marker": {
             "pattern": {
              "fillmode": "overlay",
              "size": 10,
              "solidity": 0.2
             }
            },
            "type": "histogram"
           }
          ],
          "histogram2d": [
           {
            "colorbar": {
             "outlinewidth": 0,
             "ticks": ""
            },
            "colorscale": [
             [
              0,
              "#0d0887"
             ],
             [
              0.1111111111111111,
              "#46039f"
             ],
             [
              0.2222222222222222,
              "#7201a8"
             ],
             [
              0.3333333333333333,
              "#9c179e"
             ],
             [
              0.4444444444444444,
              "#bd3786"
             ],
             [
              0.5555555555555556,
              "#d8576b"
             ],
             [
              0.6666666666666666,
              "#ed7953"
             ],
             [
              0.7777777777777778,
              "#fb9f3a"
             ],
             [
              0.8888888888888888,
              "#fdca26"
             ],
             [
              1,
              "#f0f921"
             ]
            ],
            "type": "histogram2d"
           }
          ],
          "histogram2dcontour": [
           {
            "colorbar": {
             "outlinewidth": 0,
             "ticks": ""
            },
            "colorscale": [
             [
              0,
              "#0d0887"
             ],
             [
              0.1111111111111111,
              "#46039f"
             ],
             [
              0.2222222222222222,
              "#7201a8"
             ],
             [
              0.3333333333333333,
              "#9c179e"
             ],
             [
              0.4444444444444444,
              "#bd3786"
             ],
             [
              0.5555555555555556,
              "#d8576b"
             ],
             [
              0.6666666666666666,
              "#ed7953"
             ],
             [
              0.7777777777777778,
              "#fb9f3a"
             ],
             [
              0.8888888888888888,
              "#fdca26"
             ],
             [
              1,
              "#f0f921"
             ]
            ],
            "type": "histogram2dcontour"
           }
          ],
          "mesh3d": [
           {
            "colorbar": {
             "outlinewidth": 0,
             "ticks": ""
            },
            "type": "mesh3d"
           }
          ],
          "parcoords": [
           {
            "line": {
             "colorbar": {
              "outlinewidth": 0,
              "ticks": ""
             }
            },
            "type": "parcoords"
           }
          ],
          "pie": [
           {
            "automargin": true,
            "type": "pie"
           }
          ],
          "scatter": [
           {
            "fillpattern": {
             "fillmode": "overlay",
             "size": 10,
             "solidity": 0.2
            },
            "type": "scatter"
           }
          ],
          "scatter3d": [
           {
            "line": {
             "colorbar": {
              "outlinewidth": 0,
              "ticks": ""
             }
            },
            "marker": {
             "colorbar": {
              "outlinewidth": 0,
              "ticks": ""
             }
            },
            "type": "scatter3d"
           }
          ],
          "scattercarpet": [
           {
            "marker": {
             "colorbar": {
              "outlinewidth": 0,
              "ticks": ""
             }
            },
            "type": "scattercarpet"
           }
          ],
          "scattergeo": [
           {
            "marker": {
             "colorbar": {
              "outlinewidth": 0,
              "ticks": ""
             }
            },
            "type": "scattergeo"
           }
          ],
          "scattergl": [
           {
            "marker": {
             "colorbar": {
              "outlinewidth": 0,
              "ticks": ""
             }
            },
            "type": "scattergl"
           }
          ],
          "scattermapbox": [
           {
            "marker": {
             "colorbar": {
              "outlinewidth": 0,
              "ticks": ""
             }
            },
            "type": "scattermapbox"
           }
          ],
          "scatterpolar": [
           {
            "marker": {
             "colorbar": {
              "outlinewidth": 0,
              "ticks": ""
             }
            },
            "type": "scatterpolar"
           }
          ],
          "scatterpolargl": [
           {
            "marker": {
             "colorbar": {
              "outlinewidth": 0,
              "ticks": ""
             }
            },
            "type": "scatterpolargl"
           }
          ],
          "scatterternary": [
           {
            "marker": {
             "colorbar": {
              "outlinewidth": 0,
              "ticks": ""
             }
            },
            "type": "scatterternary"
           }
          ],
          "surface": [
           {
            "colorbar": {
             "outlinewidth": 0,
             "ticks": ""
            },
            "colorscale": [
             [
              0,
              "#0d0887"
             ],
             [
              0.1111111111111111,
              "#46039f"
             ],
             [
              0.2222222222222222,
              "#7201a8"
             ],
             [
              0.3333333333333333,
              "#9c179e"
             ],
             [
              0.4444444444444444,
              "#bd3786"
             ],
             [
              0.5555555555555556,
              "#d8576b"
             ],
             [
              0.6666666666666666,
              "#ed7953"
             ],
             [
              0.7777777777777778,
              "#fb9f3a"
             ],
             [
              0.8888888888888888,
              "#fdca26"
             ],
             [
              1,
              "#f0f921"
             ]
            ],
            "type": "surface"
           }
          ],
          "table": [
           {
            "cells": {
             "fill": {
              "color": "#EBF0F8"
             },
             "line": {
              "color": "white"
             }
            },
            "header": {
             "fill": {
              "color": "#C8D4E3"
             },
             "line": {
              "color": "white"
             }
            },
            "type": "table"
           }
          ]
         },
         "layout": {
          "annotationdefaults": {
           "arrowcolor": "#2a3f5f",
           "arrowhead": 0,
           "arrowwidth": 1
          },
          "autotypenumbers": "strict",
          "coloraxis": {
           "colorbar": {
            "outlinewidth": 0,
            "ticks": ""
           }
          },
          "colorscale": {
           "diverging": [
            [
             0,
             "#8e0152"
            ],
            [
             0.1,
             "#c51b7d"
            ],
            [
             0.2,
             "#de77ae"
            ],
            [
             0.3,
             "#f1b6da"
            ],
            [
             0.4,
             "#fde0ef"
            ],
            [
             0.5,
             "#f7f7f7"
            ],
            [
             0.6,
             "#e6f5d0"
            ],
            [
             0.7,
             "#b8e186"
            ],
            [
             0.8,
             "#7fbc41"
            ],
            [
             0.9,
             "#4d9221"
            ],
            [
             1,
             "#276419"
            ]
           ],
           "sequential": [
            [
             0,
             "#0d0887"
            ],
            [
             0.1111111111111111,
             "#46039f"
            ],
            [
             0.2222222222222222,
             "#7201a8"
            ],
            [
             0.3333333333333333,
             "#9c179e"
            ],
            [
             0.4444444444444444,
             "#bd3786"
            ],
            [
             0.5555555555555556,
             "#d8576b"
            ],
            [
             0.6666666666666666,
             "#ed7953"
            ],
            [
             0.7777777777777778,
             "#fb9f3a"
            ],
            [
             0.8888888888888888,
             "#fdca26"
            ],
            [
             1,
             "#f0f921"
            ]
           ],
           "sequentialminus": [
            [
             0,
             "#0d0887"
            ],
            [
             0.1111111111111111,
             "#46039f"
            ],
            [
             0.2222222222222222,
             "#7201a8"
            ],
            [
             0.3333333333333333,
             "#9c179e"
            ],
            [
             0.4444444444444444,
             "#bd3786"
            ],
            [
             0.5555555555555556,
             "#d8576b"
            ],
            [
             0.6666666666666666,
             "#ed7953"
            ],
            [
             0.7777777777777778,
             "#fb9f3a"
            ],
            [
             0.8888888888888888,
             "#fdca26"
            ],
            [
             1,
             "#f0f921"
            ]
           ]
          },
          "colorway": [
           "#636efa",
           "#EF553B",
           "#00cc96",
           "#ab63fa",
           "#FFA15A",
           "#19d3f3",
           "#FF6692",
           "#B6E880",
           "#FF97FF",
           "#FECB52"
          ],
          "font": {
           "color": "#2a3f5f"
          },
          "geo": {
           "bgcolor": "white",
           "lakecolor": "white",
           "landcolor": "#E5ECF6",
           "showlakes": true,
           "showland": true,
           "subunitcolor": "white"
          },
          "hoverlabel": {
           "align": "left"
          },
          "hovermode": "closest",
          "mapbox": {
           "style": "light"
          },
          "paper_bgcolor": "white",
          "plot_bgcolor": "#E5ECF6",
          "polar": {
           "angularaxis": {
            "gridcolor": "white",
            "linecolor": "white",
            "ticks": ""
           },
           "bgcolor": "#E5ECF6",
           "radialaxis": {
            "gridcolor": "white",
            "linecolor": "white",
            "ticks": ""
           }
          },
          "scene": {
           "xaxis": {
            "backgroundcolor": "#E5ECF6",
            "gridcolor": "white",
            "gridwidth": 2,
            "linecolor": "white",
            "showbackground": true,
            "ticks": "",
            "zerolinecolor": "white"
           },
           "yaxis": {
            "backgroundcolor": "#E5ECF6",
            "gridcolor": "white",
            "gridwidth": 2,
            "linecolor": "white",
            "showbackground": true,
            "ticks": "",
            "zerolinecolor": "white"
           },
           "zaxis": {
            "backgroundcolor": "#E5ECF6",
            "gridcolor": "white",
            "gridwidth": 2,
            "linecolor": "white",
            "showbackground": true,
            "ticks": "",
            "zerolinecolor": "white"
           }
          },
          "shapedefaults": {
           "line": {
            "color": "#2a3f5f"
           }
          },
          "ternary": {
           "aaxis": {
            "gridcolor": "white",
            "linecolor": "white",
            "ticks": ""
           },
           "baxis": {
            "gridcolor": "white",
            "linecolor": "white",
            "ticks": ""
           },
           "bgcolor": "#E5ECF6",
           "caxis": {
            "gridcolor": "white",
            "linecolor": "white",
            "ticks": ""
           }
          },
          "title": {
           "x": 0.05
          },
          "xaxis": {
           "automargin": true,
           "gridcolor": "white",
           "linecolor": "white",
           "ticks": "",
           "title": {
            "standoff": 15
           },
           "zerolinecolor": "white",
           "zerolinewidth": 2
          },
          "yaxis": {
           "automargin": true,
           "gridcolor": "white",
           "linecolor": "white",
           "ticks": "",
           "title": {
            "standoff": 15
           },
           "zerolinecolor": "white",
           "zerolinewidth": 2
          }
         }
        }
       }
      }
     },
     "metadata": {},
     "output_type": "display_data"
    }
   ],
   "source": [
    "plot_point_cloud(bad_X_basic)"
   ]
  },
  {
   "cell_type": "code",
   "execution_count": null,
   "metadata": {},
   "outputs": [],
   "source": []
  },
  {
   "cell_type": "markdown",
   "metadata": {},
   "source": [
    "wtf is up with masks 18, 19, and 20"
   ]
  },
  {
   "cell_type": "code",
   "execution_count": 6,
   "metadata": {},
   "outputs": [
    {
     "name": "stdout",
     "output_type": "stream",
     "text": [
      "size of mask ID 18 is 220950\n",
      "size of mask ID 19 is 691732\n",
      "size of mask ID 20 is 930786\n",
      "size of mask ID 98 is 960524\n"
     ]
    }
   ],
   "source": [
    "weird_masks = [18,19,20,98]\n",
    "for mask_id in weird_masks:\n",
    "    print(f'size of mask ID {mask_id} is {np.sum(big_filtered == mask_id)}')"
   ]
  },
  {
   "cell_type": "code",
   "execution_count": 10,
   "metadata": {},
   "outputs": [
    {
     "data": {
      "text/plain": [
       "<Labels layer 'big_filtered [1]' at 0x1ab9f3ee0>"
      ]
     },
     "execution_count": 10,
     "metadata": {},
     "output_type": "execute_result"
    }
   ],
   "source": [
    "viewer.add_labels(big_filtered, name='big_filtered')"
   ]
  },
  {
   "cell_type": "code",
   "execution_count": null,
   "metadata": {},
   "outputs": [],
   "source": []
  },
  {
   "cell_type": "code",
   "execution_count": null,
   "metadata": {},
   "outputs": [],
   "source": []
  },
  {
   "cell_type": "code",
   "execution_count": null,
   "metadata": {},
   "outputs": [],
   "source": []
  },
  {
   "cell_type": "code",
   "execution_count": null,
   "metadata": {},
   "outputs": [],
   "source": []
  },
  {
   "cell_type": "code",
   "execution_count": 12,
   "metadata": {},
   "outputs": [
    {
     "name": "stderr",
     "output_type": "stream",
     "text": [
      "100%|██████████| 87/87 [01:21<00:00,  1.06it/s]\n"
     ]
    }
   ],
   "source": [
    "from tqdm import tqdm\n",
    "import matplotlib.pyplot as plt\n",
    "\n",
    "remaining_labels = np.unique(big_filtered)"
   ]
  },
  {
   "cell_type": "code",
   "execution_count": 17,
   "metadata": {},
   "outputs": [
    {
     "name": "stderr",
     "output_type": "stream",
     "text": [
      "100%|██████████| 87/87 [01:28<00:00,  1.01s/it]\n"
     ]
    }
   ],
   "source": [
    "label_vols = []\n",
    "for label in tqdm(remaining_labels):\n",
    "    if label == 0:\n",
    "        continue\n",
    "    label_vols.append(np.sum(big_filtered == label))"
   ]
  },
  {
   "cell_type": "code",
   "execution_count": 20,
   "metadata": {},
   "outputs": [
    {
     "name": "stdout",
     "output_type": "stream",
     "text": [
      "minimum volume is 30805\n",
      "maximum volume is 997084\n",
      "average volume is 484050.38372093026\n",
      "median volume is 512493.0\n"
     ]
    },
    {
     "data": {
      "image/png": "[encoded data removed]",
      "text/plain": [
       "<Figure size 432x288 with 1 Axes>"
      ]
     },
     "metadata": {
      "needs_background": "light"
     },
     "output_type": "display_data"
    }
   ],
   "source": [
    "plt.hist(label_vols, bins=10)\n",
    "print(f'minimum volume is {min(label_vols)}')\n",
    "print(f'maximum volume is {max(label_vols)}')\n",
    "print(f'average volume is {np.mean(label_vols)}')\n",
    "print(f'median volume is {np.median(label_vols)}')\n",
    "plt.show()"
   ]
  },
  {
   "cell_type": "code",
   "execution_count": 1,
   "metadata": {},
   "outputs": [],
   "source": []
  },
  {
   "cell_type": "code",
   "execution_count": null,
   "metadata": {},
   "outputs": [],
   "source": []
  },
  {
   "cell_type": "code",
   "execution_count": null,
   "metadata": {},
   "outputs": [],
   "source": []
  },
  {
   "cell_type": "code",
   "execution_count": null,
   "metadata": {},
   "outputs": [],
   "source": []
  },
  {
   "cell_type": "markdown",
   "metadata": {},
   "source": [
    "---\n",
    "experimenting with apoc"
   ]
  },
  {
   "cell_type": "code",
   "execution_count": null,
   "metadata": {},
   "outputs": [],
   "source": [
    "im_dir = '/Volumes/bigData/wholeMount_volDist/220712_Fix_Emb_Flvw_Chn1GAP_PI_aTub647_Processed/N2V_Denoised/16bit_scaleZ' \n",
    "im_name = '220712_Fix_Emb_Flvw_Chn1GAP_PI_aTub647_Cntrl_E01-Z01_Tub_16bit_scaleZ.tif' \n",
    "labels_name = '220712_Fix_Emb_Flvw_Chn1GAP_PI_aTub647_Cntrl_E01-Z01_Tub_16bit_scaleZ_human-labels.tif' \n",
    "im = imread(os.path.join(im_dir, im_name))\n",
    "labels = imread(os.path.join(im_dir, labels_name))\n",
    "viewer.add_image(im, name='im', blending='additive', colormap='gray')\n",
    "viewer.add_labels(labels, name='labels', blending='additive')"
   ]
  },
  {
   "cell_type": "code",
   "execution_count": null,
   "metadata": {},
   "outputs": [],
   "source": [
    "# get layers from viewer\n",
    "layers = viewer.layers\n",
    "output = layers['Result of PixelClassifier.cl'].data\n",
    "annotations = layers[\"Labels\"].data\n",
    "save_dir = '/Volumes/bigData/wholeMount_volDist/220712_Fix_Emb_Flvw_Chn1GAP_PI_aTub647_Processed/N2V_Denoised/16bit_scaleZ' \n",
    "output_name = '220712_Fix_Emb_Flvw_Chn1GAP_PI_aTub647_Cntrl_E01-Z01_Tub_16bit_scaleZ_apoc-seg.tif'\n",
    "labels_name = '220712_Fix_Emb_Flvw_Chn1GAP_PI_aTub647_Cntrl_E01-Z01_Tub_16bit_scaleZ_human-labels.tif'\n",
    "imwrite(os.path.join(save_dir, output_name), output.astype('uint8'), imagej=True, metadata={'axes': 'ZYX'})\n",
    "imwrite(os.path.join(save_dir, labels_name), annotations.astype('uint8'), imagej=True, metadata={'axes': 'ZYX'})"
   ]
  },
  {
   "cell_type": "code",
   "execution_count": null,
   "metadata": {},
   "outputs": [],
   "source": []
  }
 ],
 "metadata": {
  "kernelspec": {
   "display_name": "Python 3.9.12 ('image-analysis')",
   "language": "python",
   "name": "python3"
  },
  "language_info": {
   "codemirror_mode": {
    "name": "ipython",
    "version": 3
   },
   "file_extension": ".py",
   "mimetype": "text/x-python",
   "name": "python",
   "nbconvert_exporter": "python",
   "pygments_lexer": "ipython3",
   "version": "3.9.12"
  },
  "orig_nbformat": 4,
  "vscode": {
   "interpreter": {
    "hash": "f7ec4263e4001474e72c70f185906f427acb5774367a2b2d09b308b8269b701b"
   }
  }
 },
 "nbformat": 4,
 "nbformat_minor": 2
}
