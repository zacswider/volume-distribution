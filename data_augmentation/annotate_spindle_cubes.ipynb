{
 "cells": [
  {
   "cell_type": "code",
   "execution_count": 15,
   "metadata": {},
   "outputs": [],
   "source": [
    "import os\n",
    "import vg\n",
    "import time\n",
    "import joblib\n",
    "import napari\n",
    "import numpy as np\n",
    "import pandas as pd\n",
    "from tqdm import tqdm\n",
    "from scipy import spatial\n",
    "from skimage import filters\n",
    "from skimage import morphology\n",
    "import matplotlib.pyplot as plt\n",
    "from scipy import ndimage as ndi\n",
    "from tifffile import imread, imwrite\n",
    "from skimage.morphology import label\n",
    "from skimage.feature import peak_local_max\n",
    "from skimage.segmentation import watershed\n",
    "from skimage.filters import threshold_otsu\n",
    "from skimage.segmentation import clear_border\n",
    "from skimage.morphology import binary_erosion\n",
    "from skimage.measure import regionprops, regionprops_table\n",
    "from sklearn.ensemble import RandomForestClassifier\n",
    "\n",
    "\n",
    "def wipe_layers(viewer_name: str) -> None:\n",
    "    '''\n",
    "    Delete all layers in the viewer objected\n",
    "    '''\n",
    "    layers = viewer_name.layers\n",
    "    while len(layers) > 0:\n",
    "        layers.remove(layers[0])\n",
    "\n",
    "def remove_large_objects(labels_array: np.ndarray, max_size: int) -> np.ndarray:\n",
    "    ''' \n",
    "    Remove all objects in a mask above a specific threshold\n",
    "    '''\n",
    "    out = np.copy(labels_array)\n",
    "    component_sizes = np.bincount(labels_array.ravel()) # count the number of pixels in different labels\n",
    "    too_big = component_sizes > max_size\n",
    "    too_big_mask = too_big[labels_array]\n",
    "    out[too_big_mask] = 0\n",
    "    return out\n",
    "\n",
    "def return_points(labels_array: np.ndarray, label_ID: int) -> np.ndarray:\n",
    "    '''\n",
    "    Return the points in a mask that belong to a specific label\n",
    "    ---\n",
    "    Parameters:\n",
    "    labels_array: np.ndarray an ndArray of labels\n",
    "    label_ID: int the label ID of the label whos points you want to calculate\n",
    "    ---\n",
    "    Returns:\n",
    "    points: np.ndarray an ndArray of shape (n,3) where n is the number of points in the label\n",
    "    and dim1 is the x,y,z coordinates of the points\n",
    "    '''\n",
    "    points = np.column_stack(np.where(labels_array == label_ID))\n",
    "    return points\n",
    "\n",
    "def find_label_density(label_points: np.ndarray) -> float:\n",
    "    '''\n",
    "    Calculate the bounding box for a point cloud and return the density of points in the bounding box\n",
    "    ---\n",
    "    Parameters:\n",
    "    label_points: np.ndarray the array point coordinates for a given label\n",
    "    ---\n",
    "    Returns:\n",
    "    np.nan if the label is 0, or if the label has no length\n",
    "    density (float) the number of points in the label divided by the volume of the bounding box\n",
    "    '''\n",
    "\n",
    "    x = label_points.T[0]\n",
    "    y = label_points.T[1]\n",
    "    z = label_points.T[2]\n",
    "    num_points = len(x)\n",
    "    x_min = np.min(x)\n",
    "    x_max = np.max(x)\n",
    "    y_min = np.min(y)\n",
    "    y_max = np.max(y)\n",
    "    z_min = np.min(z)\n",
    "    z_max = np.max(z)\n",
    "    # add 1 to prevent division by 0\n",
    "    x_range = (x_max - x_min) + 1\n",
    "    y_range = (y_max - y_min) + 1\n",
    "    z_range = (z_max - z_min) + 1\n",
    "    vol = x_range * y_range * z_range\n",
    "    density = num_points / vol\n",
    "    return density\n",
    "\n",
    "def print_label_props(source: np.ndarray, label_num: int) -> None:\n",
    "    '''\n",
    "    Print the properties of a label in a mask\n",
    "    ---\n",
    "    Parameters:\n",
    "    source: np.ndarray the mask containing the label\n",
    "    label_num: int the label number of the label you want to print the properties of\n",
    "    ---\n",
    "    Returns:\n",
    "    None\n",
    "    '''\n",
    "    label_points = return_points(source, label_num)\n",
    "    density = find_label_density(label_points)\n",
    "    size = label_points.shape[0]\n",
    "    print(f'Label {label_num} has:')\n",
    "    print(f'{size:,} points.')\n",
    "    print(f'density of {round(density,4):,}')\n",
    "\n",
    "def get_cube(source: np.ndarray, label_num: int) -> np.ndarray:\n",
    "    '''\n",
    "    Return a cube of the label in a mask\n",
    "    ---\n",
    "    Parameters:\n",
    "    source: np.ndarray the mask containing the label\n",
    "    label_num: int the label number of the label you want isolate\n",
    "    ---\n",
    "    Returns:\n",
    "    cube: np.ndarray the cube of the label\n",
    "    '''\n",
    "    label_points = return_points(source, label_num)\n",
    "    x = label_points.T[0]\n",
    "    y = label_points.T[1]\n",
    "    z = label_points.T[2]\n",
    "    x_min = np.min(x) - 1\n",
    "    x_max = np.max(x) + 2\n",
    "    y_min = np.min(y) - 1\n",
    "    y_max = np.max(y) + 2\n",
    "    z_min = np.min(z) - 1\n",
    "    z_max = np.max(z) + 2\n",
    "    #cube = source[x_min:x_max+1, y_min:y_max+1, z_min:z_max+1]\n",
    "    return x_min, x_max, y_min, y_max, z_min, z_max\n",
    "\n",
    "def apply_cube(source: np.ndarray, cube: tuple) -> np.ndarray:\n",
    "    '''\n",
    "    Crop an ndArray with a cube\n",
    "    ---\n",
    "    Parameters:\n",
    "    source: np.ndarray the array to crop\n",
    "    cube: tuple containing the x_min, x_max, y_min, y_max, z_min, z_max\n",
    "    ---\n",
    "    Returns:\n",
    "    out: np.ndarray array with the cube applied\n",
    "    '''\n",
    "    x_min, x_max, y_min, y_max, z_min, z_max = cube\n",
    "    out = source[x_min:x_max, y_min:y_max, z_min:z_max]\n",
    "    return out\n",
    "\n",
    "def get_long_axis(cubed_label: np.ndarray, line_length = 75):\n",
    "    '''\n",
    "    Get the longest axis of an cubed_label\n",
    "    ---\n",
    "    Parameters:\n",
    "    cubed_label: np.ndarray the cubed_label to get the longest axis of\n",
    "    ---\n",
    "    Returns:\n",
    "    linepts: np.ndarray the points of the longest axis\n",
    "    '''\n",
    "    if cubed_label.dtype == 'bool':\n",
    "        coords = np.column_stack(np.where(cubed_label == True))\n",
    "    else:\n",
    "        label_identify = [i for i in np.unique(cubed_label) if i != 0][0]\n",
    "        coords = np.column_stack(np.where(cubed_label == label_identify))\n",
    "    if coords.shape[0] > 1000:\n",
    "        sampling_interval = coords.shape[0] // 1000\n",
    "    else:\n",
    "        sampling_interval = 1    \n",
    "\n",
    "    np.random.shuffle(coords)\n",
    "    subsampled = coords[::sampling_interval]\n",
    "    datamean = subsampled.mean(axis=0)\n",
    "    uu, dd, vv = np.linalg.svd(subsampled - datamean)\n",
    "    linepts = vv[0] * np.mgrid[-line_length:line_length:2j][:, np.newaxis]\n",
    "    linepts += datamean\n",
    "    return vv[0], linepts\n",
    "\n",
    "def view_saved_files(file_path: str) -> None:\n",
    "    ''' \n",
    "    Fxn for visualizing saved output files.\n",
    "    '''\n",
    "    dedicated_file_viewer = napari.Viewer()\n",
    "    contents = [c for c in os.listdir(file_path) if not c.startswith('.')]\n",
    "    for content in contents:\n",
    "        if content.endswith('.tif'):\n",
    "            if 'tub' in content or 'PI' in content:\n",
    "                dedicated_file_viewer.add_image(imread(os.path.join(file_path, content)), name=content.split('.')[0], blending='additive', visible=False)\n",
    "            else:\n",
    "                dedicated_file_viewer.add_labels(imread(os.path.join(file_path, content)), name=content.split('.')[0], blending='additive')\n",
    "        elif content.endswith('.txt'):\n",
    "            nums = np.loadtxt(os.path.join(file_path, content))\n",
    "            if nums.ndim == 1:\n",
    "                dedicated_file_viewer.add_points(nums, name=content.split('.')[0], face_color='white', blending='additive')\n",
    "            elif nums.ndim == 2:\n",
    "                dedicated_file_viewer.add_shapes(nums, shape_type='line', name=content.split('.')[0], edge_color='white', blending='additive')\n",
    "        else:\n",
    "            print(f'file \"{content}\" not imported to viewer')\n"
   ]
  },
  {
   "cell_type": "code",
   "execution_count": 2,
   "metadata": {},
   "outputs": [
    {
     "name": "stderr",
     "output_type": "stream",
     "text": [
      "/Users/bementmbp/opt/anaconda3/envs/napari_apoc/lib/python3.9/site-packages/napari_tools_menu/__init__.py:168: FutureWarning: Public access to Window.qt_viewer is deprecated and will be removed in\n",
      "v0.5.0. It is considered an \"implementation detail\" of the napari\n",
      "application, not part of the napari viewer model. If your use case\n",
      "requires access to qt_viewer, please open an issue to discuss.\n",
      "  self.tools_menu = ToolsMenu(self, self.qt_viewer.viewer)\n"
     ]
    }
   ],
   "source": [
    "cubeviewer = napari.Viewer()"
   ]
  },
  {
   "cell_type": "code",
   "execution_count": 10,
   "metadata": {},
   "outputs": [],
   "source": [
    "def open_with_napari(file_path: str, viewer_name) -> None:\n",
    "    '''\n",
    "    Open contents of a file with napari\n",
    "    ---\n",
    "    Parameters:\n",
    "    file_path: str the path to the file to open\n",
    "    ---\n",
    "    Returns:\n",
    "    None\n",
    "    '''\n",
    "    wipe_layers(viewer_name)\n",
    "    cell_mask_path = os.path.join(file_path, 'curr_mask_cube.tif')\n",
    "    tub_path = os.path.join(file_path, 'curr_tub_cube.tif')\n",
    "    labels_path = os.path.join(file_path, 'thresh_mask.tif')\n",
    "    viewer_name.add_labels(imread(cell_mask_path), name = 'cell mask', blending='additive', opacity = 0.25)\n",
    "    viewer_name.add_image(imread(tub_path), name = 'tub', blending='additive')\n",
    "    viewer_name.add_labels(imread(labels_path), name = 'labels', blending='additive', opacity = 0.75)\n",
    "\n",
    "def calculate_label_properties(spindle_label_number: int) -> None:\n",
    "    print(f'calculating properties for spindle {spindle_label_number}')"
   ]
  },
  {
   "cell_type": "code",
   "execution_count": null,
   "metadata": {},
   "outputs": [],
   "source": [
    "main_dir = '/Volumes/bigData/wholeMount_volDist/220712_Fix_Emb_Flvw_Chn1GAP_PI_aTub647_Processed/N2V_Denoised/0_Analysis_01/0_data_cubes' \n",
    "subdirs = [s for s in os.listdir(main_dir) if not s.startswith('.')]\n",
    "for subdir in subdirs:\n",
    "    cell_nums = [s for s in os.listdir(os.path.join(main_dir, subdir)) if not s.startswith('.')]\n",
    "    for cell_num in cell_nums:\n",
    "        print(subdir, cell_num)"
   ]
  },
  {
   "cell_type": "code",
   "execution_count": 11,
   "metadata": {},
   "outputs": [
    {
     "name": "stdout",
     "output_type": "stream",
     "text": [
      "calculating properties for spindle 0\n"
     ]
    }
   ],
   "source": [
    "test_dir = '/Volumes/bigData/wholeMount_volDist/220712_Fix_Emb_Flvw_Chn1GAP_PI_aTub647_Processed/N2V_Denoised/0_Analysis_01/0_data_cubes/Cntrl_E01/cell_130' \n",
    "open_with_napari(test_dir, cubeviewer)\n",
    "spindle_label = input('Enter spindle label: ')\n",
    "calculate_label_properties(spindle_label)\n",
    "\n"
   ]
  },
  {
   "cell_type": "code",
   "execution_count": 13,
   "metadata": {},
   "outputs": [
    {
     "name": "stdout",
     "output_type": "stream",
     "text": [
      "Cntrl_E01_cell_130\n"
     ]
    }
   ],
   "source": [
    "tst = '/Volumes/bigData/wholeMount_volDist/220712_Fix_Emb_Flvw_Chn1GAP_PI_aTub647_Processed/N2V_Denoised/0_Analysis_01/0_data_cubes/Cntrl_E01/cell_130' \n",
    "print('_'.join(tst.rsplit('/', 2)[1:]))"
   ]
  },
  {
   "cell_type": "code",
   "execution_count": 18,
   "metadata": {},
   "outputs": [
    {
     "name": "stderr",
     "output_type": "stream",
     "text": [
      "100%|██████████| 27/27 [00:00<00:00, 228.67it/s]"
     ]
    },
    {
     "name": "stdout",
     "output_type": "stream",
     "text": [
      "70 70 70\n"
     ]
    },
    {
     "name": "stderr",
     "output_type": "stream",
     "text": [
      "\n"
     ]
    }
   ],
   "source": [
    "mypath = '/Users/bementmbp/Desktop/Spindle_StarDist3D/Masks'\n",
    "files = [f for f in os.listdir(mypath) if f.endswith('.tif') and not f.startswith('.')]\n",
    "x = []\n",
    "y = []\n",
    "z = []\n",
    "for file in tqdm(files):\n",
    "    im = imread(os.path.join(mypath, file))\n",
    "    imwrite(os.path.join(mypath, file), im[:70,:70,:70])\n",
    "    im = imread(os.path.join(mypath, file))\n",
    "    x.append(im.shape[0])\n",
    "    y.append(im.shape[1])\n",
    "    z.append(im.shape[2])\n",
    "\n",
    "print(np.min(x), np.min(y), np.min(z))\n",
    "\n"
   ]
  },
  {
   "cell_type": "code",
   "execution_count": null,
   "metadata": {},
   "outputs": [],
   "source": []
  }
 ],
 "metadata": {
  "kernelspec": {
   "display_name": "Python 3.9.12 ('napari_apoc')",
   "language": "python",
   "name": "python3"
  },
  "language_info": {
   "codemirror_mode": {
    "name": "ipython",
    "version": 3
   },
   "file_extension": ".py",
   "mimetype": "text/x-python",
   "name": "python",
   "nbconvert_exporter": "python",
   "pygments_lexer": "ipython3",
   "version": "3.9.12"
  },
  "orig_nbformat": 4,
  "vscode": {
   "interpreter": {
    "hash": "9332436963653b5df92bf2f53404d912d66b2e5a7a0f130fd2cb37eb34a8db49"
   }
  }
 },
 "nbformat": 4,
 "nbformat_minor": 2
}
