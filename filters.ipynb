{
 "cells": [
  {
   "cell_type": "code",
   "execution_count": 2,
   "metadata": {},
   "outputs": [],
   "source": [
    "from scipy import ndimage\n",
    "import numpy as np\n",
    "import matplotlib.pyplot as plt\n",
    "from tifffile import imread, imwrite\n",
    "import napari"
   ]
  },
  {
   "cell_type": "code",
   "execution_count": null,
   "metadata": {},
   "outputs": [],
   "source": [
    "%gui qt \n",
    "viewer = napari.Viewer()"
   ]
  },
  {
   "cell_type": "code",
   "execution_count": 5,
   "metadata": {},
   "outputs": [
    {
     "data": {
      "text/plain": [
       "<Image layer 'original' at 0x1ae71f070>"
      ]
     },
     "execution_count": 5,
     "metadata": {},
     "output_type": "execute_result"
    }
   ],
   "source": [
    "impath = './220712_Fix_Emb_Flvw_Chn1GAP_PI_aTub647_Cntrl_E01-Z01_PI'\n",
    "im = imread(impath + '.tif')\n",
    "viewer.add_image(im, name='original', blending='additive')"
   ]
  },
  {
   "cell_type": "code",
   "execution_count": null,
   "metadata": {},
   "outputs": [],
   "source": [
    "from skimage import filters\n",
    "\n",
    "for x in [1,3,6,9]:\n",
    "    for y in [3,6,9,12,16]:\n",
    "        if x<y:\n",
    "            print(f'low = {x}, high = {y}')\n",
    "            filtered = filters.difference_of_gaussians(im, low_sigma=x, high_sigma=y)\n",
    "            print('finished filtering')\n",
    "            viewer.add_image(filtered, name=f'{x}-{y}')\n",
    "            print(f'added image {x}-{y} to viewer')"
   ]
  },
  {
   "cell_type": "code",
   "execution_count": 18,
   "metadata": {},
   "outputs": [
    {
     "data": {
      "text/plain": [
       "<Image layer 'bigdog' at 0x1b6f67c40>"
      ]
     },
     "execution_count": 18,
     "metadata": {},
     "output_type": "execute_result"
    }
   ],
   "source": [
    "bigdog = filters.difference_of_gaussians(im, low_sigma=1, high_sigma=32)\n",
    "viewer.add_image(bigdog, name='bigdog')"
   ]
  },
  {
   "cell_type": "code",
   "execution_count": 19,
   "metadata": {},
   "outputs": [
    {
     "data": {
      "text/plain": [
       "<Image layer 'bigbigdog' at 0x1b852a340>"
      ]
     },
     "execution_count": 19,
     "metadata": {},
     "output_type": "execute_result"
    }
   ],
   "source": [
    "bigbigdog = filters.difference_of_gaussians(im, low_sigma=1, high_sigma=64)\n",
    "viewer.add_image(bigbigdog, name='bigbigdog')\n"
   ]
  },
  {
   "cell_type": "code",
   "execution_count": 20,
   "metadata": {},
   "outputs": [
    {
     "data": {
      "text/plain": [
       "<Image layer 'mediumbigdog' at 0x1b83c9400>"
      ]
     },
     "execution_count": 20,
     "metadata": {},
     "output_type": "execute_result"
    }
   ],
   "source": [
    "mediumbigdog = filters.difference_of_gaussians(im, low_sigma=2, high_sigma=64)\n",
    "viewer.add_image(mediumbigdog, name='mediumbigdog')"
   ]
  },
  {
   "cell_type": "markdown",
   "metadata": {},
   "source": [
    "dog 1-16 seems okay"
   ]
  },
  {
   "cell_type": "markdown",
   "metadata": {},
   "source": [
    "let's try log filtering first"
   ]
  },
  {
   "cell_type": "code",
   "execution_count": 23,
   "metadata": {},
   "outputs": [
    {
     "data": {
      "text/plain": [
       "<Image layer 'logged2' at 0x1b6d9a160>"
      ]
     },
     "execution_count": 23,
     "metadata": {},
     "output_type": "execute_result"
    }
   ],
   "source": [
    "logged = np.log2(im)\n",
    "viewer.add_image(logged, name='logged2')"
   ]
  },
  {
   "cell_type": "code",
   "execution_count": 25,
   "metadata": {},
   "outputs": [
    {
     "data": {
      "text/plain": [
       "<Image layer 'log_dog_2_32' at 0x1b6e26cd0>"
      ]
     },
     "execution_count": 25,
     "metadata": {},
     "output_type": "execute_result"
    }
   ],
   "source": [
    "log_dog_2_64 = filters.difference_of_gaussians(logged, low_sigma=2, high_sigma=64)\n",
    "log_dog_2_32 = filters.difference_of_gaussians(logged, low_sigma=2, high_sigma=32)\n",
    "viewer.add_image(log_dog_2_64, name='log_dog_2_64')\n",
    "viewer.add_image(log_dog_2_32, name='log_dog_2_32')\n"
   ]
  },
  {
   "cell_type": "code",
   "execution_count": 26,
   "metadata": {},
   "outputs": [
    {
     "data": {
      "text/plain": [
       "<Image layer 'log_dog_1_16' at 0x1b6f752b0>"
      ]
     },
     "execution_count": 26,
     "metadata": {},
     "output_type": "execute_result"
    }
   ],
   "source": [
    "log_dog_1_16 = filters.difference_of_gaussians(logged, low_sigma=1, high_sigma=16)\n",
    "viewer.add_image(log_dog_1_16, name='log_dog_1_16')"
   ]
  },
  {
   "cell_type": "markdown",
   "metadata": {},
   "source": [
    "medium big dog still the best"
   ]
  },
  {
   "cell_type": "markdown",
   "metadata": {},
   "source": [
    "lapplacian of gaussian\n"
   ]
  },
  {
   "cell_type": "code",
   "execution_count": 34,
   "metadata": {},
   "outputs": [
    {
     "data": {
      "text/plain": [
       "<Image layer 'log_6' at 0x1b8572400>"
      ]
     },
     "execution_count": 34,
     "metadata": {},
     "output_type": "execute_result"
    }
   ],
   "source": [
    "import scipy\n",
    "floated_im = im.astype(np.float32)\n",
    "log = scipy.ndimage.gaussian_laplace(floated_im, sigma=6)\n",
    "viewer.add_image(log, name='log_6')"
   ]
  },
  {
   "cell_type": "code",
   "execution_count": 35,
   "metadata": {},
   "outputs": [
    {
     "data": {
      "text/plain": [
       "<Image layer 'sobel_dog' at 0x1b8731670>"
      ]
     },
     "execution_count": 35,
     "metadata": {},
     "output_type": "execute_result"
    }
   ],
   "source": [
    "sobel_dog = filters.sobel(mediumbigdog)\n",
    "viewer.add_image(sobel_dog, name='sobel_dog')"
   ]
  },
  {
   "cell_type": "code",
   "execution_count": 36,
   "metadata": {},
   "outputs": [
    {
     "data": {
      "text/plain": [
       "<Image layer 'otsu' at 0x1b8731340>"
      ]
     },
     "execution_count": 36,
     "metadata": {},
     "output_type": "execute_result"
    }
   ],
   "source": [
    "# otsu threahold medium big dog\n",
    "otsu = mediumbigdog > filters.threshold_otsu(mediumbigdog)\n",
    "viewer.add_image(otsu, name='otsu')\n"
   ]
  },
  {
   "cell_type": "code",
   "execution_count": 37,
   "metadata": {},
   "outputs": [
    {
     "data": {
      "text/plain": [
       "<Image layer 'scharr' at 0x1b6e1b0a0>"
      ]
     },
     "execution_count": 37,
     "metadata": {},
     "output_type": "execute_result"
    }
   ],
   "source": [
    "scharr = filters.scharr(im)\n",
    "viewer.add_image(scharr, name='scharr')"
   ]
  },
  {
   "cell_type": "code",
   "execution_count": 40,
   "metadata": {},
   "outputs": [
    {
     "data": {
      "text/plain": [
       "<Image layer 'distance' at 0x1b8690fd0>"
      ]
     },
     "execution_count": 40,
     "metadata": {},
     "output_type": "execute_result"
    }
   ],
   "source": [
    "distance = ndimage.distance_transform_edt(mediumbigdog)\n",
    "viewer.add_image(distance, name='distance')"
   ]
  },
  {
   "cell_type": "code",
   "execution_count": 41,
   "metadata": {},
   "outputs": [
    {
     "data": {
      "text/plain": [
       "<Image layer 'superbigdog_low2' at 0x1b8468f40>"
      ]
     },
     "execution_count": 41,
     "metadata": {},
     "output_type": "execute_result"
    }
   ],
   "source": [
    "superbigdog_low1 = filters.difference_of_gaussians(im, low_sigma=1, high_sigma=128)\n",
    "superbigdog_low2 = filters.difference_of_gaussians(im, low_sigma=2, high_sigma=128)\n",
    "viewer.add_image(superbigdog_low1, name='superbigdog_low1')\n",
    "viewer.add_image(superbigdog_low2, name='superbigdog_low2')"
   ]
  },
  {
   "cell_type": "code",
   "execution_count": 44,
   "metadata": {},
   "outputs": [
    {
     "data": {
      "text/plain": [
       "<Image layer 'highpass' at 0x1b6f81bb0>"
      ]
     },
     "execution_count": 44,
     "metadata": {},
     "output_type": "execute_result"
    }
   ],
   "source": [
    "highpass = im - filters.gaussian(im, sigma=3)\n",
    "viewer.add_image(highpass, name='highpass')"
   ]
  },
  {
   "cell_type": "code",
   "execution_count": 47,
   "metadata": {},
   "outputs": [
    {
     "name": "stderr",
     "output_type": "stream",
     "text": [
      "/Users/bementmbp/opt/anaconda3/envs/image-analysis/lib/python3.9/site-packages/vispy/visuals/shaders/function.py:485: RuntimeWarning: coroutine 'get_msg' was never awaited\n",
      "  min_indent = min(indent, min_indent)\n",
      "RuntimeWarning: Enable tracemalloc to get the object allocation traceback\n"
     ]
    },
    {
     "data": {
      "text/plain": [
       "<Image layer 'highpassdog' at 0x1b87e59d0>"
      ]
     },
     "execution_count": 47,
     "metadata": {},
     "output_type": "execute_result"
    }
   ],
   "source": [
    "highpassdog = mediumbigdog - filters.gaussian(mediumbigdog, sigma=3)\n",
    "viewer.add_image(mediumbigdog, name='mediumbigdog')\n",
    "viewer.add_image(highpassdog, name='highpassdog')"
   ]
  },
  {
   "cell_type": "markdown",
   "metadata": {},
   "source": [
    "batch process all ims with superbig dog low 2"
   ]
  },
  {
   "cell_type": "code",
   "execution_count": 45,
   "metadata": {},
   "outputs": [
    {
     "name": "stderr",
     "output_type": "stream",
     "text": [
      "100%|██████████| 32/32 [2:29:23<00:00, 280.12s/it]  \n"
     ]
    }
   ],
   "source": [
    "import os\n",
    "from tqdm import tqdm\n",
    "from skimage import filters\n",
    "from tifffile import imread, imwrite\n",
    "\n",
    "processing_dir = '/Volumes/bigData/wholeMount_volDist/220712_Fix_Emb_Flvw_Chn1GAP_PI_aTub647_Processed/N2V_Denoised/16bit_scaleZ'\n",
    "save_dir = os.path.join(processing_dir, 'sbdl2_processed')\n",
    "if not os.path.exists(save_dir):\n",
    "    os.makedirs(save_dir)\n",
    "\n",
    "im_names = [f for f in os.listdir(processing_dir) if f.endswith('.tif') and not f.startswith('.')]\n",
    "\n",
    "with tqdm(total=len(im_names)) as pbar:\n",
    "    for im_name in im_names:\n",
    "        im_base = im_name.split('.')[0]\n",
    "        im = imread(os.path.join(processing_dir, im_name))\n",
    "        sbdl2 = filters.difference_of_gaussians(im, low_sigma=2, high_sigma=128)\n",
    "        imwrite(os.path.join(save_dir, f'{im_base}_sbdl2.tif'), sbdl2)\n",
    "        pbar.update(1)\n"
   ]
  },
  {
   "cell_type": "code",
   "execution_count": null,
   "metadata": {},
   "outputs": [],
   "source": []
  }
 ],
 "metadata": {
  "kernelspec": {
   "display_name": "Python 3.9.12 ('image-analysis')",
   "language": "python",
   "name": "python3"
  },
  "language_info": {
   "codemirror_mode": {
    "name": "ipython",
    "version": 3
   },
   "file_extension": ".py",
   "mimetype": "text/x-python",
   "name": "python",
   "nbconvert_exporter": "python",
   "pygments_lexer": "ipython3",
   "version": "3.9.12"
  },
  "orig_nbformat": 4,
  "vscode": {
   "interpreter": {
    "hash": "f7ec4263e4001474e72c70f185906f427acb5774367a2b2d09b308b8269b701b"
   }
  }
 },
 "nbformat": 4,
 "nbformat_minor": 2
}
