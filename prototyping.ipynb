{
 "cells": [
  {
   "cell_type": "code",
   "execution_count": 1,
   "metadata": {},
   "outputs": [],
   "source": [
    "import os\n",
    "from typing import final\n",
    "import vg\n",
    "import numpy as np\n",
    "from pathlib import Path\n",
    "from skimage.segmentation import clear_border\n",
    "from skimage import morphology\n",
    "from skimage.measure import regionprops_table\n",
    "from skimage.filters import threshold_otsu\n",
    "import joblib\n",
    "from tqdm import tqdm\n",
    "import pandas as pd\n",
    "from tifffile import imread, imwrite\n",
    "from scipy import spatial\n",
    "import multiprocess as mp\n",
    "from yaspin import yaspin\n",
    "import napari"
   ]
  },
  {
   "cell_type": "code",
   "execution_count": 2,
   "metadata": {},
   "outputs": [
    {
     "name": "stderr",
     "output_type": "stream",
     "text": [
      "/Users/bementmbp/opt/anaconda3/envs/napari_apoc/lib/python3.9/site-packages/napari_tools_menu/__init__.py:168: FutureWarning: Public access to Window.qt_viewer is deprecated and will be removed in\n",
      "v0.5.0. It is considered an \"implementation detail\" of the napari\n",
      "application, not part of the napari viewer model. If your use case\n",
      "requires access to qt_viewer, please open an issue to discuss.\n",
      "  self.tools_menu = ToolsMenu(self, self.qt_viewer.viewer)\n"
     ]
    }
   ],
   "source": [
    "viewer = napari.Viewer()"
   ]
  },
  {
   "cell_type": "code",
   "execution_count": 6,
   "metadata": {},
   "outputs": [],
   "source": [
    "def line_from_vect(v, c, length = 50):\n",
    "    v_points = v * np.mgrid[-length:length:2j][:, np.newaxis]\n",
    "    v_points += c\n",
    "    return v_points\n",
    "\n",
    "def find_vector(pt1,pt2):\n",
    "    ''' \n",
    "    Calculate the vector between two points\n",
    "    '''\n",
    "    vect = [0 for c in pt1]\n",
    "    for dim, coord in enumerate(pt1):\n",
    "        deltacoord = pt2[dim]-coord\n",
    "        vect[dim] = deltacoord\n",
    "    return np.array(vect)"
   ]
  },
  {
   "cell_type": "code",
   "execution_count": 4,
   "metadata": {},
   "outputs": [
    {
     "data": {
      "text/plain": [
       "<Points layer 'cell centroid' at 0x7fb3b1ccba30>"
      ]
     },
     "execution_count": 4,
     "metadata": {},
     "output_type": "execute_result"
    }
   ],
   "source": [
    "cell_masks = imread('/Volumes/bigData/wholeMount_volDist/220805-0712_Combined/Cntrl_E01/coords_and_vectors/Cntrl_E01_filtered_cell_masks.tif') \n",
    "viewer.add_labels(cell_masks, name ='cell masks', blending='additive')\n",
    "emb_cent = np.loadtxt('/Volumes/bigData/wholeMount_volDist/220805-0712_Combined/Cntrl_E01/coords_and_vectors/Cntrl_E01_emb_cent.txt')\n",
    "viewer.add_points(emb_cent, name='embryo centroid', blending = 'additive')\n",
    "cell_centroid = np.loadtxt('/Volumes/bigData/wholeMount_volDist/220805-0712_Combined/Cntrl_E01/coords_and_vectors/Cntrl_E01_cell189_centroid.txt')\n",
    "viewer.add_points(cell_centroid, name='cell centroid', blending = 'additive')\n"
   ]
  },
  {
   "cell_type": "code",
   "execution_count": 7,
   "metadata": {},
   "outputs": [
    {
     "data": {
      "text/plain": [
       "<Shapes layer 'pc2' at 0x7fb3b1e76fd0>"
      ]
     },
     "execution_count": 7,
     "metadata": {},
     "output_type": "execute_result"
    }
   ],
   "source": [
    "pc0 = np.loadtxt('/Volumes/bigData/wholeMount_volDist/220805-0712_Combined/Cntrl_E01/coords_and_vectors/Cntrl_E01_cell189_pc0.txt')\n",
    "pc1 = np.loadtxt('/Volumes/bigData/wholeMount_volDist/220805-0712_Combined/Cntrl_E01/coords_and_vectors/Cntrl_E01_cell189_pc1.txt')\n",
    "pc2 = np.loadtxt('/Volumes/bigData/wholeMount_volDist/220805-0712_Combined/Cntrl_E01/coords_and_vectors/Cntrl_E01_cell189_pc2.txt')\n",
    "\n",
    "pc0_points = line_from_vect(pc0, cell_centroid)\n",
    "pc1_points = line_from_vect(pc1, cell_centroid)\n",
    "pc2_points = line_from_vect(pc2, cell_centroid)\n",
    "\n",
    "viewer.add_shapes(pc0_points, shape_type='line', name='pc0', edge_color='green', opacity=0.35, blending='additive')\n",
    "viewer.add_shapes(pc1_points, shape_type='line', name='pc1', edge_color='red', opacity=0.35, blending='additive')\n",
    "viewer.add_shapes(pc2_points, shape_type='line', name='pc2', edge_color='blue', opacity=0.35, blending='additive')"
   ]
  },
  {
   "cell_type": "code",
   "execution_count": 8,
   "metadata": {},
   "outputs": [
    {
     "data": {
      "text/plain": [
       "<Shapes layer 'v0' at 0x7fb3a07011c0>"
      ]
     },
     "execution_count": 8,
     "metadata": {},
     "output_type": "execute_result"
    }
   ],
   "source": [
    "\n",
    "\n",
    "v0 = find_vector(emb_cent, cell_centroid)\n",
    "\n",
    "v0_points = line_from_vect(v0, cell_centroid, length=2)\n",
    "\n",
    "viewer.add_shapes(v0_points, shape_type='line', name='v0', edge_color='red', opacity=0.35, blending='additive')"
   ]
  },
  {
   "cell_type": "code",
   "execution_count": 9,
   "metadata": {},
   "outputs": [
    {
     "name": "stdout",
     "output_type": "stream",
     "text": [
      "47.91885679024104\n",
      "65.06693724383807\n",
      "52.34867222318763\n"
     ]
    }
   ],
   "source": [
    "print(vg.angle(pc0, v0))\n",
    "print(180 - vg.angle(pc1, v0))\n",
    "print(vg.angle(pc2, v0))\n"
   ]
  },
  {
   "cell_type": "code",
   "execution_count": null,
   "metadata": {},
   "outputs": [],
   "source": []
  }
 ],
 "metadata": {
  "kernelspec": {
   "display_name": "Python 3.9.12 ('napari_apoc')",
   "language": "python",
   "name": "python3"
  },
  "language_info": {
   "codemirror_mode": {
    "name": "ipython",
    "version": 3
   },
   "file_extension": ".py",
   "mimetype": "text/x-python",
   "name": "python",
   "nbconvert_exporter": "python",
   "pygments_lexer": "ipython3",
   "version": "3.9.12"
  },
  "orig_nbformat": 4,
  "vscode": {
   "interpreter": {
    "hash": "9332436963653b5df92bf2f53404d912d66b2e5a7a0f130fd2cb37eb34a8db49"
   }
  }
 },
 "nbformat": 4,
 "nbformat_minor": 2
}
