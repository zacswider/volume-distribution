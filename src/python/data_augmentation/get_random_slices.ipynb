{
 "cells": [
  {
   "cell_type": "code",
   "execution_count": 2,
   "metadata": {},
   "outputs": [],
   "source": [
    "import numpy as np\n",
    "from numpy.random import randint\n",
    "from tifffile import imread, imwrite\n",
    "from tqdm import tqdm\n",
    "import os"
   ]
  },
  {
   "cell_type": "code",
   "execution_count": 3,
   "metadata": {},
   "outputs": [],
   "source": [
    "def get_rand_slices(im: np.ndarray, samples = 3):\n",
    "    ''' \n",
    "    Returns a dictionary of random XY, XZ, and YZ slices from a 3D stack.\n",
    "    Parameters: im - a 3D stack\n",
    "                samples - the number of slices for each dimension to return\n",
    "    Returns:    a dictionary of slices labeled with their dimension and index\n",
    "    '''\n",
    "    assert im.ndim == 3, 'Image must be 3D'\n",
    "    d = {}\n",
    "    z,y,x = im.shape\n",
    "    for n in range(samples):\n",
    "        randyx = randint(0,z)\n",
    "        randzx = randint(0,y)\n",
    "        randzy = randint(0,x)\n",
    "        d[f\"randyx_{randyx}_#{n}\"]=im[randyx]\n",
    "        d[f\"randzx_{randzx}_#{n}\"]=im[:,randzx]\n",
    "        d[f\"randzy_{randzy}_#{n}\"]=im[:,:,randzy]\n",
    "    return d"
   ]
  },
  {
   "cell_type": "code",
   "execution_count": 4,
   "metadata": {},
   "outputs": [],
   "source": [
    "source = '/Volumes/bigData/wholeMount_volDist/220712_Fix_Emb_Flvw_Chn1GAP_PI_aTub647_Processed/N2V_Denoised/16bit_scaleZ'\n",
    "dest = '/Volumes/bigData/wholeMount_volDist/220712_Fix_Emb_Flvw_Chn1GAP_PI_aTub647_Processed/N2V_Denoised/16bit_scaleZ_random_slices'\n",
    "if not os.path.exists(dest):\n",
    "    os.mkdir(dest)\n",
    "names = [f for f in os.listdir(source) if f.endswith('PI_16bit_scaleZ.tif') and not f.startswith('.')]\n",
    "for name in names:\n",
    "    im = imread(source +'/'+name)\n",
    "    justname = name.split('.')[0]\n",
    "    slices = get_rand_slices(im, samples = 3)\n",
    "    for k,v in slices.items():\n",
    "        imwrite(f'{dest}/{justname}_{k}.tif',v)"
   ]
  },
  {
   "cell_type": "code",
   "execution_count": null,
   "metadata": {},
   "outputs": [],
   "source": []
  }
 ],
 "metadata": {
  "kernelspec": {
   "display_name": "Python 3.9.12 ('image-analysis')",
   "language": "python",
   "name": "python3"
  },
  "language_info": {
   "codemirror_mode": {
    "name": "ipython",
    "version": 3
   },
   "file_extension": ".py",
   "mimetype": "text/x-python",
   "name": "python",
   "nbconvert_exporter": "python",
   "pygments_lexer": "ipython3",
   "version": "3.9.12"
  },
  "orig_nbformat": 4,
  "vscode": {
   "interpreter": {
    "hash": "f7ec4263e4001474e72c70f185906f427acb5774367a2b2d09b308b8269b701b"
   }
  }
 },
 "nbformat": 4,
 "nbformat_minor": 2
}
